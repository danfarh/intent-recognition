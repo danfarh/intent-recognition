{
  "nbformat": 4,
  "nbformat_minor": 0,
  "metadata": {
    "colab": {
      "provenance": []
    },
    "kernelspec": {
      "name": "python3",
      "display_name": "Python 3"
    },
    "language_info": {
      "name": "python"
    },
    "accelerator": "GPU",
    "gpuClass": "standard"
  },
  "cells": [
    {
      "cell_type": "code",
      "execution_count": 1,
      "metadata": {
        "id": "vyTRZcvxpIG-"
      },
      "outputs": [],
      "source": [
        "import pandas as pd\n",
        "import numpy as np\n",
        "import matplotlib.pyplot as plt\n",
        "import re\n",
        "from sklearn.model_selection import train_test_split"
      ]
    },
    {
      "cell_type": "code",
      "source": [
        "from tensorflow.keras.preprocessing.text import Tokenizer\n",
        "from tensorflow.keras.preprocessing.sequence import pad_sequences\n",
        "from tensorflow.keras.models import Model, load_model\n",
        "from keras.models import Sequential\n",
        "from tensorflow.keras.layers import Dense, Embedding, Bidirectional, LSTM, GlobalMaxPooling1D, Dropout "
      ],
      "metadata": {
        "id": "R9YObpzbcxKf"
      },
      "execution_count": 2,
      "outputs": []
    },
    {
      "cell_type": "markdown",
      "source": [
        "### **Read Dataset**"
      ],
      "metadata": {
        "id": "6LtBtPXUkZjd"
      }
    },
    {
      "cell_type": "code",
      "source": [
        "df_train = pd.read_excel('train.xlsx')\n",
        "df_test = pd.read_excel('test.xlsx')"
      ],
      "metadata": {
        "id": "pO3zXGJVpib5"
      },
      "execution_count": 3,
      "outputs": []
    },
    {
      "cell_type": "code",
      "source": [
        "df_train.head()"
      ],
      "metadata": {
        "colab": {
          "base_uri": "https://localhost:8080/",
          "height": 510
        },
        "id": "cMwiwi7xrRlA",
        "outputId": "9c4fafdf-eade-48ed-c491-011c98ae2b90"
      },
      "execution_count": 4,
      "outputs": [
        {
          "output_type": "execute_result",
          "data": {
            "text/plain": [
              "                                              class1  \\\n",
              "0       با زدن کد دستوری 223 10 اهنگ پیشواز لغو ن...   \n",
              "1  سلام طاعات و عباداتتون بخیر باشه من میخوام آوا...   \n",
              "2  سلام وقتتون بخیر داداش عزیزم برای غیرفعالسازی ...   \n",
              "3  سلام خسته نباشید. آوای انتظارم رو غیر فعال کرد...   \n",
              "4       میخواستم اهنگ پیشوازمو لغو کنم برا همین ک...   \n",
              "\n",
              "                                              class2  \\\n",
              "0  \\nسلام. من مشترک ۹۱۲ هستم. برای فعال کردن آوای...   \n",
              "1   از همراه من می خواستم اهنگ پیشواز فعال کنم ام...   \n",
              "2   کد زدم اهنگ پیشواز رو فعال کنم اما اهنگ پیشوا...   \n",
              "3   میخوام اهنگ پیشواز فعال کنم اما از هیچ روشی ن...   \n",
              "4                     پیام دادم به 8989 اما فعال نشد   \n",
              "\n",
              "                                              class3  \\\n",
              "0  سلام علیکم آقا خسته نباشید. میخواستم یک کد اوا...   \n",
              "1  من توی عوض کردن آوا مشکل دارم حالا به نظرتون ر...   \n",
              "2           هر کاری می کنم اوای انتظار تغییر نمی کنه   \n",
              "3  سلام منو راهنمایی کنید یه کدیو اشتباه زدم یه آ...   \n",
              "4        سلام و عصر بخیر آقا. من می‌خواستم آهنگ ا...   \n",
              "\n",
              "                                              class4  \\\n",
              "0  من دو سه روزه پیشوازمو زدم و فعال کردمش امروز ...   \n",
              "1    اوای انتظار فعاله اما بهم زنگ می زنن بوق میخوره   \n",
              "2   سلام من آهنگ پیشواز رو فعال کردم ولی آهنگ پخش...   \n",
              "3   داداشم اوای انتظار فعال کرده ولی اوای انتظارش...   \n",
              "4   از همراه من اهنگ پیشواز فعال کردم هزینش کم شد...   \n",
              "\n",
              "                                              class5  \\\n",
              "0  سلام صبح بخیر. ببخشید مزاحم میشم من لیست آوای ...   \n",
              "1  سلام. وقتتون به خیر. صبح تماس گرفتم برام لینک ...   \n",
              "2                             شعر ببار ای بارون ببار   \n",
              "3   سلام وقت بخیر آقا این لیست آوای انتظار ۱۴۰۲ ر...   \n",
              "4                                اهنگ پیشواز خوشحالم   \n",
              "\n",
              "                                          class6  \\\n",
              "0    با چه کدی می تونم کد پیش صدا خط خودمو بگیرم   \n",
              "1                 کد اهنگ پشت خطیمو میخوام بدونم   \n",
              "2     میخام کد اهنگ پشت خطی خودمو بگیرم چکار کنم   \n",
              "3   اهنگ پشت خطی خط خودمو میخام چه کدی باید بزنم   \n",
              "4                      کد پیش اهنگی رو خطمه چنده   \n",
              "\n",
              "                                              class7  \\\n",
              "0  آقا من از یکی پرسیدم این آهنگی که میخونه پشت خ...   \n",
              "1   برای دریافت کد پیش صدا خط دوستم از چه روشی می...   \n",
              "2          کد اهنگ پشت خط همسرمو خام ایمو ارسال کنید   \n",
              "3   از چه روشی می توان کد اوای انتظار خط همسایه ر...   \n",
              "4                         کد اهنگ خط همسرم رو میخوام   \n",
              "\n",
              "                                              class8  \\\n",
              "0  ببخشیدمن دوباره تماس میگیرم. قبلا هم پیام داده...   \n",
              "1                  چه کدی بزنم اوای انتظارم فعال بشه   \n",
              "2   برای فعال کردن اهنگ پشت خطی روی خط خود از چه ...   \n",
              "3   اوای انتظارمو که غیرفعال کردم چجوری دوباره فع...   \n",
              "4  چه جوری میتونم خوشه چین بنان رو بذارم آوای انت...   \n",
              "\n",
              "                                              class9  \\\n",
              "0  باید چه کدی رو بزنم که آوای انتظارم دیگه تمدید...   \n",
              "1  آقا این خواننده پیشواز ما برداشته یه حرکت جلف ...   \n",
              "2   نمیخوام پیش صدایی که روی خطم فعاله خودش تمدید...   \n",
              "3          چکار کنم بهم زنگ می زنند پیش اهنگ پخش نشه   \n",
              "4        سلام و صبح بخیر. من می‌خواستم ببنم چطوری...   \n",
              "\n",
              "                                             class10  \\\n",
              "0   برای جایگزین کردن اهنگ پشت سیمکارتی چه شماره ...   \n",
              "1     چکار کنم بهم زنگ می زنند پیش اواز جدید پخش بشه   \n",
              "2  سلام خسته نباشید من موقع فعالسازی آوای انتظار ...   \n",
              "3                                          تعویضش کن   \n",
              "4                     شیوه جایگزین کردن اهنگ پشت خطی   \n",
              "\n",
              "                                             class11  \n",
              "0  من قبل از پونزده روز آوای انتظارم رو غیرفعال ک...  \n",
              "1                     میشه یه مدت پیشوازمو تعلیق کنم  \n",
              "2                                          هوا چطوره  \n",
              "3  وقتتون بخیر باشه این آوای انتظاری که من انتخاب...  \n",
              "4                من دنبال یک رستوران اسپانیایی هستم   "
            ],
            "text/html": [
              "\n",
              "  <div id=\"df-982ceaea-76d0-43f9-982b-61b62d3ccfe3\">\n",
              "    <div class=\"colab-df-container\">\n",
              "      <div>\n",
              "<style scoped>\n",
              "    .dataframe tbody tr th:only-of-type {\n",
              "        vertical-align: middle;\n",
              "    }\n",
              "\n",
              "    .dataframe tbody tr th {\n",
              "        vertical-align: top;\n",
              "    }\n",
              "\n",
              "    .dataframe thead th {\n",
              "        text-align: right;\n",
              "    }\n",
              "</style>\n",
              "<table border=\"1\" class=\"dataframe\">\n",
              "  <thead>\n",
              "    <tr style=\"text-align: right;\">\n",
              "      <th></th>\n",
              "      <th>class1</th>\n",
              "      <th>class2</th>\n",
              "      <th>class3</th>\n",
              "      <th>class4</th>\n",
              "      <th>class5</th>\n",
              "      <th>class6</th>\n",
              "      <th>class7</th>\n",
              "      <th>class8</th>\n",
              "      <th>class9</th>\n",
              "      <th>class10</th>\n",
              "      <th>class11</th>\n",
              "    </tr>\n",
              "  </thead>\n",
              "  <tbody>\n",
              "    <tr>\n",
              "      <th>0</th>\n",
              "      <td>با زدن کد دستوری 223 10 اهنگ پیشواز لغو ن...</td>\n",
              "      <td>\\nسلام. من مشترک ۹۱۲ هستم. برای فعال کردن آوای...</td>\n",
              "      <td>سلام علیکم آقا خسته نباشید. میخواستم یک کد اوا...</td>\n",
              "      <td>من دو سه روزه پیشوازمو زدم و فعال کردمش امروز ...</td>\n",
              "      <td>سلام صبح بخیر. ببخشید مزاحم میشم من لیست آوای ...</td>\n",
              "      <td>با چه کدی می تونم کد پیش صدا خط خودمو بگیرم</td>\n",
              "      <td>آقا من از یکی پرسیدم این آهنگی که میخونه پشت خ...</td>\n",
              "      <td>ببخشیدمن دوباره تماس میگیرم. قبلا هم پیام داده...</td>\n",
              "      <td>باید چه کدی رو بزنم که آوای انتظارم دیگه تمدید...</td>\n",
              "      <td>برای جایگزین کردن اهنگ پشت سیمکارتی چه شماره ...</td>\n",
              "      <td>من قبل از پونزده روز آوای انتظارم رو غیرفعال ک...</td>\n",
              "    </tr>\n",
              "    <tr>\n",
              "      <th>1</th>\n",
              "      <td>سلام طاعات و عباداتتون بخیر باشه من میخوام آوا...</td>\n",
              "      <td>از همراه من می خواستم اهنگ پیشواز فعال کنم ام...</td>\n",
              "      <td>من توی عوض کردن آوا مشکل دارم حالا به نظرتون ر...</td>\n",
              "      <td>اوای انتظار فعاله اما بهم زنگ می زنن بوق میخوره</td>\n",
              "      <td>سلام. وقتتون به خیر. صبح تماس گرفتم برام لینک ...</td>\n",
              "      <td>کد اهنگ پشت خطیمو میخوام بدونم</td>\n",
              "      <td>برای دریافت کد پیش صدا خط دوستم از چه روشی می...</td>\n",
              "      <td>چه کدی بزنم اوای انتظارم فعال بشه</td>\n",
              "      <td>آقا این خواننده پیشواز ما برداشته یه حرکت جلف ...</td>\n",
              "      <td>چکار کنم بهم زنگ می زنند پیش اواز جدید پخش بشه</td>\n",
              "      <td>میشه یه مدت پیشوازمو تعلیق کنم</td>\n",
              "    </tr>\n",
              "    <tr>\n",
              "      <th>2</th>\n",
              "      <td>سلام وقتتون بخیر داداش عزیزم برای غیرفعالسازی ...</td>\n",
              "      <td>کد زدم اهنگ پیشواز رو فعال کنم اما اهنگ پیشوا...</td>\n",
              "      <td>هر کاری می کنم اوای انتظار تغییر نمی کنه</td>\n",
              "      <td>سلام من آهنگ پیشواز رو فعال کردم ولی آهنگ پخش...</td>\n",
              "      <td>شعر ببار ای بارون ببار</td>\n",
              "      <td>میخام کد اهنگ پشت خطی خودمو بگیرم چکار کنم</td>\n",
              "      <td>کد اهنگ پشت خط همسرمو خام ایمو ارسال کنید</td>\n",
              "      <td>برای فعال کردن اهنگ پشت خطی روی خط خود از چه ...</td>\n",
              "      <td>نمیخوام پیش صدایی که روی خطم فعاله خودش تمدید...</td>\n",
              "      <td>سلام خسته نباشید من موقع فعالسازی آوای انتظار ...</td>\n",
              "      <td>هوا چطوره</td>\n",
              "    </tr>\n",
              "    <tr>\n",
              "      <th>3</th>\n",
              "      <td>سلام خسته نباشید. آوای انتظارم رو غیر فعال کرد...</td>\n",
              "      <td>میخوام اهنگ پیشواز فعال کنم اما از هیچ روشی ن...</td>\n",
              "      <td>سلام منو راهنمایی کنید یه کدیو اشتباه زدم یه آ...</td>\n",
              "      <td>داداشم اوای انتظار فعال کرده ولی اوای انتظارش...</td>\n",
              "      <td>سلام وقت بخیر آقا این لیست آوای انتظار ۱۴۰۲ ر...</td>\n",
              "      <td>اهنگ پشت خطی خط خودمو میخام چه کدی باید بزنم</td>\n",
              "      <td>از چه روشی می توان کد اوای انتظار خط همسایه ر...</td>\n",
              "      <td>اوای انتظارمو که غیرفعال کردم چجوری دوباره فع...</td>\n",
              "      <td>چکار کنم بهم زنگ می زنند پیش اهنگ پخش نشه</td>\n",
              "      <td>تعویضش کن</td>\n",
              "      <td>وقتتون بخیر باشه این آوای انتظاری که من انتخاب...</td>\n",
              "    </tr>\n",
              "    <tr>\n",
              "      <th>4</th>\n",
              "      <td>میخواستم اهنگ پیشوازمو لغو کنم برا همین ک...</td>\n",
              "      <td>پیام دادم به 8989 اما فعال نشد</td>\n",
              "      <td>سلام و عصر بخیر آقا. من می‌خواستم آهنگ ا...</td>\n",
              "      <td>از همراه من اهنگ پیشواز فعال کردم هزینش کم شد...</td>\n",
              "      <td>اهنگ پیشواز خوشحالم</td>\n",
              "      <td>کد پیش اهنگی رو خطمه چنده</td>\n",
              "      <td>کد اهنگ خط همسرم رو میخوام</td>\n",
              "      <td>چه جوری میتونم خوشه چین بنان رو بذارم آوای انت...</td>\n",
              "      <td>سلام و صبح بخیر. من می‌خواستم ببنم چطوری...</td>\n",
              "      <td>شیوه جایگزین کردن اهنگ پشت خطی</td>\n",
              "      <td>من دنبال یک رستوران اسپانیایی هستم</td>\n",
              "    </tr>\n",
              "  </tbody>\n",
              "</table>\n",
              "</div>\n",
              "      <button class=\"colab-df-convert\" onclick=\"convertToInteractive('df-982ceaea-76d0-43f9-982b-61b62d3ccfe3')\"\n",
              "              title=\"Convert this dataframe to an interactive table.\"\n",
              "              style=\"display:none;\">\n",
              "        \n",
              "  <svg xmlns=\"http://www.w3.org/2000/svg\" height=\"24px\"viewBox=\"0 0 24 24\"\n",
              "       width=\"24px\">\n",
              "    <path d=\"M0 0h24v24H0V0z\" fill=\"none\"/>\n",
              "    <path d=\"M18.56 5.44l.94 2.06.94-2.06 2.06-.94-2.06-.94-.94-2.06-.94 2.06-2.06.94zm-11 1L8.5 8.5l.94-2.06 2.06-.94-2.06-.94L8.5 2.5l-.94 2.06-2.06.94zm10 10l.94 2.06.94-2.06 2.06-.94-2.06-.94-.94-2.06-.94 2.06-2.06.94z\"/><path d=\"M17.41 7.96l-1.37-1.37c-.4-.4-.92-.59-1.43-.59-.52 0-1.04.2-1.43.59L10.3 9.45l-7.72 7.72c-.78.78-.78 2.05 0 2.83L4 21.41c.39.39.9.59 1.41.59.51 0 1.02-.2 1.41-.59l7.78-7.78 2.81-2.81c.8-.78.8-2.07 0-2.86zM5.41 20L4 18.59l7.72-7.72 1.47 1.35L5.41 20z\"/>\n",
              "  </svg>\n",
              "      </button>\n",
              "      \n",
              "  <style>\n",
              "    .colab-df-container {\n",
              "      display:flex;\n",
              "      flex-wrap:wrap;\n",
              "      gap: 12px;\n",
              "    }\n",
              "\n",
              "    .colab-df-convert {\n",
              "      background-color: #E8F0FE;\n",
              "      border: none;\n",
              "      border-radius: 50%;\n",
              "      cursor: pointer;\n",
              "      display: none;\n",
              "      fill: #1967D2;\n",
              "      height: 32px;\n",
              "      padding: 0 0 0 0;\n",
              "      width: 32px;\n",
              "    }\n",
              "\n",
              "    .colab-df-convert:hover {\n",
              "      background-color: #E2EBFA;\n",
              "      box-shadow: 0px 1px 2px rgba(60, 64, 67, 0.3), 0px 1px 3px 1px rgba(60, 64, 67, 0.15);\n",
              "      fill: #174EA6;\n",
              "    }\n",
              "\n",
              "    [theme=dark] .colab-df-convert {\n",
              "      background-color: #3B4455;\n",
              "      fill: #D2E3FC;\n",
              "    }\n",
              "\n",
              "    [theme=dark] .colab-df-convert:hover {\n",
              "      background-color: #434B5C;\n",
              "      box-shadow: 0px 1px 3px 1px rgba(0, 0, 0, 0.15);\n",
              "      filter: drop-shadow(0px 1px 2px rgba(0, 0, 0, 0.3));\n",
              "      fill: #FFFFFF;\n",
              "    }\n",
              "  </style>\n",
              "\n",
              "      <script>\n",
              "        const buttonEl =\n",
              "          document.querySelector('#df-982ceaea-76d0-43f9-982b-61b62d3ccfe3 button.colab-df-convert');\n",
              "        buttonEl.style.display =\n",
              "          google.colab.kernel.accessAllowed ? 'block' : 'none';\n",
              "\n",
              "        async function convertToInteractive(key) {\n",
              "          const element = document.querySelector('#df-982ceaea-76d0-43f9-982b-61b62d3ccfe3');\n",
              "          const dataTable =\n",
              "            await google.colab.kernel.invokeFunction('convertToInteractive',\n",
              "                                                     [key], {});\n",
              "          if (!dataTable) return;\n",
              "\n",
              "          const docLinkHtml = 'Like what you see? Visit the ' +\n",
              "            '<a target=\"_blank\" href=https://colab.research.google.com/notebooks/data_table.ipynb>data table notebook</a>'\n",
              "            + ' to learn more about interactive tables.';\n",
              "          element.innerHTML = '';\n",
              "          dataTable['output_type'] = 'display_data';\n",
              "          await google.colab.output.renderOutput(dataTable, element);\n",
              "          const docLink = document.createElement('div');\n",
              "          docLink.innerHTML = docLinkHtml;\n",
              "          element.appendChild(docLink);\n",
              "        }\n",
              "      </script>\n",
              "    </div>\n",
              "  </div>\n",
              "  "
            ]
          },
          "metadata": {},
          "execution_count": 4
        }
      ]
    },
    {
      "cell_type": "code",
      "source": [
        "print(df_train.shape)\n",
        "print(df_test.shape)"
      ],
      "metadata": {
        "colab": {
          "base_uri": "https://localhost:8080/"
        },
        "id": "w0_R95Jjrbv7",
        "outputId": "68ee3fb1-c228-4acb-a370-a723b30f8a4e"
      },
      "execution_count": 5,
      "outputs": [
        {
          "output_type": "stream",
          "name": "stdout",
          "text": [
            "(340, 11)\n",
            "(60, 11)\n"
          ]
        }
      ]
    },
    {
      "cell_type": "code",
      "source": [
        "df_train.iloc[0]"
      ],
      "metadata": {
        "colab": {
          "base_uri": "https://localhost:8080/"
        },
        "id": "BYHa8jiPaeXp",
        "outputId": "a91b2d08-363a-4233-e8c3-395bfa173756"
      },
      "execution_count": 6,
      "outputs": [
        {
          "output_type": "execute_result",
          "data": {
            "text/plain": [
              "class1          با زدن کد دستوری 223 10 اهنگ پیشواز لغو ن...\n",
              "class2     \\nسلام. من مشترک ۹۱۲ هستم. برای فعال کردن آوای...\n",
              "class3     سلام علیکم آقا خسته نباشید. میخواستم یک کد اوا...\n",
              "class4     من دو سه روزه پیشوازمو زدم و فعال کردمش امروز ...\n",
              "class5     سلام صبح بخیر. ببخشید مزاحم میشم من لیست آوای ...\n",
              "class6           با چه کدی می تونم کد پیش صدا خط خودمو بگیرم\n",
              "class7     آقا من از یکی پرسیدم این آهنگی که میخونه پشت خ...\n",
              "class8     ببخشیدمن دوباره تماس میگیرم. قبلا هم پیام داده...\n",
              "class9     باید چه کدی رو بزنم که آوای انتظارم دیگه تمدید...\n",
              "class10     برای جایگزین کردن اهنگ پشت سیمکارتی چه شماره ...\n",
              "class11    من قبل از پونزده روز آوای انتظارم رو غیرفعال ک...\n",
              "Name: 0, dtype: object"
            ]
          },
          "metadata": {},
          "execution_count": 6
        }
      ]
    },
    {
      "cell_type": "code",
      "source": [
        "classes = [\n",
        "        'مشکل غیرفعالسازی آوای انتظار',\n",
        "        'مشکل فعالسازی آوای انتظار',\n",
        "        'مشکل تغییر آوای انتظار',\n",
        "        'مشکل پخش آوای انتظار',\n",
        "        'لیست آواهای انتظار',\n",
        "        'دریافت کد آوای انتظار خط خود',\n",
        "        'دریافت کد آوای انتظار خط دیگران',\n",
        "        'روش فعالسازی آوای انتظار',\n",
        "        'روش غیرفعالسازی آوای انتظار',\n",
        "        'روش تغییرآوای انتظار',\n",
        "        'خارج از دامنه'\n",
        "]"
      ],
      "metadata": {
        "id": "I7zGPou0S-6Z"
      },
      "execution_count": 7,
      "outputs": []
    },
    {
      "cell_type": "code",
      "source": [
        "def create_dataset(df):\n",
        "  output = {\n",
        "        \"text\": [],\n",
        "        \"category\": []\n",
        "    }\n",
        "\n",
        "  for data in df.iloc:\n",
        "    for i,d in enumerate(data):\n",
        "      output[\"text\"].append(d)\n",
        "      output[\"category\"].append(classes[i])\n",
        "   \n",
        "  return output"
      ],
      "metadata": {
        "id": "FLk1cR2-anPx"
      },
      "execution_count": 8,
      "outputs": []
    },
    {
      "cell_type": "code",
      "source": [
        "train_data = create_dataset(df_train)\n",
        "test_data = create_dataset(df_test)"
      ],
      "metadata": {
        "id": "X4a8iLecRGIQ"
      },
      "execution_count": 9,
      "outputs": []
    },
    {
      "cell_type": "code",
      "source": [
        "print(len(train_data[\"text\"]))\n",
        "print(len(train_data[\"category\"]))"
      ],
      "metadata": {
        "colab": {
          "base_uri": "https://localhost:8080/"
        },
        "id": "CazQ9QxPc1za",
        "outputId": "57053fdf-d8ef-4f14-e4dc-e65ad3291918"
      },
      "execution_count": 10,
      "outputs": [
        {
          "output_type": "stream",
          "name": "stdout",
          "text": [
            "3740\n",
            "3740\n"
          ]
        }
      ]
    },
    {
      "cell_type": "code",
      "source": [
        "print(train_data[\"text\"][0])\n",
        "print(train_data[\"category\"][0])"
      ],
      "metadata": {
        "colab": {
          "base_uri": "https://localhost:8080/"
        },
        "id": "xjUJ5qzLclUr",
        "outputId": "28d10b54-9648-4c91-cd3c-48719f9ac38c"
      },
      "execution_count": 11,
      "outputs": [
        {
          "output_type": "stream",
          "name": "stdout",
          "text": [
            "     با زدن کد دستوری 223 10 اهنگ پیشواز لغو نشد چجوری اهنگ پیشواز رو لغو کنم\n",
            "مشکل غیرفعالسازی آوای انتظار\n"
          ]
        }
      ]
    },
    {
      "cell_type": "code",
      "source": [
        "train_dataset = pd.DataFrame(train_data)\n",
        "test_dataset = pd.DataFrame(test_data)"
      ],
      "metadata": {
        "id": "048VwDMRVNVa"
      },
      "execution_count": 12,
      "outputs": []
    },
    {
      "cell_type": "code",
      "source": [
        "train_dataset.head()"
      ],
      "metadata": {
        "colab": {
          "base_uri": "https://localhost:8080/",
          "height": 206
        },
        "id": "4L4rDBnMZYge",
        "outputId": "628de301-b3a0-473c-d345-43dbba0dc239"
      },
      "execution_count": 13,
      "outputs": [
        {
          "output_type": "execute_result",
          "data": {
            "text/plain": [
              "                                                text  \\\n",
              "0       با زدن کد دستوری 223 10 اهنگ پیشواز لغو ن...   \n",
              "1  \\nسلام. من مشترک ۹۱۲ هستم. برای فعال کردن آوای...   \n",
              "2  سلام علیکم آقا خسته نباشید. میخواستم یک کد اوا...   \n",
              "3  من دو سه روزه پیشوازمو زدم و فعال کردمش امروز ...   \n",
              "4  سلام صبح بخیر. ببخشید مزاحم میشم من لیست آوای ...   \n",
              "\n",
              "                       category  \n",
              "0  مشکل غیرفعالسازی آوای انتظار  \n",
              "1     مشکل فعالسازی آوای انتظار  \n",
              "2        مشکل تغییر آوای انتظار  \n",
              "3          مشکل پخش آوای انتظار  \n",
              "4            لیست آواهای انتظار  "
            ],
            "text/html": [
              "\n",
              "  <div id=\"df-355e0242-787b-47ab-a245-cd68d16c1973\">\n",
              "    <div class=\"colab-df-container\">\n",
              "      <div>\n",
              "<style scoped>\n",
              "    .dataframe tbody tr th:only-of-type {\n",
              "        vertical-align: middle;\n",
              "    }\n",
              "\n",
              "    .dataframe tbody tr th {\n",
              "        vertical-align: top;\n",
              "    }\n",
              "\n",
              "    .dataframe thead th {\n",
              "        text-align: right;\n",
              "    }\n",
              "</style>\n",
              "<table border=\"1\" class=\"dataframe\">\n",
              "  <thead>\n",
              "    <tr style=\"text-align: right;\">\n",
              "      <th></th>\n",
              "      <th>text</th>\n",
              "      <th>category</th>\n",
              "    </tr>\n",
              "  </thead>\n",
              "  <tbody>\n",
              "    <tr>\n",
              "      <th>0</th>\n",
              "      <td>با زدن کد دستوری 223 10 اهنگ پیشواز لغو ن...</td>\n",
              "      <td>مشکل غیرفعالسازی آوای انتظار</td>\n",
              "    </tr>\n",
              "    <tr>\n",
              "      <th>1</th>\n",
              "      <td>\\nسلام. من مشترک ۹۱۲ هستم. برای فعال کردن آوای...</td>\n",
              "      <td>مشکل فعالسازی آوای انتظار</td>\n",
              "    </tr>\n",
              "    <tr>\n",
              "      <th>2</th>\n",
              "      <td>سلام علیکم آقا خسته نباشید. میخواستم یک کد اوا...</td>\n",
              "      <td>مشکل تغییر آوای انتظار</td>\n",
              "    </tr>\n",
              "    <tr>\n",
              "      <th>3</th>\n",
              "      <td>من دو سه روزه پیشوازمو زدم و فعال کردمش امروز ...</td>\n",
              "      <td>مشکل پخش آوای انتظار</td>\n",
              "    </tr>\n",
              "    <tr>\n",
              "      <th>4</th>\n",
              "      <td>سلام صبح بخیر. ببخشید مزاحم میشم من لیست آوای ...</td>\n",
              "      <td>لیست آواهای انتظار</td>\n",
              "    </tr>\n",
              "  </tbody>\n",
              "</table>\n",
              "</div>\n",
              "      <button class=\"colab-df-convert\" onclick=\"convertToInteractive('df-355e0242-787b-47ab-a245-cd68d16c1973')\"\n",
              "              title=\"Convert this dataframe to an interactive table.\"\n",
              "              style=\"display:none;\">\n",
              "        \n",
              "  <svg xmlns=\"http://www.w3.org/2000/svg\" height=\"24px\"viewBox=\"0 0 24 24\"\n",
              "       width=\"24px\">\n",
              "    <path d=\"M0 0h24v24H0V0z\" fill=\"none\"/>\n",
              "    <path d=\"M18.56 5.44l.94 2.06.94-2.06 2.06-.94-2.06-.94-.94-2.06-.94 2.06-2.06.94zm-11 1L8.5 8.5l.94-2.06 2.06-.94-2.06-.94L8.5 2.5l-.94 2.06-2.06.94zm10 10l.94 2.06.94-2.06 2.06-.94-2.06-.94-.94-2.06-.94 2.06-2.06.94z\"/><path d=\"M17.41 7.96l-1.37-1.37c-.4-.4-.92-.59-1.43-.59-.52 0-1.04.2-1.43.59L10.3 9.45l-7.72 7.72c-.78.78-.78 2.05 0 2.83L4 21.41c.39.39.9.59 1.41.59.51 0 1.02-.2 1.41-.59l7.78-7.78 2.81-2.81c.8-.78.8-2.07 0-2.86zM5.41 20L4 18.59l7.72-7.72 1.47 1.35L5.41 20z\"/>\n",
              "  </svg>\n",
              "      </button>\n",
              "      \n",
              "  <style>\n",
              "    .colab-df-container {\n",
              "      display:flex;\n",
              "      flex-wrap:wrap;\n",
              "      gap: 12px;\n",
              "    }\n",
              "\n",
              "    .colab-df-convert {\n",
              "      background-color: #E8F0FE;\n",
              "      border: none;\n",
              "      border-radius: 50%;\n",
              "      cursor: pointer;\n",
              "      display: none;\n",
              "      fill: #1967D2;\n",
              "      height: 32px;\n",
              "      padding: 0 0 0 0;\n",
              "      width: 32px;\n",
              "    }\n",
              "\n",
              "    .colab-df-convert:hover {\n",
              "      background-color: #E2EBFA;\n",
              "      box-shadow: 0px 1px 2px rgba(60, 64, 67, 0.3), 0px 1px 3px 1px rgba(60, 64, 67, 0.15);\n",
              "      fill: #174EA6;\n",
              "    }\n",
              "\n",
              "    [theme=dark] .colab-df-convert {\n",
              "      background-color: #3B4455;\n",
              "      fill: #D2E3FC;\n",
              "    }\n",
              "\n",
              "    [theme=dark] .colab-df-convert:hover {\n",
              "      background-color: #434B5C;\n",
              "      box-shadow: 0px 1px 3px 1px rgba(0, 0, 0, 0.15);\n",
              "      filter: drop-shadow(0px 1px 2px rgba(0, 0, 0, 0.3));\n",
              "      fill: #FFFFFF;\n",
              "    }\n",
              "  </style>\n",
              "\n",
              "      <script>\n",
              "        const buttonEl =\n",
              "          document.querySelector('#df-355e0242-787b-47ab-a245-cd68d16c1973 button.colab-df-convert');\n",
              "        buttonEl.style.display =\n",
              "          google.colab.kernel.accessAllowed ? 'block' : 'none';\n",
              "\n",
              "        async function convertToInteractive(key) {\n",
              "          const element = document.querySelector('#df-355e0242-787b-47ab-a245-cd68d16c1973');\n",
              "          const dataTable =\n",
              "            await google.colab.kernel.invokeFunction('convertToInteractive',\n",
              "                                                     [key], {});\n",
              "          if (!dataTable) return;\n",
              "\n",
              "          const docLinkHtml = 'Like what you see? Visit the ' +\n",
              "            '<a target=\"_blank\" href=https://colab.research.google.com/notebooks/data_table.ipynb>data table notebook</a>'\n",
              "            + ' to learn more about interactive tables.';\n",
              "          element.innerHTML = '';\n",
              "          dataTable['output_type'] = 'display_data';\n",
              "          await google.colab.output.renderOutput(dataTable, element);\n",
              "          const docLink = document.createElement('div');\n",
              "          docLink.innerHTML = docLinkHtml;\n",
              "          element.appendChild(docLink);\n",
              "        }\n",
              "      </script>\n",
              "    </div>\n",
              "  </div>\n",
              "  "
            ]
          },
          "metadata": {},
          "execution_count": 13
        }
      ]
    },
    {
      "cell_type": "code",
      "source": [
        "train_dataset.shape"
      ],
      "metadata": {
        "colab": {
          "base_uri": "https://localhost:8080/"
        },
        "id": "9Vuv3hYfc_vv",
        "outputId": "d484a9f5-40ee-4247-c1b1-46b604ecd706"
      },
      "execution_count": 14,
      "outputs": [
        {
          "output_type": "execute_result",
          "data": {
            "text/plain": [
              "(3740, 2)"
            ]
          },
          "metadata": {},
          "execution_count": 14
        }
      ]
    },
    {
      "cell_type": "code",
      "source": [
        "test_dataset.head()"
      ],
      "metadata": {
        "colab": {
          "base_uri": "https://localhost:8080/",
          "height": 206
        },
        "id": "3bT_DeNBVDVI",
        "outputId": "449f8f66-4ac4-49c1-ccf5-1b31a9db691a"
      },
      "execution_count": 15,
      "outputs": [
        {
          "output_type": "execute_result",
          "data": {
            "text/plain": [
              "                                                text  \\\n",
              "0   سلام خانم، من یه مشکلی با آوای انتظار دارم، چ...   \n",
              "1   برای فعال کردن اهنگ پیشواز از طریق همراه من ا...   \n",
              "2  علو سلام مادر جون. خوبی عزیزم عیدت مبارک باشه ...   \n",
              "3   اوای انتظار فعال کردم پولشم کم شده اما زنگ می...   \n",
              "4                                  کد پیشواز از بنان   \n",
              "\n",
              "                       category  \n",
              "0  مشکل غیرفعالسازی آوای انتظار  \n",
              "1     مشکل فعالسازی آوای انتظار  \n",
              "2        مشکل تغییر آوای انتظار  \n",
              "3          مشکل پخش آوای انتظار  \n",
              "4            لیست آواهای انتظار  "
            ],
            "text/html": [
              "\n",
              "  <div id=\"df-642d7b6d-b71e-4d46-a7fe-373d8676ddfb\">\n",
              "    <div class=\"colab-df-container\">\n",
              "      <div>\n",
              "<style scoped>\n",
              "    .dataframe tbody tr th:only-of-type {\n",
              "        vertical-align: middle;\n",
              "    }\n",
              "\n",
              "    .dataframe tbody tr th {\n",
              "        vertical-align: top;\n",
              "    }\n",
              "\n",
              "    .dataframe thead th {\n",
              "        text-align: right;\n",
              "    }\n",
              "</style>\n",
              "<table border=\"1\" class=\"dataframe\">\n",
              "  <thead>\n",
              "    <tr style=\"text-align: right;\">\n",
              "      <th></th>\n",
              "      <th>text</th>\n",
              "      <th>category</th>\n",
              "    </tr>\n",
              "  </thead>\n",
              "  <tbody>\n",
              "    <tr>\n",
              "      <th>0</th>\n",
              "      <td>سلام خانم، من یه مشکلی با آوای انتظار دارم، چ...</td>\n",
              "      <td>مشکل غیرفعالسازی آوای انتظار</td>\n",
              "    </tr>\n",
              "    <tr>\n",
              "      <th>1</th>\n",
              "      <td>برای فعال کردن اهنگ پیشواز از طریق همراه من ا...</td>\n",
              "      <td>مشکل فعالسازی آوای انتظار</td>\n",
              "    </tr>\n",
              "    <tr>\n",
              "      <th>2</th>\n",
              "      <td>علو سلام مادر جون. خوبی عزیزم عیدت مبارک باشه ...</td>\n",
              "      <td>مشکل تغییر آوای انتظار</td>\n",
              "    </tr>\n",
              "    <tr>\n",
              "      <th>3</th>\n",
              "      <td>اوای انتظار فعال کردم پولشم کم شده اما زنگ می...</td>\n",
              "      <td>مشکل پخش آوای انتظار</td>\n",
              "    </tr>\n",
              "    <tr>\n",
              "      <th>4</th>\n",
              "      <td>کد پیشواز از بنان</td>\n",
              "      <td>لیست آواهای انتظار</td>\n",
              "    </tr>\n",
              "  </tbody>\n",
              "</table>\n",
              "</div>\n",
              "      <button class=\"colab-df-convert\" onclick=\"convertToInteractive('df-642d7b6d-b71e-4d46-a7fe-373d8676ddfb')\"\n",
              "              title=\"Convert this dataframe to an interactive table.\"\n",
              "              style=\"display:none;\">\n",
              "        \n",
              "  <svg xmlns=\"http://www.w3.org/2000/svg\" height=\"24px\"viewBox=\"0 0 24 24\"\n",
              "       width=\"24px\">\n",
              "    <path d=\"M0 0h24v24H0V0z\" fill=\"none\"/>\n",
              "    <path d=\"M18.56 5.44l.94 2.06.94-2.06 2.06-.94-2.06-.94-.94-2.06-.94 2.06-2.06.94zm-11 1L8.5 8.5l.94-2.06 2.06-.94-2.06-.94L8.5 2.5l-.94 2.06-2.06.94zm10 10l.94 2.06.94-2.06 2.06-.94-2.06-.94-.94-2.06-.94 2.06-2.06.94z\"/><path d=\"M17.41 7.96l-1.37-1.37c-.4-.4-.92-.59-1.43-.59-.52 0-1.04.2-1.43.59L10.3 9.45l-7.72 7.72c-.78.78-.78 2.05 0 2.83L4 21.41c.39.39.9.59 1.41.59.51 0 1.02-.2 1.41-.59l7.78-7.78 2.81-2.81c.8-.78.8-2.07 0-2.86zM5.41 20L4 18.59l7.72-7.72 1.47 1.35L5.41 20z\"/>\n",
              "  </svg>\n",
              "      </button>\n",
              "      \n",
              "  <style>\n",
              "    .colab-df-container {\n",
              "      display:flex;\n",
              "      flex-wrap:wrap;\n",
              "      gap: 12px;\n",
              "    }\n",
              "\n",
              "    .colab-df-convert {\n",
              "      background-color: #E8F0FE;\n",
              "      border: none;\n",
              "      border-radius: 50%;\n",
              "      cursor: pointer;\n",
              "      display: none;\n",
              "      fill: #1967D2;\n",
              "      height: 32px;\n",
              "      padding: 0 0 0 0;\n",
              "      width: 32px;\n",
              "    }\n",
              "\n",
              "    .colab-df-convert:hover {\n",
              "      background-color: #E2EBFA;\n",
              "      box-shadow: 0px 1px 2px rgba(60, 64, 67, 0.3), 0px 1px 3px 1px rgba(60, 64, 67, 0.15);\n",
              "      fill: #174EA6;\n",
              "    }\n",
              "\n",
              "    [theme=dark] .colab-df-convert {\n",
              "      background-color: #3B4455;\n",
              "      fill: #D2E3FC;\n",
              "    }\n",
              "\n",
              "    [theme=dark] .colab-df-convert:hover {\n",
              "      background-color: #434B5C;\n",
              "      box-shadow: 0px 1px 3px 1px rgba(0, 0, 0, 0.15);\n",
              "      filter: drop-shadow(0px 1px 2px rgba(0, 0, 0, 0.3));\n",
              "      fill: #FFFFFF;\n",
              "    }\n",
              "  </style>\n",
              "\n",
              "      <script>\n",
              "        const buttonEl =\n",
              "          document.querySelector('#df-642d7b6d-b71e-4d46-a7fe-373d8676ddfb button.colab-df-convert');\n",
              "        buttonEl.style.display =\n",
              "          google.colab.kernel.accessAllowed ? 'block' : 'none';\n",
              "\n",
              "        async function convertToInteractive(key) {\n",
              "          const element = document.querySelector('#df-642d7b6d-b71e-4d46-a7fe-373d8676ddfb');\n",
              "          const dataTable =\n",
              "            await google.colab.kernel.invokeFunction('convertToInteractive',\n",
              "                                                     [key], {});\n",
              "          if (!dataTable) return;\n",
              "\n",
              "          const docLinkHtml = 'Like what you see? Visit the ' +\n",
              "            '<a target=\"_blank\" href=https://colab.research.google.com/notebooks/data_table.ipynb>data table notebook</a>'\n",
              "            + ' to learn more about interactive tables.';\n",
              "          element.innerHTML = '';\n",
              "          dataTable['output_type'] = 'display_data';\n",
              "          await google.colab.output.renderOutput(dataTable, element);\n",
              "          const docLink = document.createElement('div');\n",
              "          docLink.innerHTML = docLinkHtml;\n",
              "          element.appendChild(docLink);\n",
              "        }\n",
              "      </script>\n",
              "    </div>\n",
              "  </div>\n",
              "  "
            ]
          },
          "metadata": {},
          "execution_count": 15
        }
      ]
    },
    {
      "cell_type": "code",
      "source": [
        "test_dataset.shape"
      ],
      "metadata": {
        "colab": {
          "base_uri": "https://localhost:8080/"
        },
        "id": "rffuDNInVGZI",
        "outputId": "22305482-e3f8-48e1-c4cf-a929d1922ae4"
      },
      "execution_count": 16,
      "outputs": [
        {
          "output_type": "execute_result",
          "data": {
            "text/plain": [
              "(660, 2)"
            ]
          },
          "metadata": {},
          "execution_count": 16
        }
      ]
    },
    {
      "cell_type": "code",
      "source": [
        "train_dataset['category'].value_counts()"
      ],
      "metadata": {
        "colab": {
          "base_uri": "https://localhost:8080/"
        },
        "id": "pbo_iTMYdEYq",
        "outputId": "e750602a-943a-42a2-ab9c-e7984bc85add"
      },
      "execution_count": 17,
      "outputs": [
        {
          "output_type": "execute_result",
          "data": {
            "text/plain": [
              "مشکل غیرفعالسازی آوای انتظار       340\n",
              "مشکل فعالسازی آوای انتظار          340\n",
              "مشکل تغییر آوای انتظار             340\n",
              "مشکل پخش آوای انتظار               340\n",
              "لیست آواهای انتظار                 340\n",
              "دریافت کد آوای انتظار خط خود       340\n",
              "دریافت کد آوای انتظار خط دیگران    340\n",
              "روش فعالسازی آوای انتظار           340\n",
              "روش غیرفعالسازی آوای انتظار        340\n",
              "روش تغییرآوای انتظار               340\n",
              "خارج از دامنه                      340\n",
              "Name: category, dtype: int64"
            ]
          },
          "metadata": {},
          "execution_count": 17
        }
      ]
    },
    {
      "cell_type": "code",
      "source": [
        "#delete NaN\n",
        "train_dataset = train_dataset.dropna()\n",
        "test_dataset = test_dataset.dropna()"
      ],
      "metadata": {
        "id": "nRkS3NHkblgi"
      },
      "execution_count": 18,
      "outputs": []
    },
    {
      "cell_type": "code",
      "source": [
        "print(train_dataset.shape)\n",
        "print(test_dataset.shape)"
      ],
      "metadata": {
        "colab": {
          "base_uri": "https://localhost:8080/"
        },
        "id": "csv33_mEbrTu",
        "outputId": "d436412b-b287-4d0d-e697-93f6b79bde99"
      },
      "execution_count": 19,
      "outputs": [
        {
          "output_type": "stream",
          "name": "stdout",
          "text": [
            "(2761, 2)\n",
            "(484, 2)\n"
          ]
        }
      ]
    },
    {
      "cell_type": "markdown",
      "source": [
        "**stopword**"
      ],
      "metadata": {
        "id": "PwqfPTA5flsC"
      }
    },
    {
      "cell_type": "code",
      "source": [
        "def read_stop_words(filename):\n",
        "  with open(filename) as stopwords_file:\n",
        "    stopwords = stopwords_file.readlines()\n",
        "  stopwords = [line.replace('\\n', '') for line in stopwords] \n",
        "  return stopwords"
      ],
      "metadata": {
        "id": "7H0f9T8sfo-S"
      },
      "execution_count": 20,
      "outputs": []
    },
    {
      "cell_type": "code",
      "source": [
        "stopwords = read_stop_words('stopwords.txt')\n",
        "print(len(stopwords))"
      ],
      "metadata": {
        "colab": {
          "base_uri": "https://localhost:8080/"
        },
        "id": "uDpDL4LqfsZ0",
        "outputId": "6be6eb73-16a1-4895-f79a-5abeb7e24925"
      },
      "execution_count": 21,
      "outputs": [
        {
          "output_type": "stream",
          "name": "stdout",
          "text": [
            "1328\n"
          ]
        }
      ]
    },
    {
      "cell_type": "code",
      "source": [
        "# install hazm library\n",
        "!pip install hazm"
      ],
      "metadata": {
        "id": "bfmDnoWrdL3p",
        "colab": {
          "base_uri": "https://localhost:8080/"
        },
        "outputId": "f8cd2e70-8b7f-481d-a38d-f3f56c658d5d"
      },
      "execution_count": 22,
      "outputs": [
        {
          "output_type": "stream",
          "name": "stdout",
          "text": [
            "Looking in indexes: https://pypi.org/simple, https://us-python.pkg.dev/colab-wheels/public/simple/\n",
            "Requirement already satisfied: hazm in /usr/local/lib/python3.9/dist-packages (0.7.0)\n",
            "Requirement already satisfied: libwapiti>=0.2.1 in /usr/local/lib/python3.9/dist-packages (from hazm) (0.2.1)\n",
            "Requirement already satisfied: nltk==3.3 in /usr/local/lib/python3.9/dist-packages (from hazm) (3.3)\n",
            "Requirement already satisfied: six in /usr/local/lib/python3.9/dist-packages (from nltk==3.3->hazm) (1.16.0)\n"
          ]
        }
      ]
    },
    {
      "cell_type": "code",
      "source": [
        "from hazm import word_tokenize\n",
        "\n",
        "def clean_data(dataset):\n",
        "  text = dataset['text'].values\n",
        "  text_tokenized = [word_tokenize(t) for t in text]\n",
        "  text_tokenized_filtered = [[w for w in sentence if w not in stopwords] for sentence in text_tokenized]\n",
        "  sentence = [' '.join(sentence) for sentence in text_tokenized_filtered]\n",
        "  # remove numbers and white spaces\n",
        "  sentence = [s.replace('\\u200c', '') for s in sentence]\n",
        "  sentence = [re.sub('[0-9]+', 'عدد', s) for s in sentence]\n",
        "  sentence = [re.sub('\\s+', ' ', s) for s in sentence]\n",
        "  return sentence"
      ],
      "metadata": {
        "id": "O7JQ52Z0eour"
      },
      "execution_count": 23,
      "outputs": []
    },
    {
      "cell_type": "code",
      "source": [
        "clean_train_data = clean_data(train_dataset)\n",
        "clean_test_data = clean_data(test_dataset)"
      ],
      "metadata": {
        "id": "sD6RkzZrVmy4"
      },
      "execution_count": 24,
      "outputs": []
    },
    {
      "cell_type": "code",
      "source": [
        "clean_train_data[0]"
      ],
      "metadata": {
        "colab": {
          "base_uri": "https://localhost:8080/",
          "height": 36
        },
        "id": "hZoEIg45Vux_",
        "outputId": "460259a7-9d11-4922-b472-5ac6b5f65fce"
      },
      "execution_count": 25,
      "outputs": [
        {
          "output_type": "execute_result",
          "data": {
            "text/plain": [
              "'زدن کد دستوری عدد عدد اهنگ پیشواز لغو نشد چجوری اهنگ پیشواز لغو'"
            ],
            "application/vnd.google.colaboratory.intrinsic+json": {
              "type": "string"
            }
          },
          "metadata": {},
          "execution_count": 25
        }
      ]
    },
    {
      "cell_type": "code",
      "source": [
        "clean_test_data[0]"
      ],
      "metadata": {
        "colab": {
          "base_uri": "https://localhost:8080/",
          "height": 36
        },
        "id": "xEAHDidNWpIY",
        "outputId": "05f054ba-aa22-4ff8-a616-c098582b5f14"
      },
      "execution_count": 26,
      "outputs": [
        {
          "output_type": "execute_result",
          "data": {
            "text/plain": [
              "'مشکلی آوای انتظار فعالش میخوام غیرفعالش هچین گزینهای پنل کاربریم ندارم ممنون میشم راهنماییم'"
            ],
            "application/vnd.google.colaboratory.intrinsic+json": {
              "type": "string"
            }
          },
          "metadata": {},
          "execution_count": 26
        }
      ]
    },
    {
      "cell_type": "markdown",
      "source": [
        "### **one hot Y**"
      ],
      "metadata": {
        "id": "gVnH-aKecWCb"
      }
    },
    {
      "cell_type": "code",
      "source": [
        "def prepare_y(dataset):\n",
        "  Y = pd.get_dummies(dataset['category']).values\n",
        "  return Y"
      ],
      "metadata": {
        "id": "O5UUR4mzXDkQ"
      },
      "execution_count": 27,
      "outputs": []
    },
    {
      "cell_type": "code",
      "source": [
        "category_types = [\n",
        "        'خارج از دامنه',\n",
        "        'دریافت کد آوای انتظار خط خود',\n",
        "        'دریافت کد آوای انتظار خط دیگران',\n",
        "        'روش تغییرآوای انتظار',\n",
        "        'روش غیرفعالسازی آوای انتظار',\n",
        "        'روش فعالسازی آوای انتظار',\n",
        "        'لیست آواهای انتظار',\n",
        "        'مشکل تغییر آوای انتظار',\n",
        "        'مشکل غیرفعالسازی آوای انتظار',\n",
        "        'مشکل فعالسازی آوای انتظار',\n",
        "        'مشکل پخش آوای انتظار'\n",
        "]"
      ],
      "metadata": {
        "id": "p6Mqy6OOcKH3"
      },
      "execution_count": 28,
      "outputs": []
    },
    {
      "cell_type": "code",
      "source": [
        "category_types"
      ],
      "metadata": {
        "colab": {
          "base_uri": "https://localhost:8080/"
        },
        "id": "2jER8S9R5BIn",
        "outputId": "1dbbbcb5-5eb9-4944-eb09-a4708a83533e"
      },
      "execution_count": 29,
      "outputs": [
        {
          "output_type": "execute_result",
          "data": {
            "text/plain": [
              "['خارج از دامنه',\n",
              " 'دریافت کد آوای انتظار خط خود',\n",
              " 'دریافت کد آوای انتظار خط دیگران',\n",
              " 'روش تغییرآوای انتظار',\n",
              " 'روش غیرفعالسازی آوای انتظار',\n",
              " 'روش فعالسازی آوای انتظار',\n",
              " 'لیست آواهای انتظار',\n",
              " 'مشکل تغییر آوای انتظار',\n",
              " 'مشکل غیرفعالسازی آوای انتظار',\n",
              " 'مشکل فعالسازی آوای انتظار',\n",
              " 'مشکل پخش آوای انتظار']"
            ]
          },
          "metadata": {},
          "execution_count": 29
        }
      ]
    },
    {
      "cell_type": "markdown",
      "source": [
        "### **Train & Test Split**"
      ],
      "metadata": {
        "id": "1pyE3qWscdIC"
      }
    },
    {
      "cell_type": "code",
      "source": [
        "X_train = clean_train_data\n",
        "X_test =  clean_test_data\n",
        "y_train = prepare_y(train_dataset)\n",
        "y_test = prepare_y(test_dataset)"
      ],
      "metadata": {
        "id": "ywKcPnwWdIMd"
      },
      "execution_count": 30,
      "outputs": []
    },
    {
      "cell_type": "code",
      "source": [
        "print(np.array(X_train).shape)\n",
        "print(np.array(X_test).shape)\n",
        "print(np.array(y_train).shape)\n",
        "print(np.array(y_test).shape)"
      ],
      "metadata": {
        "colab": {
          "base_uri": "https://localhost:8080/"
        },
        "id": "0w29RYhDdU36",
        "outputId": "16c09c78-c3e5-4cbf-fa96-4fd355a45b7a"
      },
      "execution_count": 31,
      "outputs": [
        {
          "output_type": "stream",
          "name": "stdout",
          "text": [
            "(2761,)\n",
            "(484,)\n",
            "(2761, 11)\n",
            "(484, 11)\n"
          ]
        }
      ]
    },
    {
      "cell_type": "markdown",
      "source": [
        "### **Train The Model**"
      ],
      "metadata": {
        "id": "l4wNYflDdgsd"
      }
    },
    {
      "cell_type": "code",
      "source": [
        "!pip install transformers\n",
        "import transformers"
      ],
      "metadata": {
        "colab": {
          "base_uri": "https://localhost:8080/"
        },
        "id": "z3dgYQcB7pKz",
        "outputId": "a097a0a5-3ff4-46bd-adba-3991d0719b30"
      },
      "execution_count": 32,
      "outputs": [
        {
          "output_type": "stream",
          "name": "stdout",
          "text": [
            "Looking in indexes: https://pypi.org/simple, https://us-python.pkg.dev/colab-wheels/public/simple/\n",
            "Requirement already satisfied: transformers in /usr/local/lib/python3.9/dist-packages (4.28.1)\n",
            "Requirement already satisfied: numpy>=1.17 in /usr/local/lib/python3.9/dist-packages (from transformers) (1.22.4)\n",
            "Requirement already satisfied: regex!=2019.12.17 in /usr/local/lib/python3.9/dist-packages (from transformers) (2022.10.31)\n",
            "Requirement already satisfied: filelock in /usr/local/lib/python3.9/dist-packages (from transformers) (3.11.0)\n",
            "Requirement already satisfied: requests in /usr/local/lib/python3.9/dist-packages (from transformers) (2.27.1)\n",
            "Requirement already satisfied: packaging>=20.0 in /usr/local/lib/python3.9/dist-packages (from transformers) (23.1)\n",
            "Requirement already satisfied: tqdm>=4.27 in /usr/local/lib/python3.9/dist-packages (from transformers) (4.65.0)\n",
            "Requirement already satisfied: huggingface-hub<1.0,>=0.11.0 in /usr/local/lib/python3.9/dist-packages (from transformers) (0.13.4)\n",
            "Requirement already satisfied: pyyaml>=5.1 in /usr/local/lib/python3.9/dist-packages (from transformers) (6.0)\n",
            "Requirement already satisfied: tokenizers!=0.11.3,<0.14,>=0.11.1 in /usr/local/lib/python3.9/dist-packages (from transformers) (0.13.3)\n",
            "Requirement already satisfied: typing-extensions>=3.7.4.3 in /usr/local/lib/python3.9/dist-packages (from huggingface-hub<1.0,>=0.11.0->transformers) (4.5.0)\n",
            "Requirement already satisfied: urllib3<1.27,>=1.21.1 in /usr/local/lib/python3.9/dist-packages (from requests->transformers) (1.26.15)\n",
            "Requirement already satisfied: idna<4,>=2.5 in /usr/local/lib/python3.9/dist-packages (from requests->transformers) (3.4)\n",
            "Requirement already satisfied: charset-normalizer~=2.0.0 in /usr/local/lib/python3.9/dist-packages (from requests->transformers) (2.0.12)\n",
            "Requirement already satisfied: certifi>=2017.4.17 in /usr/local/lib/python3.9/dist-packages (from requests->transformers) (2022.12.7)\n"
          ]
        }
      ]
    },
    {
      "cell_type": "code",
      "source": [
        "from transformers import AutoTokenizer,TFBertModel\n",
        "MODEL_NAME = \"HooshvareLab/bert-fa-zwnj-base\"\n",
        "tokenizer = AutoTokenizer.from_pretrained(MODEL_NAME)\n",
        "bert = TFBertModel.from_pretrained(MODEL_NAME)"
      ],
      "metadata": {
        "colab": {
          "base_uri": "https://localhost:8080/"
        },
        "id": "9nlyY1dL7uuK",
        "outputId": "67ed99ab-4e09-425d-a83e-ed639add11bd"
      },
      "execution_count": 33,
      "outputs": [
        {
          "output_type": "stream",
          "name": "stderr",
          "text": [
            "Some layers from the model checkpoint at HooshvareLab/bert-fa-zwnj-base were not used when initializing TFBertModel: ['mlm___cls']\n",
            "- This IS expected if you are initializing TFBertModel from the checkpoint of a model trained on another task or with another architecture (e.g. initializing a BertForSequenceClassification model from a BertForPreTraining model).\n",
            "- This IS NOT expected if you are initializing TFBertModel from the checkpoint of a model that you expect to be exactly identical (initializing a BertForSequenceClassification model from a BertForSequenceClassification model).\n",
            "Some layers of TFBertModel were not initialized from the model checkpoint at HooshvareLab/bert-fa-zwnj-base and are newly initialized: ['bert/pooler/dense/kernel:0', 'bert/pooler/dense/bias:0']\n",
            "You should probably TRAIN this model on a down-stream task to be able to use it for predictions and inference.\n"
          ]
        }
      ]
    },
    {
      "cell_type": "code",
      "source": [
        "bert.summary()"
      ],
      "metadata": {
        "colab": {
          "base_uri": "https://localhost:8080/"
        },
        "id": "DvCkyu_m76sp",
        "outputId": "0dab3247-abb3-4271-9933-58570d5ea667"
      },
      "execution_count": 34,
      "outputs": [
        {
          "output_type": "stream",
          "name": "stdout",
          "text": [
            "Model: \"tf_bert_model\"\n",
            "_________________________________________________________________\n",
            " Layer (type)                Output Shape              Param #   \n",
            "=================================================================\n",
            " bert (TFBertMainLayer)      multiple                  118297344 \n",
            "                                                                 \n",
            "=================================================================\n",
            "Total params: 118,297,344\n",
            "Trainable params: 118,297,344\n",
            "Non-trainable params: 0\n",
            "_________________________________________________________________\n"
          ]
        }
      ]
    },
    {
      "cell_type": "code",
      "source": [
        "x_train = tokenizer(\n",
        "    text=X_train,\n",
        "    add_special_tokens=True,\n",
        "    max_length=60,\n",
        "    truncation=True,\n",
        "    padding=\"max_length\",\n",
        "    return_tensors='tf',\n",
        "    return_token_type_ids = False,\n",
        "    return_attention_mask = True,\n",
        "    verbose = True)\n",
        "\n",
        "x_test = tokenizer(\n",
        "    text=X_test,\n",
        "    add_special_tokens=True,\n",
        "    max_length=60,\n",
        "    truncation=True,\n",
        "    padding=\"max_length\",\n",
        "    return_tensors='tf',\n",
        "    return_token_type_ids = False,\n",
        "    return_attention_mask = True,\n",
        "    verbose = True)"
      ],
      "metadata": {
        "id": "jTPDvKaE79j2"
      },
      "execution_count": 35,
      "outputs": []
    },
    {
      "cell_type": "code",
      "source": [
        "input_ids = x_train['input_ids']\n",
        "attention_mask = x_train['attention_mask']"
      ],
      "metadata": {
        "id": "QdQCd1_F9Otc"
      },
      "execution_count": 36,
      "outputs": []
    },
    {
      "cell_type": "code",
      "source": [
        "input_ids[0]"
      ],
      "metadata": {
        "colab": {
          "base_uri": "https://localhost:8080/"
        },
        "id": "WTRJ653Q9TJL",
        "outputId": "99193e8c-424b-4689-c232-c2a78281bbd3"
      },
      "execution_count": 37,
      "outputs": [
        {
          "output_type": "execute_result",
          "data": {
            "text/plain": [
              "<tf.Tensor: shape=(60,), dtype=int32, numpy=\n",
              "array([    2,  4309,  3441, 12342,  4420,  4420,  4265, 36379,  6009,\n",
              "        4921, 16097,  4265, 36379,  6009,     3,     0,     0,     0,\n",
              "           0,     0,     0,     0,     0,     0,     0,     0,     0,\n",
              "           0,     0,     0,     0,     0,     0,     0,     0,     0,\n",
              "           0,     0,     0,     0,     0,     0,     0,     0,     0,\n",
              "           0,     0,     0,     0,     0,     0,     0,     0,     0,\n",
              "           0,     0,     0,     0,     0,     0], dtype=int32)>"
            ]
          },
          "metadata": {},
          "execution_count": 37
        }
      ]
    },
    {
      "cell_type": "code",
      "source": [
        "input_ids[0].shape"
      ],
      "metadata": {
        "colab": {
          "base_uri": "https://localhost:8080/"
        },
        "id": "JvOJi5EEbtNx",
        "outputId": "4929d0eb-8e12-4521-804f-9c192cb20c53"
      },
      "execution_count": 38,
      "outputs": [
        {
          "output_type": "execute_result",
          "data": {
            "text/plain": [
              "TensorShape([60])"
            ]
          },
          "metadata": {},
          "execution_count": 38
        }
      ]
    },
    {
      "cell_type": "code",
      "source": [
        "attention_mask[0]"
      ],
      "metadata": {
        "colab": {
          "base_uri": "https://localhost:8080/"
        },
        "id": "duFWFxjpZ7ZH",
        "outputId": "caa38bb6-1930-47c5-e374-a481cea52b59"
      },
      "execution_count": 39,
      "outputs": [
        {
          "output_type": "execute_result",
          "data": {
            "text/plain": [
              "<tf.Tensor: shape=(60,), dtype=int32, numpy=\n",
              "array([1, 1, 1, 1, 1, 1, 1, 1, 1, 1, 1, 1, 1, 1, 1, 0, 0, 0, 0, 0, 0, 0,\n",
              "       0, 0, 0, 0, 0, 0, 0, 0, 0, 0, 0, 0, 0, 0, 0, 0, 0, 0, 0, 0, 0, 0,\n",
              "       0, 0, 0, 0, 0, 0, 0, 0, 0, 0, 0, 0, 0, 0, 0, 0], dtype=int32)>"
            ]
          },
          "metadata": {},
          "execution_count": 39
        }
      ]
    },
    {
      "cell_type": "code",
      "source": [
        "attention_mask[0].shape"
      ],
      "metadata": {
        "colab": {
          "base_uri": "https://localhost:8080/"
        },
        "id": "EY3qVnmwbxFO",
        "outputId": "b33e8b96-d5d0-477b-fa98-4d002c3bde09"
      },
      "execution_count": 40,
      "outputs": [
        {
          "output_type": "execute_result",
          "data": {
            "text/plain": [
              "TensorShape([60])"
            ]
          },
          "metadata": {},
          "execution_count": 40
        }
      ]
    },
    {
      "cell_type": "code",
      "source": [
        "import tensorflow as tf\n",
        "from tensorflow.keras.optimizers import Adam\n",
        "from tensorflow.keras.callbacks import EarlyStopping\n",
        "from tensorflow.keras.initializers import TruncatedNormal\n",
        "from tensorflow.keras.losses import CategoricalCrossentropy\n",
        "from tensorflow.keras.metrics import CategoricalAccuracy\n",
        "from tensorflow.keras.utils import to_categorical\n",
        "from tensorflow.keras.layers import Input, Dense"
      ],
      "metadata": {
        "id": "VsvrbX_87fid"
      },
      "execution_count": 41,
      "outputs": []
    },
    {
      "cell_type": "code",
      "source": [
        "max_len = 60\n",
        "input_ids = Input(shape=(max_len,), dtype=tf.int32, name=\"input_ids\")\n",
        "input_mask = Input(shape=(max_len,), dtype=tf.int32, name=\"attention_mask\")\n",
        "embeddings = bert(input_ids, attention_mask=input_mask)[0] \n",
        "out = tf.keras.layers.GlobalMaxPool1D()(embeddings)\n",
        "out = Dense(128, activation='relu')(out)\n",
        "out = tf.keras.layers.Dropout(0.1)(out)\n",
        "out = Dense(32, activation = 'relu')(out)\n",
        "y = Dense(len(category_types), activation='softmax')(out)\n",
        "model = tf.keras.Model(inputs=[input_ids, input_mask], outputs=y)\n",
        "model.layers[2].trainable = True"
      ],
      "metadata": {
        "id": "4kDWF0CB7ao2"
      },
      "execution_count": 42,
      "outputs": []
    },
    {
      "cell_type": "code",
      "source": [
        "optimizer = Adam(\n",
        "    learning_rate=5e-05, \n",
        "    epsilon=1e-08,\n",
        "    clipnorm=1.0)"
      ],
      "metadata": {
        "id": "1AcYEL7e9ueN"
      },
      "execution_count": 43,
      "outputs": []
    },
    {
      "cell_type": "code",
      "source": [
        "\n",
        "model.compile(loss='categorical_crossentropy', optimizer=optimizer, metrics=['accuracy'])"
      ],
      "metadata": {
        "id": "dhl1lZKCd9OL"
      },
      "execution_count": 44,
      "outputs": []
    },
    {
      "cell_type": "code",
      "source": [
        "model.summary()"
      ],
      "metadata": {
        "colab": {
          "base_uri": "https://localhost:8080/"
        },
        "id": "3imJ6yqpeBxu",
        "outputId": "1c633c68-728a-4867-a88a-8bde477a9136"
      },
      "execution_count": 45,
      "outputs": [
        {
          "output_type": "stream",
          "name": "stdout",
          "text": [
            "Model: \"model\"\n",
            "__________________________________________________________________________________________________\n",
            " Layer (type)                   Output Shape         Param #     Connected to                     \n",
            "==================================================================================================\n",
            " input_ids (InputLayer)         [(None, 60)]         0           []                               \n",
            "                                                                                                  \n",
            " attention_mask (InputLayer)    [(None, 60)]         0           []                               \n",
            "                                                                                                  \n",
            " tf_bert_model (TFBertModel)    TFBaseModelOutputWi  118297344   ['input_ids[0][0]',              \n",
            "                                thPoolingAndCrossAt               'attention_mask[0][0]']         \n",
            "                                tentions(last_hidde                                               \n",
            "                                n_state=(None, 60,                                                \n",
            "                                768),                                                             \n",
            "                                 pooler_output=(Non                                               \n",
            "                                e, 768),                                                          \n",
            "                                 past_key_values=No                                               \n",
            "                                ne, hidden_states=N                                               \n",
            "                                one, attentions=Non                                               \n",
            "                                e, cross_attentions                                               \n",
            "                                =None)                                                            \n",
            "                                                                                                  \n",
            " global_max_pooling1d (GlobalMa  (None, 768)         0           ['tf_bert_model[0][0]']          \n",
            " xPooling1D)                                                                                      \n",
            "                                                                                                  \n",
            " dense (Dense)                  (None, 128)          98432       ['global_max_pooling1d[0][0]']   \n",
            "                                                                                                  \n",
            " dropout_37 (Dropout)           (None, 128)          0           ['dense[0][0]']                  \n",
            "                                                                                                  \n",
            " dense_1 (Dense)                (None, 32)           4128        ['dropout_37[0][0]']             \n",
            "                                                                                                  \n",
            " dense_2 (Dense)                (None, 11)           363         ['dense_1[0][0]']                \n",
            "                                                                                                  \n",
            "==================================================================================================\n",
            "Total params: 118,400,267\n",
            "Trainable params: 118,400,267\n",
            "Non-trainable params: 0\n",
            "__________________________________________________________________________________________________\n"
          ]
        }
      ]
    },
    {
      "cell_type": "code",
      "source": [
        "# earlystop callback\n",
        "earlystop_callback = tf.keras.callbacks.EarlyStopping(monitor=\"val_loss\", min_delta=0.001, patience=0)\n",
        "\n",
        "# model checkpoint callback\n",
        "checkpoint_filepath = '/model/checkpoint'\n",
        "model_checkpoint_callback = tf.keras.callbacks.ModelCheckpoint(\n",
        "    filepath=checkpoint_filepath,\n",
        "    save_weights_only=True,\n",
        "    monitor='val_loss',\n",
        "    mode='min',\n",
        "    save_best_only=True)"
      ],
      "metadata": {
        "id": "VPsp9-ag2Wbe"
      },
      "execution_count": 46,
      "outputs": []
    },
    {
      "cell_type": "code",
      "source": [
        "history = model.fit(\n",
        "    x ={'input_ids':x_train['input_ids'],'attention_mask':x_train['attention_mask']} ,\n",
        "    y = y_train,\n",
        "    validation_data = (\n",
        "    {'input_ids':x_test['input_ids'],'attention_mask':x_test['attention_mask']}, y_test\n",
        "    ),\n",
        "    epochs=10,\n",
        "    batch_size=8,\n",
        "    callbacks=[earlystop_callback, model_checkpoint_callback]\n",
        ")"
      ],
      "metadata": {
        "colab": {
          "base_uri": "https://localhost:8080/"
        },
        "id": "mVpGL0m0eDrZ",
        "outputId": "478915bd-80b5-42c2-de1c-e33d3b23baed"
      },
      "execution_count": 47,
      "outputs": [
        {
          "output_type": "stream",
          "name": "stdout",
          "text": [
            "Epoch 1/10\n"
          ]
        },
        {
          "output_type": "stream",
          "name": "stderr",
          "text": [
            "WARNING:tensorflow:Gradients do not exist for variables ['tf_bert_model/bert/pooler/dense/kernel:0', 'tf_bert_model/bert/pooler/dense/bias:0'] when minimizing the loss. If you're using `model.compile()`, did you forget to provide a `loss` argument?\n",
            "WARNING:tensorflow:Gradients do not exist for variables ['tf_bert_model/bert/pooler/dense/kernel:0', 'tf_bert_model/bert/pooler/dense/bias:0'] when minimizing the loss. If you're using `model.compile()`, did you forget to provide a `loss` argument?\n",
            "WARNING:tensorflow:Gradients do not exist for variables ['tf_bert_model/bert/pooler/dense/kernel:0', 'tf_bert_model/bert/pooler/dense/bias:0'] when minimizing the loss. If you're using `model.compile()`, did you forget to provide a `loss` argument?\n",
            "WARNING:tensorflow:Gradients do not exist for variables ['tf_bert_model/bert/pooler/dense/kernel:0', 'tf_bert_model/bert/pooler/dense/bias:0'] when minimizing the loss. If you're using `model.compile()`, did you forget to provide a `loss` argument?\n"
          ]
        },
        {
          "output_type": "stream",
          "name": "stdout",
          "text": [
            "346/346 [==============================] - 147s 224ms/step - loss: 1.3414 - accuracy: 0.5708 - val_loss: 0.8546 - val_accuracy: 0.7769\n",
            "Epoch 2/10\n",
            "346/346 [==============================] - 60s 172ms/step - loss: 0.6493 - accuracy: 0.8113 - val_loss: 0.6977 - val_accuracy: 0.8244\n",
            "Epoch 3/10\n",
            "346/346 [==============================] - 52s 151ms/step - loss: 0.4497 - accuracy: 0.8750 - val_loss: 0.8064 - val_accuracy: 0.8244\n"
          ]
        }
      ]
    },
    {
      "cell_type": "code",
      "source": [
        "model.save('intent_detection_model.h5')"
      ],
      "metadata": {
        "id": "Ei-Yx8bueF0J"
      },
      "execution_count": 48,
      "outputs": []
    },
    {
      "cell_type": "code",
      "source": [
        "def plot_graphs(history, string):\n",
        "    plt.plot(history.history[string])\n",
        "    plt.plot(history.history['val_'+string])\n",
        "    plt.xlabel(\"Epochs\")\n",
        "    plt.ylabel(string)\n",
        "    plt.legend([string, 'val_'+string])\n",
        "    plt.show()"
      ],
      "metadata": {
        "id": "paDuo7-IK5hG"
      },
      "execution_count": 49,
      "outputs": []
    },
    {
      "cell_type": "code",
      "source": [
        "plot_graphs(history, 'accuracy')\n",
        "plot_graphs(history, 'loss')"
      ],
      "metadata": {
        "colab": {
          "base_uri": "https://localhost:8080/",
          "height": 881
        },
        "id": "7Nso2ShUK79V",
        "outputId": "01641126-089a-4ff5-f936-f4f334427d6f"
      },
      "execution_count": 50,
      "outputs": [
        {
          "output_type": "display_data",
          "data": {
            "text/plain": [
              "<Figure size 640x480 with 1 Axes>"
            ],
            "image/png": "[encoded data removed]"
          },
          "metadata": {}
        },
        {
          "output_type": "display_data",
          "data": {
            "text/plain": [
              "<Figure size 640x480 with 1 Axes>"
            ],
            "image/png": "[encoded data removed]"
          },
          "metadata": {}
        }
      ]
    },
    {
      "cell_type": "markdown",
      "source": [
        "### **Testing the Model**"
      ],
      "metadata": {
        "id": "S1GEY_58uzgf"
      }
    },
    {
      "cell_type": "code",
      "source": [
        "# load model\n",
        "from tensorflow.keras.models import load_model\n",
        "import transformers\n",
        "\n",
        "loaded_model = load_model('intent_detection_model.h5', custom_objects={\"TFBertModel\": transformers.TFBertModel})"
      ],
      "metadata": {
        "id": "t3PYutZ2uskV"
      },
      "execution_count": 51,
      "outputs": []
    },
    {
      "cell_type": "code",
      "source": [
        "predicted_raw = loaded_model.predict({'input_ids':x_test['input_ids'],'attention_mask':x_test['attention_mask']})\n",
        "predicted_raw[0]"
      ],
      "metadata": {
        "colab": {
          "base_uri": "https://localhost:8080/"
        },
        "id": "_s-goJsGAMNl",
        "outputId": "f0f96744-4b2c-47f3-a062-c85f7b569265"
      },
      "execution_count": 52,
      "outputs": [
        {
          "output_type": "stream",
          "name": "stdout",
          "text": [
            "16/16 [==============================] - 5s 132ms/step\n"
          ]
        },
        {
          "output_type": "execute_result",
          "data": {
            "text/plain": [
              "array([1.4725301e-04, 2.9206953e-03, 1.4135816e-02, 5.6142471e-04,\n",
              "       9.9947952e-02, 2.8109999e-02, 3.0593242e-04, 2.5755302e-03,\n",
              "       7.6651764e-01, 1.2898700e-02, 7.1879022e-02], dtype=float32)"
            ]
          },
          "metadata": {},
          "execution_count": 52
        }
      ]
    },
    {
      "cell_type": "code",
      "source": [
        "def tokenize_sentences(sentence):\n",
        "  tokenized_sentence = tokenizer(\n",
        "    text=[sentence],\n",
        "    add_special_tokens=True,\n",
        "    max_length=60,\n",
        "    truncation=True,\n",
        "    padding=\"max_length\",\n",
        "    return_tensors='tf',\n",
        "    return_token_type_ids = False,\n",
        "    return_attention_mask = True,\n",
        "    verbose = True)\n",
        "  \n",
        "  return tokenized_sentence"
      ],
      "metadata": {
        "id": "m1ecZutgxJtC"
      },
      "execution_count": 53,
      "outputs": []
    },
    {
      "cell_type": "code",
      "source": [
        "def predict(model, sentence):\n",
        "  tokenized_sentence = tokenize_sentences(sentence)\n",
        "  pridiction = model.predict({'input_ids':tokenized_sentence['input_ids'],'attention_mask':tokenized_sentence['attention_mask']})[0]\n",
        "  category_index = np.where(pridiction == max(pridiction))[0][0]\n",
        "  result = category_types[category_index]\n",
        "  return result"
      ],
      "metadata": {
        "id": "EFR3QQvog90S"
      },
      "execution_count": 54,
      "outputs": []
    },
    {
      "cell_type": "code",
      "source": [
        "print(test_dataset['text'][1])\n",
        "print(test_dataset['category'][1])"
      ],
      "metadata": {
        "colab": {
          "base_uri": "https://localhost:8080/"
        },
        "id": "sFJO5-Iy3j3L",
        "outputId": "b35daf57-b7e8-4cfc-9e93-c87f8a8645e4"
      },
      "execution_count": 55,
      "outputs": [
        {
          "output_type": "stream",
          "name": "stdout",
          "text": [
            " برای فعال کردن اهنگ پیشواز از طریق همراه من اقدام کردم اما فعال نشد چکار کنم\n",
            "مشکل فعالسازی آوای انتظار\n"
          ]
        }
      ]
    },
    {
      "cell_type": "code",
      "source": [
        "sentence = test_dataset['text'][1]\n",
        "pridiction = predict(loaded_model, sentence)\n",
        "print(pridiction)"
      ],
      "metadata": {
        "colab": {
          "base_uri": "https://localhost:8080/"
        },
        "id": "yynF6AuowZKb",
        "outputId": "96c9239c-b42c-46fc-e077-53c2f5eb8924"
      },
      "execution_count": 56,
      "outputs": [
        {
          "output_type": "stream",
          "name": "stdout",
          "text": [
            "1/1 [==============================] - 0s 46ms/step\n",
            "مشکل فعالسازی آوای انتظار\n"
          ]
        }
      ]
    },
    {
      "cell_type": "markdown",
      "source": [
        "### **Model Evaluation**"
      ],
      "metadata": {
        "id": "cMvjCi4O-3AI"
      }
    },
    {
      "cell_type": "code",
      "source": [
        "y_pred = loaded_model.predict({'input_ids':x_test['input_ids'],'attention_mask':x_test['attention_mask']})\n",
        "y_pred = np.argmax(y_pred, axis=1)"
      ],
      "metadata": {
        "colab": {
          "base_uri": "https://localhost:8080/"
        },
        "id": "tncBTZbOAns3",
        "outputId": "0d77803f-c53e-448e-a92d-2efd78cae487"
      },
      "execution_count": 57,
      "outputs": [
        {
          "output_type": "stream",
          "name": "stdout",
          "text": [
            "16/16 [==============================] - 2s 125ms/step\n"
          ]
        }
      ]
    },
    {
      "cell_type": "code",
      "source": [
        "y_true = np.argmax(y_test, axis=1)"
      ],
      "metadata": {
        "id": "TUpoQX2nAvpP"
      },
      "execution_count": 58,
      "outputs": []
    },
    {
      "cell_type": "code",
      "source": [
        "from sklearn.metrics import f1_score\n",
        "\n",
        "print(f1_score(y_true, y_pred, average='macro'))\n",
        "print(f1_score(y_true, y_pred, average='micro'))\n",
        "print(f1_score(y_true, y_pred, average='weighted'))"
      ],
      "metadata": {
        "colab": {
          "base_uri": "https://localhost:8080/"
        },
        "id": "3jXgG0KhBAov",
        "outputId": "6b96ab06-3bc1-48f1-8f3f-20fe967e5f3f"
      },
      "execution_count": 59,
      "outputs": [
        {
          "output_type": "stream",
          "name": "stdout",
          "text": [
            "0.826452499336768\n",
            "0.8243801652892562\n",
            "0.8245766568166989\n"
          ]
        }
      ]
    },
    {
      "cell_type": "markdown",
      "source": [
        "### **Confusion Matrix**"
      ],
      "metadata": {
        "id": "8sLxNlj5Ajef"
      }
    },
    {
      "cell_type": "code",
      "source": [
        "from sklearn.metrics import confusion_matrix, classification_report"
      ],
      "metadata": {
        "id": "jx4_zrqe3Vnb"
      },
      "execution_count": 60,
      "outputs": []
    },
    {
      "cell_type": "code",
      "source": [
        "y_pred = loaded_model.predict({'input_ids':x_test['input_ids'],'attention_mask':x_test['attention_mask']})\n",
        "y_pred = np.argmax(y_pred, axis=1)"
      ],
      "metadata": {
        "colab": {
          "base_uri": "https://localhost:8080/"
        },
        "id": "T7CKtm8H_ZtI",
        "outputId": "0c9f2d18-52dd-4450-8fcf-018dda5a280a"
      },
      "execution_count": 61,
      "outputs": [
        {
          "output_type": "stream",
          "name": "stdout",
          "text": [
            "16/16 [==============================] - 2s 125ms/step\n"
          ]
        }
      ]
    },
    {
      "cell_type": "code",
      "source": [
        "y_pred"
      ],
      "metadata": {
        "colab": {
          "base_uri": "https://localhost:8080/"
        },
        "id": "_L089ngR_rK4",
        "outputId": "182912a0-e6e3-4ff9-da3b-37f17bc575a5"
      },
      "execution_count": 62,
      "outputs": [
        {
          "output_type": "execute_result",
          "data": {
            "text/plain": [
              "array([ 8,  9,  2, 10,  6,  1,  2,  5,  8,  3,  0,  8,  9,  7, 10,  6,  1,\n",
              "        2,  5,  4,  3,  0,  8,  9,  7, 10,  6,  1,  2,  5,  4,  3,  0,  8,\n",
              "        9,  7, 10,  6,  1,  2,  3,  4,  3,  5,  8,  9,  7, 10,  6,  1,  1,\n",
              "        5,  5,  3,  1,  8,  9,  7, 10,  1,  6,  2,  5,  4,  3,  1,  8,  5,\n",
              "        7, 10,  6,  1,  2,  5,  4,  3, 10,  7,  9,  7, 10,  6,  1,  2,  5,\n",
              "        4,  3,  0,  8,  9,  7, 10,  6,  6,  2,  5,  5,  4,  3,  8,  9,  9,\n",
              "       10,  6,  1,  2, 10,  4,  7,  0,  8, 10,  7,  7,  6,  3,  2,  5,  4,\n",
              "        3,  0,  8,  9, 10, 10,  6,  1,  2,  5,  4,  3,  0,  8,  9,  7, 10,\n",
              "        6,  1,  2,  9,  4,  3,  0, 10,  9,  7, 10,  6,  4,  2,  1,  4,  3,\n",
              "        6,  8,  9,  7, 10,  6,  1,  2,  5,  4,  3,  5,  8,  9,  3, 10,  6,\n",
              "        1,  2,  5,  5,  3,  0,  8,  9,  7, 10,  1,  1,  2,  5,  4,  3,  0,\n",
              "        8,  9,  7,  1,  6,  1,  2,  5,  4,  3,  0,  8,  9,  3, 10,  6,  1,\n",
              "        2,  5,  6,  3,  0,  8,  9,  9, 10,  6,  1,  2,  5,  4,  3,  0,  8,\n",
              "        9,  7, 10,  6,  1,  2,  5,  4,  3,  0,  8,  7,  7, 10,  6,  1,  2,\n",
              "        5,  4,  3,  3,  8,  9,  7, 10,  1,  1,  2,  3,  5,  3,  0,  8,  9,\n",
              "        7, 10,  6,  1,  2,  6,  4,  3,  0,  8,  9,  7, 10,  6,  1,  2,  4,\n",
              "        4,  3,  0,  9, 10,  7, 10,  6,  1,  2,  5,  4,  3,  0,  8,  9,  7,\n",
              "       10,  6,  1,  2, 10,  4,  3,  0,  8,  9,  7, 10,  1,  1,  2, 10,  4,\n",
              "        3,  6,  8,  9,  7, 10,  6,  1,  1,  1,  4,  3,  0,  8,  9,  7, 10,\n",
              "        6,  1,  2,  5,  8,  3,  0, 10,  9,  7, 10,  6,  1,  2,  5,  4,  3,\n",
              "        0,  9,  7, 10,  6,  9,  2,  5,  4,  3,  0,  9,  3, 10,  6,  1,  2,\n",
              "        5,  4,  3,  0,  9,  7, 10,  6,  1,  2,  5,  4,  3,  9, 10, 10,  6,\n",
              "        1,  4,  3,  4,  3,  0,  9, 10,  1,  1,  2,  0,  4,  3,  0,  9, 10,\n",
              "        6,  1,  6,  3,  4,  3,  0,  3, 10,  6,  1,  2,  5, 10,  5,  6,  9,\n",
              "        5,  1,  1,  2,  5,  4,  3,  0,  9,  9,  6,  1,  2,  5,  4,  3,  1,\n",
              "        9, 10,  6,  6,  2,  5,  4,  3,  0,  9, 10,  1,  1,  2,  5,  4,  0,\n",
              "        9, 10,  6,  1,  5,  4,  5, 10,  2,  6,  1, 10,  4,  0,  9, 10,  6,\n",
              "        2,  0,  9,  7,  6,  1,  9,  9,  1,  9,  2,  9,  6, 10,  1,  9,  9,\n",
              "        9,  9,  7,  9,  9,  9,  9,  9])"
            ]
          },
          "metadata": {},
          "execution_count": 62
        }
      ]
    },
    {
      "cell_type": "code",
      "source": [
        "y_true = np.argmax(y_test, axis=1)"
      ],
      "metadata": {
        "id": "3fWqi_Hf_ujA"
      },
      "execution_count": 63,
      "outputs": []
    },
    {
      "cell_type": "code",
      "source": [
        "y_true"
      ],
      "metadata": {
        "colab": {
          "base_uri": "https://localhost:8080/"
        },
        "id": "oHA4S97z_2io",
        "outputId": "2ba1e350-8cb2-4ac4-9cfc-a012dce4addc"
      },
      "execution_count": 64,
      "outputs": [
        {
          "output_type": "execute_result",
          "data": {
            "text/plain": [
              "array([ 8,  9,  7, 10,  6,  1,  2,  5,  4,  3,  0,  8,  9,  7, 10,  6,  1,\n",
              "        2,  5,  4,  3,  0,  8,  9,  7, 10,  6,  1,  2,  5,  4,  3,  0,  8,\n",
              "        9,  7, 10,  6,  1,  2,  5,  4,  3,  0,  8,  9,  7, 10,  6,  1,  2,\n",
              "        5,  4,  3,  0,  8,  9,  7, 10,  6,  1,  2,  5,  4,  3,  0,  8,  9,\n",
              "        7, 10,  6,  1,  2,  5,  4,  3,  0,  8,  9,  7, 10,  6,  1,  2,  5,\n",
              "        4,  3,  0,  8,  9,  7, 10,  6,  1,  2,  5,  4,  3,  0,  8,  9,  7,\n",
              "       10,  6,  1,  2,  5,  4,  3,  0,  8,  9,  7, 10,  6,  1,  2,  5,  4,\n",
              "        3,  0,  8,  9,  7, 10,  6,  1,  2,  5,  4,  3,  0,  8,  9,  7, 10,\n",
              "        6,  1,  2,  5,  4,  3,  0,  8,  9,  7, 10,  6,  1,  2,  5,  4,  3,\n",
              "        0,  8,  9,  7, 10,  6,  1,  2,  5,  4,  3,  0,  8,  9,  7, 10,  6,\n",
              "        1,  2,  5,  4,  3,  0,  8,  9,  7, 10,  6,  1,  2,  5,  4,  3,  0,\n",
              "        8,  9,  7, 10,  6,  1,  2,  5,  4,  3,  0,  8,  9,  7, 10,  6,  1,\n",
              "        2,  5,  4,  3,  0,  8,  9,  7, 10,  6,  1,  2,  5,  4,  3,  0,  8,\n",
              "        9,  7, 10,  6,  1,  2,  5,  4,  3,  0,  8,  9,  7, 10,  6,  1,  2,\n",
              "        5,  4,  3,  0,  8,  9,  7, 10,  6,  1,  2,  5,  4,  3,  0,  8,  9,\n",
              "        7, 10,  6,  1,  2,  5,  4,  3,  0,  8,  9,  7, 10,  6,  1,  2,  5,\n",
              "        4,  3,  0,  8,  9,  7, 10,  6,  1,  2,  5,  4,  3,  0,  8,  9,  7,\n",
              "       10,  6,  1,  2,  5,  4,  3,  0,  8,  9,  7, 10,  6,  1,  2,  5,  4,\n",
              "        3,  0,  8,  9,  7, 10,  6,  1,  2,  5,  4,  3,  0,  8,  9,  7, 10,\n",
              "        6,  1,  2,  5,  4,  3,  0,  8,  9,  7, 10,  6,  1,  2,  5,  4,  3,\n",
              "        0,  9,  7, 10,  6,  1,  2,  5,  4,  3,  0,  9,  7, 10,  6,  1,  2,\n",
              "        5,  4,  3,  0,  9,  7, 10,  6,  1,  2,  5,  4,  3,  0,  9, 10,  6,\n",
              "        1,  2,  5,  4,  3,  0,  9, 10,  6,  1,  2,  5,  4,  3,  0,  9, 10,\n",
              "        6,  1,  2,  5,  4,  3,  0,  9, 10,  6,  1,  2,  5,  4,  3,  0,  9,\n",
              "       10,  6,  1,  2,  5,  4,  3,  0,  9, 10,  6,  1,  2,  5,  4,  3,  0,\n",
              "        9, 10,  6,  1,  2,  5,  4,  3,  0,  9, 10,  6,  1,  2,  5,  4,  0,\n",
              "        9, 10,  6,  1,  5,  4,  0,  9, 10,  6,  1,  5,  4,  0,  9, 10,  6,\n",
              "        1,  0,  9, 10,  6,  1,  9, 10,  1,  9,  1,  9,  1,  9,  1,  9,  9,\n",
              "        9,  9,  9,  9,  9,  9,  9,  9])"
            ]
          },
          "metadata": {},
          "execution_count": 64
        }
      ]
    },
    {
      "cell_type": "code",
      "source": [
        "print(classification_report(y_true, y_pred))"
      ],
      "metadata": {
        "colab": {
          "base_uri": "https://localhost:8080/"
        },
        "id": "Qm7wkwxs_6PK",
        "outputId": "c9350993-3556-4dfb-b4c6-08526f209e6a"
      },
      "execution_count": 65,
      "outputs": [
        {
          "output_type": "stream",
          "name": "stdout",
          "text": [
            "              precision    recall  f1-score   support\n",
            "\n",
            "           0       0.97      0.71      0.82        45\n",
            "           1       0.73      0.82      0.77        50\n",
            "           2       0.90      0.90      0.90        42\n",
            "           3       0.78      0.93      0.84        41\n",
            "           4       0.90      0.82      0.86        44\n",
            "           5       0.75      0.68      0.71        44\n",
            "           6       0.80      0.85      0.82        46\n",
            "           7       0.82      0.79      0.81        34\n",
            "           8       0.93      0.87      0.90        31\n",
            "           9       0.86      0.85      0.86        60\n",
            "          10       0.74      0.85      0.79        47\n",
            "\n",
            "    accuracy                           0.82       484\n",
            "   macro avg       0.83      0.83      0.83       484\n",
            "weighted avg       0.83      0.82      0.82       484\n",
            "\n"
          ]
        }
      ]
    },
    {
      "cell_type": "code",
      "source": [
        "cm = confusion_matrix(y_true, y_pred)"
      ],
      "metadata": {
        "id": "BYXS-MKB__kt"
      },
      "execution_count": 66,
      "outputs": []
    },
    {
      "cell_type": "code",
      "source": [
        "cm"
      ],
      "metadata": {
        "colab": {
          "base_uri": "https://localhost:8080/"
        },
        "id": "-ZScF3ILAQo2",
        "outputId": "c0c58f86-037d-4c54-f891-c2912d8a5bc2"
      },
      "execution_count": 67,
      "outputs": [
        {
          "output_type": "execute_result",
          "data": {
            "text/plain": [
              "array([[32,  3,  0,  2,  0,  3,  3,  0,  0,  1,  1],\n",
              "       [ 0, 41,  2,  1,  1,  0,  4,  0,  0,  1,  0],\n",
              "       [ 0,  2, 38,  0,  1,  0,  1,  0,  0,  0,  0],\n",
              "       [ 0,  0,  0, 38,  1,  1,  0,  1,  0,  0,  0],\n",
              "       [ 0,  0,  0,  0, 36,  4,  1,  0,  2,  0,  1],\n",
              "       [ 1,  2,  0,  4,  1, 30,  1,  0,  0,  1,  4],\n",
              "       [ 0,  7,  0,  0,  0,  0, 39,  0,  0,  0,  0],\n",
              "       [ 0,  0,  1,  3,  0,  0,  0, 27,  0,  2,  1],\n",
              "       [ 0,  0,  0,  0,  0,  0,  0,  1, 27,  1,  2],\n",
              "       [ 0,  0,  0,  1,  0,  1,  0,  2,  0, 51,  5],\n",
              "       [ 0,  1,  1,  0,  0,  1,  0,  2,  0,  2, 40]])"
            ]
          },
          "metadata": {},
          "execution_count": 67
        }
      ]
    },
    {
      "cell_type": "code",
      "source": [
        "import matplotlib.pyplot as plt\n",
        "import seaborn as sns\n",
        "\n",
        "plt.figure(figsize=(9, 9))\n",
        "sns.heatmap(cm, annot=True, fmt='0.3f', linewidth=0.5, square=True, cbar=False)\n",
        "plt.xlabel('Predicted values')\n",
        "plt.ylabel('Actual values')\n",
        "plt.show()"
      ],
      "metadata": {
        "colab": {
          "base_uri": "https://localhost:8080/",
          "height": 773
        },
        "id": "JWr7SQ-UASYf",
        "outputId": "f8e9e962-68ac-4145-b64d-4f5f2a799303"
      },
      "execution_count": 68,
      "outputs": [
        {
          "output_type": "display_data",
          "data": {
            "text/plain": [
              "<Figure size 900x900 with 1 Axes>"
            ],
            "image/png": "[encoded data removed]"
          },
          "metadata": {}
        }
      ]
    },
    {
      "cell_type": "code",
      "source": [],
      "metadata": {
        "id": "B9Y51sJWAWvL"
      },
      "execution_count": 68,
      "outputs": []
    }
  ]
}