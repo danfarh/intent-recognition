{
  "nbformat": 4,
  "nbformat_minor": 0,
  "metadata": {
    "colab": {
      "provenance": []
    },
    "kernelspec": {
      "name": "python3",
      "display_name": "Python 3"
    },
    "language_info": {
      "name": "python"
    },
    "accelerator": "GPU",
    "gpuClass": "standard",
    "widgets": {
      "application/vnd.jupyter.widget-state+json": {
        "354367644e634ba48620fb135b8d1091": {
          "model_module": "@jupyter-widgets/controls",
          "model_name": "HBoxModel",
          "model_module_version": "1.5.0",
          "state": {
            "_dom_classes": [],
            "_model_module": "@jupyter-widgets/controls",
            "_model_module_version": "1.5.0",
            "_model_name": "HBoxModel",
            "_view_count": null,
            "_view_module": "@jupyter-widgets/controls",
            "_view_module_version": "1.5.0",
            "_view_name": "HBoxView",
            "box_style": "",
            "children": [
              "IPY_MODEL_6fff0d1dd3a140a88b6c47d8a8ce85e9",
              "IPY_MODEL_c9b302d9a4d245a9be997db2c917ea0e",
              "IPY_MODEL_3a81da837a504f099b5fd7dedfdec6e5"
            ],
            "layout": "IPY_MODEL_f81f211b9f804be288db9f009231fbdf"
          }
        },
        "6fff0d1dd3a140a88b6c47d8a8ce85e9": {
          "model_module": "@jupyter-widgets/controls",
          "model_name": "HTMLModel",
          "model_module_version": "1.5.0",
          "state": {
            "_dom_classes": [],
            "_model_module": "@jupyter-widgets/controls",
            "_model_module_version": "1.5.0",
            "_model_name": "HTMLModel",
            "_view_count": null,
            "_view_module": "@jupyter-widgets/controls",
            "_view_module_version": "1.5.0",
            "_view_name": "HTMLView",
            "description": "",
            "description_tooltip": null,
            "layout": "IPY_MODEL_edfc51cf0b804879b8582a9eae48b5a7",
            "placeholder": "​",
            "style": "IPY_MODEL_a65f583a72be422b947e592baf024555",
            "value": "Downloading (…)okenizer_config.json: 100%"
          }
        },
        "c9b302d9a4d245a9be997db2c917ea0e": {
          "model_module": "@jupyter-widgets/controls",
          "model_name": "FloatProgressModel",
          "model_module_version": "1.5.0",
          "state": {
            "_dom_classes": [],
            "_model_module": "@jupyter-widgets/controls",
            "_model_module_version": "1.5.0",
            "_model_name": "FloatProgressModel",
            "_view_count": null,
            "_view_module": "@jupyter-widgets/controls",
            "_view_module_version": "1.5.0",
            "_view_name": "ProgressView",
            "bar_style": "success",
            "description": "",
            "description_tooltip": null,
            "layout": "IPY_MODEL_08040fc671dd45409ac5797d34e6ec39",
            "max": 292,
            "min": 0,
            "orientation": "horizontal",
            "style": "IPY_MODEL_08b00259a4e343e19bf7b7687e7f5452",
            "value": 292
          }
        },
        "3a81da837a504f099b5fd7dedfdec6e5": {
          "model_module": "@jupyter-widgets/controls",
          "model_name": "HTMLModel",
          "model_module_version": "1.5.0",
          "state": {
            "_dom_classes": [],
            "_model_module": "@jupyter-widgets/controls",
            "_model_module_version": "1.5.0",
            "_model_name": "HTMLModel",
            "_view_count": null,
            "_view_module": "@jupyter-widgets/controls",
            "_view_module_version": "1.5.0",
            "_view_name": "HTMLView",
            "description": "",
            "description_tooltip": null,
            "layout": "IPY_MODEL_24bf0406b4604464997198b510acb23f",
            "placeholder": "​",
            "style": "IPY_MODEL_dc3d568e64fd4b39b011360ae5ff2dce",
            "value": " 292/292 [00:00&lt;00:00, 9.42kB/s]"
          }
        },
        "f81f211b9f804be288db9f009231fbdf": {
          "model_module": "@jupyter-widgets/base",
          "model_name": "LayoutModel",
          "model_module_version": "1.2.0",
          "state": {
            "_model_module": "@jupyter-widgets/base",
            "_model_module_version": "1.2.0",
            "_model_name": "LayoutModel",
            "_view_count": null,
            "_view_module": "@jupyter-widgets/base",
            "_view_module_version": "1.2.0",
            "_view_name": "LayoutView",
            "align_content": null,
            "align_items": null,
            "align_self": null,
            "border": null,
            "bottom": null,
            "display": null,
            "flex": null,
            "flex_flow": null,
            "grid_area": null,
            "grid_auto_columns": null,
            "grid_auto_flow": null,
            "grid_auto_rows": null,
            "grid_column": null,
            "grid_gap": null,
            "grid_row": null,
            "grid_template_areas": null,
            "grid_template_columns": null,
            "grid_template_rows": null,
            "height": null,
            "justify_content": null,
            "justify_items": null,
            "left": null,
            "margin": null,
            "max_height": null,
            "max_width": null,
            "min_height": null,
            "min_width": null,
            "object_fit": null,
            "object_position": null,
            "order": null,
            "overflow": null,
            "overflow_x": null,
            "overflow_y": null,
            "padding": null,
            "right": null,
            "top": null,
            "visibility": null,
            "width": null
          }
        },
        "edfc51cf0b804879b8582a9eae48b5a7": {
          "model_module": "@jupyter-widgets/base",
          "model_name": "LayoutModel",
          "model_module_version": "1.2.0",
          "state": {
            "_model_module": "@jupyter-widgets/base",
            "_model_module_version": "1.2.0",
            "_model_name": "LayoutModel",
            "_view_count": null,
            "_view_module": "@jupyter-widgets/base",
            "_view_module_version": "1.2.0",
            "_view_name": "LayoutView",
            "align_content": null,
            "align_items": null,
            "align_self": null,
            "border": null,
            "bottom": null,
            "display": null,
            "flex": null,
            "flex_flow": null,
            "grid_area": null,
            "grid_auto_columns": null,
            "grid_auto_flow": null,
            "grid_auto_rows": null,
            "grid_column": null,
            "grid_gap": null,
            "grid_row": null,
            "grid_template_areas": null,
            "grid_template_columns": null,
            "grid_template_rows": null,
            "height": null,
            "justify_content": null,
            "justify_items": null,
            "left": null,
            "margin": null,
            "max_height": null,
            "max_width": null,
            "min_height": null,
            "min_width": null,
            "object_fit": null,
            "object_position": null,
            "order": null,
            "overflow": null,
            "overflow_x": null,
            "overflow_y": null,
            "padding": null,
            "right": null,
            "top": null,
            "visibility": null,
            "width": null
          }
        },
        "a65f583a72be422b947e592baf024555": {
          "model_module": "@jupyter-widgets/controls",
          "model_name": "DescriptionStyleModel",
          "model_module_version": "1.5.0",
          "state": {
            "_model_module": "@jupyter-widgets/controls",
            "_model_module_version": "1.5.0",
            "_model_name": "DescriptionStyleModel",
            "_view_count": null,
            "_view_module": "@jupyter-widgets/base",
            "_view_module_version": "1.2.0",
            "_view_name": "StyleView",
            "description_width": ""
          }
        },
        "08040fc671dd45409ac5797d34e6ec39": {
          "model_module": "@jupyter-widgets/base",
          "model_name": "LayoutModel",
          "model_module_version": "1.2.0",
          "state": {
            "_model_module": "@jupyter-widgets/base",
            "_model_module_version": "1.2.0",
            "_model_name": "LayoutModel",
            "_view_count": null,
            "_view_module": "@jupyter-widgets/base",
            "_view_module_version": "1.2.0",
            "_view_name": "LayoutView",
            "align_content": null,
            "align_items": null,
            "align_self": null,
            "border": null,
            "bottom": null,
            "display": null,
            "flex": null,
            "flex_flow": null,
            "grid_area": null,
            "grid_auto_columns": null,
            "grid_auto_flow": null,
            "grid_auto_rows": null,
            "grid_column": null,
            "grid_gap": null,
            "grid_row": null,
            "grid_template_areas": null,
            "grid_template_columns": null,
            "grid_template_rows": null,
            "height": null,
            "justify_content": null,
            "justify_items": null,
            "left": null,
            "margin": null,
            "max_height": null,
            "max_width": null,
            "min_height": null,
            "min_width": null,
            "object_fit": null,
            "object_position": null,
            "order": null,
            "overflow": null,
            "overflow_x": null,
            "overflow_y": null,
            "padding": null,
            "right": null,
            "top": null,
            "visibility": null,
            "width": null
          }
        },
        "08b00259a4e343e19bf7b7687e7f5452": {
          "model_module": "@jupyter-widgets/controls",
          "model_name": "ProgressStyleModel",
          "model_module_version": "1.5.0",
          "state": {
            "_model_module": "@jupyter-widgets/controls",
            "_model_module_version": "1.5.0",
            "_model_name": "ProgressStyleModel",
            "_view_count": null,
            "_view_module": "@jupyter-widgets/base",
            "_view_module_version": "1.2.0",
            "_view_name": "StyleView",
            "bar_color": null,
            "description_width": ""
          }
        },
        "24bf0406b4604464997198b510acb23f": {
          "model_module": "@jupyter-widgets/base",
          "model_name": "LayoutModel",
          "model_module_version": "1.2.0",
          "state": {
            "_model_module": "@jupyter-widgets/base",
            "_model_module_version": "1.2.0",
            "_model_name": "LayoutModel",
            "_view_count": null,
            "_view_module": "@jupyter-widgets/base",
            "_view_module_version": "1.2.0",
            "_view_name": "LayoutView",
            "align_content": null,
            "align_items": null,
            "align_self": null,
            "border": null,
            "bottom": null,
            "display": null,
            "flex": null,
            "flex_flow": null,
            "grid_area": null,
            "grid_auto_columns": null,
            "grid_auto_flow": null,
            "grid_auto_rows": null,
            "grid_column": null,
            "grid_gap": null,
            "grid_row": null,
            "grid_template_areas": null,
            "grid_template_columns": null,
            "grid_template_rows": null,
            "height": null,
            "justify_content": null,
            "justify_items": null,
            "left": null,
            "margin": null,
            "max_height": null,
            "max_width": null,
            "min_height": null,
            "min_width": null,
            "object_fit": null,
            "object_position": null,
            "order": null,
            "overflow": null,
            "overflow_x": null,
            "overflow_y": null,
            "padding": null,
            "right": null,
            "top": null,
            "visibility": null,
            "width": null
          }
        },
        "dc3d568e64fd4b39b011360ae5ff2dce": {
          "model_module": "@jupyter-widgets/controls",
          "model_name": "DescriptionStyleModel",
          "model_module_version": "1.5.0",
          "state": {
            "_model_module": "@jupyter-widgets/controls",
            "_model_module_version": "1.5.0",
            "_model_name": "DescriptionStyleModel",
            "_view_count": null,
            "_view_module": "@jupyter-widgets/base",
            "_view_module_version": "1.2.0",
            "_view_name": "StyleView",
            "description_width": ""
          }
        },
        "5763916486a5462f9eb9a326f2f1b9b1": {
          "model_module": "@jupyter-widgets/controls",
          "model_name": "HBoxModel",
          "model_module_version": "1.5.0",
          "state": {
            "_dom_classes": [],
            "_model_module": "@jupyter-widgets/controls",
            "_model_module_version": "1.5.0",
            "_model_name": "HBoxModel",
            "_view_count": null,
            "_view_module": "@jupyter-widgets/controls",
            "_view_module_version": "1.5.0",
            "_view_name": "HBoxView",
            "box_style": "",
            "children": [
              "IPY_MODEL_dbe4cacf992f48fab3e184cb734f0d83",
              "IPY_MODEL_b45d55d134364809a16cf15cffdd0d18",
              "IPY_MODEL_3e0819b2ce684d789dae935b7b2cbbfe"
            ],
            "layout": "IPY_MODEL_a209e1194f4e4414a01b193f86dc97f3"
          }
        },
        "dbe4cacf992f48fab3e184cb734f0d83": {
          "model_module": "@jupyter-widgets/controls",
          "model_name": "HTMLModel",
          "model_module_version": "1.5.0",
          "state": {
            "_dom_classes": [],
            "_model_module": "@jupyter-widgets/controls",
            "_model_module_version": "1.5.0",
            "_model_name": "HTMLModel",
            "_view_count": null,
            "_view_module": "@jupyter-widgets/controls",
            "_view_module_version": "1.5.0",
            "_view_name": "HTMLView",
            "description": "",
            "description_tooltip": null,
            "layout": "IPY_MODEL_9c7394e616834eb3857ca13f2433c78a",
            "placeholder": "​",
            "style": "IPY_MODEL_844bf6814ecf4879884625c2b8510c17",
            "value": "Downloading (…)lve/main/config.json: 100%"
          }
        },
        "b45d55d134364809a16cf15cffdd0d18": {
          "model_module": "@jupyter-widgets/controls",
          "model_name": "FloatProgressModel",
          "model_module_version": "1.5.0",
          "state": {
            "_dom_classes": [],
            "_model_module": "@jupyter-widgets/controls",
            "_model_module_version": "1.5.0",
            "_model_name": "FloatProgressModel",
            "_view_count": null,
            "_view_module": "@jupyter-widgets/controls",
            "_view_module_version": "1.5.0",
            "_view_name": "ProgressView",
            "bar_style": "success",
            "description": "",
            "description_tooltip": null,
            "layout": "IPY_MODEL_ad363a5dd3894f6a944d1c872c7f93a6",
            "max": 565,
            "min": 0,
            "orientation": "horizontal",
            "style": "IPY_MODEL_a23c26de9e974e0596b9a9d8eb037982",
            "value": 565
          }
        },
        "3e0819b2ce684d789dae935b7b2cbbfe": {
          "model_module": "@jupyter-widgets/controls",
          "model_name": "HTMLModel",
          "model_module_version": "1.5.0",
          "state": {
            "_dom_classes": [],
            "_model_module": "@jupyter-widgets/controls",
            "_model_module_version": "1.5.0",
            "_model_name": "HTMLModel",
            "_view_count": null,
            "_view_module": "@jupyter-widgets/controls",
            "_view_module_version": "1.5.0",
            "_view_name": "HTMLView",
            "description": "",
            "description_tooltip": null,
            "layout": "IPY_MODEL_bb4adb77a36642639683b6c0a1063baa",
            "placeholder": "​",
            "style": "IPY_MODEL_affcf0e874f749b48e9a9935a47bef03",
            "value": " 565/565 [00:00&lt;00:00, 19.9kB/s]"
          }
        },
        "a209e1194f4e4414a01b193f86dc97f3": {
          "model_module": "@jupyter-widgets/base",
          "model_name": "LayoutModel",
          "model_module_version": "1.2.0",
          "state": {
            "_model_module": "@jupyter-widgets/base",
            "_model_module_version": "1.2.0",
            "_model_name": "LayoutModel",
            "_view_count": null,
            "_view_module": "@jupyter-widgets/base",
            "_view_module_version": "1.2.0",
            "_view_name": "LayoutView",
            "align_content": null,
            "align_items": null,
            "align_self": null,
            "border": null,
            "bottom": null,
            "display": null,
            "flex": null,
            "flex_flow": null,
            "grid_area": null,
            "grid_auto_columns": null,
            "grid_auto_flow": null,
            "grid_auto_rows": null,
            "grid_column": null,
            "grid_gap": null,
            "grid_row": null,
            "grid_template_areas": null,
            "grid_template_columns": null,
            "grid_template_rows": null,
            "height": null,
            "justify_content": null,
            "justify_items": null,
            "left": null,
            "margin": null,
            "max_height": null,
            "max_width": null,
            "min_height": null,
            "min_width": null,
            "object_fit": null,
            "object_position": null,
            "order": null,
            "overflow": null,
            "overflow_x": null,
            "overflow_y": null,
            "padding": null,
            "right": null,
            "top": null,
            "visibility": null,
            "width": null
          }
        },
        "9c7394e616834eb3857ca13f2433c78a": {
          "model_module": "@jupyter-widgets/base",
          "model_name": "LayoutModel",
          "model_module_version": "1.2.0",
          "state": {
            "_model_module": "@jupyter-widgets/base",
            "_model_module_version": "1.2.0",
            "_model_name": "LayoutModel",
            "_view_count": null,
            "_view_module": "@jupyter-widgets/base",
            "_view_module_version": "1.2.0",
            "_view_name": "LayoutView",
            "align_content": null,
            "align_items": null,
            "align_self": null,
            "border": null,
            "bottom": null,
            "display": null,
            "flex": null,
            "flex_flow": null,
            "grid_area": null,
            "grid_auto_columns": null,
            "grid_auto_flow": null,
            "grid_auto_rows": null,
            "grid_column": null,
            "grid_gap": null,
            "grid_row": null,
            "grid_template_areas": null,
            "grid_template_columns": null,
            "grid_template_rows": null,
            "height": null,
            "justify_content": null,
            "justify_items": null,
            "left": null,
            "margin": null,
            "max_height": null,
            "max_width": null,
            "min_height": null,
            "min_width": null,
            "object_fit": null,
            "object_position": null,
            "order": null,
            "overflow": null,
            "overflow_x": null,
            "overflow_y": null,
            "padding": null,
            "right": null,
            "top": null,
            "visibility": null,
            "width": null
          }
        },
        "844bf6814ecf4879884625c2b8510c17": {
          "model_module": "@jupyter-widgets/controls",
          "model_name": "DescriptionStyleModel",
          "model_module_version": "1.5.0",
          "state": {
            "_model_module": "@jupyter-widgets/controls",
            "_model_module_version": "1.5.0",
            "_model_name": "DescriptionStyleModel",
            "_view_count": null,
            "_view_module": "@jupyter-widgets/base",
            "_view_module_version": "1.2.0",
            "_view_name": "StyleView",
            "description_width": ""
          }
        },
        "ad363a5dd3894f6a944d1c872c7f93a6": {
          "model_module": "@jupyter-widgets/base",
          "model_name": "LayoutModel",
          "model_module_version": "1.2.0",
          "state": {
            "_model_module": "@jupyter-widgets/base",
            "_model_module_version": "1.2.0",
            "_model_name": "LayoutModel",
            "_view_count": null,
            "_view_module": "@jupyter-widgets/base",
            "_view_module_version": "1.2.0",
            "_view_name": "LayoutView",
            "align_content": null,
            "align_items": null,
            "align_self": null,
            "border": null,
            "bottom": null,
            "display": null,
            "flex": null,
            "flex_flow": null,
            "grid_area": null,
            "grid_auto_columns": null,
            "grid_auto_flow": null,
            "grid_auto_rows": null,
            "grid_column": null,
            "grid_gap": null,
            "grid_row": null,
            "grid_template_areas": null,
            "grid_template_columns": null,
            "grid_template_rows": null,
            "height": null,
            "justify_content": null,
            "justify_items": null,
            "left": null,
            "margin": null,
            "max_height": null,
            "max_width": null,
            "min_height": null,
            "min_width": null,
            "object_fit": null,
            "object_position": null,
            "order": null,
            "overflow": null,
            "overflow_x": null,
            "overflow_y": null,
            "padding": null,
            "right": null,
            "top": null,
            "visibility": null,
            "width": null
          }
        },
        "a23c26de9e974e0596b9a9d8eb037982": {
          "model_module": "@jupyter-widgets/controls",
          "model_name": "ProgressStyleModel",
          "model_module_version": "1.5.0",
          "state": {
            "_model_module": "@jupyter-widgets/controls",
            "_model_module_version": "1.5.0",
            "_model_name": "ProgressStyleModel",
            "_view_count": null,
            "_view_module": "@jupyter-widgets/base",
            "_view_module_version": "1.2.0",
            "_view_name": "StyleView",
            "bar_color": null,
            "description_width": ""
          }
        },
        "bb4adb77a36642639683b6c0a1063baa": {
          "model_module": "@jupyter-widgets/base",
          "model_name": "LayoutModel",
          "model_module_version": "1.2.0",
          "state": {
            "_model_module": "@jupyter-widgets/base",
            "_model_module_version": "1.2.0",
            "_model_name": "LayoutModel",
            "_view_count": null,
            "_view_module": "@jupyter-widgets/base",
            "_view_module_version": "1.2.0",
            "_view_name": "LayoutView",
            "align_content": null,
            "align_items": null,
            "align_self": null,
            "border": null,
            "bottom": null,
            "display": null,
            "flex": null,
            "flex_flow": null,
            "grid_area": null,
            "grid_auto_columns": null,
            "grid_auto_flow": null,
            "grid_auto_rows": null,
            "grid_column": null,
            "grid_gap": null,
            "grid_row": null,
            "grid_template_areas": null,
            "grid_template_columns": null,
            "grid_template_rows": null,
            "height": null,
            "justify_content": null,
            "justify_items": null,
            "left": null,
            "margin": null,
            "max_height": null,
            "max_width": null,
            "min_height": null,
            "min_width": null,
            "object_fit": null,
            "object_position": null,
            "order": null,
            "overflow": null,
            "overflow_x": null,
            "overflow_y": null,
            "padding": null,
            "right": null,
            "top": null,
            "visibility": null,
            "width": null
          }
        },
        "affcf0e874f749b48e9a9935a47bef03": {
          "model_module": "@jupyter-widgets/controls",
          "model_name": "DescriptionStyleModel",
          "model_module_version": "1.5.0",
          "state": {
            "_model_module": "@jupyter-widgets/controls",
            "_model_module_version": "1.5.0",
            "_model_name": "DescriptionStyleModel",
            "_view_count": null,
            "_view_module": "@jupyter-widgets/base",
            "_view_module_version": "1.2.0",
            "_view_name": "StyleView",
            "description_width": ""
          }
        },
        "f43e2bc7f433400492af1da817b8e582": {
          "model_module": "@jupyter-widgets/controls",
          "model_name": "HBoxModel",
          "model_module_version": "1.5.0",
          "state": {
            "_dom_classes": [],
            "_model_module": "@jupyter-widgets/controls",
            "_model_module_version": "1.5.0",
            "_model_name": "HBoxModel",
            "_view_count": null,
            "_view_module": "@jupyter-widgets/controls",
            "_view_module_version": "1.5.0",
            "_view_name": "HBoxView",
            "box_style": "",
            "children": [
              "IPY_MODEL_225de7aea3874e31938b6d2db42bde29",
              "IPY_MODEL_6e6bb93b7f9b4a089c85b7150b84d5ab",
              "IPY_MODEL_0180e0402a394b83b08250d75e4980ae"
            ],
            "layout": "IPY_MODEL_72020fa66f5741ee85b1ea4d1197abdc"
          }
        },
        "225de7aea3874e31938b6d2db42bde29": {
          "model_module": "@jupyter-widgets/controls",
          "model_name": "HTMLModel",
          "model_module_version": "1.5.0",
          "state": {
            "_dom_classes": [],
            "_model_module": "@jupyter-widgets/controls",
            "_model_module_version": "1.5.0",
            "_model_name": "HTMLModel",
            "_view_count": null,
            "_view_module": "@jupyter-widgets/controls",
            "_view_module_version": "1.5.0",
            "_view_name": "HTMLView",
            "description": "",
            "description_tooltip": null,
            "layout": "IPY_MODEL_8ac5303ad48f433ea4cd74065053ee6d",
            "placeholder": "​",
            "style": "IPY_MODEL_0273968c55d2415696b7b82b71e354ef",
            "value": "Downloading (…)solve/main/vocab.txt: 100%"
          }
        },
        "6e6bb93b7f9b4a089c85b7150b84d5ab": {
          "model_module": "@jupyter-widgets/controls",
          "model_name": "FloatProgressModel",
          "model_module_version": "1.5.0",
          "state": {
            "_dom_classes": [],
            "_model_module": "@jupyter-widgets/controls",
            "_model_module_version": "1.5.0",
            "_model_name": "FloatProgressModel",
            "_view_count": null,
            "_view_module": "@jupyter-widgets/controls",
            "_view_module_version": "1.5.0",
            "_view_name": "ProgressView",
            "bar_style": "success",
            "description": "",
            "description_tooltip": null,
            "layout": "IPY_MODEL_c9581bd64c5441a1a581512ba8c538d0",
            "max": 426422,
            "min": 0,
            "orientation": "horizontal",
            "style": "IPY_MODEL_b344b5e33f64461a91909a0611c3bbc7",
            "value": 426422
          }
        },
        "0180e0402a394b83b08250d75e4980ae": {
          "model_module": "@jupyter-widgets/controls",
          "model_name": "HTMLModel",
          "model_module_version": "1.5.0",
          "state": {
            "_dom_classes": [],
            "_model_module": "@jupyter-widgets/controls",
            "_model_module_version": "1.5.0",
            "_model_name": "HTMLModel",
            "_view_count": null,
            "_view_module": "@jupyter-widgets/controls",
            "_view_module_version": "1.5.0",
            "_view_name": "HTMLView",
            "description": "",
            "description_tooltip": null,
            "layout": "IPY_MODEL_7d0f83a7fa364116af724025c67e660b",
            "placeholder": "​",
            "style": "IPY_MODEL_3e7f3bf12e674dbdaca5147319cd8cc7",
            "value": " 426k/426k [00:00&lt;00:00, 14.6MB/s]"
          }
        },
        "72020fa66f5741ee85b1ea4d1197abdc": {
          "model_module": "@jupyter-widgets/base",
          "model_name": "LayoutModel",
          "model_module_version": "1.2.0",
          "state": {
            "_model_module": "@jupyter-widgets/base",
            "_model_module_version": "1.2.0",
            "_model_name": "LayoutModel",
            "_view_count": null,
            "_view_module": "@jupyter-widgets/base",
            "_view_module_version": "1.2.0",
            "_view_name": "LayoutView",
            "align_content": null,
            "align_items": null,
            "align_self": null,
            "border": null,
            "bottom": null,
            "display": null,
            "flex": null,
            "flex_flow": null,
            "grid_area": null,
            "grid_auto_columns": null,
            "grid_auto_flow": null,
            "grid_auto_rows": null,
            "grid_column": null,
            "grid_gap": null,
            "grid_row": null,
            "grid_template_areas": null,
            "grid_template_columns": null,
            "grid_template_rows": null,
            "height": null,
            "justify_content": null,
            "justify_items": null,
            "left": null,
            "margin": null,
            "max_height": null,
            "max_width": null,
            "min_height": null,
            "min_width": null,
            "object_fit": null,
            "object_position": null,
            "order": null,
            "overflow": null,
            "overflow_x": null,
            "overflow_y": null,
            "padding": null,
            "right": null,
            "top": null,
            "visibility": null,
            "width": null
          }
        },
        "8ac5303ad48f433ea4cd74065053ee6d": {
          "model_module": "@jupyter-widgets/base",
          "model_name": "LayoutModel",
          "model_module_version": "1.2.0",
          "state": {
            "_model_module": "@jupyter-widgets/base",
            "_model_module_version": "1.2.0",
            "_model_name": "LayoutModel",
            "_view_count": null,
            "_view_module": "@jupyter-widgets/base",
            "_view_module_version": "1.2.0",
            "_view_name": "LayoutView",
            "align_content": null,
            "align_items": null,
            "align_self": null,
            "border": null,
            "bottom": null,
            "display": null,
            "flex": null,
            "flex_flow": null,
            "grid_area": null,
            "grid_auto_columns": null,
            "grid_auto_flow": null,
            "grid_auto_rows": null,
            "grid_column": null,
            "grid_gap": null,
            "grid_row": null,
            "grid_template_areas": null,
            "grid_template_columns": null,
            "grid_template_rows": null,
            "height": null,
            "justify_content": null,
            "justify_items": null,
            "left": null,
            "margin": null,
            "max_height": null,
            "max_width": null,
            "min_height": null,
            "min_width": null,
            "object_fit": null,
            "object_position": null,
            "order": null,
            "overflow": null,
            "overflow_x": null,
            "overflow_y": null,
            "padding": null,
            "right": null,
            "top": null,
            "visibility": null,
            "width": null
          }
        },
        "0273968c55d2415696b7b82b71e354ef": {
          "model_module": "@jupyter-widgets/controls",
          "model_name": "DescriptionStyleModel",
          "model_module_version": "1.5.0",
          "state": {
            "_model_module": "@jupyter-widgets/controls",
            "_model_module_version": "1.5.0",
            "_model_name": "DescriptionStyleModel",
            "_view_count": null,
            "_view_module": "@jupyter-widgets/base",
            "_view_module_version": "1.2.0",
            "_view_name": "StyleView",
            "description_width": ""
          }
        },
        "c9581bd64c5441a1a581512ba8c538d0": {
          "model_module": "@jupyter-widgets/base",
          "model_name": "LayoutModel",
          "model_module_version": "1.2.0",
          "state": {
            "_model_module": "@jupyter-widgets/base",
            "_model_module_version": "1.2.0",
            "_model_name": "LayoutModel",
            "_view_count": null,
            "_view_module": "@jupyter-widgets/base",
            "_view_module_version": "1.2.0",
            "_view_name": "LayoutView",
            "align_content": null,
            "align_items": null,
            "align_self": null,
            "border": null,
            "bottom": null,
            "display": null,
            "flex": null,
            "flex_flow": null,
            "grid_area": null,
            "grid_auto_columns": null,
            "grid_auto_flow": null,
            "grid_auto_rows": null,
            "grid_column": null,
            "grid_gap": null,
            "grid_row": null,
            "grid_template_areas": null,
            "grid_template_columns": null,
            "grid_template_rows": null,
            "height": null,
            "justify_content": null,
            "justify_items": null,
            "left": null,
            "margin": null,
            "max_height": null,
            "max_width": null,
            "min_height": null,
            "min_width": null,
            "object_fit": null,
            "object_position": null,
            "order": null,
            "overflow": null,
            "overflow_x": null,
            "overflow_y": null,
            "padding": null,
            "right": null,
            "top": null,
            "visibility": null,
            "width": null
          }
        },
        "b344b5e33f64461a91909a0611c3bbc7": {
          "model_module": "@jupyter-widgets/controls",
          "model_name": "ProgressStyleModel",
          "model_module_version": "1.5.0",
          "state": {
            "_model_module": "@jupyter-widgets/controls",
            "_model_module_version": "1.5.0",
            "_model_name": "ProgressStyleModel",
            "_view_count": null,
            "_view_module": "@jupyter-widgets/base",
            "_view_module_version": "1.2.0",
            "_view_name": "StyleView",
            "bar_color": null,
            "description_width": ""
          }
        },
        "7d0f83a7fa364116af724025c67e660b": {
          "model_module": "@jupyter-widgets/base",
          "model_name": "LayoutModel",
          "model_module_version": "1.2.0",
          "state": {
            "_model_module": "@jupyter-widgets/base",
            "_model_module_version": "1.2.0",
            "_model_name": "LayoutModel",
            "_view_count": null,
            "_view_module": "@jupyter-widgets/base",
            "_view_module_version": "1.2.0",
            "_view_name": "LayoutView",
            "align_content": null,
            "align_items": null,
            "align_self": null,
            "border": null,
            "bottom": null,
            "display": null,
            "flex": null,
            "flex_flow": null,
            "grid_area": null,
            "grid_auto_columns": null,
            "grid_auto_flow": null,
            "grid_auto_rows": null,
            "grid_column": null,
            "grid_gap": null,
            "grid_row": null,
            "grid_template_areas": null,
            "grid_template_columns": null,
            "grid_template_rows": null,
            "height": null,
            "justify_content": null,
            "justify_items": null,
            "left": null,
            "margin": null,
            "max_height": null,
            "max_width": null,
            "min_height": null,
            "min_width": null,
            "object_fit": null,
            "object_position": null,
            "order": null,
            "overflow": null,
            "overflow_x": null,
            "overflow_y": null,
            "padding": null,
            "right": null,
            "top": null,
            "visibility": null,
            "width": null
          }
        },
        "3e7f3bf12e674dbdaca5147319cd8cc7": {
          "model_module": "@jupyter-widgets/controls",
          "model_name": "DescriptionStyleModel",
          "model_module_version": "1.5.0",
          "state": {
            "_model_module": "@jupyter-widgets/controls",
            "_model_module_version": "1.5.0",
            "_model_name": "DescriptionStyleModel",
            "_view_count": null,
            "_view_module": "@jupyter-widgets/base",
            "_view_module_version": "1.2.0",
            "_view_name": "StyleView",
            "description_width": ""
          }
        },
        "d721240e933e4141828600f168e4fbf0": {
          "model_module": "@jupyter-widgets/controls",
          "model_name": "HBoxModel",
          "model_module_version": "1.5.0",
          "state": {
            "_dom_classes": [],
            "_model_module": "@jupyter-widgets/controls",
            "_model_module_version": "1.5.0",
            "_model_name": "HBoxModel",
            "_view_count": null,
            "_view_module": "@jupyter-widgets/controls",
            "_view_module_version": "1.5.0",
            "_view_name": "HBoxView",
            "box_style": "",
            "children": [
              "IPY_MODEL_a64d67129a02473d9987aedc84dcb586",
              "IPY_MODEL_890d7de424704b91aea89b36edc5b573",
              "IPY_MODEL_3006f22bb58445018afe15d1983db0e3"
            ],
            "layout": "IPY_MODEL_805bad6ec7c94ade849acc5868d06933"
          }
        },
        "a64d67129a02473d9987aedc84dcb586": {
          "model_module": "@jupyter-widgets/controls",
          "model_name": "HTMLModel",
          "model_module_version": "1.5.0",
          "state": {
            "_dom_classes": [],
            "_model_module": "@jupyter-widgets/controls",
            "_model_module_version": "1.5.0",
            "_model_name": "HTMLModel",
            "_view_count": null,
            "_view_module": "@jupyter-widgets/controls",
            "_view_module_version": "1.5.0",
            "_view_name": "HTMLView",
            "description": "",
            "description_tooltip": null,
            "layout": "IPY_MODEL_21fa7fb9619448059abbcd909e0d4f1e",
            "placeholder": "​",
            "style": "IPY_MODEL_3a20e72694cb47ba9fb64b8ccbf8d219",
            "value": "Downloading (…)/main/tokenizer.json: 100%"
          }
        },
        "890d7de424704b91aea89b36edc5b573": {
          "model_module": "@jupyter-widgets/controls",
          "model_name": "FloatProgressModel",
          "model_module_version": "1.5.0",
          "state": {
            "_dom_classes": [],
            "_model_module": "@jupyter-widgets/controls",
            "_model_module_version": "1.5.0",
            "_model_name": "FloatProgressModel",
            "_view_count": null,
            "_view_module": "@jupyter-widgets/controls",
            "_view_module_version": "1.5.0",
            "_view_name": "ProgressView",
            "bar_style": "success",
            "description": "",
            "description_tooltip": null,
            "layout": "IPY_MODEL_4d44c92e8d534fc395d0f82828c20676",
            "max": 1108824,
            "min": 0,
            "orientation": "horizontal",
            "style": "IPY_MODEL_5157ea24ae424dc18039181fdeafcd23",
            "value": 1108824
          }
        },
        "3006f22bb58445018afe15d1983db0e3": {
          "model_module": "@jupyter-widgets/controls",
          "model_name": "HTMLModel",
          "model_module_version": "1.5.0",
          "state": {
            "_dom_classes": [],
            "_model_module": "@jupyter-widgets/controls",
            "_model_module_version": "1.5.0",
            "_model_name": "HTMLModel",
            "_view_count": null,
            "_view_module": "@jupyter-widgets/controls",
            "_view_module_version": "1.5.0",
            "_view_name": "HTMLView",
            "description": "",
            "description_tooltip": null,
            "layout": "IPY_MODEL_bb5513302cd845fdb628a4bb22a2e229",
            "placeholder": "​",
            "style": "IPY_MODEL_def57ddde021440abb1951ba95668370",
            "value": " 1.11M/1.11M [00:00&lt;00:00, 13.4MB/s]"
          }
        },
        "805bad6ec7c94ade849acc5868d06933": {
          "model_module": "@jupyter-widgets/base",
          "model_name": "LayoutModel",
          "model_module_version": "1.2.0",
          "state": {
            "_model_module": "@jupyter-widgets/base",
            "_model_module_version": "1.2.0",
            "_model_name": "LayoutModel",
            "_view_count": null,
            "_view_module": "@jupyter-widgets/base",
            "_view_module_version": "1.2.0",
            "_view_name": "LayoutView",
            "align_content": null,
            "align_items": null,
            "align_self": null,
            "border": null,
            "bottom": null,
            "display": null,
            "flex": null,
            "flex_flow": null,
            "grid_area": null,
            "grid_auto_columns": null,
            "grid_auto_flow": null,
            "grid_auto_rows": null,
            "grid_column": null,
            "grid_gap": null,
            "grid_row": null,
            "grid_template_areas": null,
            "grid_template_columns": null,
            "grid_template_rows": null,
            "height": null,
            "justify_content": null,
            "justify_items": null,
            "left": null,
            "margin": null,
            "max_height": null,
            "max_width": null,
            "min_height": null,
            "min_width": null,
            "object_fit": null,
            "object_position": null,
            "order": null,
            "overflow": null,
            "overflow_x": null,
            "overflow_y": null,
            "padding": null,
            "right": null,
            "top": null,
            "visibility": null,
            "width": null
          }
        },
        "21fa7fb9619448059abbcd909e0d4f1e": {
          "model_module": "@jupyter-widgets/base",
          "model_name": "LayoutModel",
          "model_module_version": "1.2.0",
          "state": {
            "_model_module": "@jupyter-widgets/base",
            "_model_module_version": "1.2.0",
            "_model_name": "LayoutModel",
            "_view_count": null,
            "_view_module": "@jupyter-widgets/base",
            "_view_module_version": "1.2.0",
            "_view_name": "LayoutView",
            "align_content": null,
            "align_items": null,
            "align_self": null,
            "border": null,
            "bottom": null,
            "display": null,
            "flex": null,
            "flex_flow": null,
            "grid_area": null,
            "grid_auto_columns": null,
            "grid_auto_flow": null,
            "grid_auto_rows": null,
            "grid_column": null,
            "grid_gap": null,
            "grid_row": null,
            "grid_template_areas": null,
            "grid_template_columns": null,
            "grid_template_rows": null,
            "height": null,
            "justify_content": null,
            "justify_items": null,
            "left": null,
            "margin": null,
            "max_height": null,
            "max_width": null,
            "min_height": null,
            "min_width": null,
            "object_fit": null,
            "object_position": null,
            "order": null,
            "overflow": null,
            "overflow_x": null,
            "overflow_y": null,
            "padding": null,
            "right": null,
            "top": null,
            "visibility": null,
            "width": null
          }
        },
        "3a20e72694cb47ba9fb64b8ccbf8d219": {
          "model_module": "@jupyter-widgets/controls",
          "model_name": "DescriptionStyleModel",
          "model_module_version": "1.5.0",
          "state": {
            "_model_module": "@jupyter-widgets/controls",
            "_model_module_version": "1.5.0",
            "_model_name": "DescriptionStyleModel",
            "_view_count": null,
            "_view_module": "@jupyter-widgets/base",
            "_view_module_version": "1.2.0",
            "_view_name": "StyleView",
            "description_width": ""
          }
        },
        "4d44c92e8d534fc395d0f82828c20676": {
          "model_module": "@jupyter-widgets/base",
          "model_name": "LayoutModel",
          "model_module_version": "1.2.0",
          "state": {
            "_model_module": "@jupyter-widgets/base",
            "_model_module_version": "1.2.0",
            "_model_name": "LayoutModel",
            "_view_count": null,
            "_view_module": "@jupyter-widgets/base",
            "_view_module_version": "1.2.0",
            "_view_name": "LayoutView",
            "align_content": null,
            "align_items": null,
            "align_self": null,
            "border": null,
            "bottom": null,
            "display": null,
            "flex": null,
            "flex_flow": null,
            "grid_area": null,
            "grid_auto_columns": null,
            "grid_auto_flow": null,
            "grid_auto_rows": null,
            "grid_column": null,
            "grid_gap": null,
            "grid_row": null,
            "grid_template_areas": null,
            "grid_template_columns": null,
            "grid_template_rows": null,
            "height": null,
            "justify_content": null,
            "justify_items": null,
            "left": null,
            "margin": null,
            "max_height": null,
            "max_width": null,
            "min_height": null,
            "min_width": null,
            "object_fit": null,
            "object_position": null,
            "order": null,
            "overflow": null,
            "overflow_x": null,
            "overflow_y": null,
            "padding": null,
            "right": null,
            "top": null,
            "visibility": null,
            "width": null
          }
        },
        "5157ea24ae424dc18039181fdeafcd23": {
          "model_module": "@jupyter-widgets/controls",
          "model_name": "ProgressStyleModel",
          "model_module_version": "1.5.0",
          "state": {
            "_model_module": "@jupyter-widgets/controls",
            "_model_module_version": "1.5.0",
            "_model_name": "ProgressStyleModel",
            "_view_count": null,
            "_view_module": "@jupyter-widgets/base",
            "_view_module_version": "1.2.0",
            "_view_name": "StyleView",
            "bar_color": null,
            "description_width": ""
          }
        },
        "bb5513302cd845fdb628a4bb22a2e229": {
          "model_module": "@jupyter-widgets/base",
          "model_name": "LayoutModel",
          "model_module_version": "1.2.0",
          "state": {
            "_model_module": "@jupyter-widgets/base",
            "_model_module_version": "1.2.0",
            "_model_name": "LayoutModel",
            "_view_count": null,
            "_view_module": "@jupyter-widgets/base",
            "_view_module_version": "1.2.0",
            "_view_name": "LayoutView",
            "align_content": null,
            "align_items": null,
            "align_self": null,
            "border": null,
            "bottom": null,
            "display": null,
            "flex": null,
            "flex_flow": null,
            "grid_area": null,
            "grid_auto_columns": null,
            "grid_auto_flow": null,
            "grid_auto_rows": null,
            "grid_column": null,
            "grid_gap": null,
            "grid_row": null,
            "grid_template_areas": null,
            "grid_template_columns": null,
            "grid_template_rows": null,
            "height": null,
            "justify_content": null,
            "justify_items": null,
            "left": null,
            "margin": null,
            "max_height": null,
            "max_width": null,
            "min_height": null,
            "min_width": null,
            "object_fit": null,
            "object_position": null,
            "order": null,
            "overflow": null,
            "overflow_x": null,
            "overflow_y": null,
            "padding": null,
            "right": null,
            "top": null,
            "visibility": null,
            "width": null
          }
        },
        "def57ddde021440abb1951ba95668370": {
          "model_module": "@jupyter-widgets/controls",
          "model_name": "DescriptionStyleModel",
          "model_module_version": "1.5.0",
          "state": {
            "_model_module": "@jupyter-widgets/controls",
            "_model_module_version": "1.5.0",
            "_model_name": "DescriptionStyleModel",
            "_view_count": null,
            "_view_module": "@jupyter-widgets/base",
            "_view_module_version": "1.2.0",
            "_view_name": "StyleView",
            "description_width": ""
          }
        },
        "b48afe1021264600ab6a58a9b91662c8": {
          "model_module": "@jupyter-widgets/controls",
          "model_name": "HBoxModel",
          "model_module_version": "1.5.0",
          "state": {
            "_dom_classes": [],
            "_model_module": "@jupyter-widgets/controls",
            "_model_module_version": "1.5.0",
            "_model_name": "HBoxModel",
            "_view_count": null,
            "_view_module": "@jupyter-widgets/controls",
            "_view_module_version": "1.5.0",
            "_view_name": "HBoxView",
            "box_style": "",
            "children": [
              "IPY_MODEL_b42ca77340ce441a89f6b402c179e0ab",
              "IPY_MODEL_2550b45277d448898793fc25e16a6747",
              "IPY_MODEL_e5eb4b6d698b4c0abb378454ce48b37c"
            ],
            "layout": "IPY_MODEL_71e727898fde4522b59330f98e90cb5b"
          }
        },
        "b42ca77340ce441a89f6b402c179e0ab": {
          "model_module": "@jupyter-widgets/controls",
          "model_name": "HTMLModel",
          "model_module_version": "1.5.0",
          "state": {
            "_dom_classes": [],
            "_model_module": "@jupyter-widgets/controls",
            "_model_module_version": "1.5.0",
            "_model_name": "HTMLModel",
            "_view_count": null,
            "_view_module": "@jupyter-widgets/controls",
            "_view_module_version": "1.5.0",
            "_view_name": "HTMLView",
            "description": "",
            "description_tooltip": null,
            "layout": "IPY_MODEL_411dafbd928b49609a3a8aa20fe0fcc0",
            "placeholder": "​",
            "style": "IPY_MODEL_4c4e43fb09fc4e5eac940e44548048f3",
            "value": "Downloading (…)cial_tokens_map.json: 100%"
          }
        },
        "2550b45277d448898793fc25e16a6747": {
          "model_module": "@jupyter-widgets/controls",
          "model_name": "FloatProgressModel",
          "model_module_version": "1.5.0",
          "state": {
            "_dom_classes": [],
            "_model_module": "@jupyter-widgets/controls",
            "_model_module_version": "1.5.0",
            "_model_name": "FloatProgressModel",
            "_view_count": null,
            "_view_module": "@jupyter-widgets/controls",
            "_view_module_version": "1.5.0",
            "_view_name": "ProgressView",
            "bar_style": "success",
            "description": "",
            "description_tooltip": null,
            "layout": "IPY_MODEL_e3ba76b6204745328deb8d191af313c0",
            "max": 134,
            "min": 0,
            "orientation": "horizontal",
            "style": "IPY_MODEL_cb63477a4a6c4598811fc75fe0698080",
            "value": 134
          }
        },
        "e5eb4b6d698b4c0abb378454ce48b37c": {
          "model_module": "@jupyter-widgets/controls",
          "model_name": "HTMLModel",
          "model_module_version": "1.5.0",
          "state": {
            "_dom_classes": [],
            "_model_module": "@jupyter-widgets/controls",
            "_model_module_version": "1.5.0",
            "_model_name": "HTMLModel",
            "_view_count": null,
            "_view_module": "@jupyter-widgets/controls",
            "_view_module_version": "1.5.0",
            "_view_name": "HTMLView",
            "description": "",
            "description_tooltip": null,
            "layout": "IPY_MODEL_f0c54cdc3c6e417fb37587a086573d3a",
            "placeholder": "​",
            "style": "IPY_MODEL_ed2cdb50b57e44ebbbb5128518f381b6",
            "value": " 134/134 [00:00&lt;00:00, 5.66kB/s]"
          }
        },
        "71e727898fde4522b59330f98e90cb5b": {
          "model_module": "@jupyter-widgets/base",
          "model_name": "LayoutModel",
          "model_module_version": "1.2.0",
          "state": {
            "_model_module": "@jupyter-widgets/base",
            "_model_module_version": "1.2.0",
            "_model_name": "LayoutModel",
            "_view_count": null,
            "_view_module": "@jupyter-widgets/base",
            "_view_module_version": "1.2.0",
            "_view_name": "LayoutView",
            "align_content": null,
            "align_items": null,
            "align_self": null,
            "border": null,
            "bottom": null,
            "display": null,
            "flex": null,
            "flex_flow": null,
            "grid_area": null,
            "grid_auto_columns": null,
            "grid_auto_flow": null,
            "grid_auto_rows": null,
            "grid_column": null,
            "grid_gap": null,
            "grid_row": null,
            "grid_template_areas": null,
            "grid_template_columns": null,
            "grid_template_rows": null,
            "height": null,
            "justify_content": null,
            "justify_items": null,
            "left": null,
            "margin": null,
            "max_height": null,
            "max_width": null,
            "min_height": null,
            "min_width": null,
            "object_fit": null,
            "object_position": null,
            "order": null,
            "overflow": null,
            "overflow_x": null,
            "overflow_y": null,
            "padding": null,
            "right": null,
            "top": null,
            "visibility": null,
            "width": null
          }
        },
        "411dafbd928b49609a3a8aa20fe0fcc0": {
          "model_module": "@jupyter-widgets/base",
          "model_name": "LayoutModel",
          "model_module_version": "1.2.0",
          "state": {
            "_model_module": "@jupyter-widgets/base",
            "_model_module_version": "1.2.0",
            "_model_name": "LayoutModel",
            "_view_count": null,
            "_view_module": "@jupyter-widgets/base",
            "_view_module_version": "1.2.0",
            "_view_name": "LayoutView",
            "align_content": null,
            "align_items": null,
            "align_self": null,
            "border": null,
            "bottom": null,
            "display": null,
            "flex": null,
            "flex_flow": null,
            "grid_area": null,
            "grid_auto_columns": null,
            "grid_auto_flow": null,
            "grid_auto_rows": null,
            "grid_column": null,
            "grid_gap": null,
            "grid_row": null,
            "grid_template_areas": null,
            "grid_template_columns": null,
            "grid_template_rows": null,
            "height": null,
            "justify_content": null,
            "justify_items": null,
            "left": null,
            "margin": null,
            "max_height": null,
            "max_width": null,
            "min_height": null,
            "min_width": null,
            "object_fit": null,
            "object_position": null,
            "order": null,
            "overflow": null,
            "overflow_x": null,
            "overflow_y": null,
            "padding": null,
            "right": null,
            "top": null,
            "visibility": null,
            "width": null
          }
        },
        "4c4e43fb09fc4e5eac940e44548048f3": {
          "model_module": "@jupyter-widgets/controls",
          "model_name": "DescriptionStyleModel",
          "model_module_version": "1.5.0",
          "state": {
            "_model_module": "@jupyter-widgets/controls",
            "_model_module_version": "1.5.0",
            "_model_name": "DescriptionStyleModel",
            "_view_count": null,
            "_view_module": "@jupyter-widgets/base",
            "_view_module_version": "1.2.0",
            "_view_name": "StyleView",
            "description_width": ""
          }
        },
        "e3ba76b6204745328deb8d191af313c0": {
          "model_module": "@jupyter-widgets/base",
          "model_name": "LayoutModel",
          "model_module_version": "1.2.0",
          "state": {
            "_model_module": "@jupyter-widgets/base",
            "_model_module_version": "1.2.0",
            "_model_name": "LayoutModel",
            "_view_count": null,
            "_view_module": "@jupyter-widgets/base",
            "_view_module_version": "1.2.0",
            "_view_name": "LayoutView",
            "align_content": null,
            "align_items": null,
            "align_self": null,
            "border": null,
            "bottom": null,
            "display": null,
            "flex": null,
            "flex_flow": null,
            "grid_area": null,
            "grid_auto_columns": null,
            "grid_auto_flow": null,
            "grid_auto_rows": null,
            "grid_column": null,
            "grid_gap": null,
            "grid_row": null,
            "grid_template_areas": null,
            "grid_template_columns": null,
            "grid_template_rows": null,
            "height": null,
            "justify_content": null,
            "justify_items": null,
            "left": null,
            "margin": null,
            "max_height": null,
            "max_width": null,
            "min_height": null,
            "min_width": null,
            "object_fit": null,
            "object_position": null,
            "order": null,
            "overflow": null,
            "overflow_x": null,
            "overflow_y": null,
            "padding": null,
            "right": null,
            "top": null,
            "visibility": null,
            "width": null
          }
        },
        "cb63477a4a6c4598811fc75fe0698080": {
          "model_module": "@jupyter-widgets/controls",
          "model_name": "ProgressStyleModel",
          "model_module_version": "1.5.0",
          "state": {
            "_model_module": "@jupyter-widgets/controls",
            "_model_module_version": "1.5.0",
            "_model_name": "ProgressStyleModel",
            "_view_count": null,
            "_view_module": "@jupyter-widgets/base",
            "_view_module_version": "1.2.0",
            "_view_name": "StyleView",
            "bar_color": null,
            "description_width": ""
          }
        },
        "f0c54cdc3c6e417fb37587a086573d3a": {
          "model_module": "@jupyter-widgets/base",
          "model_name": "LayoutModel",
          "model_module_version": "1.2.0",
          "state": {
            "_model_module": "@jupyter-widgets/base",
            "_model_module_version": "1.2.0",
            "_model_name": "LayoutModel",
            "_view_count": null,
            "_view_module": "@jupyter-widgets/base",
            "_view_module_version": "1.2.0",
            "_view_name": "LayoutView",
            "align_content": null,
            "align_items": null,
            "align_self": null,
            "border": null,
            "bottom": null,
            "display": null,
            "flex": null,
            "flex_flow": null,
            "grid_area": null,
            "grid_auto_columns": null,
            "grid_auto_flow": null,
            "grid_auto_rows": null,
            "grid_column": null,
            "grid_gap": null,
            "grid_row": null,
            "grid_template_areas": null,
            "grid_template_columns": null,
            "grid_template_rows": null,
            "height": null,
            "justify_content": null,
            "justify_items": null,
            "left": null,
            "margin": null,
            "max_height": null,
            "max_width": null,
            "min_height": null,
            "min_width": null,
            "object_fit": null,
            "object_position": null,
            "order": null,
            "overflow": null,
            "overflow_x": null,
            "overflow_y": null,
            "padding": null,
            "right": null,
            "top": null,
            "visibility": null,
            "width": null
          }
        },
        "ed2cdb50b57e44ebbbb5128518f381b6": {
          "model_module": "@jupyter-widgets/controls",
          "model_name": "DescriptionStyleModel",
          "model_module_version": "1.5.0",
          "state": {
            "_model_module": "@jupyter-widgets/controls",
            "_model_module_version": "1.5.0",
            "_model_name": "DescriptionStyleModel",
            "_view_count": null,
            "_view_module": "@jupyter-widgets/base",
            "_view_module_version": "1.2.0",
            "_view_name": "StyleView",
            "description_width": ""
          }
        },
        "7fc48b0190f541ffa548b3f8fafeb641": {
          "model_module": "@jupyter-widgets/controls",
          "model_name": "HBoxModel",
          "model_module_version": "1.5.0",
          "state": {
            "_dom_classes": [],
            "_model_module": "@jupyter-widgets/controls",
            "_model_module_version": "1.5.0",
            "_model_name": "HBoxModel",
            "_view_count": null,
            "_view_module": "@jupyter-widgets/controls",
            "_view_module_version": "1.5.0",
            "_view_name": "HBoxView",
            "box_style": "",
            "children": [
              "IPY_MODEL_4ae7f31cae5d4507b9dd5182f1c5b643",
              "IPY_MODEL_6df7bda67994491c97cd9441b38f1811",
              "IPY_MODEL_71e9e6a983064862a222030e8a4ca1d3"
            ],
            "layout": "IPY_MODEL_1dd8ebce4bd54e24963a798712c150af"
          }
        },
        "4ae7f31cae5d4507b9dd5182f1c5b643": {
          "model_module": "@jupyter-widgets/controls",
          "model_name": "HTMLModel",
          "model_module_version": "1.5.0",
          "state": {
            "_dom_classes": [],
            "_model_module": "@jupyter-widgets/controls",
            "_model_module_version": "1.5.0",
            "_model_name": "HTMLModel",
            "_view_count": null,
            "_view_module": "@jupyter-widgets/controls",
            "_view_module_version": "1.5.0",
            "_view_name": "HTMLView",
            "description": "",
            "description_tooltip": null,
            "layout": "IPY_MODEL_cafafb4cd5604536a7bca8b0b412881b",
            "placeholder": "​",
            "style": "IPY_MODEL_4512774dd68547bd8f8673cca532bb8a",
            "value": "Downloading tf_model.h5: 100%"
          }
        },
        "6df7bda67994491c97cd9441b38f1811": {
          "model_module": "@jupyter-widgets/controls",
          "model_name": "FloatProgressModel",
          "model_module_version": "1.5.0",
          "state": {
            "_dom_classes": [],
            "_model_module": "@jupyter-widgets/controls",
            "_model_module_version": "1.5.0",
            "_model_name": "FloatProgressModel",
            "_view_count": null,
            "_view_module": "@jupyter-widgets/controls",
            "_view_module_version": "1.5.0",
            "_view_name": "ProgressView",
            "bar_style": "success",
            "description": "",
            "description_tooltip": null,
            "layout": "IPY_MODEL_0534703002824542a2aab926c68eb4f6",
            "max": 602659464,
            "min": 0,
            "orientation": "horizontal",
            "style": "IPY_MODEL_5e9b059f83784e36984fa65799a29f29",
            "value": 602659464
          }
        },
        "71e9e6a983064862a222030e8a4ca1d3": {
          "model_module": "@jupyter-widgets/controls",
          "model_name": "HTMLModel",
          "model_module_version": "1.5.0",
          "state": {
            "_dom_classes": [],
            "_model_module": "@jupyter-widgets/controls",
            "_model_module_version": "1.5.0",
            "_model_name": "HTMLModel",
            "_view_count": null,
            "_view_module": "@jupyter-widgets/controls",
            "_view_module_version": "1.5.0",
            "_view_name": "HTMLView",
            "description": "",
            "description_tooltip": null,
            "layout": "IPY_MODEL_2c05c55354e4482d9776d8d6e9827514",
            "placeholder": "​",
            "style": "IPY_MODEL_57ed2f7c8e1346e7807993624f12834e",
            "value": " 603M/603M [00:14&lt;00:00, 39.7MB/s]"
          }
        },
        "1dd8ebce4bd54e24963a798712c150af": {
          "model_module": "@jupyter-widgets/base",
          "model_name": "LayoutModel",
          "model_module_version": "1.2.0",
          "state": {
            "_model_module": "@jupyter-widgets/base",
            "_model_module_version": "1.2.0",
            "_model_name": "LayoutModel",
            "_view_count": null,
            "_view_module": "@jupyter-widgets/base",
            "_view_module_version": "1.2.0",
            "_view_name": "LayoutView",
            "align_content": null,
            "align_items": null,
            "align_self": null,
            "border": null,
            "bottom": null,
            "display": null,
            "flex": null,
            "flex_flow": null,
            "grid_area": null,
            "grid_auto_columns": null,
            "grid_auto_flow": null,
            "grid_auto_rows": null,
            "grid_column": null,
            "grid_gap": null,
            "grid_row": null,
            "grid_template_areas": null,
            "grid_template_columns": null,
            "grid_template_rows": null,
            "height": null,
            "justify_content": null,
            "justify_items": null,
            "left": null,
            "margin": null,
            "max_height": null,
            "max_width": null,
            "min_height": null,
            "min_width": null,
            "object_fit": null,
            "object_position": null,
            "order": null,
            "overflow": null,
            "overflow_x": null,
            "overflow_y": null,
            "padding": null,
            "right": null,
            "top": null,
            "visibility": null,
            "width": null
          }
        },
        "cafafb4cd5604536a7bca8b0b412881b": {
          "model_module": "@jupyter-widgets/base",
          "model_name": "LayoutModel",
          "model_module_version": "1.2.0",
          "state": {
            "_model_module": "@jupyter-widgets/base",
            "_model_module_version": "1.2.0",
            "_model_name": "LayoutModel",
            "_view_count": null,
            "_view_module": "@jupyter-widgets/base",
            "_view_module_version": "1.2.0",
            "_view_name": "LayoutView",
            "align_content": null,
            "align_items": null,
            "align_self": null,
            "border": null,
            "bottom": null,
            "display": null,
            "flex": null,
            "flex_flow": null,
            "grid_area": null,
            "grid_auto_columns": null,
            "grid_auto_flow": null,
            "grid_auto_rows": null,
            "grid_column": null,
            "grid_gap": null,
            "grid_row": null,
            "grid_template_areas": null,
            "grid_template_columns": null,
            "grid_template_rows": null,
            "height": null,
            "justify_content": null,
            "justify_items": null,
            "left": null,
            "margin": null,
            "max_height": null,
            "max_width": null,
            "min_height": null,
            "min_width": null,
            "object_fit": null,
            "object_position": null,
            "order": null,
            "overflow": null,
            "overflow_x": null,
            "overflow_y": null,
            "padding": null,
            "right": null,
            "top": null,
            "visibility": null,
            "width": null
          }
        },
        "4512774dd68547bd8f8673cca532bb8a": {
          "model_module": "@jupyter-widgets/controls",
          "model_name": "DescriptionStyleModel",
          "model_module_version": "1.5.0",
          "state": {
            "_model_module": "@jupyter-widgets/controls",
            "_model_module_version": "1.5.0",
            "_model_name": "DescriptionStyleModel",
            "_view_count": null,
            "_view_module": "@jupyter-widgets/base",
            "_view_module_version": "1.2.0",
            "_view_name": "StyleView",
            "description_width": ""
          }
        },
        "0534703002824542a2aab926c68eb4f6": {
          "model_module": "@jupyter-widgets/base",
          "model_name": "LayoutModel",
          "model_module_version": "1.2.0",
          "state": {
            "_model_module": "@jupyter-widgets/base",
            "_model_module_version": "1.2.0",
            "_model_name": "LayoutModel",
            "_view_count": null,
            "_view_module": "@jupyter-widgets/base",
            "_view_module_version": "1.2.0",
            "_view_name": "LayoutView",
            "align_content": null,
            "align_items": null,
            "align_self": null,
            "border": null,
            "bottom": null,
            "display": null,
            "flex": null,
            "flex_flow": null,
            "grid_area": null,
            "grid_auto_columns": null,
            "grid_auto_flow": null,
            "grid_auto_rows": null,
            "grid_column": null,
            "grid_gap": null,
            "grid_row": null,
            "grid_template_areas": null,
            "grid_template_columns": null,
            "grid_template_rows": null,
            "height": null,
            "justify_content": null,
            "justify_items": null,
            "left": null,
            "margin": null,
            "max_height": null,
            "max_width": null,
            "min_height": null,
            "min_width": null,
            "object_fit": null,
            "object_position": null,
            "order": null,
            "overflow": null,
            "overflow_x": null,
            "overflow_y": null,
            "padding": null,
            "right": null,
            "top": null,
            "visibility": null,
            "width": null
          }
        },
        "5e9b059f83784e36984fa65799a29f29": {
          "model_module": "@jupyter-widgets/controls",
          "model_name": "ProgressStyleModel",
          "model_module_version": "1.5.0",
          "state": {
            "_model_module": "@jupyter-widgets/controls",
            "_model_module_version": "1.5.0",
            "_model_name": "ProgressStyleModel",
            "_view_count": null,
            "_view_module": "@jupyter-widgets/base",
            "_view_module_version": "1.2.0",
            "_view_name": "StyleView",
            "bar_color": null,
            "description_width": ""
          }
        },
        "2c05c55354e4482d9776d8d6e9827514": {
          "model_module": "@jupyter-widgets/base",
          "model_name": "LayoutModel",
          "model_module_version": "1.2.0",
          "state": {
            "_model_module": "@jupyter-widgets/base",
            "_model_module_version": "1.2.0",
            "_model_name": "LayoutModel",
            "_view_count": null,
            "_view_module": "@jupyter-widgets/base",
            "_view_module_version": "1.2.0",
            "_view_name": "LayoutView",
            "align_content": null,
            "align_items": null,
            "align_self": null,
            "border": null,
            "bottom": null,
            "display": null,
            "flex": null,
            "flex_flow": null,
            "grid_area": null,
            "grid_auto_columns": null,
            "grid_auto_flow": null,
            "grid_auto_rows": null,
            "grid_column": null,
            "grid_gap": null,
            "grid_row": null,
            "grid_template_areas": null,
            "grid_template_columns": null,
            "grid_template_rows": null,
            "height": null,
            "justify_content": null,
            "justify_items": null,
            "left": null,
            "margin": null,
            "max_height": null,
            "max_width": null,
            "min_height": null,
            "min_width": null,
            "object_fit": null,
            "object_position": null,
            "order": null,
            "overflow": null,
            "overflow_x": null,
            "overflow_y": null,
            "padding": null,
            "right": null,
            "top": null,
            "visibility": null,
            "width": null
          }
        },
        "57ed2f7c8e1346e7807993624f12834e": {
          "model_module": "@jupyter-widgets/controls",
          "model_name": "DescriptionStyleModel",
          "model_module_version": "1.5.0",
          "state": {
            "_model_module": "@jupyter-widgets/controls",
            "_model_module_version": "1.5.0",
            "_model_name": "DescriptionStyleModel",
            "_view_count": null,
            "_view_module": "@jupyter-widgets/base",
            "_view_module_version": "1.2.0",
            "_view_name": "StyleView",
            "description_width": ""
          }
        }
      }
    }
  },
  "cells": [
    {
      "cell_type": "code",
      "execution_count": 1,
      "metadata": {
        "id": "vyTRZcvxpIG-"
      },
      "outputs": [],
      "source": [
        "import pandas as pd\n",
        "import numpy as np\n",
        "import re\n",
        "from sklearn.model_selection import train_test_split"
      ]
    },
    {
      "cell_type": "code",
      "source": [
        "from tensorflow.keras.preprocessing.text import Tokenizer\n",
        "from tensorflow.keras.preprocessing.sequence import pad_sequences\n",
        "from tensorflow.keras.models import Model, load_model\n",
        "from keras.models import Sequential\n",
        "from tensorflow.keras.layers import Dense, Embedding, Bidirectional, LSTM, GlobalMaxPooling1D, Dropout "
      ],
      "metadata": {
        "id": "R9YObpzbcxKf"
      },
      "execution_count": 2,
      "outputs": []
    },
    {
      "cell_type": "markdown",
      "source": [
        "### **Read Dataset**"
      ],
      "metadata": {
        "id": "6LtBtPXUkZjd"
      }
    },
    {
      "cell_type": "code",
      "source": [
        "df_train = pd.read_excel('train.xlsx')\n",
        "df_test = pd.read_excel('test.xlsx')"
      ],
      "metadata": {
        "id": "pO3zXGJVpib5"
      },
      "execution_count": 3,
      "outputs": []
    },
    {
      "cell_type": "code",
      "source": [
        "df_train.head()"
      ],
      "metadata": {
        "colab": {
          "base_uri": "https://localhost:8080/",
          "height": 510
        },
        "id": "cMwiwi7xrRlA",
        "outputId": "8464c217-92b5-473c-f2de-fa1e7fcb8335"
      },
      "execution_count": 4,
      "outputs": [
        {
          "output_type": "execute_result",
          "data": {
            "text/plain": [
              "                                              class1  \\\n",
              "0       با زدن کد دستوری 223 10 اهنگ پیشواز لغو ن...   \n",
              "1  سلام طاعات و عباداتتون بخیر باشه من میخوام آوا...   \n",
              "2  سلام وقتتون بخیر داداش عزیزم برای غیرفعالسازی ...   \n",
              "3  سلام خسته نباشید. آوای انتظارم رو غیر فعال کرد...   \n",
              "4       میخواستم اهنگ پیشوازمو لغو کنم برا همین ک...   \n",
              "\n",
              "                                              class2  \\\n",
              "0  \\nسلام. من مشترک ۹۱۲ هستم. برای فعال کردن آوای...   \n",
              "1   از همراه من می خواستم اهنگ پیشواز فعال کنم ام...   \n",
              "2   کد زدم اهنگ پیشواز رو فعال کنم اما اهنگ پیشوا...   \n",
              "3   میخوام اهنگ پیشواز فعال کنم اما از هیچ روشی ن...   \n",
              "4                     پیام دادم به 8989 اما فعال نشد   \n",
              "\n",
              "                                              class3  \\\n",
              "0  سلام علیکم آقا خسته نباشید. میخواستم یک کد اوا...   \n",
              "1  من توی عوض کردن آوا مشکل دارم حالا به نظرتون ر...   \n",
              "2           هر کاری می کنم اوای انتظار تغییر نمی کنه   \n",
              "3  سلام منو راهنمایی کنید یه کدیو اشتباه زدم یه آ...   \n",
              "4        سلام و عصر بخیر آقا. من می‌خواستم آهنگ ا...   \n",
              "\n",
              "                                              class4  \\\n",
              "0  من دو سه روزه پیشوازمو زدم و فعال کردمش امروز ...   \n",
              "1    اوای انتظار فعاله اما بهم زنگ می زنن بوق میخوره   \n",
              "2   سلام من آهنگ پیشواز رو فعال کردم ولی آهنگ پخش...   \n",
              "3   داداشم اوای انتظار فعال کرده ولی اوای انتظارش...   \n",
              "4   از همراه من اهنگ پیشواز فعال کردم هزینش کم شد...   \n",
              "\n",
              "                                              class5  \\\n",
              "0  سلام صبح بخیر. ببخشید مزاحم میشم من لیست آوای ...   \n",
              "1  سلام. وقتتون به خیر. صبح تماس گرفتم برام لینک ...   \n",
              "2                             شعر ببار ای بارون ببار   \n",
              "3   سلام وقت بخیر آقا این لیست آوای انتظار ۱۴۰۲ ر...   \n",
              "4                                اهنگ پیشواز خوشحالم   \n",
              "\n",
              "                                          class6  \\\n",
              "0    با چه کدی می تونم کد پیش صدا خط خودمو بگیرم   \n",
              "1                 کد اهنگ پشت خطیمو میخوام بدونم   \n",
              "2     میخام کد اهنگ پشت خطی خودمو بگیرم چکار کنم   \n",
              "3   اهنگ پشت خطی خط خودمو میخام چه کدی باید بزنم   \n",
              "4                      کد پیش اهنگی رو خطمه چنده   \n",
              "\n",
              "                                              class7  \\\n",
              "0  آقا من از یکی پرسیدم این آهنگی که میخونه پشت خ...   \n",
              "1   برای دریافت کد پیش صدا خط دوستم از چه روشی می...   \n",
              "2          کد اهنگ پشت خط همسرمو خام ایمو ارسال کنید   \n",
              "3   از چه روشی می توان کد اوای انتظار خط همسایه ر...   \n",
              "4                         کد اهنگ خط همسرم رو میخوام   \n",
              "\n",
              "                                              class8  \\\n",
              "0  ببخشیدمن دوباره تماس میگیرم. قبلا هم پیام داده...   \n",
              "1                  چه کدی بزنم اوای انتظارم فعال بشه   \n",
              "2   برای فعال کردن اهنگ پشت خطی روی خط خود از چه ...   \n",
              "3   اوای انتظارمو که غیرفعال کردم چجوری دوباره فع...   \n",
              "4  چه جوری میتونم خوشه چین بنان رو بذارم آوای انت...   \n",
              "\n",
              "                                              class9  \\\n",
              "0  باید چه کدی رو بزنم که آوای انتظارم دیگه تمدید...   \n",
              "1  آقا این خواننده پیشواز ما برداشته یه حرکت جلف ...   \n",
              "2   نمیخوام پیش صدایی که روی خطم فعاله خودش تمدید...   \n",
              "3          چکار کنم بهم زنگ می زنند پیش اهنگ پخش نشه   \n",
              "4        سلام و صبح بخیر. من می‌خواستم ببنم چطوری...   \n",
              "\n",
              "                                             class10  \\\n",
              "0   برای جایگزین کردن اهنگ پشت سیمکارتی چه شماره ...   \n",
              "1     چکار کنم بهم زنگ می زنند پیش اواز جدید پخش بشه   \n",
              "2  سلام خسته نباشید من موقع فعالسازی آوای انتظار ...   \n",
              "3                                          تعویضش کن   \n",
              "4                     شیوه جایگزین کردن اهنگ پشت خطی   \n",
              "\n",
              "                                             class11  \n",
              "0  من قبل از پونزده روز آوای انتظارم رو غیرفعال ک...  \n",
              "1                     میشه یه مدت پیشوازمو تعلیق کنم  \n",
              "2                                          هوا چطوره  \n",
              "3  وقتتون بخیر باشه این آوای انتظاری که من انتخاب...  \n",
              "4                من دنبال یک رستوران اسپانیایی هستم   "
            ],
            "text/html": [
              "\n",
              "  <div id=\"df-70880d76-ff78-482d-973b-b247265ce2e3\">\n",
              "    <div class=\"colab-df-container\">\n",
              "      <div>\n",
              "<style scoped>\n",
              "    .dataframe tbody tr th:only-of-type {\n",
              "        vertical-align: middle;\n",
              "    }\n",
              "\n",
              "    .dataframe tbody tr th {\n",
              "        vertical-align: top;\n",
              "    }\n",
              "\n",
              "    .dataframe thead th {\n",
              "        text-align: right;\n",
              "    }\n",
              "</style>\n",
              "<table border=\"1\" class=\"dataframe\">\n",
              "  <thead>\n",
              "    <tr style=\"text-align: right;\">\n",
              "      <th></th>\n",
              "      <th>class1</th>\n",
              "      <th>class2</th>\n",
              "      <th>class3</th>\n",
              "      <th>class4</th>\n",
              "      <th>class5</th>\n",
              "      <th>class6</th>\n",
              "      <th>class7</th>\n",
              "      <th>class8</th>\n",
              "      <th>class9</th>\n",
              "      <th>class10</th>\n",
              "      <th>class11</th>\n",
              "    </tr>\n",
              "  </thead>\n",
              "  <tbody>\n",
              "    <tr>\n",
              "      <th>0</th>\n",
              "      <td>با زدن کد دستوری 223 10 اهنگ پیشواز لغو ن...</td>\n",
              "      <td>\\nسلام. من مشترک ۹۱۲ هستم. برای فعال کردن آوای...</td>\n",
              "      <td>سلام علیکم آقا خسته نباشید. میخواستم یک کد اوا...</td>\n",
              "      <td>من دو سه روزه پیشوازمو زدم و فعال کردمش امروز ...</td>\n",
              "      <td>سلام صبح بخیر. ببخشید مزاحم میشم من لیست آوای ...</td>\n",
              "      <td>با چه کدی می تونم کد پیش صدا خط خودمو بگیرم</td>\n",
              "      <td>آقا من از یکی پرسیدم این آهنگی که میخونه پشت خ...</td>\n",
              "      <td>ببخشیدمن دوباره تماس میگیرم. قبلا هم پیام داده...</td>\n",
              "      <td>باید چه کدی رو بزنم که آوای انتظارم دیگه تمدید...</td>\n",
              "      <td>برای جایگزین کردن اهنگ پشت سیمکارتی چه شماره ...</td>\n",
              "      <td>من قبل از پونزده روز آوای انتظارم رو غیرفعال ک...</td>\n",
              "    </tr>\n",
              "    <tr>\n",
              "      <th>1</th>\n",
              "      <td>سلام طاعات و عباداتتون بخیر باشه من میخوام آوا...</td>\n",
              "      <td>از همراه من می خواستم اهنگ پیشواز فعال کنم ام...</td>\n",
              "      <td>من توی عوض کردن آوا مشکل دارم حالا به نظرتون ر...</td>\n",
              "      <td>اوای انتظار فعاله اما بهم زنگ می زنن بوق میخوره</td>\n",
              "      <td>سلام. وقتتون به خیر. صبح تماس گرفتم برام لینک ...</td>\n",
              "      <td>کد اهنگ پشت خطیمو میخوام بدونم</td>\n",
              "      <td>برای دریافت کد پیش صدا خط دوستم از چه روشی می...</td>\n",
              "      <td>چه کدی بزنم اوای انتظارم فعال بشه</td>\n",
              "      <td>آقا این خواننده پیشواز ما برداشته یه حرکت جلف ...</td>\n",
              "      <td>چکار کنم بهم زنگ می زنند پیش اواز جدید پخش بشه</td>\n",
              "      <td>میشه یه مدت پیشوازمو تعلیق کنم</td>\n",
              "    </tr>\n",
              "    <tr>\n",
              "      <th>2</th>\n",
              "      <td>سلام وقتتون بخیر داداش عزیزم برای غیرفعالسازی ...</td>\n",
              "      <td>کد زدم اهنگ پیشواز رو فعال کنم اما اهنگ پیشوا...</td>\n",
              "      <td>هر کاری می کنم اوای انتظار تغییر نمی کنه</td>\n",
              "      <td>سلام من آهنگ پیشواز رو فعال کردم ولی آهنگ پخش...</td>\n",
              "      <td>شعر ببار ای بارون ببار</td>\n",
              "      <td>میخام کد اهنگ پشت خطی خودمو بگیرم چکار کنم</td>\n",
              "      <td>کد اهنگ پشت خط همسرمو خام ایمو ارسال کنید</td>\n",
              "      <td>برای فعال کردن اهنگ پشت خطی روی خط خود از چه ...</td>\n",
              "      <td>نمیخوام پیش صدایی که روی خطم فعاله خودش تمدید...</td>\n",
              "      <td>سلام خسته نباشید من موقع فعالسازی آوای انتظار ...</td>\n",
              "      <td>هوا چطوره</td>\n",
              "    </tr>\n",
              "    <tr>\n",
              "      <th>3</th>\n",
              "      <td>سلام خسته نباشید. آوای انتظارم رو غیر فعال کرد...</td>\n",
              "      <td>میخوام اهنگ پیشواز فعال کنم اما از هیچ روشی ن...</td>\n",
              "      <td>سلام منو راهنمایی کنید یه کدیو اشتباه زدم یه آ...</td>\n",
              "      <td>داداشم اوای انتظار فعال کرده ولی اوای انتظارش...</td>\n",
              "      <td>سلام وقت بخیر آقا این لیست آوای انتظار ۱۴۰۲ ر...</td>\n",
              "      <td>اهنگ پشت خطی خط خودمو میخام چه کدی باید بزنم</td>\n",
              "      <td>از چه روشی می توان کد اوای انتظار خط همسایه ر...</td>\n",
              "      <td>اوای انتظارمو که غیرفعال کردم چجوری دوباره فع...</td>\n",
              "      <td>چکار کنم بهم زنگ می زنند پیش اهنگ پخش نشه</td>\n",
              "      <td>تعویضش کن</td>\n",
              "      <td>وقتتون بخیر باشه این آوای انتظاری که من انتخاب...</td>\n",
              "    </tr>\n",
              "    <tr>\n",
              "      <th>4</th>\n",
              "      <td>میخواستم اهنگ پیشوازمو لغو کنم برا همین ک...</td>\n",
              "      <td>پیام دادم به 8989 اما فعال نشد</td>\n",
              "      <td>سلام و عصر بخیر آقا. من می‌خواستم آهنگ ا...</td>\n",
              "      <td>از همراه من اهنگ پیشواز فعال کردم هزینش کم شد...</td>\n",
              "      <td>اهنگ پیشواز خوشحالم</td>\n",
              "      <td>کد پیش اهنگی رو خطمه چنده</td>\n",
              "      <td>کد اهنگ خط همسرم رو میخوام</td>\n",
              "      <td>چه جوری میتونم خوشه چین بنان رو بذارم آوای انت...</td>\n",
              "      <td>سلام و صبح بخیر. من می‌خواستم ببنم چطوری...</td>\n",
              "      <td>شیوه جایگزین کردن اهنگ پشت خطی</td>\n",
              "      <td>من دنبال یک رستوران اسپانیایی هستم</td>\n",
              "    </tr>\n",
              "  </tbody>\n",
              "</table>\n",
              "</div>\n",
              "      <button class=\"colab-df-convert\" onclick=\"convertToInteractive('df-70880d76-ff78-482d-973b-b247265ce2e3')\"\n",
              "              title=\"Convert this dataframe to an interactive table.\"\n",
              "              style=\"display:none;\">\n",
              "        \n",
              "  <svg xmlns=\"http://www.w3.org/2000/svg\" height=\"24px\"viewBox=\"0 0 24 24\"\n",
              "       width=\"24px\">\n",
              "    <path d=\"M0 0h24v24H0V0z\" fill=\"none\"/>\n",
              "    <path d=\"M18.56 5.44l.94 2.06.94-2.06 2.06-.94-2.06-.94-.94-2.06-.94 2.06-2.06.94zm-11 1L8.5 8.5l.94-2.06 2.06-.94-2.06-.94L8.5 2.5l-.94 2.06-2.06.94zm10 10l.94 2.06.94-2.06 2.06-.94-2.06-.94-.94-2.06-.94 2.06-2.06.94z\"/><path d=\"M17.41 7.96l-1.37-1.37c-.4-.4-.92-.59-1.43-.59-.52 0-1.04.2-1.43.59L10.3 9.45l-7.72 7.72c-.78.78-.78 2.05 0 2.83L4 21.41c.39.39.9.59 1.41.59.51 0 1.02-.2 1.41-.59l7.78-7.78 2.81-2.81c.8-.78.8-2.07 0-2.86zM5.41 20L4 18.59l7.72-7.72 1.47 1.35L5.41 20z\"/>\n",
              "  </svg>\n",
              "      </button>\n",
              "      \n",
              "  <style>\n",
              "    .colab-df-container {\n",
              "      display:flex;\n",
              "      flex-wrap:wrap;\n",
              "      gap: 12px;\n",
              "    }\n",
              "\n",
              "    .colab-df-convert {\n",
              "      background-color: #E8F0FE;\n",
              "      border: none;\n",
              "      border-radius: 50%;\n",
              "      cursor: pointer;\n",
              "      display: none;\n",
              "      fill: #1967D2;\n",
              "      height: 32px;\n",
              "      padding: 0 0 0 0;\n",
              "      width: 32px;\n",
              "    }\n",
              "\n",
              "    .colab-df-convert:hover {\n",
              "      background-color: #E2EBFA;\n",
              "      box-shadow: 0px 1px 2px rgba(60, 64, 67, 0.3), 0px 1px 3px 1px rgba(60, 64, 67, 0.15);\n",
              "      fill: #174EA6;\n",
              "    }\n",
              "\n",
              "    [theme=dark] .colab-df-convert {\n",
              "      background-color: #3B4455;\n",
              "      fill: #D2E3FC;\n",
              "    }\n",
              "\n",
              "    [theme=dark] .colab-df-convert:hover {\n",
              "      background-color: #434B5C;\n",
              "      box-shadow: 0px 1px 3px 1px rgba(0, 0, 0, 0.15);\n",
              "      filter: drop-shadow(0px 1px 2px rgba(0, 0, 0, 0.3));\n",
              "      fill: #FFFFFF;\n",
              "    }\n",
              "  </style>\n",
              "\n",
              "      <script>\n",
              "        const buttonEl =\n",
              "          document.querySelector('#df-70880d76-ff78-482d-973b-b247265ce2e3 button.colab-df-convert');\n",
              "        buttonEl.style.display =\n",
              "          google.colab.kernel.accessAllowed ? 'block' : 'none';\n",
              "\n",
              "        async function convertToInteractive(key) {\n",
              "          const element = document.querySelector('#df-70880d76-ff78-482d-973b-b247265ce2e3');\n",
              "          const dataTable =\n",
              "            await google.colab.kernel.invokeFunction('convertToInteractive',\n",
              "                                                     [key], {});\n",
              "          if (!dataTable) return;\n",
              "\n",
              "          const docLinkHtml = 'Like what you see? Visit the ' +\n",
              "            '<a target=\"_blank\" href=https://colab.research.google.com/notebooks/data_table.ipynb>data table notebook</a>'\n",
              "            + ' to learn more about interactive tables.';\n",
              "          element.innerHTML = '';\n",
              "          dataTable['output_type'] = 'display_data';\n",
              "          await google.colab.output.renderOutput(dataTable, element);\n",
              "          const docLink = document.createElement('div');\n",
              "          docLink.innerHTML = docLinkHtml;\n",
              "          element.appendChild(docLink);\n",
              "        }\n",
              "      </script>\n",
              "    </div>\n",
              "  </div>\n",
              "  "
            ]
          },
          "metadata": {},
          "execution_count": 4
        }
      ]
    },
    {
      "cell_type": "code",
      "source": [
        "print(df_train.shape)\n",
        "print(df_test.shape)"
      ],
      "metadata": {
        "colab": {
          "base_uri": "https://localhost:8080/"
        },
        "id": "w0_R95Jjrbv7",
        "outputId": "5c168724-8df8-4edf-e16e-e9414c284432"
      },
      "execution_count": 5,
      "outputs": [
        {
          "output_type": "stream",
          "name": "stdout",
          "text": [
            "(340, 11)\n",
            "(60, 11)\n"
          ]
        }
      ]
    },
    {
      "cell_type": "code",
      "source": [
        "df_train.iloc[0]"
      ],
      "metadata": {
        "colab": {
          "base_uri": "https://localhost:8080/"
        },
        "id": "BYHa8jiPaeXp",
        "outputId": "86897699-53a2-4441-d161-8566f33f3243"
      },
      "execution_count": 6,
      "outputs": [
        {
          "output_type": "execute_result",
          "data": {
            "text/plain": [
              "class1          با زدن کد دستوری 223 10 اهنگ پیشواز لغو ن...\n",
              "class2     \\nسلام. من مشترک ۹۱۲ هستم. برای فعال کردن آوای...\n",
              "class3     سلام علیکم آقا خسته نباشید. میخواستم یک کد اوا...\n",
              "class4     من دو سه روزه پیشوازمو زدم و فعال کردمش امروز ...\n",
              "class5     سلام صبح بخیر. ببخشید مزاحم میشم من لیست آوای ...\n",
              "class6           با چه کدی می تونم کد پیش صدا خط خودمو بگیرم\n",
              "class7     آقا من از یکی پرسیدم این آهنگی که میخونه پشت خ...\n",
              "class8     ببخشیدمن دوباره تماس میگیرم. قبلا هم پیام داده...\n",
              "class9     باید چه کدی رو بزنم که آوای انتظارم دیگه تمدید...\n",
              "class10     برای جایگزین کردن اهنگ پشت سیمکارتی چه شماره ...\n",
              "class11    من قبل از پونزده روز آوای انتظارم رو غیرفعال ک...\n",
              "Name: 0, dtype: object"
            ]
          },
          "metadata": {},
          "execution_count": 6
        }
      ]
    },
    {
      "cell_type": "code",
      "source": [
        "classes = [\n",
        "        'مشکل غیرفعالسازی آوای انتظار',\n",
        "        'مشکل فعالسازی آوای انتظار',\n",
        "        'مشکل تغییر آوای انتظار',\n",
        "        'مشکل پخش آوای انتظار',\n",
        "        'لیست آواهای انتظار',\n",
        "        'دریافت کد آوای انتظار خط خود',\n",
        "        'دریافت کد آوای انتظار خط دیگران',\n",
        "        'روش فعالسازی آوای انتظار',\n",
        "        'روش غیرفعالسازی آوای انتظار',\n",
        "        'روش تغییرآوای انتظار',\n",
        "        'خارج از دامنه'\n",
        "]"
      ],
      "metadata": {
        "id": "I7zGPou0S-6Z"
      },
      "execution_count": 7,
      "outputs": []
    },
    {
      "cell_type": "code",
      "source": [
        "def create_dataset(df):\n",
        "  output = {\n",
        "        \"text\": [],\n",
        "        \"category\": []\n",
        "    }\n",
        "\n",
        "  for data in df.iloc:\n",
        "    for i,d in enumerate(data):\n",
        "      output[\"text\"].append(d)\n",
        "      output[\"category\"].append(classes[i])\n",
        "   \n",
        "  return output"
      ],
      "metadata": {
        "id": "FLk1cR2-anPx"
      },
      "execution_count": 8,
      "outputs": []
    },
    {
      "cell_type": "code",
      "source": [
        "train_data = create_dataset(df_train)\n",
        "test_data = create_dataset(df_test)"
      ],
      "metadata": {
        "id": "X4a8iLecRGIQ"
      },
      "execution_count": 9,
      "outputs": []
    },
    {
      "cell_type": "code",
      "source": [
        "print(len(train_data[\"text\"]))\n",
        "print(len(train_data[\"category\"]))"
      ],
      "metadata": {
        "colab": {
          "base_uri": "https://localhost:8080/"
        },
        "id": "CazQ9QxPc1za",
        "outputId": "4c729740-a896-49c0-f320-7a23dded4c51"
      },
      "execution_count": 10,
      "outputs": [
        {
          "output_type": "stream",
          "name": "stdout",
          "text": [
            "3740\n",
            "3740\n"
          ]
        }
      ]
    },
    {
      "cell_type": "code",
      "source": [
        "print(train_data[\"text\"][0])\n",
        "print(train_data[\"category\"][0])"
      ],
      "metadata": {
        "colab": {
          "base_uri": "https://localhost:8080/"
        },
        "id": "xjUJ5qzLclUr",
        "outputId": "23a400e9-180d-4f1a-b0d3-9d3d9e45ec9c"
      },
      "execution_count": 11,
      "outputs": [
        {
          "output_type": "stream",
          "name": "stdout",
          "text": [
            "     با زدن کد دستوری 223 10 اهنگ پیشواز لغو نشد چجوری اهنگ پیشواز رو لغو کنم\n",
            "مشکل غیرفعالسازی آوای انتظار\n"
          ]
        }
      ]
    },
    {
      "cell_type": "code",
      "source": [
        "train_dataset = pd.DataFrame(train_data)\n",
        "test_dataset = pd.DataFrame(test_data)"
      ],
      "metadata": {
        "id": "048VwDMRVNVa"
      },
      "execution_count": 12,
      "outputs": []
    },
    {
      "cell_type": "code",
      "source": [
        "train_dataset.head()"
      ],
      "metadata": {
        "colab": {
          "base_uri": "https://localhost:8080/",
          "height": 206
        },
        "id": "4L4rDBnMZYge",
        "outputId": "0a77fd62-8038-4f1b-abed-f968a9f1c03c"
      },
      "execution_count": 13,
      "outputs": [
        {
          "output_type": "execute_result",
          "data": {
            "text/plain": [
              "                                                text  \\\n",
              "0       با زدن کد دستوری 223 10 اهنگ پیشواز لغو ن...   \n",
              "1  \\nسلام. من مشترک ۹۱۲ هستم. برای فعال کردن آوای...   \n",
              "2  سلام علیکم آقا خسته نباشید. میخواستم یک کد اوا...   \n",
              "3  من دو سه روزه پیشوازمو زدم و فعال کردمش امروز ...   \n",
              "4  سلام صبح بخیر. ببخشید مزاحم میشم من لیست آوای ...   \n",
              "\n",
              "                       category  \n",
              "0  مشکل غیرفعالسازی آوای انتظار  \n",
              "1     مشکل فعالسازی آوای انتظار  \n",
              "2        مشکل تغییر آوای انتظار  \n",
              "3          مشکل پخش آوای انتظار  \n",
              "4            لیست آواهای انتظار  "
            ],
            "text/html": [
              "\n",
              "  <div id=\"df-7ccbc403-6317-4ca0-8a53-650bff4a9f6d\">\n",
              "    <div class=\"colab-df-container\">\n",
              "      <div>\n",
              "<style scoped>\n",
              "    .dataframe tbody tr th:only-of-type {\n",
              "        vertical-align: middle;\n",
              "    }\n",
              "\n",
              "    .dataframe tbody tr th {\n",
              "        vertical-align: top;\n",
              "    }\n",
              "\n",
              "    .dataframe thead th {\n",
              "        text-align: right;\n",
              "    }\n",
              "</style>\n",
              "<table border=\"1\" class=\"dataframe\">\n",
              "  <thead>\n",
              "    <tr style=\"text-align: right;\">\n",
              "      <th></th>\n",
              "      <th>text</th>\n",
              "      <th>category</th>\n",
              "    </tr>\n",
              "  </thead>\n",
              "  <tbody>\n",
              "    <tr>\n",
              "      <th>0</th>\n",
              "      <td>با زدن کد دستوری 223 10 اهنگ پیشواز لغو ن...</td>\n",
              "      <td>مشکل غیرفعالسازی آوای انتظار</td>\n",
              "    </tr>\n",
              "    <tr>\n",
              "      <th>1</th>\n",
              "      <td>\\nسلام. من مشترک ۹۱۲ هستم. برای فعال کردن آوای...</td>\n",
              "      <td>مشکل فعالسازی آوای انتظار</td>\n",
              "    </tr>\n",
              "    <tr>\n",
              "      <th>2</th>\n",
              "      <td>سلام علیکم آقا خسته نباشید. میخواستم یک کد اوا...</td>\n",
              "      <td>مشکل تغییر آوای انتظار</td>\n",
              "    </tr>\n",
              "    <tr>\n",
              "      <th>3</th>\n",
              "      <td>من دو سه روزه پیشوازمو زدم و فعال کردمش امروز ...</td>\n",
              "      <td>مشکل پخش آوای انتظار</td>\n",
              "    </tr>\n",
              "    <tr>\n",
              "      <th>4</th>\n",
              "      <td>سلام صبح بخیر. ببخشید مزاحم میشم من لیست آوای ...</td>\n",
              "      <td>لیست آواهای انتظار</td>\n",
              "    </tr>\n",
              "  </tbody>\n",
              "</table>\n",
              "</div>\n",
              "      <button class=\"colab-df-convert\" onclick=\"convertToInteractive('df-7ccbc403-6317-4ca0-8a53-650bff4a9f6d')\"\n",
              "              title=\"Convert this dataframe to an interactive table.\"\n",
              "              style=\"display:none;\">\n",
              "        \n",
              "  <svg xmlns=\"http://www.w3.org/2000/svg\" height=\"24px\"viewBox=\"0 0 24 24\"\n",
              "       width=\"24px\">\n",
              "    <path d=\"M0 0h24v24H0V0z\" fill=\"none\"/>\n",
              "    <path d=\"M18.56 5.44l.94 2.06.94-2.06 2.06-.94-2.06-.94-.94-2.06-.94 2.06-2.06.94zm-11 1L8.5 8.5l.94-2.06 2.06-.94-2.06-.94L8.5 2.5l-.94 2.06-2.06.94zm10 10l.94 2.06.94-2.06 2.06-.94-2.06-.94-.94-2.06-.94 2.06-2.06.94z\"/><path d=\"M17.41 7.96l-1.37-1.37c-.4-.4-.92-.59-1.43-.59-.52 0-1.04.2-1.43.59L10.3 9.45l-7.72 7.72c-.78.78-.78 2.05 0 2.83L4 21.41c.39.39.9.59 1.41.59.51 0 1.02-.2 1.41-.59l7.78-7.78 2.81-2.81c.8-.78.8-2.07 0-2.86zM5.41 20L4 18.59l7.72-7.72 1.47 1.35L5.41 20z\"/>\n",
              "  </svg>\n",
              "      </button>\n",
              "      \n",
              "  <style>\n",
              "    .colab-df-container {\n",
              "      display:flex;\n",
              "      flex-wrap:wrap;\n",
              "      gap: 12px;\n",
              "    }\n",
              "\n",
              "    .colab-df-convert {\n",
              "      background-color: #E8F0FE;\n",
              "      border: none;\n",
              "      border-radius: 50%;\n",
              "      cursor: pointer;\n",
              "      display: none;\n",
              "      fill: #1967D2;\n",
              "      height: 32px;\n",
              "      padding: 0 0 0 0;\n",
              "      width: 32px;\n",
              "    }\n",
              "\n",
              "    .colab-df-convert:hover {\n",
              "      background-color: #E2EBFA;\n",
              "      box-shadow: 0px 1px 2px rgba(60, 64, 67, 0.3), 0px 1px 3px 1px rgba(60, 64, 67, 0.15);\n",
              "      fill: #174EA6;\n",
              "    }\n",
              "\n",
              "    [theme=dark] .colab-df-convert {\n",
              "      background-color: #3B4455;\n",
              "      fill: #D2E3FC;\n",
              "    }\n",
              "\n",
              "    [theme=dark] .colab-df-convert:hover {\n",
              "      background-color: #434B5C;\n",
              "      box-shadow: 0px 1px 3px 1px rgba(0, 0, 0, 0.15);\n",
              "      filter: drop-shadow(0px 1px 2px rgba(0, 0, 0, 0.3));\n",
              "      fill: #FFFFFF;\n",
              "    }\n",
              "  </style>\n",
              "\n",
              "      <script>\n",
              "        const buttonEl =\n",
              "          document.querySelector('#df-7ccbc403-6317-4ca0-8a53-650bff4a9f6d button.colab-df-convert');\n",
              "        buttonEl.style.display =\n",
              "          google.colab.kernel.accessAllowed ? 'block' : 'none';\n",
              "\n",
              "        async function convertToInteractive(key) {\n",
              "          const element = document.querySelector('#df-7ccbc403-6317-4ca0-8a53-650bff4a9f6d');\n",
              "          const dataTable =\n",
              "            await google.colab.kernel.invokeFunction('convertToInteractive',\n",
              "                                                     [key], {});\n",
              "          if (!dataTable) return;\n",
              "\n",
              "          const docLinkHtml = 'Like what you see? Visit the ' +\n",
              "            '<a target=\"_blank\" href=https://colab.research.google.com/notebooks/data_table.ipynb>data table notebook</a>'\n",
              "            + ' to learn more about interactive tables.';\n",
              "          element.innerHTML = '';\n",
              "          dataTable['output_type'] = 'display_data';\n",
              "          await google.colab.output.renderOutput(dataTable, element);\n",
              "          const docLink = document.createElement('div');\n",
              "          docLink.innerHTML = docLinkHtml;\n",
              "          element.appendChild(docLink);\n",
              "        }\n",
              "      </script>\n",
              "    </div>\n",
              "  </div>\n",
              "  "
            ]
          },
          "metadata": {},
          "execution_count": 13
        }
      ]
    },
    {
      "cell_type": "code",
      "source": [
        "train_dataset.shape"
      ],
      "metadata": {
        "colab": {
          "base_uri": "https://localhost:8080/"
        },
        "id": "9Vuv3hYfc_vv",
        "outputId": "3bb97f8f-45c3-4edb-baad-9937b075f3db"
      },
      "execution_count": 14,
      "outputs": [
        {
          "output_type": "execute_result",
          "data": {
            "text/plain": [
              "(3740, 2)"
            ]
          },
          "metadata": {},
          "execution_count": 14
        }
      ]
    },
    {
      "cell_type": "code",
      "source": [
        "test_dataset.head()"
      ],
      "metadata": {
        "colab": {
          "base_uri": "https://localhost:8080/",
          "height": 206
        },
        "id": "3bT_DeNBVDVI",
        "outputId": "507e2abe-1b37-4201-b032-747b17c6401e"
      },
      "execution_count": 15,
      "outputs": [
        {
          "output_type": "execute_result",
          "data": {
            "text/plain": [
              "                                                text  \\\n",
              "0   سلام خانم، من یه مشکلی با آوای انتظار دارم، چ...   \n",
              "1   برای فعال کردن اهنگ پیشواز از طریق همراه من ا...   \n",
              "2  علو سلام مادر جون. خوبی عزیزم عیدت مبارک باشه ...   \n",
              "3   اوای انتظار فعال کردم پولشم کم شده اما زنگ می...   \n",
              "4                                  کد پیشواز از بنان   \n",
              "\n",
              "                       category  \n",
              "0  مشکل غیرفعالسازی آوای انتظار  \n",
              "1     مشکل فعالسازی آوای انتظار  \n",
              "2        مشکل تغییر آوای انتظار  \n",
              "3          مشکل پخش آوای انتظار  \n",
              "4            لیست آواهای انتظار  "
            ],
            "text/html": [
              "\n",
              "  <div id=\"df-a8228f74-737d-472b-9acc-800b7d3d660a\">\n",
              "    <div class=\"colab-df-container\">\n",
              "      <div>\n",
              "<style scoped>\n",
              "    .dataframe tbody tr th:only-of-type {\n",
              "        vertical-align: middle;\n",
              "    }\n",
              "\n",
              "    .dataframe tbody tr th {\n",
              "        vertical-align: top;\n",
              "    }\n",
              "\n",
              "    .dataframe thead th {\n",
              "        text-align: right;\n",
              "    }\n",
              "</style>\n",
              "<table border=\"1\" class=\"dataframe\">\n",
              "  <thead>\n",
              "    <tr style=\"text-align: right;\">\n",
              "      <th></th>\n",
              "      <th>text</th>\n",
              "      <th>category</th>\n",
              "    </tr>\n",
              "  </thead>\n",
              "  <tbody>\n",
              "    <tr>\n",
              "      <th>0</th>\n",
              "      <td>سلام خانم، من یه مشکلی با آوای انتظار دارم، چ...</td>\n",
              "      <td>مشکل غیرفعالسازی آوای انتظار</td>\n",
              "    </tr>\n",
              "    <tr>\n",
              "      <th>1</th>\n",
              "      <td>برای فعال کردن اهنگ پیشواز از طریق همراه من ا...</td>\n",
              "      <td>مشکل فعالسازی آوای انتظار</td>\n",
              "    </tr>\n",
              "    <tr>\n",
              "      <th>2</th>\n",
              "      <td>علو سلام مادر جون. خوبی عزیزم عیدت مبارک باشه ...</td>\n",
              "      <td>مشکل تغییر آوای انتظار</td>\n",
              "    </tr>\n",
              "    <tr>\n",
              "      <th>3</th>\n",
              "      <td>اوای انتظار فعال کردم پولشم کم شده اما زنگ می...</td>\n",
              "      <td>مشکل پخش آوای انتظار</td>\n",
              "    </tr>\n",
              "    <tr>\n",
              "      <th>4</th>\n",
              "      <td>کد پیشواز از بنان</td>\n",
              "      <td>لیست آواهای انتظار</td>\n",
              "    </tr>\n",
              "  </tbody>\n",
              "</table>\n",
              "</div>\n",
              "      <button class=\"colab-df-convert\" onclick=\"convertToInteractive('df-a8228f74-737d-472b-9acc-800b7d3d660a')\"\n",
              "              title=\"Convert this dataframe to an interactive table.\"\n",
              "              style=\"display:none;\">\n",
              "        \n",
              "  <svg xmlns=\"http://www.w3.org/2000/svg\" height=\"24px\"viewBox=\"0 0 24 24\"\n",
              "       width=\"24px\">\n",
              "    <path d=\"M0 0h24v24H0V0z\" fill=\"none\"/>\n",
              "    <path d=\"M18.56 5.44l.94 2.06.94-2.06 2.06-.94-2.06-.94-.94-2.06-.94 2.06-2.06.94zm-11 1L8.5 8.5l.94-2.06 2.06-.94-2.06-.94L8.5 2.5l-.94 2.06-2.06.94zm10 10l.94 2.06.94-2.06 2.06-.94-2.06-.94-.94-2.06-.94 2.06-2.06.94z\"/><path d=\"M17.41 7.96l-1.37-1.37c-.4-.4-.92-.59-1.43-.59-.52 0-1.04.2-1.43.59L10.3 9.45l-7.72 7.72c-.78.78-.78 2.05 0 2.83L4 21.41c.39.39.9.59 1.41.59.51 0 1.02-.2 1.41-.59l7.78-7.78 2.81-2.81c.8-.78.8-2.07 0-2.86zM5.41 20L4 18.59l7.72-7.72 1.47 1.35L5.41 20z\"/>\n",
              "  </svg>\n",
              "      </button>\n",
              "      \n",
              "  <style>\n",
              "    .colab-df-container {\n",
              "      display:flex;\n",
              "      flex-wrap:wrap;\n",
              "      gap: 12px;\n",
              "    }\n",
              "\n",
              "    .colab-df-convert {\n",
              "      background-color: #E8F0FE;\n",
              "      border: none;\n",
              "      border-radius: 50%;\n",
              "      cursor: pointer;\n",
              "      display: none;\n",
              "      fill: #1967D2;\n",
              "      height: 32px;\n",
              "      padding: 0 0 0 0;\n",
              "      width: 32px;\n",
              "    }\n",
              "\n",
              "    .colab-df-convert:hover {\n",
              "      background-color: #E2EBFA;\n",
              "      box-shadow: 0px 1px 2px rgba(60, 64, 67, 0.3), 0px 1px 3px 1px rgba(60, 64, 67, 0.15);\n",
              "      fill: #174EA6;\n",
              "    }\n",
              "\n",
              "    [theme=dark] .colab-df-convert {\n",
              "      background-color: #3B4455;\n",
              "      fill: #D2E3FC;\n",
              "    }\n",
              "\n",
              "    [theme=dark] .colab-df-convert:hover {\n",
              "      background-color: #434B5C;\n",
              "      box-shadow: 0px 1px 3px 1px rgba(0, 0, 0, 0.15);\n",
              "      filter: drop-shadow(0px 1px 2px rgba(0, 0, 0, 0.3));\n",
              "      fill: #FFFFFF;\n",
              "    }\n",
              "  </style>\n",
              "\n",
              "      <script>\n",
              "        const buttonEl =\n",
              "          document.querySelector('#df-a8228f74-737d-472b-9acc-800b7d3d660a button.colab-df-convert');\n",
              "        buttonEl.style.display =\n",
              "          google.colab.kernel.accessAllowed ? 'block' : 'none';\n",
              "\n",
              "        async function convertToInteractive(key) {\n",
              "          const element = document.querySelector('#df-a8228f74-737d-472b-9acc-800b7d3d660a');\n",
              "          const dataTable =\n",
              "            await google.colab.kernel.invokeFunction('convertToInteractive',\n",
              "                                                     [key], {});\n",
              "          if (!dataTable) return;\n",
              "\n",
              "          const docLinkHtml = 'Like what you see? Visit the ' +\n",
              "            '<a target=\"_blank\" href=https://colab.research.google.com/notebooks/data_table.ipynb>data table notebook</a>'\n",
              "            + ' to learn more about interactive tables.';\n",
              "          element.innerHTML = '';\n",
              "          dataTable['output_type'] = 'display_data';\n",
              "          await google.colab.output.renderOutput(dataTable, element);\n",
              "          const docLink = document.createElement('div');\n",
              "          docLink.innerHTML = docLinkHtml;\n",
              "          element.appendChild(docLink);\n",
              "        }\n",
              "      </script>\n",
              "    </div>\n",
              "  </div>\n",
              "  "
            ]
          },
          "metadata": {},
          "execution_count": 15
        }
      ]
    },
    {
      "cell_type": "code",
      "source": [
        "test_dataset.shape"
      ],
      "metadata": {
        "colab": {
          "base_uri": "https://localhost:8080/"
        },
        "id": "rffuDNInVGZI",
        "outputId": "2814312e-cca3-47d9-b783-bb9370350c49"
      },
      "execution_count": 16,
      "outputs": [
        {
          "output_type": "execute_result",
          "data": {
            "text/plain": [
              "(660, 2)"
            ]
          },
          "metadata": {},
          "execution_count": 16
        }
      ]
    },
    {
      "cell_type": "code",
      "source": [
        "train_dataset['category'].value_counts()"
      ],
      "metadata": {
        "colab": {
          "base_uri": "https://localhost:8080/"
        },
        "id": "pbo_iTMYdEYq",
        "outputId": "a4a811c4-0ca9-444a-a0d0-4482d67e16b5"
      },
      "execution_count": 17,
      "outputs": [
        {
          "output_type": "execute_result",
          "data": {
            "text/plain": [
              "مشکل غیرفعالسازی آوای انتظار       340\n",
              "مشکل فعالسازی آوای انتظار          340\n",
              "مشکل تغییر آوای انتظار             340\n",
              "مشکل پخش آوای انتظار               340\n",
              "لیست آواهای انتظار                 340\n",
              "دریافت کد آوای انتظار خط خود       340\n",
              "دریافت کد آوای انتظار خط دیگران    340\n",
              "روش فعالسازی آوای انتظار           340\n",
              "روش غیرفعالسازی آوای انتظار        340\n",
              "روش تغییرآوای انتظار               340\n",
              "خارج از دامنه                      340\n",
              "Name: category, dtype: int64"
            ]
          },
          "metadata": {},
          "execution_count": 17
        }
      ]
    },
    {
      "cell_type": "code",
      "source": [
        "#delete NaN\n",
        "train_dataset = train_dataset.dropna()\n",
        "test_dataset = test_dataset.dropna()"
      ],
      "metadata": {
        "id": "nRkS3NHkblgi"
      },
      "execution_count": 18,
      "outputs": []
    },
    {
      "cell_type": "code",
      "source": [
        "print(train_dataset.shape)\n",
        "print(test_dataset.shape)"
      ],
      "metadata": {
        "colab": {
          "base_uri": "https://localhost:8080/"
        },
        "id": "csv33_mEbrTu",
        "outputId": "4678b149-de25-4b2d-bc9c-440f1e21eabb"
      },
      "execution_count": 19,
      "outputs": [
        {
          "output_type": "stream",
          "name": "stdout",
          "text": [
            "(2761, 2)\n",
            "(484, 2)\n"
          ]
        }
      ]
    },
    {
      "cell_type": "markdown",
      "source": [
        "**stopword**"
      ],
      "metadata": {
        "id": "PwqfPTA5flsC"
      }
    },
    {
      "cell_type": "code",
      "source": [
        "def read_stop_words(filename):\n",
        "  with open(filename) as stopwords_file:\n",
        "    stopwords = stopwords_file.readlines()\n",
        "  stopwords = [line.replace('\\n', '') for line in stopwords] \n",
        "  return stopwords"
      ],
      "metadata": {
        "id": "7H0f9T8sfo-S"
      },
      "execution_count": 20,
      "outputs": []
    },
    {
      "cell_type": "code",
      "source": [
        "stopwords = read_stop_words('stopwords.txt')\n",
        "print(len(stopwords))"
      ],
      "metadata": {
        "colab": {
          "base_uri": "https://localhost:8080/"
        },
        "id": "uDpDL4LqfsZ0",
        "outputId": "697a2577-eed4-4fda-d9ae-573560c1b9df"
      },
      "execution_count": 21,
      "outputs": [
        {
          "output_type": "stream",
          "name": "stdout",
          "text": [
            "1328\n"
          ]
        }
      ]
    },
    {
      "cell_type": "code",
      "source": [
        "# install hazm library\n",
        "!pip install hazm"
      ],
      "metadata": {
        "id": "bfmDnoWrdL3p",
        "colab": {
          "base_uri": "https://localhost:8080/"
        },
        "outputId": "52626e4f-0a00-4735-d92e-c5c3947aebd5"
      },
      "execution_count": 22,
      "outputs": [
        {
          "output_type": "stream",
          "name": "stdout",
          "text": [
            "Looking in indexes: https://pypi.org/simple, https://us-python.pkg.dev/colab-wheels/public/simple/\n",
            "Collecting hazm\n",
            "  Downloading hazm-0.7.0-py3-none-any.whl (316 kB)\n",
            "\u001b[2K     \u001b[90m━━━━━━━━━━━━━━━━━━━━━━━━━━━━━━━━━━━━━━\u001b[0m \u001b[32m316.7/316.7 kB\u001b[0m \u001b[31m12.6 MB/s\u001b[0m eta \u001b[36m0:00:00\u001b[0m\n",
            "\u001b[?25hCollecting libwapiti>=0.2.1\n",
            "  Downloading libwapiti-0.2.1.tar.gz (233 kB)\n",
            "\u001b[2K     \u001b[90m━━━━━━━━━━━━━━━━━━━━━━━━━━━━━━━━━━━━━━\u001b[0m \u001b[32m233.6/233.6 kB\u001b[0m \u001b[31m23.9 MB/s\u001b[0m eta \u001b[36m0:00:00\u001b[0m\n",
            "\u001b[?25h  Preparing metadata (setup.py) ... \u001b[?25l\u001b[?25hdone\n",
            "Collecting nltk==3.3\n",
            "  Downloading nltk-3.3.0.zip (1.4 MB)\n",
            "\u001b[2K     \u001b[90m━━━━━━━━━━━━━━━━━━━━━━━━━━━━━━━━━━━━━━━━\u001b[0m \u001b[32m1.4/1.4 MB\u001b[0m \u001b[31m32.6 MB/s\u001b[0m eta \u001b[36m0:00:00\u001b[0m\n",
            "\u001b[?25h  Preparing metadata (setup.py) ... \u001b[?25l\u001b[?25hdone\n",
            "Requirement already satisfied: six in /usr/local/lib/python3.9/dist-packages (from nltk==3.3->hazm) (1.16.0)\n",
            "Building wheels for collected packages: nltk, libwapiti\n",
            "  Building wheel for nltk (setup.py) ... \u001b[?25l\u001b[?25hdone\n",
            "  Created wheel for nltk: filename=nltk-3.3-py3-none-any.whl size=1394485 sha256=d514f9f6b1db215a23fb987279c69b35984642e3de71ffa2edb4cb04d4dc3b38\n",
            "  Stored in directory: /root/.cache/pip/wheels/ac/62/f6/88933dadcd64a1614894614aa68cf57c4b8e5256acb650b1f1\n",
            "  Building wheel for libwapiti (setup.py) ... \u001b[?25l\u001b[?25hdone\n",
            "  Created wheel for libwapiti: filename=libwapiti-0.2.1-cp39-cp39-linux_x86_64.whl size=180370 sha256=1173b20966d2f9bc2eee51f6287bdd6473e31d73f3914503b6fe553347730f61\n",
            "  Stored in directory: /root/.cache/pip/wheels/8e/ff/82/9326b96f96f47472e02c453697b225813e4650c0ed4df2cd49\n",
            "Successfully built nltk libwapiti\n",
            "Installing collected packages: nltk, libwapiti, hazm\n",
            "  Attempting uninstall: nltk\n",
            "    Found existing installation: nltk 3.8.1\n",
            "    Uninstalling nltk-3.8.1:\n",
            "      Successfully uninstalled nltk-3.8.1\n",
            "Successfully installed hazm-0.7.0 libwapiti-0.2.1 nltk-3.3\n"
          ]
        }
      ]
    },
    {
      "cell_type": "code",
      "source": [
        "from hazm import word_tokenize\n",
        "\n",
        "def clean_data(dataset):\n",
        "  text = dataset['text'].values\n",
        "  text_tokenized = [word_tokenize(t) for t in text]\n",
        "  text_tokenized_filtered = [[w for w in sentence if w not in stopwords] for sentence in text_tokenized]\n",
        "  sentence = [' '.join(sentence) for sentence in text_tokenized_filtered]\n",
        "  # remove numbers and white spaces\n",
        "  sentence = [s.replace('\\u200c', '') for s in sentence]\n",
        "  sentence = [re.sub('[0-9]+', 'عدد', s) for s in sentence]\n",
        "  sentence = [re.sub('\\s+', ' ', s) for s in sentence]\n",
        "  return sentence"
      ],
      "metadata": {
        "id": "O7JQ52Z0eour"
      },
      "execution_count": 23,
      "outputs": []
    },
    {
      "cell_type": "code",
      "source": [
        "clean_train_data = clean_data(train_dataset)\n",
        "clean_test_data = clean_data(test_dataset)"
      ],
      "metadata": {
        "id": "sD6RkzZrVmy4"
      },
      "execution_count": 24,
      "outputs": []
    },
    {
      "cell_type": "code",
      "source": [
        "clean_train_data[0]"
      ],
      "metadata": {
        "colab": {
          "base_uri": "https://localhost:8080/",
          "height": 36
        },
        "id": "hZoEIg45Vux_",
        "outputId": "34ed3b63-74d7-4e81-dcd1-22f39517890a"
      },
      "execution_count": 25,
      "outputs": [
        {
          "output_type": "execute_result",
          "data": {
            "text/plain": [
              "'زدن کد دستوری عدد عدد اهنگ پیشواز لغو نشد چجوری اهنگ پیشواز لغو'"
            ],
            "application/vnd.google.colaboratory.intrinsic+json": {
              "type": "string"
            }
          },
          "metadata": {},
          "execution_count": 25
        }
      ]
    },
    {
      "cell_type": "code",
      "source": [
        "clean_test_data[0]"
      ],
      "metadata": {
        "colab": {
          "base_uri": "https://localhost:8080/",
          "height": 36
        },
        "id": "xEAHDidNWpIY",
        "outputId": "4f59f83b-20c4-4b81-9c4f-48ff3dd6464f"
      },
      "execution_count": 26,
      "outputs": [
        {
          "output_type": "execute_result",
          "data": {
            "text/plain": [
              "'مشکلی آوای انتظار فعالش میخوام غیرفعالش هچین گزینهای پنل کاربریم ندارم ممنون میشم راهنماییم'"
            ],
            "application/vnd.google.colaboratory.intrinsic+json": {
              "type": "string"
            }
          },
          "metadata": {},
          "execution_count": 26
        }
      ]
    },
    {
      "cell_type": "markdown",
      "source": [
        "### **one hot Y**"
      ],
      "metadata": {
        "id": "gVnH-aKecWCb"
      }
    },
    {
      "cell_type": "code",
      "source": [
        "def prepare_y(dataset):\n",
        "  Y = pd.get_dummies(dataset['category']).values\n",
        "  return Y"
      ],
      "metadata": {
        "id": "O5UUR4mzXDkQ"
      },
      "execution_count": 27,
      "outputs": []
    },
    {
      "cell_type": "code",
      "source": [
        "category_types = [\n",
        "        'خارج از دامنه',\n",
        "        'دریافت کد آوای انتظار خط خود',\n",
        "        'دریافت کد آوای انتظار خط دیگران',\n",
        "        'روش تغییرآوای انتظار',\n",
        "        'روش غیرفعالسازی آوای انتظار',\n",
        "        'روش فعالسازی آوای انتظار',\n",
        "        'لیست آواهای انتظار',\n",
        "        'مشکل تغییر آوای انتظار',\n",
        "        'مشکل غیرفعالسازی آوای انتظار',\n",
        "        'مشکل فعالسازی آوای انتظار',\n",
        "        'مشکل پخش آوای انتظار'\n",
        "]"
      ],
      "metadata": {
        "id": "p6Mqy6OOcKH3"
      },
      "execution_count": 28,
      "outputs": []
    },
    {
      "cell_type": "code",
      "source": [
        "category_types"
      ],
      "metadata": {
        "colab": {
          "base_uri": "https://localhost:8080/"
        },
        "id": "2jER8S9R5BIn",
        "outputId": "06f8f77e-ec62-482d-9abf-af7fdc35ab17"
      },
      "execution_count": 29,
      "outputs": [
        {
          "output_type": "execute_result",
          "data": {
            "text/plain": [
              "['خارج از دامنه',\n",
              " 'دریافت کد آوای انتظار خط خود',\n",
              " 'دریافت کد آوای انتظار خط دیگران',\n",
              " 'روش تغییرآوای انتظار',\n",
              " 'روش غیرفعالسازی آوای انتظار',\n",
              " 'روش فعالسازی آوای انتظار',\n",
              " 'لیست آواهای انتظار',\n",
              " 'مشکل تغییر آوای انتظار',\n",
              " 'مشکل غیرفعالسازی آوای انتظار',\n",
              " 'مشکل فعالسازی آوای انتظار',\n",
              " 'مشکل پخش آوای انتظار']"
            ]
          },
          "metadata": {},
          "execution_count": 29
        }
      ]
    },
    {
      "cell_type": "markdown",
      "source": [
        "### **Train & Test Split**"
      ],
      "metadata": {
        "id": "1pyE3qWscdIC"
      }
    },
    {
      "cell_type": "code",
      "source": [
        "X_train = clean_train_data\n",
        "X_test =  clean_test_data\n",
        "y_train = prepare_y(train_dataset)\n",
        "y_test = prepare_y(test_dataset)"
      ],
      "metadata": {
        "id": "ywKcPnwWdIMd"
      },
      "execution_count": 30,
      "outputs": []
    },
    {
      "cell_type": "code",
      "source": [
        "print(np.array(X_train).shape)\n",
        "print(np.array(X_test).shape)\n",
        "print(np.array(y_train).shape)\n",
        "print(np.array(y_test).shape)"
      ],
      "metadata": {
        "colab": {
          "base_uri": "https://localhost:8080/"
        },
        "id": "0w29RYhDdU36",
        "outputId": "423f7c16-dced-41d6-bbde-3ab9b8b0152c"
      },
      "execution_count": 31,
      "outputs": [
        {
          "output_type": "stream",
          "name": "stdout",
          "text": [
            "(2761,)\n",
            "(484,)\n",
            "(2761, 11)\n",
            "(484, 11)\n"
          ]
        }
      ]
    },
    {
      "cell_type": "markdown",
      "source": [
        "### **Train The Model**"
      ],
      "metadata": {
        "id": "l4wNYflDdgsd"
      }
    },
    {
      "cell_type": "code",
      "source": [
        "!pip install transformers\n",
        "import transformers"
      ],
      "metadata": {
        "colab": {
          "base_uri": "https://localhost:8080/"
        },
        "id": "z3dgYQcB7pKz",
        "outputId": "b0a36816-1163-4551-8b9e-f398dd855ae7"
      },
      "execution_count": 32,
      "outputs": [
        {
          "output_type": "stream",
          "name": "stdout",
          "text": [
            "Looking in indexes: https://pypi.org/simple, https://us-python.pkg.dev/colab-wheels/public/simple/\n",
            "Collecting transformers\n",
            "  Downloading transformers-4.28.1-py3-none-any.whl (7.0 MB)\n",
            "\u001b[2K     \u001b[90m━━━━━━━━━━━━━━━━━━━━━━━━━━━━━━━━━━━━━━━━\u001b[0m \u001b[32m7.0/7.0 MB\u001b[0m \u001b[31m77.0 MB/s\u001b[0m eta \u001b[36m0:00:00\u001b[0m\n",
            "\u001b[?25hCollecting tokenizers!=0.11.3,<0.14,>=0.11.1\n",
            "  Downloading tokenizers-0.13.3-cp39-cp39-manylinux_2_17_x86_64.manylinux2014_x86_64.whl (7.8 MB)\n",
            "\u001b[2K     \u001b[90m━━━━━━━━━━━━━━━━━━━━━━━━━━━━━━━━━━━━━━━━\u001b[0m \u001b[32m7.8/7.8 MB\u001b[0m \u001b[31m65.5 MB/s\u001b[0m eta \u001b[36m0:00:00\u001b[0m\n",
            "\u001b[?25hRequirement already satisfied: packaging>=20.0 in /usr/local/lib/python3.9/dist-packages (from transformers) (23.1)\n",
            "Requirement already satisfied: pyyaml>=5.1 in /usr/local/lib/python3.9/dist-packages (from transformers) (6.0)\n",
            "Requirement already satisfied: filelock in /usr/local/lib/python3.9/dist-packages (from transformers) (3.11.0)\n",
            "Requirement already satisfied: numpy>=1.17 in /usr/local/lib/python3.9/dist-packages (from transformers) (1.22.4)\n",
            "Requirement already satisfied: tqdm>=4.27 in /usr/local/lib/python3.9/dist-packages (from transformers) (4.65.0)\n",
            "Requirement already satisfied: regex!=2019.12.17 in /usr/local/lib/python3.9/dist-packages (from transformers) (2022.10.31)\n",
            "Requirement already satisfied: requests in /usr/local/lib/python3.9/dist-packages (from transformers) (2.27.1)\n",
            "Collecting huggingface-hub<1.0,>=0.11.0\n",
            "  Downloading huggingface_hub-0.13.4-py3-none-any.whl (200 kB)\n",
            "\u001b[2K     \u001b[90m━━━━━━━━━━━━━━━━━━━━━━━━━━━━━━━━━━━━━━\u001b[0m \u001b[32m200.1/200.1 kB\u001b[0m \u001b[31m16.4 MB/s\u001b[0m eta \u001b[36m0:00:00\u001b[0m\n",
            "\u001b[?25hRequirement already satisfied: typing-extensions>=3.7.4.3 in /usr/local/lib/python3.9/dist-packages (from huggingface-hub<1.0,>=0.11.0->transformers) (4.5.0)\n",
            "Requirement already satisfied: charset-normalizer~=2.0.0 in /usr/local/lib/python3.9/dist-packages (from requests->transformers) (2.0.12)\n",
            "Requirement already satisfied: urllib3<1.27,>=1.21.1 in /usr/local/lib/python3.9/dist-packages (from requests->transformers) (1.26.15)\n",
            "Requirement already satisfied: idna<4,>=2.5 in /usr/local/lib/python3.9/dist-packages (from requests->transformers) (3.4)\n",
            "Requirement already satisfied: certifi>=2017.4.17 in /usr/local/lib/python3.9/dist-packages (from requests->transformers) (2022.12.7)\n",
            "Installing collected packages: tokenizers, huggingface-hub, transformers\n",
            "Successfully installed huggingface-hub-0.13.4 tokenizers-0.13.3 transformers-4.28.1\n"
          ]
        }
      ]
    },
    {
      "cell_type": "code",
      "source": [
        "from transformers import AutoTokenizer,TFBertModel\n",
        "MODEL_NAME = \"HooshvareLab/bert-fa-zwnj-base\"\n",
        "tokenizer = AutoTokenizer.from_pretrained(MODEL_NAME)\n",
        "bert = TFBertModel.from_pretrained(MODEL_NAME)"
      ],
      "metadata": {
        "colab": {
          "base_uri": "https://localhost:8080/",
          "height": 320,
          "referenced_widgets": [
            "354367644e634ba48620fb135b8d1091",
            "6fff0d1dd3a140a88b6c47d8a8ce85e9",
            "c9b302d9a4d245a9be997db2c917ea0e",
            "3a81da837a504f099b5fd7dedfdec6e5",
            "f81f211b9f804be288db9f009231fbdf",
            "edfc51cf0b804879b8582a9eae48b5a7",
            "a65f583a72be422b947e592baf024555",
            "08040fc671dd45409ac5797d34e6ec39",
            "08b00259a4e343e19bf7b7687e7f5452",
            "24bf0406b4604464997198b510acb23f",
            "dc3d568e64fd4b39b011360ae5ff2dce",
            "5763916486a5462f9eb9a326f2f1b9b1",
            "dbe4cacf992f48fab3e184cb734f0d83",
            "b45d55d134364809a16cf15cffdd0d18",
            "3e0819b2ce684d789dae935b7b2cbbfe",
            "a209e1194f4e4414a01b193f86dc97f3",
            "9c7394e616834eb3857ca13f2433c78a",
            "844bf6814ecf4879884625c2b8510c17",
            "ad363a5dd3894f6a944d1c872c7f93a6",
            "a23c26de9e974e0596b9a9d8eb037982",
            "bb4adb77a36642639683b6c0a1063baa",
            "affcf0e874f749b48e9a9935a47bef03",
            "f43e2bc7f433400492af1da817b8e582",
            "225de7aea3874e31938b6d2db42bde29",
            "6e6bb93b7f9b4a089c85b7150b84d5ab",
            "0180e0402a394b83b08250d75e4980ae",
            "72020fa66f5741ee85b1ea4d1197abdc",
            "8ac5303ad48f433ea4cd74065053ee6d",
            "0273968c55d2415696b7b82b71e354ef",
            "c9581bd64c5441a1a581512ba8c538d0",
            "b344b5e33f64461a91909a0611c3bbc7",
            "7d0f83a7fa364116af724025c67e660b",
            "3e7f3bf12e674dbdaca5147319cd8cc7",
            "d721240e933e4141828600f168e4fbf0",
            "a64d67129a02473d9987aedc84dcb586",
            "890d7de424704b91aea89b36edc5b573",
            "3006f22bb58445018afe15d1983db0e3",
            "805bad6ec7c94ade849acc5868d06933",
            "21fa7fb9619448059abbcd909e0d4f1e",
            "3a20e72694cb47ba9fb64b8ccbf8d219",
            "4d44c92e8d534fc395d0f82828c20676",
            "5157ea24ae424dc18039181fdeafcd23",
            "bb5513302cd845fdb628a4bb22a2e229",
            "def57ddde021440abb1951ba95668370",
            "b48afe1021264600ab6a58a9b91662c8",
            "b42ca77340ce441a89f6b402c179e0ab",
            "2550b45277d448898793fc25e16a6747",
            "e5eb4b6d698b4c0abb378454ce48b37c",
            "71e727898fde4522b59330f98e90cb5b",
            "411dafbd928b49609a3a8aa20fe0fcc0",
            "4c4e43fb09fc4e5eac940e44548048f3",
            "e3ba76b6204745328deb8d191af313c0",
            "cb63477a4a6c4598811fc75fe0698080",
            "f0c54cdc3c6e417fb37587a086573d3a",
            "ed2cdb50b57e44ebbbb5128518f381b6",
            "7fc48b0190f541ffa548b3f8fafeb641",
            "4ae7f31cae5d4507b9dd5182f1c5b643",
            "6df7bda67994491c97cd9441b38f1811",
            "71e9e6a983064862a222030e8a4ca1d3",
            "1dd8ebce4bd54e24963a798712c150af",
            "cafafb4cd5604536a7bca8b0b412881b",
            "4512774dd68547bd8f8673cca532bb8a",
            "0534703002824542a2aab926c68eb4f6",
            "5e9b059f83784e36984fa65799a29f29",
            "2c05c55354e4482d9776d8d6e9827514",
            "57ed2f7c8e1346e7807993624f12834e"
          ]
        },
        "id": "9nlyY1dL7uuK",
        "outputId": "a746a23b-9490-4143-a570-09d34912e46d"
      },
      "execution_count": 33,
      "outputs": [
        {
          "output_type": "display_data",
          "data": {
            "text/plain": [
              "Downloading (…)okenizer_config.json:   0%|          | 0.00/292 [00:00<?, ?B/s]"
            ],
            "application/vnd.jupyter.widget-view+json": {
              "version_major": 2,
              "version_minor": 0,
              "model_id": "354367644e634ba48620fb135b8d1091"
            }
          },
          "metadata": {}
        },
        {
          "output_type": "display_data",
          "data": {
            "text/plain": [
              "Downloading (…)lve/main/config.json:   0%|          | 0.00/565 [00:00<?, ?B/s]"
            ],
            "application/vnd.jupyter.widget-view+json": {
              "version_major": 2,
              "version_minor": 0,
              "model_id": "5763916486a5462f9eb9a326f2f1b9b1"
            }
          },
          "metadata": {}
        },
        {
          "output_type": "display_data",
          "data": {
            "text/plain": [
              "Downloading (…)solve/main/vocab.txt:   0%|          | 0.00/426k [00:00<?, ?B/s]"
            ],
            "application/vnd.jupyter.widget-view+json": {
              "version_major": 2,
              "version_minor": 0,
              "model_id": "f43e2bc7f433400492af1da817b8e582"
            }
          },
          "metadata": {}
        },
        {
          "output_type": "display_data",
          "data": {
            "text/plain": [
              "Downloading (…)/main/tokenizer.json:   0%|          | 0.00/1.11M [00:00<?, ?B/s]"
            ],
            "application/vnd.jupyter.widget-view+json": {
              "version_major": 2,
              "version_minor": 0,
              "model_id": "d721240e933e4141828600f168e4fbf0"
            }
          },
          "metadata": {}
        },
        {
          "output_type": "display_data",
          "data": {
            "text/plain": [
              "Downloading (…)cial_tokens_map.json:   0%|          | 0.00/134 [00:00<?, ?B/s]"
            ],
            "application/vnd.jupyter.widget-view+json": {
              "version_major": 2,
              "version_minor": 0,
              "model_id": "b48afe1021264600ab6a58a9b91662c8"
            }
          },
          "metadata": {}
        },
        {
          "output_type": "display_data",
          "data": {
            "text/plain": [
              "Downloading tf_model.h5:   0%|          | 0.00/603M [00:00<?, ?B/s]"
            ],
            "application/vnd.jupyter.widget-view+json": {
              "version_major": 2,
              "version_minor": 0,
              "model_id": "7fc48b0190f541ffa548b3f8fafeb641"
            }
          },
          "metadata": {}
        },
        {
          "output_type": "stream",
          "name": "stderr",
          "text": [
            "Some layers from the model checkpoint at HooshvareLab/bert-fa-zwnj-base were not used when initializing TFBertModel: ['mlm___cls']\n",
            "- This IS expected if you are initializing TFBertModel from the checkpoint of a model trained on another task or with another architecture (e.g. initializing a BertForSequenceClassification model from a BertForPreTraining model).\n",
            "- This IS NOT expected if you are initializing TFBertModel from the checkpoint of a model that you expect to be exactly identical (initializing a BertForSequenceClassification model from a BertForSequenceClassification model).\n",
            "Some layers of TFBertModel were not initialized from the model checkpoint at HooshvareLab/bert-fa-zwnj-base and are newly initialized: ['bert/pooler/dense/kernel:0', 'bert/pooler/dense/bias:0']\n",
            "You should probably TRAIN this model on a down-stream task to be able to use it for predictions and inference.\n"
          ]
        }
      ]
    },
    {
      "cell_type": "code",
      "source": [
        "bert.summary()"
      ],
      "metadata": {
        "colab": {
          "base_uri": "https://localhost:8080/"
        },
        "id": "DvCkyu_m76sp",
        "outputId": "175e82e8-3fe2-42e0-8508-0d22f227c409"
      },
      "execution_count": 34,
      "outputs": [
        {
          "output_type": "stream",
          "name": "stdout",
          "text": [
            "Model: \"tf_bert_model\"\n",
            "_________________________________________________________________\n",
            " Layer (type)                Output Shape              Param #   \n",
            "=================================================================\n",
            " bert (TFBertMainLayer)      multiple                  118297344 \n",
            "                                                                 \n",
            "=================================================================\n",
            "Total params: 118,297,344\n",
            "Trainable params: 118,297,344\n",
            "Non-trainable params: 0\n",
            "_________________________________________________________________\n"
          ]
        }
      ]
    },
    {
      "cell_type": "code",
      "source": [
        "x_train = tokenizer(\n",
        "    text=X_train,\n",
        "    add_special_tokens=True,\n",
        "    max_length=60,\n",
        "    truncation=True,\n",
        "    padding=\"max_length\",\n",
        "    return_tensors='tf',\n",
        "    return_token_type_ids = False,\n",
        "    return_attention_mask = True,\n",
        "    verbose = True)\n",
        "\n",
        "x_test = tokenizer(\n",
        "    text=X_test,\n",
        "    add_special_tokens=True,\n",
        "    max_length=60,\n",
        "    truncation=True,\n",
        "    padding=\"max_length\",\n",
        "    return_tensors='tf',\n",
        "    return_token_type_ids = False,\n",
        "    return_attention_mask = True,\n",
        "    verbose = True)"
      ],
      "metadata": {
        "id": "jTPDvKaE79j2"
      },
      "execution_count": 35,
      "outputs": []
    },
    {
      "cell_type": "code",
      "source": [
        "input_ids = x_train['input_ids']\n",
        "attention_mask = x_train['attention_mask']"
      ],
      "metadata": {
        "id": "QdQCd1_F9Otc"
      },
      "execution_count": 36,
      "outputs": []
    },
    {
      "cell_type": "code",
      "source": [
        "input_ids[0]"
      ],
      "metadata": {
        "colab": {
          "base_uri": "https://localhost:8080/"
        },
        "id": "WTRJ653Q9TJL",
        "outputId": "95705af1-4d81-46ae-c5db-2ec5f9fa8dfe"
      },
      "execution_count": 37,
      "outputs": [
        {
          "output_type": "execute_result",
          "data": {
            "text/plain": [
              "<tf.Tensor: shape=(60,), dtype=int32, numpy=\n",
              "array([    2,  4309,  3441, 12342,  4420,  4420,  4265, 36379,  6009,\n",
              "        4921, 16097,  4265, 36379,  6009,     3,     0,     0,     0,\n",
              "           0,     0,     0,     0,     0,     0,     0,     0,     0,\n",
              "           0,     0,     0,     0,     0,     0,     0,     0,     0,\n",
              "           0,     0,     0,     0,     0,     0,     0,     0,     0,\n",
              "           0,     0,     0,     0,     0,     0,     0,     0,     0,\n",
              "           0,     0,     0,     0,     0,     0], dtype=int32)>"
            ]
          },
          "metadata": {},
          "execution_count": 37
        }
      ]
    },
    {
      "cell_type": "code",
      "source": [
        "input_ids[0].shape"
      ],
      "metadata": {
        "colab": {
          "base_uri": "https://localhost:8080/"
        },
        "id": "JvOJi5EEbtNx",
        "outputId": "9ed48a54-09de-4888-be0d-160e60b05011"
      },
      "execution_count": 38,
      "outputs": [
        {
          "output_type": "execute_result",
          "data": {
            "text/plain": [
              "TensorShape([60])"
            ]
          },
          "metadata": {},
          "execution_count": 38
        }
      ]
    },
    {
      "cell_type": "code",
      "source": [
        "attention_mask[0]"
      ],
      "metadata": {
        "colab": {
          "base_uri": "https://localhost:8080/"
        },
        "id": "duFWFxjpZ7ZH",
        "outputId": "88f997da-1f59-489a-9034-fa9adc503579"
      },
      "execution_count": 39,
      "outputs": [
        {
          "output_type": "execute_result",
          "data": {
            "text/plain": [
              "<tf.Tensor: shape=(60,), dtype=int32, numpy=\n",
              "array([1, 1, 1, 1, 1, 1, 1, 1, 1, 1, 1, 1, 1, 1, 1, 0, 0, 0, 0, 0, 0, 0,\n",
              "       0, 0, 0, 0, 0, 0, 0, 0, 0, 0, 0, 0, 0, 0, 0, 0, 0, 0, 0, 0, 0, 0,\n",
              "       0, 0, 0, 0, 0, 0, 0, 0, 0, 0, 0, 0, 0, 0, 0, 0], dtype=int32)>"
            ]
          },
          "metadata": {},
          "execution_count": 39
        }
      ]
    },
    {
      "cell_type": "code",
      "source": [
        "attention_mask[0].shape"
      ],
      "metadata": {
        "colab": {
          "base_uri": "https://localhost:8080/"
        },
        "id": "EY3qVnmwbxFO",
        "outputId": "6cda10f8-d08c-4f97-d5a8-511f32fbcc13"
      },
      "execution_count": 40,
      "outputs": [
        {
          "output_type": "execute_result",
          "data": {
            "text/plain": [
              "TensorShape([60])"
            ]
          },
          "metadata": {},
          "execution_count": 40
        }
      ]
    },
    {
      "cell_type": "code",
      "source": [
        "import tensorflow as tf\n",
        "from tensorflow.keras.optimizers import Adam\n",
        "from tensorflow.keras.callbacks import EarlyStopping\n",
        "from tensorflow.keras.initializers import TruncatedNormal\n",
        "from tensorflow.keras.losses import CategoricalCrossentropy\n",
        "from tensorflow.keras.metrics import CategoricalAccuracy\n",
        "from tensorflow.keras.utils import to_categorical\n",
        "from tensorflow.keras.layers import Input, Dense"
      ],
      "metadata": {
        "id": "VsvrbX_87fid"
      },
      "execution_count": 41,
      "outputs": []
    },
    {
      "cell_type": "code",
      "source": [
        "max_len = 60\n",
        "input_ids = Input(shape=(max_len,), dtype=tf.int32, name=\"input_ids\")\n",
        "input_mask = Input(shape=(max_len,), dtype=tf.int32, name=\"attention_mask\")\n",
        "embeddings = bert(input_ids, attention_mask=input_mask)[0] \n",
        "out = tf.keras.layers.GlobalMaxPool1D()(embeddings)\n",
        "out = Dense(128, activation='relu')(out)\n",
        "out = tf.keras.layers.Dropout(0.1)(out)\n",
        "out = Dense(32, activation = 'relu')(out)\n",
        "y = Dense(len(category_types), activation='softmax')(out)\n",
        "model = tf.keras.Model(inputs=[input_ids, input_mask], outputs=y)\n",
        "model.layers[2].trainable = True"
      ],
      "metadata": {
        "id": "4kDWF0CB7ao2"
      },
      "execution_count": 42,
      "outputs": []
    },
    {
      "cell_type": "code",
      "source": [
        "optimizer = Adam(\n",
        "    learning_rate=5e-05, \n",
        "    epsilon=1e-08,\n",
        "    clipnorm=1.0)"
      ],
      "metadata": {
        "id": "1AcYEL7e9ueN"
      },
      "execution_count": 43,
      "outputs": []
    },
    {
      "cell_type": "code",
      "source": [
        "\n",
        "model.compile(loss='categorical_crossentropy', optimizer=optimizer, metrics=['accuracy'])"
      ],
      "metadata": {
        "id": "dhl1lZKCd9OL"
      },
      "execution_count": 44,
      "outputs": []
    },
    {
      "cell_type": "code",
      "source": [
        "model.summary()"
      ],
      "metadata": {
        "colab": {
          "base_uri": "https://localhost:8080/"
        },
        "id": "3imJ6yqpeBxu",
        "outputId": "a197fe12-5a6f-4fed-e76d-a9f42b1dd5d3"
      },
      "execution_count": 45,
      "outputs": [
        {
          "output_type": "stream",
          "name": "stdout",
          "text": [
            "Model: \"model\"\n",
            "__________________________________________________________________________________________________\n",
            " Layer (type)                   Output Shape         Param #     Connected to                     \n",
            "==================================================================================================\n",
            " input_ids (InputLayer)         [(None, 60)]         0           []                               \n",
            "                                                                                                  \n",
            " attention_mask (InputLayer)    [(None, 60)]         0           []                               \n",
            "                                                                                                  \n",
            " tf_bert_model (TFBertModel)    TFBaseModelOutputWi  118297344   ['input_ids[0][0]',              \n",
            "                                thPoolingAndCrossAt               'attention_mask[0][0]']         \n",
            "                                tentions(last_hidde                                               \n",
            "                                n_state=(None, 60,                                                \n",
            "                                768),                                                             \n",
            "                                 pooler_output=(Non                                               \n",
            "                                e, 768),                                                          \n",
            "                                 past_key_values=No                                               \n",
            "                                ne, hidden_states=N                                               \n",
            "                                one, attentions=Non                                               \n",
            "                                e, cross_attentions                                               \n",
            "                                =None)                                                            \n",
            "                                                                                                  \n",
            " global_max_pooling1d (GlobalMa  (None, 768)         0           ['tf_bert_model[0][0]']          \n",
            " xPooling1D)                                                                                      \n",
            "                                                                                                  \n",
            " dense (Dense)                  (None, 128)          98432       ['global_max_pooling1d[0][0]']   \n",
            "                                                                                                  \n",
            " dropout_37 (Dropout)           (None, 128)          0           ['dense[0][0]']                  \n",
            "                                                                                                  \n",
            " dense_1 (Dense)                (None, 32)           4128        ['dropout_37[0][0]']             \n",
            "                                                                                                  \n",
            " dense_2 (Dense)                (None, 11)           363         ['dense_1[0][0]']                \n",
            "                                                                                                  \n",
            "==================================================================================================\n",
            "Total params: 118,400,267\n",
            "Trainable params: 118,400,267\n",
            "Non-trainable params: 0\n",
            "__________________________________________________________________________________________________\n"
          ]
        }
      ]
    },
    {
      "cell_type": "code",
      "source": [
        "history = model.fit(\n",
        "    x ={'input_ids':x_train['input_ids'],'attention_mask':x_train['attention_mask']} ,\n",
        "    y = y_train,\n",
        "    validation_data = (\n",
        "    {'input_ids':x_test['input_ids'],'attention_mask':x_test['attention_mask']}, y_test\n",
        "    ),\n",
        "    epochs=8,\n",
        "    batch_size=8\n",
        ")"
      ],
      "metadata": {
        "colab": {
          "base_uri": "https://localhost:8080/"
        },
        "id": "mVpGL0m0eDrZ",
        "outputId": "c2adbf66-f37c-4f76-81d3-a6eecc1a998c"
      },
      "execution_count": 46,
      "outputs": [
        {
          "output_type": "stream",
          "name": "stdout",
          "text": [
            "Epoch 1/8\n"
          ]
        },
        {
          "output_type": "stream",
          "name": "stderr",
          "text": [
            "WARNING:tensorflow:Gradients do not exist for variables ['tf_bert_model/bert/pooler/dense/kernel:0', 'tf_bert_model/bert/pooler/dense/bias:0'] when minimizing the loss. If you're using `model.compile()`, did you forget to provide a `loss` argument?\n",
            "WARNING:tensorflow:Gradients do not exist for variables ['tf_bert_model/bert/pooler/dense/kernel:0', 'tf_bert_model/bert/pooler/dense/bias:0'] when minimizing the loss. If you're using `model.compile()`, did you forget to provide a `loss` argument?\n",
            "WARNING:tensorflow:Gradients do not exist for variables ['tf_bert_model/bert/pooler/dense/kernel:0', 'tf_bert_model/bert/pooler/dense/bias:0'] when minimizing the loss. If you're using `model.compile()`, did you forget to provide a `loss` argument?\n",
            "WARNING:tensorflow:Gradients do not exist for variables ['tf_bert_model/bert/pooler/dense/kernel:0', 'tf_bert_model/bert/pooler/dense/bias:0'] when minimizing the loss. If you're using `model.compile()`, did you forget to provide a `loss` argument?\n"
          ]
        },
        {
          "output_type": "stream",
          "name": "stdout",
          "text": [
            "346/346 [==============================] - 126s 196ms/step - loss: 1.4183 - accuracy: 0.5520 - val_loss: 0.7757 - val_accuracy: 0.7727\n",
            "Epoch 2/8\n",
            "346/346 [==============================] - 53s 153ms/step - loss: 0.7009 - accuracy: 0.8019 - val_loss: 0.7245 - val_accuracy: 0.8202\n",
            "Epoch 3/8\n",
            "346/346 [==============================] - 55s 159ms/step - loss: 0.4516 - accuracy: 0.8696 - val_loss: 0.7279 - val_accuracy: 0.8161\n",
            "Epoch 4/8\n",
            "346/346 [==============================] - 55s 159ms/step - loss: 0.3082 - accuracy: 0.9098 - val_loss: 0.7098 - val_accuracy: 0.8388\n",
            "Epoch 5/8\n",
            "346/346 [==============================] - 55s 160ms/step - loss: 0.2626 - accuracy: 0.9268 - val_loss: 0.7794 - val_accuracy: 0.8368\n",
            "Epoch 6/8\n",
            "346/346 [==============================] - 55s 159ms/step - loss: 0.1844 - accuracy: 0.9478 - val_loss: 0.8503 - val_accuracy: 0.8512\n",
            "Epoch 7/8\n",
            "346/346 [==============================] - 55s 158ms/step - loss: 0.1450 - accuracy: 0.9638 - val_loss: 0.8461 - val_accuracy: 0.8533\n",
            "Epoch 8/8\n",
            "346/346 [==============================] - 54s 157ms/step - loss: 0.0998 - accuracy: 0.9699 - val_loss: 1.0677 - val_accuracy: 0.8471\n"
          ]
        }
      ]
    },
    {
      "cell_type": "code",
      "source": [
        "model.save('intent_detection_model.h5')"
      ],
      "metadata": {
        "id": "Ei-Yx8bueF0J"
      },
      "execution_count": 49,
      "outputs": []
    },
    {
      "cell_type": "code",
      "source": [],
      "metadata": {
        "id": "FIbuKREI60WS"
      },
      "execution_count": null,
      "outputs": []
    },
    {
      "cell_type": "markdown",
      "source": [
        "### **Testing the Model**"
      ],
      "metadata": {
        "id": "S1GEY_58uzgf"
      }
    },
    {
      "cell_type": "code",
      "source": [
        "# load model\n",
        "from tensorflow.keras.models import load_model\n",
        "import transformers\n",
        "\n",
        "loaded_model = load_model('intent_detection_model.h5', custom_objects={\"TFBertModel\": transformers.TFBertModel})"
      ],
      "metadata": {
        "id": "t3PYutZ2uskV"
      },
      "execution_count": 52,
      "outputs": []
    },
    {
      "cell_type": "code",
      "source": [
        "predicted_raw = loaded_model.predict({'input_ids':x_test['input_ids'],'attention_mask':x_test['attention_mask']})\n",
        "predicted_raw[0]"
      ],
      "metadata": {
        "colab": {
          "base_uri": "https://localhost:8080/"
        },
        "id": "_s-goJsGAMNl",
        "outputId": "405d69a1-c37d-4469-c70c-0aa621aa4d9c"
      },
      "execution_count": 53,
      "outputs": [
        {
          "output_type": "stream",
          "name": "stdout",
          "text": [
            "16/16 [==============================] - 10s 136ms/step\n"
          ]
        },
        {
          "output_type": "execute_result",
          "data": {
            "text/plain": [
              "array([5.0798542e-04, 8.8213483e-04, 6.1284900e-06, 8.0568127e-05,\n",
              "       2.8577562e-02, 6.8429472e-05, 7.4004085e-05, 1.3595750e-04,\n",
              "       9.6900898e-01, 5.9617545e-05, 5.9854530e-04], dtype=float32)"
            ]
          },
          "metadata": {},
          "execution_count": 53
        }
      ]
    },
    {
      "cell_type": "code",
      "source": [
        "def tokenize_sentences(sentence):\n",
        "  tokenized_sentence = tokenizer(\n",
        "    text=[sentence],\n",
        "    add_special_tokens=True,\n",
        "    max_length=60,\n",
        "    truncation=True,\n",
        "    padding=\"max_length\",\n",
        "    return_tensors='tf',\n",
        "    return_token_type_ids = False,\n",
        "    return_attention_mask = True,\n",
        "    verbose = True)\n",
        "  \n",
        "  return tokenized_sentence"
      ],
      "metadata": {
        "id": "m1ecZutgxJtC"
      },
      "execution_count": 64,
      "outputs": []
    },
    {
      "cell_type": "code",
      "source": [
        "def predict(model, sentence):\n",
        "  tokenized_sentence = tokenize_sentences(sentence)\n",
        "  pridiction = model.predict({'input_ids':tokenized_sentence['input_ids'],'attention_mask':tokenized_sentence['attention_mask']})[0]\n",
        "  category_index = np.where(pridiction == max(pridiction))[0][0]\n",
        "  result = category_types[category_index]\n",
        "  return result"
      ],
      "metadata": {
        "id": "EFR3QQvog90S"
      },
      "execution_count": 95,
      "outputs": []
    },
    {
      "cell_type": "code",
      "source": [
        "print(test_dataset['text'][1])\n",
        "print(test_dataset['category'][1])"
      ],
      "metadata": {
        "colab": {
          "base_uri": "https://localhost:8080/"
        },
        "id": "sFJO5-Iy3j3L",
        "outputId": "bc81c3d4-2b27-4cc8-a561-1998d647b055"
      },
      "execution_count": 105,
      "outputs": [
        {
          "output_type": "stream",
          "name": "stdout",
          "text": [
            " برای فعال کردن اهنگ پیشواز از طریق همراه من اقدام کردم اما فعال نشد چکار کنم\n",
            "مشکل فعالسازی آوای انتظار\n"
          ]
        }
      ]
    },
    {
      "cell_type": "code",
      "source": [
        "sentence = test_dataset['text'][1]\n",
        "pridiction = predict(loaded_model, sentence)\n",
        "print(pridiction)"
      ],
      "metadata": {
        "colab": {
          "base_uri": "https://localhost:8080/"
        },
        "id": "yynF6AuowZKb",
        "outputId": "800856e8-548c-4793-e1d9-89c83176659d"
      },
      "execution_count": 106,
      "outputs": [
        {
          "output_type": "stream",
          "name": "stdout",
          "text": [
            "1/1 [==============================] - 0s 86ms/step\n",
            "مشکل فعالسازی آوای انتظار\n"
          ]
        }
      ]
    },
    {
      "cell_type": "markdown",
      "source": [
        "### **Model Evaluation**"
      ],
      "metadata": {
        "id": "cMvjCi4O-3AI"
      }
    },
    {
      "cell_type": "code",
      "source": [
        "y_pred = loaded_model.predict({'input_ids':x_test['input_ids'],'attention_mask':x_test['attention_mask']})\n",
        "y_pred = np.argmax(y_pred, axis=1)"
      ],
      "metadata": {
        "colab": {
          "base_uri": "https://localhost:8080/"
        },
        "id": "tncBTZbOAns3",
        "outputId": "3deb6c60-4f22-42d2-81f2-200b40227e8e"
      },
      "execution_count": 119,
      "outputs": [
        {
          "output_type": "stream",
          "name": "stdout",
          "text": [
            "16/16 [==============================] - 2s 136ms/step\n"
          ]
        }
      ]
    },
    {
      "cell_type": "code",
      "source": [
        "y_true = np.argmax(y_test, axis=1)"
      ],
      "metadata": {
        "id": "TUpoQX2nAvpP"
      },
      "execution_count": 120,
      "outputs": []
    },
    {
      "cell_type": "code",
      "source": [
        "from sklearn.metrics import f1_score\n",
        "\n",
        "print(f1_score(y_true, y_pred, average='macro'))\n",
        "print(f1_score(y_true, y_pred, average='micro'))\n",
        "print(f1_score(y_true, y_pred, average='weighted'))"
      ],
      "metadata": {
        "colab": {
          "base_uri": "https://localhost:8080/"
        },
        "id": "3jXgG0KhBAov",
        "outputId": "21a8630e-fc06-4149-a0ae-c4792a2d0e73"
      },
      "execution_count": 123,
      "outputs": [
        {
          "output_type": "stream",
          "name": "stdout",
          "text": [
            "0.847369835930072\n",
            "0.847107438016529\n",
            "0.8462173289652203\n"
          ]
        }
      ]
    },
    {
      "cell_type": "markdown",
      "source": [
        "### **Confusion Matrix**"
      ],
      "metadata": {
        "id": "8sLxNlj5Ajef"
      }
    },
    {
      "cell_type": "code",
      "source": [
        "from sklearn.metrics import confusion_matrix, classification_report"
      ],
      "metadata": {
        "id": "jx4_zrqe3Vnb"
      },
      "execution_count": 113,
      "outputs": []
    },
    {
      "cell_type": "code",
      "source": [
        "y_pred = loaded_model.predict({'input_ids':x_test['input_ids'],'attention_mask':x_test['attention_mask']})\n",
        "y_pred = np.argmax(y_pred, axis=1)"
      ],
      "metadata": {
        "colab": {
          "base_uri": "https://localhost:8080/"
        },
        "id": "T7CKtm8H_ZtI",
        "outputId": "11a1cffe-d9dc-4e95-b7a6-f3970679b42b"
      },
      "execution_count": 108,
      "outputs": [
        {
          "output_type": "stream",
          "name": "stdout",
          "text": [
            "16/16 [==============================] - 2s 124ms/step\n"
          ]
        }
      ]
    },
    {
      "cell_type": "code",
      "source": [
        "y_pred"
      ],
      "metadata": {
        "colab": {
          "base_uri": "https://localhost:8080/"
        },
        "id": "_L089ngR_rK4",
        "outputId": "a6cd0b59-6ebf-460f-8929-7ac29a3fdf78"
      },
      "execution_count": 109,
      "outputs": [
        {
          "output_type": "execute_result",
          "data": {
            "text/plain": [
              "array([ 8,  9, 10, 10,  6,  1,  2, 10,  8,  3,  0,  8,  9,  7, 10,  6,  4,\n",
              "        2,  5,  4,  3,  0,  8,  9,  7, 10,  6,  2,  2,  5,  4,  3,  0,  8,\n",
              "        9,  7, 10,  0,  1,  2,  3,  4,  3,  5,  8,  9,  7, 10,  6,  1,  2,\n",
              "        5, 10,  3,  1,  8,  8,  7, 10,  6,  2,  2,  5,  4,  3,  0,  8,  5,\n",
              "        7, 10,  5,  1,  2,  5,  2,  3,  6,  8,  9,  7, 10,  6,  1,  2,  5,\n",
              "        4,  3,  0,  8,  9,  7,  2,  0,  4,  2,  5,  5,  5,  0,  8,  9,  8,\n",
              "       10,  6,  1,  2, 10,  4,  3,  0,  8, 10,  7, 10,  6,  3,  2,  2,  4,\n",
              "        3,  0,  8,  9, 10, 10,  6,  2,  2,  1,  4,  3,  0,  8,  9,  7, 10,\n",
              "        0,  1,  2,  8,  4,  3,  0,  8,  9,  7, 10,  6,  4,  2,  1,  4,  3,\n",
              "        0,  8,  9,  7, 10,  6,  2,  2,  4,  4,  3,  0,  8,  9,  7, 10,  6,\n",
              "        1,  2,  2,  5,  3,  0,  8,  9,  7, 10,  5,  1,  2,  5,  2,  3,  0,\n",
              "        8,  9,  7,  1,  6,  1,  2,  5,  4,  0,  0,  8,  9,  7, 10,  6,  1,\n",
              "        2,  5,  0,  3,  0,  8,  9,  5, 10,  6,  1,  2,  5,  4,  3,  0,  8,\n",
              "        9,  7, 10,  6,  1,  2,  5,  4,  3,  0,  8,  7,  7, 10,  6,  1,  2,\n",
              "        5,  4,  3,  0,  8,  9,  7, 10,  1,  1,  2,  5,  5,  3,  0,  8,  9,\n",
              "        7, 10,  6,  1,  2,  0,  4,  3,  0,  8,  9,  7, 10,  6,  1,  2,  5,\n",
              "        4,  3,  0,  8, 10,  7, 10,  6,  1,  2,  5,  4,  7,  0,  8,  9,  7,\n",
              "       10,  6,  1,  2, 10,  4,  3,  0,  8,  9,  7, 10,  6,  1,  2,  5,  4,\n",
              "        3,  0,  8,  9,  7, 10,  6,  1,  2,  1,  4,  3,  0,  8,  9,  7, 10,\n",
              "        6,  1,  2,  2,  8,  3,  0, 10,  9,  7, 10,  6,  1,  2,  5,  4,  3,\n",
              "        0,  9,  7, 10,  6,  9,  2,  2,  4,  3,  0,  9,  7, 10,  6,  1,  2,\n",
              "        5,  4,  3,  0,  9,  7, 10,  6,  1,  2,  5,  4,  3,  0,  9, 10,  6,\n",
              "        1,  2,  5,  4,  3,  0,  9, 10,  1,  1,  2,  0,  4,  3,  0,  9, 10,\n",
              "        6,  1,  2,  5,  0,  3,  0,  2, 10,  6,  1,  2,  5,  4,  5,  0,  9,\n",
              "        5,  6,  1,  2,  5,  4,  3,  0,  9, 10,  6,  1,  2,  5,  4,  3,  0,\n",
              "        9, 10,  6,  0,  2,  5,  4,  3,  0,  9, 10,  1,  1,  2,  5,  4,  0,\n",
              "        9, 10,  6,  1,  5,  4,  0, 10, 10,  6,  1, 10,  4,  0,  9, 10,  6,\n",
              "        2,  0,  9,  7,  6,  1,  9,  8,  1,  9,  2,  9,  6,  8,  1,  9,  9,\n",
              "        9,  9, 10,  9,  9,  9,  9,  7])"
            ]
          },
          "metadata": {},
          "execution_count": 109
        }
      ]
    },
    {
      "cell_type": "code",
      "source": [
        "y_true = np.argmax(y_test, axis=1)"
      ],
      "metadata": {
        "id": "3fWqi_Hf_ujA"
      },
      "execution_count": 110,
      "outputs": []
    },
    {
      "cell_type": "code",
      "source": [
        "y_true"
      ],
      "metadata": {
        "colab": {
          "base_uri": "https://localhost:8080/"
        },
        "id": "oHA4S97z_2io",
        "outputId": "f293ca36-c348-4d40-f6e1-a431914ed38a"
      },
      "execution_count": 111,
      "outputs": [
        {
          "output_type": "execute_result",
          "data": {
            "text/plain": [
              "array([ 8,  9,  7, 10,  6,  1,  2,  5,  4,  3,  0,  8,  9,  7, 10,  6,  1,\n",
              "        2,  5,  4,  3,  0,  8,  9,  7, 10,  6,  1,  2,  5,  4,  3,  0,  8,\n",
              "        9,  7, 10,  6,  1,  2,  5,  4,  3,  0,  8,  9,  7, 10,  6,  1,  2,\n",
              "        5,  4,  3,  0,  8,  9,  7, 10,  6,  1,  2,  5,  4,  3,  0,  8,  9,\n",
              "        7, 10,  6,  1,  2,  5,  4,  3,  0,  8,  9,  7, 10,  6,  1,  2,  5,\n",
              "        4,  3,  0,  8,  9,  7, 10,  6,  1,  2,  5,  4,  3,  0,  8,  9,  7,\n",
              "       10,  6,  1,  2,  5,  4,  3,  0,  8,  9,  7, 10,  6,  1,  2,  5,  4,\n",
              "        3,  0,  8,  9,  7, 10,  6,  1,  2,  5,  4,  3,  0,  8,  9,  7, 10,\n",
              "        6,  1,  2,  5,  4,  3,  0,  8,  9,  7, 10,  6,  1,  2,  5,  4,  3,\n",
              "        0,  8,  9,  7, 10,  6,  1,  2,  5,  4,  3,  0,  8,  9,  7, 10,  6,\n",
              "        1,  2,  5,  4,  3,  0,  8,  9,  7, 10,  6,  1,  2,  5,  4,  3,  0,\n",
              "        8,  9,  7, 10,  6,  1,  2,  5,  4,  3,  0,  8,  9,  7, 10,  6,  1,\n",
              "        2,  5,  4,  3,  0,  8,  9,  7, 10,  6,  1,  2,  5,  4,  3,  0,  8,\n",
              "        9,  7, 10,  6,  1,  2,  5,  4,  3,  0,  8,  9,  7, 10,  6,  1,  2,\n",
              "        5,  4,  3,  0,  8,  9,  7, 10,  6,  1,  2,  5,  4,  3,  0,  8,  9,\n",
              "        7, 10,  6,  1,  2,  5,  4,  3,  0,  8,  9,  7, 10,  6,  1,  2,  5,\n",
              "        4,  3,  0,  8,  9,  7, 10,  6,  1,  2,  5,  4,  3,  0,  8,  9,  7,\n",
              "       10,  6,  1,  2,  5,  4,  3,  0,  8,  9,  7, 10,  6,  1,  2,  5,  4,\n",
              "        3,  0,  8,  9,  7, 10,  6,  1,  2,  5,  4,  3,  0,  8,  9,  7, 10,\n",
              "        6,  1,  2,  5,  4,  3,  0,  8,  9,  7, 10,  6,  1,  2,  5,  4,  3,\n",
              "        0,  9,  7, 10,  6,  1,  2,  5,  4,  3,  0,  9,  7, 10,  6,  1,  2,\n",
              "        5,  4,  3,  0,  9,  7, 10,  6,  1,  2,  5,  4,  3,  0,  9, 10,  6,\n",
              "        1,  2,  5,  4,  3,  0,  9, 10,  6,  1,  2,  5,  4,  3,  0,  9, 10,\n",
              "        6,  1,  2,  5,  4,  3,  0,  9, 10,  6,  1,  2,  5,  4,  3,  0,  9,\n",
              "       10,  6,  1,  2,  5,  4,  3,  0,  9, 10,  6,  1,  2,  5,  4,  3,  0,\n",
              "        9, 10,  6,  1,  2,  5,  4,  3,  0,  9, 10,  6,  1,  2,  5,  4,  0,\n",
              "        9, 10,  6,  1,  5,  4,  0,  9, 10,  6,  1,  5,  4,  0,  9, 10,  6,\n",
              "        1,  0,  9, 10,  6,  1,  9, 10,  1,  9,  1,  9,  1,  9,  1,  9,  9,\n",
              "        9,  9,  9,  9,  9,  9,  9,  9])"
            ]
          },
          "metadata": {},
          "execution_count": 111
        }
      ]
    },
    {
      "cell_type": "code",
      "source": [
        "print(classification_report(y_true, y_pred))"
      ],
      "metadata": {
        "colab": {
          "base_uri": "https://localhost:8080/"
        },
        "id": "Qm7wkwxs_6PK",
        "outputId": "cb0785f0-3fb9-443c-9582-084cd4aabf41"
      },
      "execution_count": 114,
      "outputs": [
        {
          "output_type": "stream",
          "name": "stdout",
          "text": [
            "              precision    recall  f1-score   support\n",
            "\n",
            "           0       0.82      0.93      0.87        45\n",
            "           1       0.82      0.74      0.78        50\n",
            "           2       0.75      1.00      0.86        42\n",
            "           3       0.95      0.90      0.92        41\n",
            "           4       0.89      0.77      0.83        44\n",
            "           5       0.72      0.64      0.67        44\n",
            "           6       0.95      0.83      0.88        46\n",
            "           7       0.88      0.88      0.88        34\n",
            "           8       0.81      0.97      0.88        31\n",
            "           9       0.98      0.83      0.90        60\n",
            "          10       0.78      0.89      0.83        47\n",
            "\n",
            "    accuracy                           0.85       484\n",
            "   macro avg       0.85      0.85      0.85       484\n",
            "weighted avg       0.85      0.85      0.85       484\n",
            "\n"
          ]
        }
      ]
    },
    {
      "cell_type": "code",
      "source": [
        "cm = confusion_matrix(y_true, y_pred)"
      ],
      "metadata": {
        "id": "BYXS-MKB__kt"
      },
      "execution_count": 116,
      "outputs": []
    },
    {
      "cell_type": "code",
      "source": [
        "cm"
      ],
      "metadata": {
        "colab": {
          "base_uri": "https://localhost:8080/"
        },
        "id": "-ZScF3ILAQo2",
        "outputId": "c0eab234-bd3e-43ab-8fef-637a6bca179f"
      },
      "execution_count": 117,
      "outputs": [
        {
          "output_type": "execute_result",
          "data": {
            "text/plain": [
              "array([[42,  1,  0,  0,  0,  1,  1,  0,  0,  0,  0],\n",
              "       [ 1, 37,  6,  1,  3,  0,  1,  0,  0,  1,  0],\n",
              "       [ 0,  0, 42,  0,  0,  0,  0,  0,  0,  0,  0],\n",
              "       [ 1,  0,  0, 37,  0,  2,  0,  1,  0,  0,  0],\n",
              "       [ 2,  0,  2,  0, 34,  3,  0,  0,  2,  0,  1],\n",
              "       [ 2,  3,  4,  1,  1, 28,  0,  0,  1,  0,  4],\n",
              "       [ 3,  3,  0,  0,  0,  2, 38,  0,  0,  0,  0],\n",
              "       [ 0,  0,  0,  0,  0,  1,  0, 30,  1,  0,  2],\n",
              "       [ 0,  0,  0,  0,  0,  0,  0,  0, 30,  0,  1],\n",
              "       [ 0,  0,  1,  0,  0,  1,  0,  2,  2, 50,  4],\n",
              "       [ 0,  1,  1,  0,  0,  1,  0,  1,  1,  0, 42]])"
            ]
          },
          "metadata": {},
          "execution_count": 117
        }
      ]
    },
    {
      "cell_type": "code",
      "source": [
        "import matplotlib.pyplot as plt\n",
        "import seaborn as sns\n",
        "\n",
        "plt.figure(figsize=(9, 9))\n",
        "sns.heatmap(cm, annot=True, fmt='0.3f', linewidth=0.5, square=True, cbar=False)\n",
        "plt.xlabel('Predicted values')\n",
        "plt.ylabel('Actual values')\n",
        "plt.show()"
      ],
      "metadata": {
        "colab": {
          "base_uri": "https://localhost:8080/",
          "height": 773
        },
        "id": "JWr7SQ-UASYf",
        "outputId": "547d00e5-8e51-4916-da56-a250abd9e57c"
      },
      "execution_count": 118,
      "outputs": [
        {
          "output_type": "display_data",
          "data": {
            "text/plain": [
              "<Figure size 900x900 with 1 Axes>"
            ],
            "image/png": "[encoded data removed]"
          },
          "metadata": {}
        }
      ]
    },
    {
      "cell_type": "code",
      "source": [],
      "metadata": {
        "id": "B9Y51sJWAWvL"
      },
      "execution_count": null,
      "outputs": []
    }
  ]
}