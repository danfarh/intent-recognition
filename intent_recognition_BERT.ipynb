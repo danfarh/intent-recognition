{
  "nbformat": 4,
  "nbformat_minor": 0,
  "metadata": {
    "colab": {
      "provenance": []
    },
    "kernelspec": {
      "name": "python3",
      "display_name": "Python 3"
    },
    "language_info": {
      "name": "python"
    },
    "accelerator": "GPU",
    "gpuClass": "standard"
  },
  "cells": [
    {
      "cell_type": "code",
      "execution_count": 217,
      "metadata": {
        "id": "vyTRZcvxpIG-"
      },
      "outputs": [],
      "source": [
        "import pandas as pd\n",
        "import numpy as np\n",
        "import re\n",
        "from sklearn.model_selection import train_test_split"
      ]
    },
    {
      "cell_type": "code",
      "source": [
        "from tensorflow.keras.preprocessing.text import Tokenizer\n",
        "from tensorflow.keras.preprocessing.sequence import pad_sequences\n",
        "from tensorflow.keras.models import Model, load_model\n",
        "from keras.models import Sequential\n",
        "from tensorflow.keras.layers import Dense, Embedding, Bidirectional, LSTM, GlobalMaxPooling1D, Dropout "
      ],
      "metadata": {
        "id": "R9YObpzbcxKf"
      },
      "execution_count": 218,
      "outputs": []
    },
    {
      "cell_type": "markdown",
      "source": [
        "### **Read Dataset**"
      ],
      "metadata": {
        "id": "6LtBtPXUkZjd"
      }
    },
    {
      "cell_type": "code",
      "source": [
        "df_train = pd.read_excel('train.xlsx')\n",
        "df_test = pd.read_excel('test.xlsx')"
      ],
      "metadata": {
        "id": "pO3zXGJVpib5"
      },
      "execution_count": 219,
      "outputs": []
    },
    {
      "cell_type": "code",
      "source": [
        "df_train.head()"
      ],
      "metadata": {
        "colab": {
          "base_uri": "https://localhost:8080/",
          "height": 510
        },
        "id": "cMwiwi7xrRlA",
        "outputId": "c9409891-9493-46ad-ed1e-3e397a1503f2"
      },
      "execution_count": 220,
      "outputs": [
        {
          "output_type": "execute_result",
          "data": {
            "text/plain": [
              "                                              class1  \\\n",
              "0       با زدن کد دستوری 223 10 اهنگ پیشواز لغو ن...   \n",
              "1  سلام طاعات و عباداتتون بخیر باشه من میخوام آوا...   \n",
              "2  سلام وقتتون بخیر داداش عزیزم برای غیرفعالسازی ...   \n",
              "3  سلام خسته نباشید. آوای انتظارم رو غیر فعال کرد...   \n",
              "4       میخواستم اهنگ پیشوازمو لغو کنم برا همین ک...   \n",
              "\n",
              "                                              class2  \\\n",
              "0  \\nسلام. من مشترک ۹۱۲ هستم. برای فعال کردن آوای...   \n",
              "1   از همراه من می خواستم اهنگ پیشواز فعال کنم ام...   \n",
              "2   کد زدم اهنگ پیشواز رو فعال کنم اما اهنگ پیشوا...   \n",
              "3   میخوام اهنگ پیشواز فعال کنم اما از هیچ روشی ن...   \n",
              "4                     پیام دادم به 8989 اما فعال نشد   \n",
              "\n",
              "                                              class3  \\\n",
              "0  سلام علیکم آقا خسته نباشید. میخواستم یک کد اوا...   \n",
              "1  من توی عوض کردن آوا مشکل دارم حالا به نظرتون ر...   \n",
              "2           هر کاری می کنم اوای انتظار تغییر نمی کنه   \n",
              "3  سلام منو راهنمایی کنید یه کدیو اشتباه زدم یه آ...   \n",
              "4        سلام و عصر بخیر آقا. من می‌خواستم آهنگ ا...   \n",
              "\n",
              "                                              class4  \\\n",
              "0  من دو سه روزه پیشوازمو زدم و فعال کردمش امروز ...   \n",
              "1    اوای انتظار فعاله اما بهم زنگ می زنن بوق میخوره   \n",
              "2   سلام من آهنگ پیشواز رو فعال کردم ولی آهنگ پخش...   \n",
              "3   داداشم اوای انتظار فعال کرده ولی اوای انتظارش...   \n",
              "4   از همراه من اهنگ پیشواز فعال کردم هزینش کم شد...   \n",
              "\n",
              "                                              class5  \\\n",
              "0  سلام صبح بخیر. ببخشید مزاحم میشم من لیست آوای ...   \n",
              "1  سلام. وقتتون به خیر. صبح تماس گرفتم برام لینک ...   \n",
              "2                             شعر ببار ای بارون ببار   \n",
              "3   سلام وقت بخیر آقا این لیست آوای انتظار ۱۴۰۲ ر...   \n",
              "4                                اهنگ پیشواز خوشحالم   \n",
              "\n",
              "                                          class6  \\\n",
              "0    با چه کدی می تونم کد پیش صدا خط خودمو بگیرم   \n",
              "1                 کد اهنگ پشت خطیمو میخوام بدونم   \n",
              "2     میخام کد اهنگ پشت خطی خودمو بگیرم چکار کنم   \n",
              "3   اهنگ پشت خطی خط خودمو میخام چه کدی باید بزنم   \n",
              "4                      کد پیش اهنگی رو خطمه چنده   \n",
              "\n",
              "                                              class7  \\\n",
              "0  آقا من از یکی پرسیدم این آهنگی که میخونه پشت خ...   \n",
              "1   برای دریافت کد پیش صدا خط دوستم از چه روشی می...   \n",
              "2          کد اهنگ پشت خط همسرمو خام ایمو ارسال کنید   \n",
              "3   از چه روشی می توان کد اوای انتظار خط همسایه ر...   \n",
              "4                         کد اهنگ خط همسرم رو میخوام   \n",
              "\n",
              "                                              class8  \\\n",
              "0  ببخشیدمن دوباره تماس میگیرم. قبلا هم پیام داده...   \n",
              "1                  چه کدی بزنم اوای انتظارم فعال بشه   \n",
              "2   برای فعال کردن اهنگ پشت خطی روی خط خود از چه ...   \n",
              "3   اوای انتظارمو که غیرفعال کردم چجوری دوباره فع...   \n",
              "4  چه جوری میتونم خوشه چین بنان رو بذارم آوای انت...   \n",
              "\n",
              "                                              class9  \\\n",
              "0  باید چه کدی رو بزنم که آوای انتظارم دیگه تمدید...   \n",
              "1  آقا این خواننده پیشواز ما برداشته یه حرکت جلف ...   \n",
              "2   نمیخوام پیش صدایی که روی خطم فعاله خودش تمدید...   \n",
              "3          چکار کنم بهم زنگ می زنند پیش اهنگ پخش نشه   \n",
              "4        سلام و صبح بخیر. من می‌خواستم ببنم چطوری...   \n",
              "\n",
              "                                             class10  \\\n",
              "0   برای جایگزین کردن اهنگ پشت سیمکارتی چه شماره ...   \n",
              "1     چکار کنم بهم زنگ می زنند پیش اواز جدید پخش بشه   \n",
              "2  سلام خسته نباشید من موقع فعالسازی آوای انتظار ...   \n",
              "3                                          تعویضش کن   \n",
              "4                     شیوه جایگزین کردن اهنگ پشت خطی   \n",
              "\n",
              "                                             class11  \n",
              "0  من قبل از پونزده روز آوای انتظارم رو غیرفعال ک...  \n",
              "1                     میشه یه مدت پیشوازمو تعلیق کنم  \n",
              "2                                          هوا چطوره  \n",
              "3  وقتتون بخیر باشه این آوای انتظاری که من انتخاب...  \n",
              "4                من دنبال یک رستوران اسپانیایی هستم   "
            ],
            "text/html": [
              "\n",
              "  <div id=\"df-3db2d758-3ff3-4411-9978-a4db7fce7613\">\n",
              "    <div class=\"colab-df-container\">\n",
              "      <div>\n",
              "<style scoped>\n",
              "    .dataframe tbody tr th:only-of-type {\n",
              "        vertical-align: middle;\n",
              "    }\n",
              "\n",
              "    .dataframe tbody tr th {\n",
              "        vertical-align: top;\n",
              "    }\n",
              "\n",
              "    .dataframe thead th {\n",
              "        text-align: right;\n",
              "    }\n",
              "</style>\n",
              "<table border=\"1\" class=\"dataframe\">\n",
              "  <thead>\n",
              "    <tr style=\"text-align: right;\">\n",
              "      <th></th>\n",
              "      <th>class1</th>\n",
              "      <th>class2</th>\n",
              "      <th>class3</th>\n",
              "      <th>class4</th>\n",
              "      <th>class5</th>\n",
              "      <th>class6</th>\n",
              "      <th>class7</th>\n",
              "      <th>class8</th>\n",
              "      <th>class9</th>\n",
              "      <th>class10</th>\n",
              "      <th>class11</th>\n",
              "    </tr>\n",
              "  </thead>\n",
              "  <tbody>\n",
              "    <tr>\n",
              "      <th>0</th>\n",
              "      <td>با زدن کد دستوری 223 10 اهنگ پیشواز لغو ن...</td>\n",
              "      <td>\\nسلام. من مشترک ۹۱۲ هستم. برای فعال کردن آوای...</td>\n",
              "      <td>سلام علیکم آقا خسته نباشید. میخواستم یک کد اوا...</td>\n",
              "      <td>من دو سه روزه پیشوازمو زدم و فعال کردمش امروز ...</td>\n",
              "      <td>سلام صبح بخیر. ببخشید مزاحم میشم من لیست آوای ...</td>\n",
              "      <td>با چه کدی می تونم کد پیش صدا خط خودمو بگیرم</td>\n",
              "      <td>آقا من از یکی پرسیدم این آهنگی که میخونه پشت خ...</td>\n",
              "      <td>ببخشیدمن دوباره تماس میگیرم. قبلا هم پیام داده...</td>\n",
              "      <td>باید چه کدی رو بزنم که آوای انتظارم دیگه تمدید...</td>\n",
              "      <td>برای جایگزین کردن اهنگ پشت سیمکارتی چه شماره ...</td>\n",
              "      <td>من قبل از پونزده روز آوای انتظارم رو غیرفعال ک...</td>\n",
              "    </tr>\n",
              "    <tr>\n",
              "      <th>1</th>\n",
              "      <td>سلام طاعات و عباداتتون بخیر باشه من میخوام آوا...</td>\n",
              "      <td>از همراه من می خواستم اهنگ پیشواز فعال کنم ام...</td>\n",
              "      <td>من توی عوض کردن آوا مشکل دارم حالا به نظرتون ر...</td>\n",
              "      <td>اوای انتظار فعاله اما بهم زنگ می زنن بوق میخوره</td>\n",
              "      <td>سلام. وقتتون به خیر. صبح تماس گرفتم برام لینک ...</td>\n",
              "      <td>کد اهنگ پشت خطیمو میخوام بدونم</td>\n",
              "      <td>برای دریافت کد پیش صدا خط دوستم از چه روشی می...</td>\n",
              "      <td>چه کدی بزنم اوای انتظارم فعال بشه</td>\n",
              "      <td>آقا این خواننده پیشواز ما برداشته یه حرکت جلف ...</td>\n",
              "      <td>چکار کنم بهم زنگ می زنند پیش اواز جدید پخش بشه</td>\n",
              "      <td>میشه یه مدت پیشوازمو تعلیق کنم</td>\n",
              "    </tr>\n",
              "    <tr>\n",
              "      <th>2</th>\n",
              "      <td>سلام وقتتون بخیر داداش عزیزم برای غیرفعالسازی ...</td>\n",
              "      <td>کد زدم اهنگ پیشواز رو فعال کنم اما اهنگ پیشوا...</td>\n",
              "      <td>هر کاری می کنم اوای انتظار تغییر نمی کنه</td>\n",
              "      <td>سلام من آهنگ پیشواز رو فعال کردم ولی آهنگ پخش...</td>\n",
              "      <td>شعر ببار ای بارون ببار</td>\n",
              "      <td>میخام کد اهنگ پشت خطی خودمو بگیرم چکار کنم</td>\n",
              "      <td>کد اهنگ پشت خط همسرمو خام ایمو ارسال کنید</td>\n",
              "      <td>برای فعال کردن اهنگ پشت خطی روی خط خود از چه ...</td>\n",
              "      <td>نمیخوام پیش صدایی که روی خطم فعاله خودش تمدید...</td>\n",
              "      <td>سلام خسته نباشید من موقع فعالسازی آوای انتظار ...</td>\n",
              "      <td>هوا چطوره</td>\n",
              "    </tr>\n",
              "    <tr>\n",
              "      <th>3</th>\n",
              "      <td>سلام خسته نباشید. آوای انتظارم رو غیر فعال کرد...</td>\n",
              "      <td>میخوام اهنگ پیشواز فعال کنم اما از هیچ روشی ن...</td>\n",
              "      <td>سلام منو راهنمایی کنید یه کدیو اشتباه زدم یه آ...</td>\n",
              "      <td>داداشم اوای انتظار فعال کرده ولی اوای انتظارش...</td>\n",
              "      <td>سلام وقت بخیر آقا این لیست آوای انتظار ۱۴۰۲ ر...</td>\n",
              "      <td>اهنگ پشت خطی خط خودمو میخام چه کدی باید بزنم</td>\n",
              "      <td>از چه روشی می توان کد اوای انتظار خط همسایه ر...</td>\n",
              "      <td>اوای انتظارمو که غیرفعال کردم چجوری دوباره فع...</td>\n",
              "      <td>چکار کنم بهم زنگ می زنند پیش اهنگ پخش نشه</td>\n",
              "      <td>تعویضش کن</td>\n",
              "      <td>وقتتون بخیر باشه این آوای انتظاری که من انتخاب...</td>\n",
              "    </tr>\n",
              "    <tr>\n",
              "      <th>4</th>\n",
              "      <td>میخواستم اهنگ پیشوازمو لغو کنم برا همین ک...</td>\n",
              "      <td>پیام دادم به 8989 اما فعال نشد</td>\n",
              "      <td>سلام و عصر بخیر آقا. من می‌خواستم آهنگ ا...</td>\n",
              "      <td>از همراه من اهنگ پیشواز فعال کردم هزینش کم شد...</td>\n",
              "      <td>اهنگ پیشواز خوشحالم</td>\n",
              "      <td>کد پیش اهنگی رو خطمه چنده</td>\n",
              "      <td>کد اهنگ خط همسرم رو میخوام</td>\n",
              "      <td>چه جوری میتونم خوشه چین بنان رو بذارم آوای انت...</td>\n",
              "      <td>سلام و صبح بخیر. من می‌خواستم ببنم چطوری...</td>\n",
              "      <td>شیوه جایگزین کردن اهنگ پشت خطی</td>\n",
              "      <td>من دنبال یک رستوران اسپانیایی هستم</td>\n",
              "    </tr>\n",
              "  </tbody>\n",
              "</table>\n",
              "</div>\n",
              "      <button class=\"colab-df-convert\" onclick=\"convertToInteractive('df-3db2d758-3ff3-4411-9978-a4db7fce7613')\"\n",
              "              title=\"Convert this dataframe to an interactive table.\"\n",
              "              style=\"display:none;\">\n",
              "        \n",
              "  <svg xmlns=\"http://www.w3.org/2000/svg\" height=\"24px\"viewBox=\"0 0 24 24\"\n",
              "       width=\"24px\">\n",
              "    <path d=\"M0 0h24v24H0V0z\" fill=\"none\"/>\n",
              "    <path d=\"M18.56 5.44l.94 2.06.94-2.06 2.06-.94-2.06-.94-.94-2.06-.94 2.06-2.06.94zm-11 1L8.5 8.5l.94-2.06 2.06-.94-2.06-.94L8.5 2.5l-.94 2.06-2.06.94zm10 10l.94 2.06.94-2.06 2.06-.94-2.06-.94-.94-2.06-.94 2.06-2.06.94z\"/><path d=\"M17.41 7.96l-1.37-1.37c-.4-.4-.92-.59-1.43-.59-.52 0-1.04.2-1.43.59L10.3 9.45l-7.72 7.72c-.78.78-.78 2.05 0 2.83L4 21.41c.39.39.9.59 1.41.59.51 0 1.02-.2 1.41-.59l7.78-7.78 2.81-2.81c.8-.78.8-2.07 0-2.86zM5.41 20L4 18.59l7.72-7.72 1.47 1.35L5.41 20z\"/>\n",
              "  </svg>\n",
              "      </button>\n",
              "      \n",
              "  <style>\n",
              "    .colab-df-container {\n",
              "      display:flex;\n",
              "      flex-wrap:wrap;\n",
              "      gap: 12px;\n",
              "    }\n",
              "\n",
              "    .colab-df-convert {\n",
              "      background-color: #E8F0FE;\n",
              "      border: none;\n",
              "      border-radius: 50%;\n",
              "      cursor: pointer;\n",
              "      display: none;\n",
              "      fill: #1967D2;\n",
              "      height: 32px;\n",
              "      padding: 0 0 0 0;\n",
              "      width: 32px;\n",
              "    }\n",
              "\n",
              "    .colab-df-convert:hover {\n",
              "      background-color: #E2EBFA;\n",
              "      box-shadow: 0px 1px 2px rgba(60, 64, 67, 0.3), 0px 1px 3px 1px rgba(60, 64, 67, 0.15);\n",
              "      fill: #174EA6;\n",
              "    }\n",
              "\n",
              "    [theme=dark] .colab-df-convert {\n",
              "      background-color: #3B4455;\n",
              "      fill: #D2E3FC;\n",
              "    }\n",
              "\n",
              "    [theme=dark] .colab-df-convert:hover {\n",
              "      background-color: #434B5C;\n",
              "      box-shadow: 0px 1px 3px 1px rgba(0, 0, 0, 0.15);\n",
              "      filter: drop-shadow(0px 1px 2px rgba(0, 0, 0, 0.3));\n",
              "      fill: #FFFFFF;\n",
              "    }\n",
              "  </style>\n",
              "\n",
              "      <script>\n",
              "        const buttonEl =\n",
              "          document.querySelector('#df-3db2d758-3ff3-4411-9978-a4db7fce7613 button.colab-df-convert');\n",
              "        buttonEl.style.display =\n",
              "          google.colab.kernel.accessAllowed ? 'block' : 'none';\n",
              "\n",
              "        async function convertToInteractive(key) {\n",
              "          const element = document.querySelector('#df-3db2d758-3ff3-4411-9978-a4db7fce7613');\n",
              "          const dataTable =\n",
              "            await google.colab.kernel.invokeFunction('convertToInteractive',\n",
              "                                                     [key], {});\n",
              "          if (!dataTable) return;\n",
              "\n",
              "          const docLinkHtml = 'Like what you see? Visit the ' +\n",
              "            '<a target=\"_blank\" href=https://colab.research.google.com/notebooks/data_table.ipynb>data table notebook</a>'\n",
              "            + ' to learn more about interactive tables.';\n",
              "          element.innerHTML = '';\n",
              "          dataTable['output_type'] = 'display_data';\n",
              "          await google.colab.output.renderOutput(dataTable, element);\n",
              "          const docLink = document.createElement('div');\n",
              "          docLink.innerHTML = docLinkHtml;\n",
              "          element.appendChild(docLink);\n",
              "        }\n",
              "      </script>\n",
              "    </div>\n",
              "  </div>\n",
              "  "
            ]
          },
          "metadata": {},
          "execution_count": 220
        }
      ]
    },
    {
      "cell_type": "code",
      "source": [
        "print(df_train.shape)\n",
        "print(df_test.shape)"
      ],
      "metadata": {
        "colab": {
          "base_uri": "https://localhost:8080/"
        },
        "id": "w0_R95Jjrbv7",
        "outputId": "ea50a4bc-e516-40fd-ff48-3c08720ec994"
      },
      "execution_count": 221,
      "outputs": [
        {
          "output_type": "stream",
          "name": "stdout",
          "text": [
            "(340, 11)\n",
            "(60, 11)\n"
          ]
        }
      ]
    },
    {
      "cell_type": "code",
      "source": [
        "df_train.iloc[0]"
      ],
      "metadata": {
        "colab": {
          "base_uri": "https://localhost:8080/"
        },
        "id": "BYHa8jiPaeXp",
        "outputId": "74590d18-163f-43a1-c063-133824d77f4b"
      },
      "execution_count": 222,
      "outputs": [
        {
          "output_type": "execute_result",
          "data": {
            "text/plain": [
              "class1          با زدن کد دستوری 223 10 اهنگ پیشواز لغو ن...\n",
              "class2     \\nسلام. من مشترک ۹۱۲ هستم. برای فعال کردن آوای...\n",
              "class3     سلام علیکم آقا خسته نباشید. میخواستم یک کد اوا...\n",
              "class4     من دو سه روزه پیشوازمو زدم و فعال کردمش امروز ...\n",
              "class5     سلام صبح بخیر. ببخشید مزاحم میشم من لیست آوای ...\n",
              "class6           با چه کدی می تونم کد پیش صدا خط خودمو بگیرم\n",
              "class7     آقا من از یکی پرسیدم این آهنگی که میخونه پشت خ...\n",
              "class8     ببخشیدمن دوباره تماس میگیرم. قبلا هم پیام داده...\n",
              "class9     باید چه کدی رو بزنم که آوای انتظارم دیگه تمدید...\n",
              "class10     برای جایگزین کردن اهنگ پشت سیمکارتی چه شماره ...\n",
              "class11    من قبل از پونزده روز آوای انتظارم رو غیرفعال ک...\n",
              "Name: 0, dtype: object"
            ]
          },
          "metadata": {},
          "execution_count": 222
        }
      ]
    },
    {
      "cell_type": "code",
      "source": [
        "classes = [\n",
        "        'مشکل غیرفعالسازی آوای انتظار',\n",
        "        'مشکل فعالسازی آوای انتظار',\n",
        "        'مشکل تغییر آوای انتظار',\n",
        "        'مشکل پخش آوای انتظار',\n",
        "        'لیست آواهای انتظار',\n",
        "        'دریافت کد آوای انتظار خط خود',\n",
        "        'دریافت کد آوای انتظار خط دیگران',\n",
        "        'روش فعالسازی آوای انتظار',\n",
        "        'روش غیرفعالسازی آوای انتظار',\n",
        "        'روش تغییرآوای انتظار',\n",
        "        'خارج از دامنه'\n",
        "]"
      ],
      "metadata": {
        "id": "I7zGPou0S-6Z"
      },
      "execution_count": 223,
      "outputs": []
    },
    {
      "cell_type": "code",
      "source": [
        "def create_dataset(df):\n",
        "  output = {\n",
        "        \"text\": [],\n",
        "        \"category\": []\n",
        "    }\n",
        "\n",
        "  for data in df.iloc:\n",
        "    for i,d in enumerate(data):\n",
        "      output[\"text\"].append(d)\n",
        "      output[\"category\"].append(classes[i])\n",
        "   \n",
        "  return output"
      ],
      "metadata": {
        "id": "FLk1cR2-anPx"
      },
      "execution_count": 224,
      "outputs": []
    },
    {
      "cell_type": "code",
      "source": [
        "train_data = create_dataset(df_train)\n",
        "test_data = create_dataset(df_test)"
      ],
      "metadata": {
        "id": "X4a8iLecRGIQ"
      },
      "execution_count": 225,
      "outputs": []
    },
    {
      "cell_type": "code",
      "source": [
        "print(len(train_data[\"text\"]))\n",
        "print(len(train_data[\"category\"]))"
      ],
      "metadata": {
        "colab": {
          "base_uri": "https://localhost:8080/"
        },
        "id": "CazQ9QxPc1za",
        "outputId": "b950ae29-b77e-4584-9a00-ec8139fd1e9f"
      },
      "execution_count": 226,
      "outputs": [
        {
          "output_type": "stream",
          "name": "stdout",
          "text": [
            "3740\n",
            "3740\n"
          ]
        }
      ]
    },
    {
      "cell_type": "code",
      "source": [
        "print(train_data[\"text\"][0])\n",
        "print(train_data[\"category\"][0])"
      ],
      "metadata": {
        "colab": {
          "base_uri": "https://localhost:8080/"
        },
        "id": "xjUJ5qzLclUr",
        "outputId": "5e484691-5e4e-452b-c964-3684e96e4f3a"
      },
      "execution_count": 227,
      "outputs": [
        {
          "output_type": "stream",
          "name": "stdout",
          "text": [
            "     با زدن کد دستوری 223 10 اهنگ پیشواز لغو نشد چجوری اهنگ پیشواز رو لغو کنم\n",
            "مشکل غیرفعالسازی آوای انتظار\n"
          ]
        }
      ]
    },
    {
      "cell_type": "code",
      "source": [
        "train_dataset = pd.DataFrame(train_data)\n",
        "test_dataset = pd.DataFrame(test_data)"
      ],
      "metadata": {
        "id": "048VwDMRVNVa"
      },
      "execution_count": 228,
      "outputs": []
    },
    {
      "cell_type": "code",
      "source": [
        "train_dataset.head()"
      ],
      "metadata": {
        "colab": {
          "base_uri": "https://localhost:8080/",
          "height": 206
        },
        "id": "4L4rDBnMZYge",
        "outputId": "6552c614-bab4-4563-f3c8-668116b0c7dc"
      },
      "execution_count": 229,
      "outputs": [
        {
          "output_type": "execute_result",
          "data": {
            "text/plain": [
              "                                                text  \\\n",
              "0       با زدن کد دستوری 223 10 اهنگ پیشواز لغو ن...   \n",
              "1  \\nسلام. من مشترک ۹۱۲ هستم. برای فعال کردن آوای...   \n",
              "2  سلام علیکم آقا خسته نباشید. میخواستم یک کد اوا...   \n",
              "3  من دو سه روزه پیشوازمو زدم و فعال کردمش امروز ...   \n",
              "4  سلام صبح بخیر. ببخشید مزاحم میشم من لیست آوای ...   \n",
              "\n",
              "                       category  \n",
              "0  مشکل غیرفعالسازی آوای انتظار  \n",
              "1     مشکل فعالسازی آوای انتظار  \n",
              "2        مشکل تغییر آوای انتظار  \n",
              "3          مشکل پخش آوای انتظار  \n",
              "4            لیست آواهای انتظار  "
            ],
            "text/html": [
              "\n",
              "  <div id=\"df-4d168dac-d852-44c4-a840-b9a9daaafbce\">\n",
              "    <div class=\"colab-df-container\">\n",
              "      <div>\n",
              "<style scoped>\n",
              "    .dataframe tbody tr th:only-of-type {\n",
              "        vertical-align: middle;\n",
              "    }\n",
              "\n",
              "    .dataframe tbody tr th {\n",
              "        vertical-align: top;\n",
              "    }\n",
              "\n",
              "    .dataframe thead th {\n",
              "        text-align: right;\n",
              "    }\n",
              "</style>\n",
              "<table border=\"1\" class=\"dataframe\">\n",
              "  <thead>\n",
              "    <tr style=\"text-align: right;\">\n",
              "      <th></th>\n",
              "      <th>text</th>\n",
              "      <th>category</th>\n",
              "    </tr>\n",
              "  </thead>\n",
              "  <tbody>\n",
              "    <tr>\n",
              "      <th>0</th>\n",
              "      <td>با زدن کد دستوری 223 10 اهنگ پیشواز لغو ن...</td>\n",
              "      <td>مشکل غیرفعالسازی آوای انتظار</td>\n",
              "    </tr>\n",
              "    <tr>\n",
              "      <th>1</th>\n",
              "      <td>\\nسلام. من مشترک ۹۱۲ هستم. برای فعال کردن آوای...</td>\n",
              "      <td>مشکل فعالسازی آوای انتظار</td>\n",
              "    </tr>\n",
              "    <tr>\n",
              "      <th>2</th>\n",
              "      <td>سلام علیکم آقا خسته نباشید. میخواستم یک کد اوا...</td>\n",
              "      <td>مشکل تغییر آوای انتظار</td>\n",
              "    </tr>\n",
              "    <tr>\n",
              "      <th>3</th>\n",
              "      <td>من دو سه روزه پیشوازمو زدم و فعال کردمش امروز ...</td>\n",
              "      <td>مشکل پخش آوای انتظار</td>\n",
              "    </tr>\n",
              "    <tr>\n",
              "      <th>4</th>\n",
              "      <td>سلام صبح بخیر. ببخشید مزاحم میشم من لیست آوای ...</td>\n",
              "      <td>لیست آواهای انتظار</td>\n",
              "    </tr>\n",
              "  </tbody>\n",
              "</table>\n",
              "</div>\n",
              "      <button class=\"colab-df-convert\" onclick=\"convertToInteractive('df-4d168dac-d852-44c4-a840-b9a9daaafbce')\"\n",
              "              title=\"Convert this dataframe to an interactive table.\"\n",
              "              style=\"display:none;\">\n",
              "        \n",
              "  <svg xmlns=\"http://www.w3.org/2000/svg\" height=\"24px\"viewBox=\"0 0 24 24\"\n",
              "       width=\"24px\">\n",
              "    <path d=\"M0 0h24v24H0V0z\" fill=\"none\"/>\n",
              "    <path d=\"M18.56 5.44l.94 2.06.94-2.06 2.06-.94-2.06-.94-.94-2.06-.94 2.06-2.06.94zm-11 1L8.5 8.5l.94-2.06 2.06-.94-2.06-.94L8.5 2.5l-.94 2.06-2.06.94zm10 10l.94 2.06.94-2.06 2.06-.94-2.06-.94-.94-2.06-.94 2.06-2.06.94z\"/><path d=\"M17.41 7.96l-1.37-1.37c-.4-.4-.92-.59-1.43-.59-.52 0-1.04.2-1.43.59L10.3 9.45l-7.72 7.72c-.78.78-.78 2.05 0 2.83L4 21.41c.39.39.9.59 1.41.59.51 0 1.02-.2 1.41-.59l7.78-7.78 2.81-2.81c.8-.78.8-2.07 0-2.86zM5.41 20L4 18.59l7.72-7.72 1.47 1.35L5.41 20z\"/>\n",
              "  </svg>\n",
              "      </button>\n",
              "      \n",
              "  <style>\n",
              "    .colab-df-container {\n",
              "      display:flex;\n",
              "      flex-wrap:wrap;\n",
              "      gap: 12px;\n",
              "    }\n",
              "\n",
              "    .colab-df-convert {\n",
              "      background-color: #E8F0FE;\n",
              "      border: none;\n",
              "      border-radius: 50%;\n",
              "      cursor: pointer;\n",
              "      display: none;\n",
              "      fill: #1967D2;\n",
              "      height: 32px;\n",
              "      padding: 0 0 0 0;\n",
              "      width: 32px;\n",
              "    }\n",
              "\n",
              "    .colab-df-convert:hover {\n",
              "      background-color: #E2EBFA;\n",
              "      box-shadow: 0px 1px 2px rgba(60, 64, 67, 0.3), 0px 1px 3px 1px rgba(60, 64, 67, 0.15);\n",
              "      fill: #174EA6;\n",
              "    }\n",
              "\n",
              "    [theme=dark] .colab-df-convert {\n",
              "      background-color: #3B4455;\n",
              "      fill: #D2E3FC;\n",
              "    }\n",
              "\n",
              "    [theme=dark] .colab-df-convert:hover {\n",
              "      background-color: #434B5C;\n",
              "      box-shadow: 0px 1px 3px 1px rgba(0, 0, 0, 0.15);\n",
              "      filter: drop-shadow(0px 1px 2px rgba(0, 0, 0, 0.3));\n",
              "      fill: #FFFFFF;\n",
              "    }\n",
              "  </style>\n",
              "\n",
              "      <script>\n",
              "        const buttonEl =\n",
              "          document.querySelector('#df-4d168dac-d852-44c4-a840-b9a9daaafbce button.colab-df-convert');\n",
              "        buttonEl.style.display =\n",
              "          google.colab.kernel.accessAllowed ? 'block' : 'none';\n",
              "\n",
              "        async function convertToInteractive(key) {\n",
              "          const element = document.querySelector('#df-4d168dac-d852-44c4-a840-b9a9daaafbce');\n",
              "          const dataTable =\n",
              "            await google.colab.kernel.invokeFunction('convertToInteractive',\n",
              "                                                     [key], {});\n",
              "          if (!dataTable) return;\n",
              "\n",
              "          const docLinkHtml = 'Like what you see? Visit the ' +\n",
              "            '<a target=\"_blank\" href=https://colab.research.google.com/notebooks/data_table.ipynb>data table notebook</a>'\n",
              "            + ' to learn more about interactive tables.';\n",
              "          element.innerHTML = '';\n",
              "          dataTable['output_type'] = 'display_data';\n",
              "          await google.colab.output.renderOutput(dataTable, element);\n",
              "          const docLink = document.createElement('div');\n",
              "          docLink.innerHTML = docLinkHtml;\n",
              "          element.appendChild(docLink);\n",
              "        }\n",
              "      </script>\n",
              "    </div>\n",
              "  </div>\n",
              "  "
            ]
          },
          "metadata": {},
          "execution_count": 229
        }
      ]
    },
    {
      "cell_type": "code",
      "source": [
        "train_dataset.shape"
      ],
      "metadata": {
        "colab": {
          "base_uri": "https://localhost:8080/"
        },
        "id": "9Vuv3hYfc_vv",
        "outputId": "f34ec8ac-42a5-42b5-e848-8bcf2136a4fd"
      },
      "execution_count": 230,
      "outputs": [
        {
          "output_type": "execute_result",
          "data": {
            "text/plain": [
              "(3740, 2)"
            ]
          },
          "metadata": {},
          "execution_count": 230
        }
      ]
    },
    {
      "cell_type": "code",
      "source": [
        "test_dataset.head()"
      ],
      "metadata": {
        "colab": {
          "base_uri": "https://localhost:8080/",
          "height": 206
        },
        "id": "3bT_DeNBVDVI",
        "outputId": "d7f43255-ab33-4eac-944f-62fda43db6e3"
      },
      "execution_count": 231,
      "outputs": [
        {
          "output_type": "execute_result",
          "data": {
            "text/plain": [
              "                                                text  \\\n",
              "0   سلام خانم، من یه مشکلی با آوای انتظار دارم، چ...   \n",
              "1   برای فعال کردن اهنگ پیشواز از طریق همراه من ا...   \n",
              "2  علو سلام مادر جون. خوبی عزیزم عیدت مبارک باشه ...   \n",
              "3   اوای انتظار فعال کردم پولشم کم شده اما زنگ می...   \n",
              "4                                  کد پیشواز از بنان   \n",
              "\n",
              "                       category  \n",
              "0  مشکل غیرفعالسازی آوای انتظار  \n",
              "1     مشکل فعالسازی آوای انتظار  \n",
              "2        مشکل تغییر آوای انتظار  \n",
              "3          مشکل پخش آوای انتظار  \n",
              "4            لیست آواهای انتظار  "
            ],
            "text/html": [
              "\n",
              "  <div id=\"df-fd5f32dd-06f7-4bd2-ac34-a02bbead270c\">\n",
              "    <div class=\"colab-df-container\">\n",
              "      <div>\n",
              "<style scoped>\n",
              "    .dataframe tbody tr th:only-of-type {\n",
              "        vertical-align: middle;\n",
              "    }\n",
              "\n",
              "    .dataframe tbody tr th {\n",
              "        vertical-align: top;\n",
              "    }\n",
              "\n",
              "    .dataframe thead th {\n",
              "        text-align: right;\n",
              "    }\n",
              "</style>\n",
              "<table border=\"1\" class=\"dataframe\">\n",
              "  <thead>\n",
              "    <tr style=\"text-align: right;\">\n",
              "      <th></th>\n",
              "      <th>text</th>\n",
              "      <th>category</th>\n",
              "    </tr>\n",
              "  </thead>\n",
              "  <tbody>\n",
              "    <tr>\n",
              "      <th>0</th>\n",
              "      <td>سلام خانم، من یه مشکلی با آوای انتظار دارم، چ...</td>\n",
              "      <td>مشکل غیرفعالسازی آوای انتظار</td>\n",
              "    </tr>\n",
              "    <tr>\n",
              "      <th>1</th>\n",
              "      <td>برای فعال کردن اهنگ پیشواز از طریق همراه من ا...</td>\n",
              "      <td>مشکل فعالسازی آوای انتظار</td>\n",
              "    </tr>\n",
              "    <tr>\n",
              "      <th>2</th>\n",
              "      <td>علو سلام مادر جون. خوبی عزیزم عیدت مبارک باشه ...</td>\n",
              "      <td>مشکل تغییر آوای انتظار</td>\n",
              "    </tr>\n",
              "    <tr>\n",
              "      <th>3</th>\n",
              "      <td>اوای انتظار فعال کردم پولشم کم شده اما زنگ می...</td>\n",
              "      <td>مشکل پخش آوای انتظار</td>\n",
              "    </tr>\n",
              "    <tr>\n",
              "      <th>4</th>\n",
              "      <td>کد پیشواز از بنان</td>\n",
              "      <td>لیست آواهای انتظار</td>\n",
              "    </tr>\n",
              "  </tbody>\n",
              "</table>\n",
              "</div>\n",
              "      <button class=\"colab-df-convert\" onclick=\"convertToInteractive('df-fd5f32dd-06f7-4bd2-ac34-a02bbead270c')\"\n",
              "              title=\"Convert this dataframe to an interactive table.\"\n",
              "              style=\"display:none;\">\n",
              "        \n",
              "  <svg xmlns=\"http://www.w3.org/2000/svg\" height=\"24px\"viewBox=\"0 0 24 24\"\n",
              "       width=\"24px\">\n",
              "    <path d=\"M0 0h24v24H0V0z\" fill=\"none\"/>\n",
              "    <path d=\"M18.56 5.44l.94 2.06.94-2.06 2.06-.94-2.06-.94-.94-2.06-.94 2.06-2.06.94zm-11 1L8.5 8.5l.94-2.06 2.06-.94-2.06-.94L8.5 2.5l-.94 2.06-2.06.94zm10 10l.94 2.06.94-2.06 2.06-.94-2.06-.94-.94-2.06-.94 2.06-2.06.94z\"/><path d=\"M17.41 7.96l-1.37-1.37c-.4-.4-.92-.59-1.43-.59-.52 0-1.04.2-1.43.59L10.3 9.45l-7.72 7.72c-.78.78-.78 2.05 0 2.83L4 21.41c.39.39.9.59 1.41.59.51 0 1.02-.2 1.41-.59l7.78-7.78 2.81-2.81c.8-.78.8-2.07 0-2.86zM5.41 20L4 18.59l7.72-7.72 1.47 1.35L5.41 20z\"/>\n",
              "  </svg>\n",
              "      </button>\n",
              "      \n",
              "  <style>\n",
              "    .colab-df-container {\n",
              "      display:flex;\n",
              "      flex-wrap:wrap;\n",
              "      gap: 12px;\n",
              "    }\n",
              "\n",
              "    .colab-df-convert {\n",
              "      background-color: #E8F0FE;\n",
              "      border: none;\n",
              "      border-radius: 50%;\n",
              "      cursor: pointer;\n",
              "      display: none;\n",
              "      fill: #1967D2;\n",
              "      height: 32px;\n",
              "      padding: 0 0 0 0;\n",
              "      width: 32px;\n",
              "    }\n",
              "\n",
              "    .colab-df-convert:hover {\n",
              "      background-color: #E2EBFA;\n",
              "      box-shadow: 0px 1px 2px rgba(60, 64, 67, 0.3), 0px 1px 3px 1px rgba(60, 64, 67, 0.15);\n",
              "      fill: #174EA6;\n",
              "    }\n",
              "\n",
              "    [theme=dark] .colab-df-convert {\n",
              "      background-color: #3B4455;\n",
              "      fill: #D2E3FC;\n",
              "    }\n",
              "\n",
              "    [theme=dark] .colab-df-convert:hover {\n",
              "      background-color: #434B5C;\n",
              "      box-shadow: 0px 1px 3px 1px rgba(0, 0, 0, 0.15);\n",
              "      filter: drop-shadow(0px 1px 2px rgba(0, 0, 0, 0.3));\n",
              "      fill: #FFFFFF;\n",
              "    }\n",
              "  </style>\n",
              "\n",
              "      <script>\n",
              "        const buttonEl =\n",
              "          document.querySelector('#df-fd5f32dd-06f7-4bd2-ac34-a02bbead270c button.colab-df-convert');\n",
              "        buttonEl.style.display =\n",
              "          google.colab.kernel.accessAllowed ? 'block' : 'none';\n",
              "\n",
              "        async function convertToInteractive(key) {\n",
              "          const element = document.querySelector('#df-fd5f32dd-06f7-4bd2-ac34-a02bbead270c');\n",
              "          const dataTable =\n",
              "            await google.colab.kernel.invokeFunction('convertToInteractive',\n",
              "                                                     [key], {});\n",
              "          if (!dataTable) return;\n",
              "\n",
              "          const docLinkHtml = 'Like what you see? Visit the ' +\n",
              "            '<a target=\"_blank\" href=https://colab.research.google.com/notebooks/data_table.ipynb>data table notebook</a>'\n",
              "            + ' to learn more about interactive tables.';\n",
              "          element.innerHTML = '';\n",
              "          dataTable['output_type'] = 'display_data';\n",
              "          await google.colab.output.renderOutput(dataTable, element);\n",
              "          const docLink = document.createElement('div');\n",
              "          docLink.innerHTML = docLinkHtml;\n",
              "          element.appendChild(docLink);\n",
              "        }\n",
              "      </script>\n",
              "    </div>\n",
              "  </div>\n",
              "  "
            ]
          },
          "metadata": {},
          "execution_count": 231
        }
      ]
    },
    {
      "cell_type": "code",
      "source": [
        "test_dataset.shape"
      ],
      "metadata": {
        "colab": {
          "base_uri": "https://localhost:8080/"
        },
        "id": "rffuDNInVGZI",
        "outputId": "1831d1a4-54da-4cba-a222-c092b57dd514"
      },
      "execution_count": 232,
      "outputs": [
        {
          "output_type": "execute_result",
          "data": {
            "text/plain": [
              "(660, 2)"
            ]
          },
          "metadata": {},
          "execution_count": 232
        }
      ]
    },
    {
      "cell_type": "code",
      "source": [
        "train_dataset['category'].value_counts()"
      ],
      "metadata": {
        "colab": {
          "base_uri": "https://localhost:8080/"
        },
        "id": "pbo_iTMYdEYq",
        "outputId": "8c56a639-ade1-420a-ea5d-f7cdb0446e85"
      },
      "execution_count": 233,
      "outputs": [
        {
          "output_type": "execute_result",
          "data": {
            "text/plain": [
              "مشکل غیرفعالسازی آوای انتظار       340\n",
              "مشکل فعالسازی آوای انتظار          340\n",
              "مشکل تغییر آوای انتظار             340\n",
              "مشکل پخش آوای انتظار               340\n",
              "لیست آواهای انتظار                 340\n",
              "دریافت کد آوای انتظار خط خود       340\n",
              "دریافت کد آوای انتظار خط دیگران    340\n",
              "روش فعالسازی آوای انتظار           340\n",
              "روش غیرفعالسازی آوای انتظار        340\n",
              "روش تغییرآوای انتظار               340\n",
              "خارج از دامنه                      340\n",
              "Name: category, dtype: int64"
            ]
          },
          "metadata": {},
          "execution_count": 233
        }
      ]
    },
    {
      "cell_type": "code",
      "source": [
        "#delete NaN\n",
        "train_dataset = train_dataset.dropna()\n",
        "test_dataset = test_dataset.dropna()"
      ],
      "metadata": {
        "id": "nRkS3NHkblgi"
      },
      "execution_count": 237,
      "outputs": []
    },
    {
      "cell_type": "code",
      "source": [
        "print(train_dataset.shape)\n",
        "print(test_dataset.shape)"
      ],
      "metadata": {
        "colab": {
          "base_uri": "https://localhost:8080/"
        },
        "id": "csv33_mEbrTu",
        "outputId": "48d4efba-b521-46e8-88e6-1a964507548c"
      },
      "execution_count": 238,
      "outputs": [
        {
          "output_type": "stream",
          "name": "stdout",
          "text": [
            "(2761, 2)\n",
            "(484, 2)\n"
          ]
        }
      ]
    },
    {
      "cell_type": "markdown",
      "source": [
        "**stopword**"
      ],
      "metadata": {
        "id": "PwqfPTA5flsC"
      }
    },
    {
      "cell_type": "code",
      "source": [
        "def read_stop_words(filename):\n",
        "  with open(filename) as stopwords_file:\n",
        "    stopwords = stopwords_file.readlines()\n",
        "  stopwords = [line.replace('\\n', '') for line in stopwords] \n",
        "  return stopwords"
      ],
      "metadata": {
        "id": "7H0f9T8sfo-S"
      },
      "execution_count": 246,
      "outputs": []
    },
    {
      "cell_type": "code",
      "source": [
        "stopwords = read_stop_words('stopwords.txt')\n",
        "print(len(stopwords))"
      ],
      "metadata": {
        "colab": {
          "base_uri": "https://localhost:8080/"
        },
        "id": "uDpDL4LqfsZ0",
        "outputId": "8236f034-d89f-470d-d66a-781423c2e381"
      },
      "execution_count": 247,
      "outputs": [
        {
          "output_type": "stream",
          "name": "stdout",
          "text": [
            "1327\n"
          ]
        }
      ]
    },
    {
      "cell_type": "code",
      "source": [
        "# install hazm library\n",
        "!pip install hazm"
      ],
      "metadata": {
        "id": "bfmDnoWrdL3p",
        "colab": {
          "base_uri": "https://localhost:8080/"
        },
        "outputId": "76f686a1-cf92-454d-909e-9a736b3a71bd"
      },
      "execution_count": 248,
      "outputs": [
        {
          "output_type": "stream",
          "name": "stdout",
          "text": [
            "Looking in indexes: https://pypi.org/simple, https://us-python.pkg.dev/colab-wheels/public/simple/\n",
            "Requirement already satisfied: hazm in /usr/local/lib/python3.9/dist-packages (0.7.0)\n",
            "Requirement already satisfied: libwapiti>=0.2.1 in /usr/local/lib/python3.9/dist-packages (from hazm) (0.2.1)\n",
            "Requirement already satisfied: nltk==3.3 in /usr/local/lib/python3.9/dist-packages (from hazm) (3.3)\n",
            "Requirement already satisfied: six in /usr/local/lib/python3.9/dist-packages (from nltk==3.3->hazm) (1.16.0)\n"
          ]
        }
      ]
    },
    {
      "cell_type": "code",
      "source": [
        "from hazm import word_tokenize\n",
        "\n",
        "def clean_data(dataset):\n",
        "  text = dataset['text'].values\n",
        "  text_tokenized = [word_tokenize(t) for t in text]\n",
        "  text_tokenized_filtered = [[w for w in sentence if w not in stopwords] for sentence in text_tokenized]\n",
        "  sentence = [' '.join(sentence) for sentence in text_tokenized_filtered]\n",
        "  # remove numbers and white spaces\n",
        "  sentence = [s.replace('\\u200c', '') for s in sentence]\n",
        "  sentence = [re.sub('[0-9]+', 'عدد', s) for s in sentence]\n",
        "  sentence = [re.sub('\\s+', ' ', s) for s in sentence]\n",
        "  return sentence"
      ],
      "metadata": {
        "id": "O7JQ52Z0eour"
      },
      "execution_count": 249,
      "outputs": []
    },
    {
      "cell_type": "code",
      "source": [
        "clean_train_data = clean_data(train_dataset)\n",
        "clean_test_data = clean_data(test_dataset)"
      ],
      "metadata": {
        "id": "sD6RkzZrVmy4"
      },
      "execution_count": 250,
      "outputs": []
    },
    {
      "cell_type": "code",
      "source": [
        "clean_train_data[0]"
      ],
      "metadata": {
        "colab": {
          "base_uri": "https://localhost:8080/",
          "height": 36
        },
        "id": "hZoEIg45Vux_",
        "outputId": "1ccbe656-fbb3-4589-a527-4ec671922582"
      },
      "execution_count": 251,
      "outputs": [
        {
          "output_type": "execute_result",
          "data": {
            "text/plain": [
              "'زدن کد دستوری عدد عدد اهنگ پیشواز لغو نشد چجوری اهنگ پیشواز لغو'"
            ],
            "application/vnd.google.colaboratory.intrinsic+json": {
              "type": "string"
            }
          },
          "metadata": {},
          "execution_count": 251
        }
      ]
    },
    {
      "cell_type": "code",
      "source": [
        "clean_test_data[0]"
      ],
      "metadata": {
        "colab": {
          "base_uri": "https://localhost:8080/",
          "height": 36
        },
        "id": "xEAHDidNWpIY",
        "outputId": "1f5fc0bf-4661-4290-d20b-efe8dd60e2c0"
      },
      "execution_count": 252,
      "outputs": [
        {
          "output_type": "execute_result",
          "data": {
            "text/plain": [
              "'خانم مشکلی آوای انتظار فعالش میخوام غیرفعالش هچین گزینهای پنل کاربریم ندارم ممنون میشم راهنماییم'"
            ],
            "application/vnd.google.colaboratory.intrinsic+json": {
              "type": "string"
            }
          },
          "metadata": {},
          "execution_count": 252
        }
      ]
    },
    {
      "cell_type": "markdown",
      "source": [
        "### **one hot Y**"
      ],
      "metadata": {
        "id": "gVnH-aKecWCb"
      }
    },
    {
      "cell_type": "code",
      "source": [
        "def prepare_y(dataset):\n",
        "  Y = pd.get_dummies(dataset['category']).values\n",
        "  return Y"
      ],
      "metadata": {
        "id": "O5UUR4mzXDkQ"
      },
      "execution_count": 253,
      "outputs": []
    },
    {
      "cell_type": "code",
      "source": [
        "category_types = [\n",
        "        'خارج از دامنه',\n",
        "        'دریافت کد آوای انتظار خط خود',\n",
        "        'دریافت کد آوای انتظار خط دیگران',\n",
        "        'روش تغییرآوای انتظار',\n",
        "        'روش غیرفعالسازی آوای انتظار',\n",
        "        'روش فعالسازی آوای انتظار',\n",
        "        'لیست آواهای انتظار',\n",
        "        'مشکل تغییر آوای انتظار',\n",
        "        'مشکل غیرفعالسازی آوای انتظار',\n",
        "        'مشکل فعالسازی آوای انتظار',\n",
        "        'مشکل پخش آوای انتظار'\n",
        "]"
      ],
      "metadata": {
        "id": "p6Mqy6OOcKH3"
      },
      "execution_count": 254,
      "outputs": []
    },
    {
      "cell_type": "code",
      "source": [
        "category_types"
      ],
      "metadata": {
        "colab": {
          "base_uri": "https://localhost:8080/"
        },
        "id": "2jER8S9R5BIn",
        "outputId": "747ed6a8-fb0d-4215-a2a0-fb167aa9ac15"
      },
      "execution_count": 255,
      "outputs": [
        {
          "output_type": "execute_result",
          "data": {
            "text/plain": [
              "['خارج از دامنه',\n",
              " 'دریافت کد آوای انتظار خط خود',\n",
              " 'دریافت کد آوای انتظار خط دیگران',\n",
              " 'روش تغییرآوای انتظار',\n",
              " 'روش غیرفعالسازی آوای انتظار',\n",
              " 'روش فعالسازی آوای انتظار',\n",
              " 'لیست آواهای انتظار',\n",
              " 'مشکل تغییر آوای انتظار',\n",
              " 'مشکل غیرفعالسازی آوای انتظار',\n",
              " 'مشکل فعالسازی آوای انتظار',\n",
              " 'مشکل پخش آوای انتظار']"
            ]
          },
          "metadata": {},
          "execution_count": 255
        }
      ]
    },
    {
      "cell_type": "markdown",
      "source": [
        "### **Train & Test Split**"
      ],
      "metadata": {
        "id": "1pyE3qWscdIC"
      }
    },
    {
      "cell_type": "code",
      "source": [
        "X_train = clean_train_data\n",
        "X_test =  clean_test_data\n",
        "y_train = prepare_y(train_dataset)\n",
        "y_test = prepare_y(test_dataset)"
      ],
      "metadata": {
        "id": "ywKcPnwWdIMd"
      },
      "execution_count": 256,
      "outputs": []
    },
    {
      "cell_type": "code",
      "source": [
        "print(np.array(X_train).shape)\n",
        "print(np.array(X_test).shape)\n",
        "print(np.array(y_train).shape)\n",
        "print(np.array(y_test).shape)"
      ],
      "metadata": {
        "colab": {
          "base_uri": "https://localhost:8080/"
        },
        "id": "0w29RYhDdU36",
        "outputId": "d6440b8d-0bf5-4a5a-a9aa-c969d4a2cd8f"
      },
      "execution_count": 257,
      "outputs": [
        {
          "output_type": "stream",
          "name": "stdout",
          "text": [
            "(2761,)\n",
            "(484,)\n",
            "(2761, 11)\n",
            "(484, 11)\n"
          ]
        }
      ]
    },
    {
      "cell_type": "markdown",
      "source": [
        "### **Train The Model**"
      ],
      "metadata": {
        "id": "l4wNYflDdgsd"
      }
    },
    {
      "cell_type": "code",
      "source": [
        "!pip install transformers\n",
        "import transformers"
      ],
      "metadata": {
        "colab": {
          "base_uri": "https://localhost:8080/"
        },
        "id": "z3dgYQcB7pKz",
        "outputId": "2f666794-7938-49df-9dcd-f57855bdf6ea"
      },
      "execution_count": 258,
      "outputs": [
        {
          "output_type": "stream",
          "name": "stdout",
          "text": [
            "Looking in indexes: https://pypi.org/simple, https://us-python.pkg.dev/colab-wheels/public/simple/\n",
            "Requirement already satisfied: transformers in /usr/local/lib/python3.9/dist-packages (4.28.1)\n",
            "Requirement already satisfied: pyyaml>=5.1 in /usr/local/lib/python3.9/dist-packages (from transformers) (6.0)\n",
            "Requirement already satisfied: filelock in /usr/local/lib/python3.9/dist-packages (from transformers) (3.11.0)\n",
            "Requirement already satisfied: tokenizers!=0.11.3,<0.14,>=0.11.1 in /usr/local/lib/python3.9/dist-packages (from transformers) (0.13.3)\n",
            "Requirement already satisfied: tqdm>=4.27 in /usr/local/lib/python3.9/dist-packages (from transformers) (4.65.0)\n",
            "Requirement already satisfied: numpy>=1.17 in /usr/local/lib/python3.9/dist-packages (from transformers) (1.22.4)\n",
            "Requirement already satisfied: requests in /usr/local/lib/python3.9/dist-packages (from transformers) (2.27.1)\n",
            "Requirement already satisfied: packaging>=20.0 in /usr/local/lib/python3.9/dist-packages (from transformers) (23.0)\n",
            "Requirement already satisfied: regex!=2019.12.17 in /usr/local/lib/python3.9/dist-packages (from transformers) (2022.10.31)\n",
            "Requirement already satisfied: huggingface-hub<1.0,>=0.11.0 in /usr/local/lib/python3.9/dist-packages (from transformers) (0.13.4)\n",
            "Requirement already satisfied: typing-extensions>=3.7.4.3 in /usr/local/lib/python3.9/dist-packages (from huggingface-hub<1.0,>=0.11.0->transformers) (4.5.0)\n",
            "Requirement already satisfied: certifi>=2017.4.17 in /usr/local/lib/python3.9/dist-packages (from requests->transformers) (2022.12.7)\n",
            "Requirement already satisfied: idna<4,>=2.5 in /usr/local/lib/python3.9/dist-packages (from requests->transformers) (3.4)\n",
            "Requirement already satisfied: charset-normalizer~=2.0.0 in /usr/local/lib/python3.9/dist-packages (from requests->transformers) (2.0.12)\n",
            "Requirement already satisfied: urllib3<1.27,>=1.21.1 in /usr/local/lib/python3.9/dist-packages (from requests->transformers) (1.26.15)\n"
          ]
        }
      ]
    },
    {
      "cell_type": "code",
      "source": [
        "from transformers import AutoTokenizer,TFBertModel\n",
        "MODEL_NAME = \"HooshvareLab/bert-fa-zwnj-base\"\n",
        "tokenizer = AutoTokenizer.from_pretrained(MODEL_NAME)\n",
        "bert = TFBertModel.from_pretrained(MODEL_NAME)"
      ],
      "metadata": {
        "colab": {
          "base_uri": "https://localhost:8080/"
        },
        "id": "9nlyY1dL7uuK",
        "outputId": "d41da7e5-638c-4e40-a882-2e900755c181"
      },
      "execution_count": 259,
      "outputs": [
        {
          "output_type": "stream",
          "name": "stderr",
          "text": [
            "Some layers from the model checkpoint at HooshvareLab/bert-fa-zwnj-base were not used when initializing TFBertModel: ['mlm___cls']\n",
            "- This IS expected if you are initializing TFBertModel from the checkpoint of a model trained on another task or with another architecture (e.g. initializing a BertForSequenceClassification model from a BertForPreTraining model).\n",
            "- This IS NOT expected if you are initializing TFBertModel from the checkpoint of a model that you expect to be exactly identical (initializing a BertForSequenceClassification model from a BertForSequenceClassification model).\n",
            "Some layers of TFBertModel were not initialized from the model checkpoint at HooshvareLab/bert-fa-zwnj-base and are newly initialized: ['bert/pooler/dense/kernel:0', 'bert/pooler/dense/bias:0']\n",
            "You should probably TRAIN this model on a down-stream task to be able to use it for predictions and inference.\n"
          ]
        }
      ]
    },
    {
      "cell_type": "code",
      "source": [
        "bert.summary()"
      ],
      "metadata": {
        "colab": {
          "base_uri": "https://localhost:8080/"
        },
        "id": "DvCkyu_m76sp",
        "outputId": "b931bb61-16fa-48d8-a4cf-2d8249d491d9"
      },
      "execution_count": 260,
      "outputs": [
        {
          "output_type": "stream",
          "name": "stdout",
          "text": [
            "Model: \"tf_bert_model_2\"\n",
            "_________________________________________________________________\n",
            " Layer (type)                Output Shape              Param #   \n",
            "=================================================================\n",
            " bert (TFBertMainLayer)      multiple                  118297344 \n",
            "                                                                 \n",
            "=================================================================\n",
            "Total params: 118,297,344\n",
            "Trainable params: 118,297,344\n",
            "Non-trainable params: 0\n",
            "_________________________________________________________________\n"
          ]
        }
      ]
    },
    {
      "cell_type": "code",
      "source": [
        "x_train = tokenizer(\n",
        "    text=X_train,\n",
        "    add_special_tokens=True,\n",
        "    max_length=60,\n",
        "    truncation=True,\n",
        "    padding=\"max_length\",\n",
        "    return_tensors='tf',\n",
        "    return_token_type_ids = False,\n",
        "    return_attention_mask = True,\n",
        "    verbose = True)\n",
        "\n",
        "x_test = tokenizer(\n",
        "    text=X_test,\n",
        "    add_special_tokens=True,\n",
        "    max_length=60,\n",
        "    truncation=True,\n",
        "    padding=\"max_length\",\n",
        "    return_tensors='tf',\n",
        "    return_token_type_ids = False,\n",
        "    return_attention_mask = True,\n",
        "    verbose = True)"
      ],
      "metadata": {
        "id": "jTPDvKaE79j2"
      },
      "execution_count": 261,
      "outputs": []
    },
    {
      "cell_type": "code",
      "source": [
        "input_ids = x_train['input_ids']\n",
        "attention_mask = x_train['attention_mask']"
      ],
      "metadata": {
        "id": "QdQCd1_F9Otc"
      },
      "execution_count": 262,
      "outputs": []
    },
    {
      "cell_type": "code",
      "source": [
        "input_ids[0]"
      ],
      "metadata": {
        "colab": {
          "base_uri": "https://localhost:8080/"
        },
        "id": "WTRJ653Q9TJL",
        "outputId": "53323699-9537-4206-d12a-1321fe36c343"
      },
      "execution_count": 263,
      "outputs": [
        {
          "output_type": "execute_result",
          "data": {
            "text/plain": [
              "<tf.Tensor: shape=(60,), dtype=int32, numpy=\n",
              "array([    2,  4309,  3441, 12342,  4420,  4420,  4265, 36379,  6009,\n",
              "        4921, 16097,  4265, 36379,  6009,     3,     0,     0,     0,\n",
              "           0,     0,     0,     0,     0,     0,     0,     0,     0,\n",
              "           0,     0,     0,     0,     0,     0,     0,     0,     0,\n",
              "           0,     0,     0,     0,     0,     0,     0,     0,     0,\n",
              "           0,     0,     0,     0,     0,     0,     0,     0,     0,\n",
              "           0,     0,     0,     0,     0,     0], dtype=int32)>"
            ]
          },
          "metadata": {},
          "execution_count": 263
        }
      ]
    },
    {
      "cell_type": "code",
      "source": [
        "input_ids[0].shape"
      ],
      "metadata": {
        "colab": {
          "base_uri": "https://localhost:8080/"
        },
        "id": "JvOJi5EEbtNx",
        "outputId": "420f06ef-ce57-423f-ee91-8fabbd7ab70a"
      },
      "execution_count": 264,
      "outputs": [
        {
          "output_type": "execute_result",
          "data": {
            "text/plain": [
              "TensorShape([60])"
            ]
          },
          "metadata": {},
          "execution_count": 264
        }
      ]
    },
    {
      "cell_type": "code",
      "source": [
        "attention_mask[0]"
      ],
      "metadata": {
        "colab": {
          "base_uri": "https://localhost:8080/"
        },
        "id": "duFWFxjpZ7ZH",
        "outputId": "cc705dde-d068-4e7f-c87d-cf2f4ec15f61"
      },
      "execution_count": 265,
      "outputs": [
        {
          "output_type": "execute_result",
          "data": {
            "text/plain": [
              "<tf.Tensor: shape=(60,), dtype=int32, numpy=\n",
              "array([1, 1, 1, 1, 1, 1, 1, 1, 1, 1, 1, 1, 1, 1, 1, 0, 0, 0, 0, 0, 0, 0,\n",
              "       0, 0, 0, 0, 0, 0, 0, 0, 0, 0, 0, 0, 0, 0, 0, 0, 0, 0, 0, 0, 0, 0,\n",
              "       0, 0, 0, 0, 0, 0, 0, 0, 0, 0, 0, 0, 0, 0, 0, 0], dtype=int32)>"
            ]
          },
          "metadata": {},
          "execution_count": 265
        }
      ]
    },
    {
      "cell_type": "code",
      "source": [
        "attention_mask[0].shape"
      ],
      "metadata": {
        "colab": {
          "base_uri": "https://localhost:8080/"
        },
        "id": "EY3qVnmwbxFO",
        "outputId": "c87bfde3-8650-4098-a850-df220be1bb10"
      },
      "execution_count": 266,
      "outputs": [
        {
          "output_type": "execute_result",
          "data": {
            "text/plain": [
              "TensorShape([60])"
            ]
          },
          "metadata": {},
          "execution_count": 266
        }
      ]
    },
    {
      "cell_type": "code",
      "source": [
        "import tensorflow as tf\n",
        "from tensorflow.keras.optimizers import Adam\n",
        "from tensorflow.keras.callbacks import EarlyStopping\n",
        "from tensorflow.keras.initializers import TruncatedNormal\n",
        "from tensorflow.keras.losses import CategoricalCrossentropy\n",
        "from tensorflow.keras.metrics import CategoricalAccuracy\n",
        "from tensorflow.keras.utils import to_categorical\n",
        "from tensorflow.keras.layers import Input, Dense"
      ],
      "metadata": {
        "id": "VsvrbX_87fid"
      },
      "execution_count": 273,
      "outputs": []
    },
    {
      "cell_type": "code",
      "source": [
        "max_len = 60\n",
        "input_ids = Input(shape=(max_len,), dtype=tf.int32, name=\"input_ids\")\n",
        "input_mask = Input(shape=(max_len,), dtype=tf.int32, name=\"attention_mask\")\n",
        "embeddings = bert(input_ids, attention_mask=input_mask)[0] \n",
        "out = tf.keras.layers.GlobalMaxPool1D()(embeddings)\n",
        "out = Dense(128, activation='relu')(out)\n",
        "out = tf.keras.layers.Dropout(0.1)(out)\n",
        "out = Dense(32, activation = 'relu')(out)\n",
        "y = Dense(len(category_types), activation='softmax')(out)\n",
        "model = tf.keras.Model(inputs=[input_ids, input_mask], outputs=y)\n",
        "model.layers[2].trainable = True"
      ],
      "metadata": {
        "id": "4kDWF0CB7ao2"
      },
      "execution_count": 274,
      "outputs": []
    },
    {
      "cell_type": "code",
      "source": [
        "optimizer = Adam(\n",
        "    learning_rate=5e-05, \n",
        "    epsilon=1e-08,\n",
        "    clipnorm=1.0)"
      ],
      "metadata": {
        "id": "1AcYEL7e9ueN"
      },
      "execution_count": 276,
      "outputs": []
    },
    {
      "cell_type": "code",
      "source": [
        "\n",
        "model.compile(loss='categorical_crossentropy', optimizer=optimizer, metrics=['accuracy'])"
      ],
      "metadata": {
        "id": "dhl1lZKCd9OL"
      },
      "execution_count": 277,
      "outputs": []
    },
    {
      "cell_type": "code",
      "source": [
        "model.summary()"
      ],
      "metadata": {
        "colab": {
          "base_uri": "https://localhost:8080/"
        },
        "id": "3imJ6yqpeBxu",
        "outputId": "103ede45-af28-40fb-c566-4005a2ffbfdb"
      },
      "execution_count": 278,
      "outputs": [
        {
          "output_type": "stream",
          "name": "stdout",
          "text": [
            "Model: \"model_12\"\n",
            "__________________________________________________________________________________________________\n",
            " Layer (type)                   Output Shape         Param #     Connected to                     \n",
            "==================================================================================================\n",
            " input_ids (InputLayer)         [(None, 60)]         0           []                               \n",
            "                                                                                                  \n",
            " attention_mask (InputLayer)    [(None, 60)]         0           []                               \n",
            "                                                                                                  \n",
            " tf_bert_model_2 (TFBertModel)  TFBaseModelOutputWi  118297344   ['input_ids[0][0]',              \n",
            "                                thPoolingAndCrossAt               'attention_mask[0][0]']         \n",
            "                                tentions(last_hidde                                               \n",
            "                                n_state=(None, 60,                                                \n",
            "                                768),                                                             \n",
            "                                 pooler_output=(Non                                               \n",
            "                                e, 768),                                                          \n",
            "                                 past_key_values=No                                               \n",
            "                                ne, hidden_states=N                                               \n",
            "                                one, attentions=Non                                               \n",
            "                                e, cross_attentions                                               \n",
            "                                =None)                                                            \n",
            "                                                                                                  \n",
            " global_max_pooling1d_12 (Globa  (None, 768)         0           ['tf_bert_model_2[1][0]']        \n",
            " lMaxPooling1D)                                                                                   \n",
            "                                                                                                  \n",
            " dense_36 (Dense)               (None, 128)          98432       ['global_max_pooling1d_12[0][0]']\n",
            "                                                                                                  \n",
            " dropout_123 (Dropout)          (None, 128)          0           ['dense_36[0][0]']               \n",
            "                                                                                                  \n",
            " dense_37 (Dense)               (None, 32)           4128        ['dropout_123[0][0]']            \n",
            "                                                                                                  \n",
            " dense_38 (Dense)               (None, 11)           363         ['dense_37[0][0]']               \n",
            "                                                                                                  \n",
            "==================================================================================================\n",
            "Total params: 118,400,267\n",
            "Trainable params: 118,400,267\n",
            "Non-trainable params: 0\n",
            "__________________________________________________________________________________________________\n"
          ]
        }
      ]
    },
    {
      "cell_type": "code",
      "source": [
        "history = model.fit(\n",
        "    x ={'input_ids':x_train['input_ids'],'attention_mask':x_train['attention_mask']} ,\n",
        "    y = y_train,\n",
        "    validation_data = (\n",
        "    {'input_ids':x_test['input_ids'],'attention_mask':x_test['attention_mask']}, y_test\n",
        "    ),\n",
        "    epochs=20,\n",
        "    batch_size=36\n",
        ")"
      ],
      "metadata": {
        "colab": {
          "base_uri": "https://localhost:8080/"
        },
        "id": "mVpGL0m0eDrZ",
        "outputId": "75bb072d-64c2-4fc0-c098-c1c0956706bb"
      },
      "execution_count": 279,
      "outputs": [
        {
          "output_type": "stream",
          "name": "stdout",
          "text": [
            "Epoch 1/20\n"
          ]
        },
        {
          "output_type": "stream",
          "name": "stderr",
          "text": [
            "WARNING:tensorflow:Gradients do not exist for variables ['tf_bert_model_2/bert/pooler/dense/kernel:0', 'tf_bert_model_2/bert/pooler/dense/bias:0'] when minimizing the loss. If you're using `model.compile()`, did you forget to provide a `loss` argument?\n",
            "WARNING:tensorflow:Gradients do not exist for variables ['tf_bert_model_2/bert/pooler/dense/kernel:0', 'tf_bert_model_2/bert/pooler/dense/bias:0'] when minimizing the loss. If you're using `model.compile()`, did you forget to provide a `loss` argument?\n",
            "WARNING:tensorflow:Gradients do not exist for variables ['tf_bert_model_2/bert/pooler/dense/kernel:0', 'tf_bert_model_2/bert/pooler/dense/bias:0'] when minimizing the loss. If you're using `model.compile()`, did you forget to provide a `loss` argument?\n",
            "WARNING:tensorflow:Gradients do not exist for variables ['tf_bert_model_2/bert/pooler/dense/kernel:0', 'tf_bert_model_2/bert/pooler/dense/bias:0'] when minimizing the loss. If you're using `model.compile()`, did you forget to provide a `loss` argument?\n"
          ]
        },
        {
          "output_type": "stream",
          "name": "stdout",
          "text": [
            "77/77 [==============================] - 103s 591ms/step - loss: 2.4268 - accuracy: 0.1000 - val_loss: 2.6308 - val_accuracy: 0.0868\n",
            "Epoch 2/20\n",
            "77/77 [==============================] - 38s 495ms/step - loss: 2.4014 - accuracy: 0.0953 - val_loss: 2.6623 - val_accuracy: 0.0868\n",
            "Epoch 3/20\n",
            "77/77 [==============================] - 36s 471ms/step - loss: 2.3981 - accuracy: 0.0873 - val_loss: 2.6291 - val_accuracy: 0.0868\n",
            "Epoch 4/20\n",
            "77/77 [==============================] - 36s 462ms/step - loss: 2.3958 - accuracy: 0.0942 - val_loss: 2.6142 - val_accuracy: 0.0868\n",
            "Epoch 5/20\n",
            "77/77 [==============================] - 37s 481ms/step - loss: 2.3960 - accuracy: 0.1047 - val_loss: 2.6308 - val_accuracy: 0.0868\n",
            "Epoch 6/20\n",
            "77/77 [==============================] - 37s 479ms/step - loss: 2.3941 - accuracy: 0.0996 - val_loss: 2.6413 - val_accuracy: 0.0868\n",
            "Epoch 7/20\n",
            "77/77 [==============================] - 36s 463ms/step - loss: 2.3963 - accuracy: 0.0982 - val_loss: 2.6241 - val_accuracy: 0.0868\n",
            "Epoch 8/20\n",
            "77/77 [==============================] - 36s 472ms/step - loss: 2.3926 - accuracy: 0.1076 - val_loss: 2.6108 - val_accuracy: 0.0868\n",
            "Epoch 9/20\n",
            "77/77 [==============================] - 36s 466ms/step - loss: 2.3950 - accuracy: 0.1003 - val_loss: 2.6295 - val_accuracy: 0.0868\n",
            "Epoch 10/20\n",
            "77/77 [==============================] - 37s 479ms/step - loss: 2.3951 - accuracy: 0.0855 - val_loss: 2.6028 - val_accuracy: 0.0868\n",
            "Epoch 11/20\n",
            "77/77 [==============================] - 36s 469ms/step - loss: 2.3935 - accuracy: 0.1011 - val_loss: 2.6222 - val_accuracy: 0.0868\n",
            "Epoch 12/20\n",
            "77/77 [==============================] - 36s 474ms/step - loss: 2.3913 - accuracy: 0.1094 - val_loss: 2.6506 - val_accuracy: 0.0868\n",
            "Epoch 13/20\n",
            "77/77 [==============================] - 36s 474ms/step - loss: 2.3941 - accuracy: 0.1134 - val_loss: 2.6469 - val_accuracy: 0.0868\n",
            "Epoch 14/20\n",
            "77/77 [==============================] - 37s 481ms/step - loss: 2.3927 - accuracy: 0.1199 - val_loss: 2.6219 - val_accuracy: 0.0868\n",
            "Epoch 15/20\n",
            "77/77 [==============================] - 37s 475ms/step - loss: 2.3907 - accuracy: 0.1000 - val_loss: 2.6192 - val_accuracy: 0.0868\n",
            "Epoch 16/20\n",
            "77/77 [==============================] - 37s 483ms/step - loss: 2.3929 - accuracy: 0.1101 - val_loss: 2.5933 - val_accuracy: 0.0868\n",
            "Epoch 17/20\n",
            "77/77 [==============================] - 36s 474ms/step - loss: 2.3923 - accuracy: 0.1039 - val_loss: 2.5779 - val_accuracy: 0.0868\n",
            "Epoch 18/20\n",
            "77/77 [==============================] - 36s 474ms/step - loss: 2.3896 - accuracy: 0.1097 - val_loss: 2.6570 - val_accuracy: 0.1033\n",
            "Epoch 19/20\n",
            "77/77 [==============================] - 36s 469ms/step - loss: 2.3918 - accuracy: 0.1112 - val_loss: 2.6206 - val_accuracy: 0.1033\n",
            "Epoch 20/20\n",
            "77/77 [==============================] - 37s 475ms/step - loss: 2.3902 - accuracy: 0.1242 - val_loss: 2.6030 - val_accuracy: 0.1033\n"
          ]
        }
      ]
    },
    {
      "cell_type": "code",
      "source": [
        "model.save('model.h5')"
      ],
      "metadata": {
        "id": "Ei-Yx8bueF0J"
      },
      "execution_count": 215,
      "outputs": []
    },
    {
      "cell_type": "code",
      "source": [
        "predicted_raw = model.predict({'input_ids':x_test['input_ids'],'attention_mask':x_test['attention_mask']})\n",
        "predicted_raw[0]"
      ],
      "metadata": {
        "colab": {
          "base_uri": "https://localhost:8080/"
        },
        "id": "_s-goJsGAMNl",
        "outputId": "90916578-06b7-4f99-f9f3-236dc303b78a"
      },
      "execution_count": 216,
      "outputs": [
        {
          "output_type": "stream",
          "name": "stdout",
          "text": [
            "16/16 [==============================] - 6s 117ms/step\n"
          ]
        },
        {
          "output_type": "execute_result",
          "data": {
            "text/plain": [
              "array([0.0934613 , 0.07802659, 0.09379119, 0.09766004, 0.10065686,\n",
              "       0.09261222, 0.1073371 , 0.05654095, 0.05607916, 0.14965174,\n",
              "       0.07418285], dtype=float32)"
            ]
          },
          "metadata": {},
          "execution_count": 216
        }
      ]
    },
    {
      "cell_type": "code",
      "source": [],
      "metadata": {
        "id": "EFR3QQvog90S"
      },
      "execution_count": null,
      "outputs": []
    }
  ]
}