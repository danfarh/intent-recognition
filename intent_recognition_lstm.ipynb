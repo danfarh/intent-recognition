{
  "nbformat": 4,
  "nbformat_minor": 0,
  "metadata": {
    "colab": {
      "provenance": [],
      "toc_visible": true
    },
    "kernelspec": {
      "name": "python3",
      "display_name": "Python 3"
    },
    "language_info": {
      "name": "python"
    },
    "accelerator": "GPU",
    "gpuClass": "standard"
  },
  "cells": [
    {
      "cell_type": "code",
      "execution_count": 1,
      "metadata": {
        "id": "vyTRZcvxpIG-"
      },
      "outputs": [],
      "source": [
        "import pandas as pd\n",
        "import re\n",
        "from sklearn.model_selection import train_test_split"
      ]
    },
    {
      "cell_type": "code",
      "source": [
        "from tensorflow.keras.preprocessing.text import Tokenizer\n",
        "from tensorflow.keras.preprocessing.sequence import pad_sequences\n",
        "from tensorflow.keras.models import Model, load_model\n",
        "from keras.models import Sequential\n",
        "from tensorflow.keras.layers import Dense, Embedding, Bidirectional, LSTM, GlobalMaxPooling1D, Dropout "
      ],
      "metadata": {
        "id": "R9YObpzbcxKf"
      },
      "execution_count": 127,
      "outputs": []
    },
    {
      "cell_type": "markdown",
      "source": [
        "### **Read Dataset**"
      ],
      "metadata": {
        "id": "6LtBtPXUkZjd"
      }
    },
    {
      "cell_type": "code",
      "source": [
        "df = pd.read_excel('data_train_intent_detection.xlsx')"
      ],
      "metadata": {
        "id": "pO3zXGJVpib5"
      },
      "execution_count": 3,
      "outputs": []
    },
    {
      "cell_type": "code",
      "source": [
        "df.head()"
      ],
      "metadata": {
        "colab": {
          "base_uri": "https://localhost:8080/",
          "height": 545
        },
        "id": "cMwiwi7xrRlA",
        "outputId": "d5a5ed4b-b013-4ef8-97b1-294c36c31454"
      },
      "execution_count": 4,
      "outputs": [
        {
          "output_type": "execute_result",
          "data": {
            "text/plain": [
              "                        مشکل غیرفعالسازی آوای انتظار  \\\n",
              "0   از طریق 8989 امکان لغو اوای انتظار وجود ندارد...   \n",
              "1   با پیام به 8989 اقدام به غیرفعالسازی اوای انت...   \n",
              "2   برای غیرفعالسازی اوای انتظار پیام به 8989 داد...   \n",
              "3   از طریق ارسال پیام به 8989 اقدام به غیرفعالسا...   \n",
              "4   با ارسال 5 به 8989 میخواستم اوای انتظار غیرفع...   \n",
              "\n",
              "                           مشکل فعالسازی آوای انتظار  \\\n",
              "0   خیلی تلاش کردم اوای انتظار رو فعال کنم اما فع...   \n",
              "1          از کجا پیگیری کنم اوای انتظارم فعال نمیشه   \n",
              "2   خیلی تلاش کردم اوای انتظار رو فعال کنم اما او...   \n",
              "3   برای رفع مشکل فعالسازی پیشواز از کجا باید پیگ...   \n",
              "4   از هر راهی اقدام می کنم اوای انتظار فعال نمیش...   \n",
              "\n",
              "                              مشکل تغییر آوای انتظار  \\\n",
              "0  سلام علیکم حاج خانوم خوبی من ببخشید مزاحمتون م...   \n",
              "1  سلام حال شما خوب هستین ببخشید من یه پیشوازی بر...   \n",
              "2  سلام میکنم خدمتتون خانم عرض ادب غرض از مزاحمت ...   \n",
              "3  سلام حال شما خوبه این دوست من خیلی به یه خوانن...   \n",
              "4  علو خوبین سلام عرض میکنم. عیدتون مبارک. طاعاتت...   \n",
              "\n",
              "                                مشکل پخش آوای انتظار  \\\n",
              "0  سلام احوال شما خوبه؟ من یه نوحه انتخاب کردم وا...   \n",
              "1  سلام وقتتون بخیر خانومم سه روز پیش یه آوای انت...   \n",
              "2  سلام من سه چهار روزه برای خط دخترم پیشواز فعال...   \n",
              "3  سلام خوبید؟من آوای انتظارم اولش میخونه بعدش بو...   \n",
              "4  سلام من آوای انتظار فعال کردم واسه خطم اما وقت...   \n",
              "\n",
              "                                  لیست آواهای انتظار  \\\n",
              "0   همه کدای اوای همراه اولو از کجا بگیرم و یکیشو...   \n",
              "1               همه کدای اوای همراه اولو چجوری بگیرم   \n",
              "2    همه کد اواهای انتظار همراه اولو چطور دریافت کنم   \n",
              "3                      کدای پیشواز همشو از کجا بگیرم   \n",
              "4   همه کدای اوای همراه اول رو از کجا بگیرم و یکی...   \n",
              "\n",
              "                        دریافت کد آوای انتظار خط خود  \\\n",
              "0   یه اهنگ گذاشتم رو خطم نمیدونم کدش چیه واسه دو...   \n",
              "1   یه اهنگ رو خطم گذاشتم میخوام کدشو بهم بدید وا...   \n",
              "2   دوستم یه اهنگ پیشواز رو خط همراه اولش گذاشته ...   \n",
              "3                       پیدا کردن اوام به چه ترتیبیه   \n",
              "4           رفیق کد انتظارمو ازم خواست یادم نبود چیه   \n",
              "\n",
              "                     دریافت کد آوای انتظار خط دیگران  \\\n",
              "0  سلام علیکم ما یه نوحه انتخاب کرده بودیم که با ...   \n",
              "1  سلام من این آهنگ ای دل اگر عاشقی در پی دلدار ب...   \n",
              "2   سلام من به رفیقم زنگ زدم بعد نوحه حسین حسین آ...   \n",
              "3  سلام من یه چند هفته پیش پیشواز گذاشتم روی خط م...   \n",
              "4  سلام خوبید؟من با همکارم تماس گرفتم بعد آوای ان...   \n",
              "\n",
              "                            روش فعالسازی آوای انتظار  \\\n",
              "0  الان باهاتون داشتم صحبت میکردم قطع شد من میخوا...   \n",
              "1  سلام من برای فعالسازی خطم وارد سایت همراه من ش...   \n",
              "2  سلام این کد دستوری همراه اول برای فعالسازی همش...   \n",
              "3  سلام من چطوری میتونم واسه دوتا از خطهام همزمان...   \n",
              "4  سلام میخواستم بپرسم که برای فعال کردن پیشواز ب...   \n",
              "\n",
              "                         روش غیرفعالسازی آوای انتظار  \\\n",
              "0  سلام من چطوری میتونم پیشواز خط بابامو بردارم ا...   \n",
              "1  سلام حال شما خوبه؟من یه چندماهی میشه آوای انتظ...   \n",
              "2  سلام ببخشید من میخوام آوای انتظار خط همسرمو غی...   \n",
              "3  سلام صبح بخیر،گوشی داداشم خراب شده الان میخواد...   \n",
              "4  سلام من تازه پیشواز گذاشتم اما خوشم نیومد میتو...   \n",
              "\n",
              "                                روش تغییرآوای انتظار  \\\n",
              "0  سلام سال نو مبارک میخواستم ببینم میشه با کدی ک...   \n",
              "1  سلام من خطم بخاطر بدهی قطع شده الان میخوام پیش...   \n",
              "2  سلام خوب هستید؟من میخواستم آوای انتظار گوشی ما...   \n",
              "3  سلام از صبح چند نفر بهم زنگ زدن گفتن چقدر آوای...   \n",
              "4  سلام من آوای انتظارمو از محرم تغییر ندادم همه ...   \n",
              "\n",
              "                                       خارج از دامنه  \n",
              "0  سلام من آوای انتظاری که انتخاب کردم تو سایت که...  \n",
              "1  سلام چرا انقدر این پیشواز میزاریم صداش بی‌کیفی...  \n",
              "2  وقتتون بخیر باشه این آوای انتظاری که من انتخاب...  \n",
              "3  سلام من پیشواز از آهنگ طلیسچی گذاشتم صداش خیلی...  \n",
              "4                                               سلام  "
            ],
            "text/html": [
              "\n",
              "  <div id=\"df-48290a65-3f0b-417c-ac3f-208806469645\">\n",
              "    <div class=\"colab-df-container\">\n",
              "      <div>\n",
              "<style scoped>\n",
              "    .dataframe tbody tr th:only-of-type {\n",
              "        vertical-align: middle;\n",
              "    }\n",
              "\n",
              "    .dataframe tbody tr th {\n",
              "        vertical-align: top;\n",
              "    }\n",
              "\n",
              "    .dataframe thead th {\n",
              "        text-align: right;\n",
              "    }\n",
              "</style>\n",
              "<table border=\"1\" class=\"dataframe\">\n",
              "  <thead>\n",
              "    <tr style=\"text-align: right;\">\n",
              "      <th></th>\n",
              "      <th>مشکل غیرفعالسازی آوای انتظار</th>\n",
              "      <th>مشکل فعالسازی آوای انتظار</th>\n",
              "      <th>مشکل تغییر آوای انتظار</th>\n",
              "      <th>مشکل پخش آوای انتظار</th>\n",
              "      <th>لیست آواهای انتظار</th>\n",
              "      <th>دریافت کد آوای انتظار خط خود</th>\n",
              "      <th>دریافت کد آوای انتظار خط دیگران</th>\n",
              "      <th>روش فعالسازی آوای انتظار</th>\n",
              "      <th>روش غیرفعالسازی آوای انتظار</th>\n",
              "      <th>روش تغییرآوای انتظار</th>\n",
              "      <th>خارج از دامنه</th>\n",
              "    </tr>\n",
              "  </thead>\n",
              "  <tbody>\n",
              "    <tr>\n",
              "      <th>0</th>\n",
              "      <td>از طریق 8989 امکان لغو اوای انتظار وجود ندارد...</td>\n",
              "      <td>خیلی تلاش کردم اوای انتظار رو فعال کنم اما فع...</td>\n",
              "      <td>سلام علیکم حاج خانوم خوبی من ببخشید مزاحمتون م...</td>\n",
              "      <td>سلام احوال شما خوبه؟ من یه نوحه انتخاب کردم وا...</td>\n",
              "      <td>همه کدای اوای همراه اولو از کجا بگیرم و یکیشو...</td>\n",
              "      <td>یه اهنگ گذاشتم رو خطم نمیدونم کدش چیه واسه دو...</td>\n",
              "      <td>سلام علیکم ما یه نوحه انتخاب کرده بودیم که با ...</td>\n",
              "      <td>الان باهاتون داشتم صحبت میکردم قطع شد من میخوا...</td>\n",
              "      <td>سلام من چطوری میتونم پیشواز خط بابامو بردارم ا...</td>\n",
              "      <td>سلام سال نو مبارک میخواستم ببینم میشه با کدی ک...</td>\n",
              "      <td>سلام من آوای انتظاری که انتخاب کردم تو سایت که...</td>\n",
              "    </tr>\n",
              "    <tr>\n",
              "      <th>1</th>\n",
              "      <td>با پیام به 8989 اقدام به غیرفعالسازی اوای انت...</td>\n",
              "      <td>از کجا پیگیری کنم اوای انتظارم فعال نمیشه</td>\n",
              "      <td>سلام حال شما خوب هستین ببخشید من یه پیشوازی بر...</td>\n",
              "      <td>سلام وقتتون بخیر خانومم سه روز پیش یه آوای انت...</td>\n",
              "      <td>همه کدای اوای همراه اولو چجوری بگیرم</td>\n",
              "      <td>یه اهنگ رو خطم گذاشتم میخوام کدشو بهم بدید وا...</td>\n",
              "      <td>سلام من این آهنگ ای دل اگر عاشقی در پی دلدار ب...</td>\n",
              "      <td>سلام من برای فعالسازی خطم وارد سایت همراه من ش...</td>\n",
              "      <td>سلام حال شما خوبه؟من یه چندماهی میشه آوای انتظ...</td>\n",
              "      <td>سلام من خطم بخاطر بدهی قطع شده الان میخوام پیش...</td>\n",
              "      <td>سلام چرا انقدر این پیشواز میزاریم صداش بی‌کیفی...</td>\n",
              "    </tr>\n",
              "    <tr>\n",
              "      <th>2</th>\n",
              "      <td>برای غیرفعالسازی اوای انتظار پیام به 8989 داد...</td>\n",
              "      <td>خیلی تلاش کردم اوای انتظار رو فعال کنم اما او...</td>\n",
              "      <td>سلام میکنم خدمتتون خانم عرض ادب غرض از مزاحمت ...</td>\n",
              "      <td>سلام من سه چهار روزه برای خط دخترم پیشواز فعال...</td>\n",
              "      <td>همه کد اواهای انتظار همراه اولو چطور دریافت کنم</td>\n",
              "      <td>دوستم یه اهنگ پیشواز رو خط همراه اولش گذاشته ...</td>\n",
              "      <td>سلام من به رفیقم زنگ زدم بعد نوحه حسین حسین آ...</td>\n",
              "      <td>سلام این کد دستوری همراه اول برای فعالسازی همش...</td>\n",
              "      <td>سلام ببخشید من میخوام آوای انتظار خط همسرمو غی...</td>\n",
              "      <td>سلام خوب هستید؟من میخواستم آوای انتظار گوشی ما...</td>\n",
              "      <td>وقتتون بخیر باشه این آوای انتظاری که من انتخاب...</td>\n",
              "    </tr>\n",
              "    <tr>\n",
              "      <th>3</th>\n",
              "      <td>از طریق ارسال پیام به 8989 اقدام به غیرفعالسا...</td>\n",
              "      <td>برای رفع مشکل فعالسازی پیشواز از کجا باید پیگ...</td>\n",
              "      <td>سلام حال شما خوبه این دوست من خیلی به یه خوانن...</td>\n",
              "      <td>سلام خوبید؟من آوای انتظارم اولش میخونه بعدش بو...</td>\n",
              "      <td>کدای پیشواز همشو از کجا بگیرم</td>\n",
              "      <td>پیدا کردن اوام به چه ترتیبیه</td>\n",
              "      <td>سلام من یه چند هفته پیش پیشواز گذاشتم روی خط م...</td>\n",
              "      <td>سلام من چطوری میتونم واسه دوتا از خطهام همزمان...</td>\n",
              "      <td>سلام صبح بخیر،گوشی داداشم خراب شده الان میخواد...</td>\n",
              "      <td>سلام از صبح چند نفر بهم زنگ زدن گفتن چقدر آوای...</td>\n",
              "      <td>سلام من پیشواز از آهنگ طلیسچی گذاشتم صداش خیلی...</td>\n",
              "    </tr>\n",
              "    <tr>\n",
              "      <th>4</th>\n",
              "      <td>با ارسال 5 به 8989 میخواستم اوای انتظار غیرفع...</td>\n",
              "      <td>از هر راهی اقدام می کنم اوای انتظار فعال نمیش...</td>\n",
              "      <td>علو خوبین سلام عرض میکنم. عیدتون مبارک. طاعاتت...</td>\n",
              "      <td>سلام من آوای انتظار فعال کردم واسه خطم اما وقت...</td>\n",
              "      <td>همه کدای اوای همراه اول رو از کجا بگیرم و یکی...</td>\n",
              "      <td>رفیق کد انتظارمو ازم خواست یادم نبود چیه</td>\n",
              "      <td>سلام خوبید؟من با همکارم تماس گرفتم بعد آوای ان...</td>\n",
              "      <td>سلام میخواستم بپرسم که برای فعال کردن پیشواز ب...</td>\n",
              "      <td>سلام من تازه پیشواز گذاشتم اما خوشم نیومد میتو...</td>\n",
              "      <td>سلام من آوای انتظارمو از محرم تغییر ندادم همه ...</td>\n",
              "      <td>سلام</td>\n",
              "    </tr>\n",
              "  </tbody>\n",
              "</table>\n",
              "</div>\n",
              "      <button class=\"colab-df-convert\" onclick=\"convertToInteractive('df-48290a65-3f0b-417c-ac3f-208806469645')\"\n",
              "              title=\"Convert this dataframe to an interactive table.\"\n",
              "              style=\"display:none;\">\n",
              "        \n",
              "  <svg xmlns=\"http://www.w3.org/2000/svg\" height=\"24px\"viewBox=\"0 0 24 24\"\n",
              "       width=\"24px\">\n",
              "    <path d=\"M0 0h24v24H0V0z\" fill=\"none\"/>\n",
              "    <path d=\"M18.56 5.44l.94 2.06.94-2.06 2.06-.94-2.06-.94-.94-2.06-.94 2.06-2.06.94zm-11 1L8.5 8.5l.94-2.06 2.06-.94-2.06-.94L8.5 2.5l-.94 2.06-2.06.94zm10 10l.94 2.06.94-2.06 2.06-.94-2.06-.94-.94-2.06-.94 2.06-2.06.94z\"/><path d=\"M17.41 7.96l-1.37-1.37c-.4-.4-.92-.59-1.43-.59-.52 0-1.04.2-1.43.59L10.3 9.45l-7.72 7.72c-.78.78-.78 2.05 0 2.83L4 21.41c.39.39.9.59 1.41.59.51 0 1.02-.2 1.41-.59l7.78-7.78 2.81-2.81c.8-.78.8-2.07 0-2.86zM5.41 20L4 18.59l7.72-7.72 1.47 1.35L5.41 20z\"/>\n",
              "  </svg>\n",
              "      </button>\n",
              "      \n",
              "  <style>\n",
              "    .colab-df-container {\n",
              "      display:flex;\n",
              "      flex-wrap:wrap;\n",
              "      gap: 12px;\n",
              "    }\n",
              "\n",
              "    .colab-df-convert {\n",
              "      background-color: #E8F0FE;\n",
              "      border: none;\n",
              "      border-radius: 50%;\n",
              "      cursor: pointer;\n",
              "      display: none;\n",
              "      fill: #1967D2;\n",
              "      height: 32px;\n",
              "      padding: 0 0 0 0;\n",
              "      width: 32px;\n",
              "    }\n",
              "\n",
              "    .colab-df-convert:hover {\n",
              "      background-color: #E2EBFA;\n",
              "      box-shadow: 0px 1px 2px rgba(60, 64, 67, 0.3), 0px 1px 3px 1px rgba(60, 64, 67, 0.15);\n",
              "      fill: #174EA6;\n",
              "    }\n",
              "\n",
              "    [theme=dark] .colab-df-convert {\n",
              "      background-color: #3B4455;\n",
              "      fill: #D2E3FC;\n",
              "    }\n",
              "\n",
              "    [theme=dark] .colab-df-convert:hover {\n",
              "      background-color: #434B5C;\n",
              "      box-shadow: 0px 1px 3px 1px rgba(0, 0, 0, 0.15);\n",
              "      filter: drop-shadow(0px 1px 2px rgba(0, 0, 0, 0.3));\n",
              "      fill: #FFFFFF;\n",
              "    }\n",
              "  </style>\n",
              "\n",
              "      <script>\n",
              "        const buttonEl =\n",
              "          document.querySelector('#df-48290a65-3f0b-417c-ac3f-208806469645 button.colab-df-convert');\n",
              "        buttonEl.style.display =\n",
              "          google.colab.kernel.accessAllowed ? 'block' : 'none';\n",
              "\n",
              "        async function convertToInteractive(key) {\n",
              "          const element = document.querySelector('#df-48290a65-3f0b-417c-ac3f-208806469645');\n",
              "          const dataTable =\n",
              "            await google.colab.kernel.invokeFunction('convertToInteractive',\n",
              "                                                     [key], {});\n",
              "          if (!dataTable) return;\n",
              "\n",
              "          const docLinkHtml = 'Like what you see? Visit the ' +\n",
              "            '<a target=\"_blank\" href=https://colab.research.google.com/notebooks/data_table.ipynb>data table notebook</a>'\n",
              "            + ' to learn more about interactive tables.';\n",
              "          element.innerHTML = '';\n",
              "          dataTable['output_type'] = 'display_data';\n",
              "          await google.colab.output.renderOutput(dataTable, element);\n",
              "          const docLink = document.createElement('div');\n",
              "          docLink.innerHTML = docLinkHtml;\n",
              "          element.appendChild(docLink);\n",
              "        }\n",
              "      </script>\n",
              "    </div>\n",
              "  </div>\n",
              "  "
            ]
          },
          "metadata": {},
          "execution_count": 4
        }
      ]
    },
    {
      "cell_type": "code",
      "source": [
        "df.shape"
      ],
      "metadata": {
        "colab": {
          "base_uri": "https://localhost:8080/"
        },
        "id": "w0_R95Jjrbv7",
        "outputId": "24559acb-7719-412b-e96d-f22ac91dc5e5"
      },
      "execution_count": 5,
      "outputs": [
        {
          "output_type": "execute_result",
          "data": {
            "text/plain": [
              "(55, 11)"
            ]
          },
          "metadata": {},
          "execution_count": 5
        }
      ]
    },
    {
      "cell_type": "code",
      "source": [
        "df.iloc[0]"
      ],
      "metadata": {
        "colab": {
          "base_uri": "https://localhost:8080/"
        },
        "id": "BYHa8jiPaeXp",
        "outputId": "c9bd493e-dec0-44a7-8194-8b0b0d886aa7"
      },
      "execution_count": 6,
      "outputs": [
        {
          "output_type": "execute_result",
          "data": {
            "text/plain": [
              "مشکل غیرفعالسازی آوای انتظار        از طریق 8989 امکان لغو اوای انتظار وجود ندارد...\n",
              "مشکل فعالسازی آوای انتظار           خیلی تلاش کردم اوای انتظار رو فعال کنم اما فع...\n",
              "مشکل تغییر آوای انتظار             سلام علیکم حاج خانوم خوبی من ببخشید مزاحمتون م...\n",
              "مشکل پخش آوای انتظار               سلام احوال شما خوبه؟ من یه نوحه انتخاب کردم وا...\n",
              "لیست آواهای انتظار                  همه کدای اوای همراه اولو از کجا بگیرم و یکیشو...\n",
              "دریافت کد آوای انتظار خط خود        یه اهنگ گذاشتم رو خطم نمیدونم کدش چیه واسه دو...\n",
              "دریافت کد آوای انتظار خط دیگران    سلام علیکم ما یه نوحه انتخاب کرده بودیم که با ...\n",
              "روش فعالسازی آوای انتظار           الان باهاتون داشتم صحبت میکردم قطع شد من میخوا...\n",
              "روش غیرفعالسازی آوای انتظار        سلام من چطوری میتونم پیشواز خط بابامو بردارم ا...\n",
              "روش تغییرآوای انتظار               سلام سال نو مبارک میخواستم ببینم میشه با کدی ک...\n",
              "خارج از دامنه                      سلام من آوای انتظاری که انتخاب کردم تو سایت که...\n",
              "Name: 0, dtype: object"
            ]
          },
          "metadata": {},
          "execution_count": 6
        }
      ]
    },
    {
      "cell_type": "code",
      "source": [
        "list(df.iloc[0].keys())"
      ],
      "metadata": {
        "colab": {
          "base_uri": "https://localhost:8080/"
        },
        "id": "vupTz0_eaONh",
        "outputId": "035ae6ae-aeb7-40b2-9d0a-2834fa9fe922"
      },
      "execution_count": 7,
      "outputs": [
        {
          "output_type": "execute_result",
          "data": {
            "text/plain": [
              "['مشکل غیرفعالسازی آوای انتظار',\n",
              " 'مشکل فعالسازی آوای انتظار',\n",
              " 'مشکل تغییر آوای انتظار',\n",
              " 'مشکل پخش آوای انتظار',\n",
              " 'لیست آواهای انتظار',\n",
              " 'دریافت کد آوای انتظار خط خود',\n",
              " 'دریافت کد آوای انتظار خط دیگران',\n",
              " 'روش فعالسازی آوای انتظار',\n",
              " 'روش غیرفعالسازی آوای انتظار',\n",
              " 'روش تغییرآوای انتظار',\n",
              " 'خارج از دامنه']"
            ]
          },
          "metadata": {},
          "execution_count": 7
        }
      ]
    },
    {
      "cell_type": "code",
      "source": [
        "def create_dataset(df):\n",
        "  output = {\n",
        "        \"text\": [],\n",
        "        \"category\": []\n",
        "    }\n",
        "\n",
        "  for data in df.iloc:\n",
        "    for i,d in enumerate(data):\n",
        "      output[\"text\"].append(d)\n",
        "      output[\"category\"].append(list(df.iloc[0].keys())[i])\n",
        "   \n",
        "  return output"
      ],
      "metadata": {
        "id": "FLk1cR2-anPx"
      },
      "execution_count": 8,
      "outputs": []
    },
    {
      "cell_type": "code",
      "source": [
        "data = create_dataset(df)"
      ],
      "metadata": {
        "id": "X4a8iLecRGIQ"
      },
      "execution_count": 9,
      "outputs": []
    },
    {
      "cell_type": "code",
      "source": [
        "print(len(data[\"text\"]))\n",
        "print(len(data[\"category\"]))"
      ],
      "metadata": {
        "colab": {
          "base_uri": "https://localhost:8080/"
        },
        "id": "CazQ9QxPc1za",
        "outputId": "b852089e-4378-4f4b-8251-cf0ce097fdd4"
      },
      "execution_count": 10,
      "outputs": [
        {
          "output_type": "stream",
          "name": "stdout",
          "text": [
            "605\n",
            "605\n"
          ]
        }
      ]
    },
    {
      "cell_type": "code",
      "source": [
        "print(data[\"text\"][0])\n",
        "print(data[\"category\"][0])"
      ],
      "metadata": {
        "colab": {
          "base_uri": "https://localhost:8080/"
        },
        "id": "xjUJ5qzLclUr",
        "outputId": "b48d3ee8-ec9c-4b03-8307-31973b00192f"
      },
      "execution_count": 11,
      "outputs": [
        {
          "output_type": "stream",
          "name": "stdout",
          "text": [
            " از طریق 8989 امکان لغو اوای انتظار وجود ندارد از چه روشی می توانم پیگیری کنم\n",
            "مشکل غیرفعالسازی آوای انتظار\n"
          ]
        }
      ]
    },
    {
      "cell_type": "code",
      "source": [
        "dataset = pd.DataFrame(data)"
      ],
      "metadata": {
        "id": "048VwDMRVNVa"
      },
      "execution_count": 12,
      "outputs": []
    },
    {
      "cell_type": "code",
      "source": [
        "dataset.head()"
      ],
      "metadata": {
        "colab": {
          "base_uri": "https://localhost:8080/",
          "height": 206
        },
        "id": "4L4rDBnMZYge",
        "outputId": "0f144a93-5f28-469c-d329-f307207ac9ae"
      },
      "execution_count": 13,
      "outputs": [
        {
          "output_type": "execute_result",
          "data": {
            "text/plain": [
              "                                                text  \\\n",
              "0   از طریق 8989 امکان لغو اوای انتظار وجود ندارد...   \n",
              "1   خیلی تلاش کردم اوای انتظار رو فعال کنم اما فع...   \n",
              "2  سلام علیکم حاج خانوم خوبی من ببخشید مزاحمتون م...   \n",
              "3  سلام احوال شما خوبه؟ من یه نوحه انتخاب کردم وا...   \n",
              "4   همه کدای اوای همراه اولو از کجا بگیرم و یکیشو...   \n",
              "\n",
              "                       category  \n",
              "0  مشکل غیرفعالسازی آوای انتظار  \n",
              "1     مشکل فعالسازی آوای انتظار  \n",
              "2        مشکل تغییر آوای انتظار  \n",
              "3          مشکل پخش آوای انتظار  \n",
              "4            لیست آواهای انتظار  "
            ],
            "text/html": [
              "\n",
              "  <div id=\"df-dce05627-6b99-4bf0-89d0-34d730d1b45f\">\n",
              "    <div class=\"colab-df-container\">\n",
              "      <div>\n",
              "<style scoped>\n",
              "    .dataframe tbody tr th:only-of-type {\n",
              "        vertical-align: middle;\n",
              "    }\n",
              "\n",
              "    .dataframe tbody tr th {\n",
              "        vertical-align: top;\n",
              "    }\n",
              "\n",
              "    .dataframe thead th {\n",
              "        text-align: right;\n",
              "    }\n",
              "</style>\n",
              "<table border=\"1\" class=\"dataframe\">\n",
              "  <thead>\n",
              "    <tr style=\"text-align: right;\">\n",
              "      <th></th>\n",
              "      <th>text</th>\n",
              "      <th>category</th>\n",
              "    </tr>\n",
              "  </thead>\n",
              "  <tbody>\n",
              "    <tr>\n",
              "      <th>0</th>\n",
              "      <td>از طریق 8989 امکان لغو اوای انتظار وجود ندارد...</td>\n",
              "      <td>مشکل غیرفعالسازی آوای انتظار</td>\n",
              "    </tr>\n",
              "    <tr>\n",
              "      <th>1</th>\n",
              "      <td>خیلی تلاش کردم اوای انتظار رو فعال کنم اما فع...</td>\n",
              "      <td>مشکل فعالسازی آوای انتظار</td>\n",
              "    </tr>\n",
              "    <tr>\n",
              "      <th>2</th>\n",
              "      <td>سلام علیکم حاج خانوم خوبی من ببخشید مزاحمتون م...</td>\n",
              "      <td>مشکل تغییر آوای انتظار</td>\n",
              "    </tr>\n",
              "    <tr>\n",
              "      <th>3</th>\n",
              "      <td>سلام احوال شما خوبه؟ من یه نوحه انتخاب کردم وا...</td>\n",
              "      <td>مشکل پخش آوای انتظار</td>\n",
              "    </tr>\n",
              "    <tr>\n",
              "      <th>4</th>\n",
              "      <td>همه کدای اوای همراه اولو از کجا بگیرم و یکیشو...</td>\n",
              "      <td>لیست آواهای انتظار</td>\n",
              "    </tr>\n",
              "  </tbody>\n",
              "</table>\n",
              "</div>\n",
              "      <button class=\"colab-df-convert\" onclick=\"convertToInteractive('df-dce05627-6b99-4bf0-89d0-34d730d1b45f')\"\n",
              "              title=\"Convert this dataframe to an interactive table.\"\n",
              "              style=\"display:none;\">\n",
              "        \n",
              "  <svg xmlns=\"http://www.w3.org/2000/svg\" height=\"24px\"viewBox=\"0 0 24 24\"\n",
              "       width=\"24px\">\n",
              "    <path d=\"M0 0h24v24H0V0z\" fill=\"none\"/>\n",
              "    <path d=\"M18.56 5.44l.94 2.06.94-2.06 2.06-.94-2.06-.94-.94-2.06-.94 2.06-2.06.94zm-11 1L8.5 8.5l.94-2.06 2.06-.94-2.06-.94L8.5 2.5l-.94 2.06-2.06.94zm10 10l.94 2.06.94-2.06 2.06-.94-2.06-.94-.94-2.06-.94 2.06-2.06.94z\"/><path d=\"M17.41 7.96l-1.37-1.37c-.4-.4-.92-.59-1.43-.59-.52 0-1.04.2-1.43.59L10.3 9.45l-7.72 7.72c-.78.78-.78 2.05 0 2.83L4 21.41c.39.39.9.59 1.41.59.51 0 1.02-.2 1.41-.59l7.78-7.78 2.81-2.81c.8-.78.8-2.07 0-2.86zM5.41 20L4 18.59l7.72-7.72 1.47 1.35L5.41 20z\"/>\n",
              "  </svg>\n",
              "      </button>\n",
              "      \n",
              "  <style>\n",
              "    .colab-df-container {\n",
              "      display:flex;\n",
              "      flex-wrap:wrap;\n",
              "      gap: 12px;\n",
              "    }\n",
              "\n",
              "    .colab-df-convert {\n",
              "      background-color: #E8F0FE;\n",
              "      border: none;\n",
              "      border-radius: 50%;\n",
              "      cursor: pointer;\n",
              "      display: none;\n",
              "      fill: #1967D2;\n",
              "      height: 32px;\n",
              "      padding: 0 0 0 0;\n",
              "      width: 32px;\n",
              "    }\n",
              "\n",
              "    .colab-df-convert:hover {\n",
              "      background-color: #E2EBFA;\n",
              "      box-shadow: 0px 1px 2px rgba(60, 64, 67, 0.3), 0px 1px 3px 1px rgba(60, 64, 67, 0.15);\n",
              "      fill: #174EA6;\n",
              "    }\n",
              "\n",
              "    [theme=dark] .colab-df-convert {\n",
              "      background-color: #3B4455;\n",
              "      fill: #D2E3FC;\n",
              "    }\n",
              "\n",
              "    [theme=dark] .colab-df-convert:hover {\n",
              "      background-color: #434B5C;\n",
              "      box-shadow: 0px 1px 3px 1px rgba(0, 0, 0, 0.15);\n",
              "      filter: drop-shadow(0px 1px 2px rgba(0, 0, 0, 0.3));\n",
              "      fill: #FFFFFF;\n",
              "    }\n",
              "  </style>\n",
              "\n",
              "      <script>\n",
              "        const buttonEl =\n",
              "          document.querySelector('#df-dce05627-6b99-4bf0-89d0-34d730d1b45f button.colab-df-convert');\n",
              "        buttonEl.style.display =\n",
              "          google.colab.kernel.accessAllowed ? 'block' : 'none';\n",
              "\n",
              "        async function convertToInteractive(key) {\n",
              "          const element = document.querySelector('#df-dce05627-6b99-4bf0-89d0-34d730d1b45f');\n",
              "          const dataTable =\n",
              "            await google.colab.kernel.invokeFunction('convertToInteractive',\n",
              "                                                     [key], {});\n",
              "          if (!dataTable) return;\n",
              "\n",
              "          const docLinkHtml = 'Like what you see? Visit the ' +\n",
              "            '<a target=\"_blank\" href=https://colab.research.google.com/notebooks/data_table.ipynb>data table notebook</a>'\n",
              "            + ' to learn more about interactive tables.';\n",
              "          element.innerHTML = '';\n",
              "          dataTable['output_type'] = 'display_data';\n",
              "          await google.colab.output.renderOutput(dataTable, element);\n",
              "          const docLink = document.createElement('div');\n",
              "          docLink.innerHTML = docLinkHtml;\n",
              "          element.appendChild(docLink);\n",
              "        }\n",
              "      </script>\n",
              "    </div>\n",
              "  </div>\n",
              "  "
            ]
          },
          "metadata": {},
          "execution_count": 13
        }
      ]
    },
    {
      "cell_type": "code",
      "source": [
        "dataset.shape"
      ],
      "metadata": {
        "colab": {
          "base_uri": "https://localhost:8080/"
        },
        "id": "9Vuv3hYfc_vv",
        "outputId": "27a24289-1a65-43a0-92bc-385e56db5bcc"
      },
      "execution_count": 14,
      "outputs": [
        {
          "output_type": "execute_result",
          "data": {
            "text/plain": [
              "(605, 2)"
            ]
          },
          "metadata": {},
          "execution_count": 14
        }
      ]
    },
    {
      "cell_type": "code",
      "source": [
        "dataset['category'].value_counts()"
      ],
      "metadata": {
        "colab": {
          "base_uri": "https://localhost:8080/"
        },
        "id": "pbo_iTMYdEYq",
        "outputId": "77d3e7fa-08e8-43b4-fef9-bf2f237e1689"
      },
      "execution_count": 15,
      "outputs": [
        {
          "output_type": "execute_result",
          "data": {
            "text/plain": [
              "مشکل غیرفعالسازی آوای انتظار       55\n",
              "مشکل فعالسازی آوای انتظار          55\n",
              "مشکل تغییر آوای انتظار             55\n",
              "مشکل پخش آوای انتظار               55\n",
              "لیست آواهای انتظار                 55\n",
              "دریافت کد آوای انتظار خط خود       55\n",
              "دریافت کد آوای انتظار خط دیگران    55\n",
              "روش فعالسازی آوای انتظار           55\n",
              "روش غیرفعالسازی آوای انتظار        55\n",
              "روش تغییرآوای انتظار               55\n",
              "خارج از دامنه                      55\n",
              "Name: category, dtype: int64"
            ]
          },
          "metadata": {},
          "execution_count": 15
        }
      ]
    },
    {
      "cell_type": "code",
      "source": [
        "#delete NaN\n",
        "dataset = dataset.dropna()"
      ],
      "metadata": {
        "id": "nRkS3NHkblgi"
      },
      "execution_count": 16,
      "outputs": []
    },
    {
      "cell_type": "code",
      "source": [
        "dataset.shape"
      ],
      "metadata": {
        "colab": {
          "base_uri": "https://localhost:8080/"
        },
        "id": "csv33_mEbrTu",
        "outputId": "36e3f024-7c44-4830-df6d-a6c38eb4b60a"
      },
      "execution_count": 17,
      "outputs": [
        {
          "output_type": "execute_result",
          "data": {
            "text/plain": [
              "(498, 2)"
            ]
          },
          "metadata": {},
          "execution_count": 17
        }
      ]
    },
    {
      "cell_type": "markdown",
      "source": [
        "**stopword**"
      ],
      "metadata": {
        "id": "PwqfPTA5flsC"
      }
    },
    {
      "cell_type": "code",
      "source": [
        "def read_stop_words(filename):\n",
        "  with open(filename) as stopwords_file:\n",
        "    stopwords = stopwords_file.readlines()\n",
        "  stopwords = [line.replace('\\n', '') for line in stopwords] \n",
        "  return stopwords"
      ],
      "metadata": {
        "id": "7H0f9T8sfo-S"
      },
      "execution_count": 30,
      "outputs": []
    },
    {
      "cell_type": "code",
      "source": [
        "stopwords = read_stop_words('stopwords.txt')\n",
        "print(len(stopwords))"
      ],
      "metadata": {
        "colab": {
          "base_uri": "https://localhost:8080/"
        },
        "id": "uDpDL4LqfsZ0",
        "outputId": "f2a99d6e-8c31-452f-fb95-bbc6e05b0f4b"
      },
      "execution_count": 32,
      "outputs": [
        {
          "output_type": "stream",
          "name": "stdout",
          "text": [
            "1316\n"
          ]
        }
      ]
    },
    {
      "cell_type": "code",
      "source": [
        "# install hazm library\n",
        "!pip install hazm"
      ],
      "metadata": {
        "id": "bfmDnoWrdL3p",
        "colab": {
          "base_uri": "https://localhost:8080/"
        },
        "outputId": "fe4619d0-82e8-43c3-f3c2-627661a9d4ec"
      },
      "execution_count": 18,
      "outputs": [
        {
          "output_type": "stream",
          "name": "stdout",
          "text": [
            "Looking in indexes: https://pypi.org/simple, https://us-python.pkg.dev/colab-wheels/public/simple/\n",
            "Collecting hazm\n",
            "  Downloading hazm-0.7.0-py3-none-any.whl (316 kB)\n",
            "\u001b[2K     \u001b[90m━━━━━━━━━━━━━━━━━━━━━━━━━━━━━━━━━━━━━━\u001b[0m \u001b[32m316.7/316.7 KB\u001b[0m \u001b[31m15.6 MB/s\u001b[0m eta \u001b[36m0:00:00\u001b[0m\n",
            "\u001b[?25hCollecting nltk==3.3\n",
            "  Downloading nltk-3.3.0.zip (1.4 MB)\n",
            "\u001b[2K     \u001b[90m━━━━━━━━━━━━━━━━━━━━━━━━━━━━━━━━━━━━━━━━\u001b[0m \u001b[32m1.4/1.4 MB\u001b[0m \u001b[31m55.6 MB/s\u001b[0m eta \u001b[36m0:00:00\u001b[0m\n",
            "\u001b[?25h  Preparing metadata (setup.py) ... \u001b[?25l\u001b[?25hdone\n",
            "Collecting libwapiti>=0.2.1\n",
            "  Downloading libwapiti-0.2.1.tar.gz (233 kB)\n",
            "\u001b[2K     \u001b[90m━━━━━━━━━━━━━━━━━━━━━━━━━━━━━━━━━━━━━━\u001b[0m \u001b[32m233.6/233.6 KB\u001b[0m \u001b[31m29.4 MB/s\u001b[0m eta \u001b[36m0:00:00\u001b[0m\n",
            "\u001b[?25h  Preparing metadata (setup.py) ... \u001b[?25l\u001b[?25hdone\n",
            "Requirement already satisfied: six in /usr/local/lib/python3.9/dist-packages (from nltk==3.3->hazm) (1.16.0)\n",
            "Building wheels for collected packages: nltk, libwapiti\n",
            "  Building wheel for nltk (setup.py) ... \u001b[?25l\u001b[?25hdone\n",
            "  Created wheel for nltk: filename=nltk-3.3-py3-none-any.whl size=1394486 sha256=56b2ff4d381f9db2eb3247f90f6edd58dccb2bfeb40547f94a18b3b931ee477c\n",
            "  Stored in directory: /root/.cache/pip/wheels/ac/62/f6/88933dadcd64a1614894614aa68cf57c4b8e5256acb650b1f1\n",
            "  Building wheel for libwapiti (setup.py) ... \u001b[?25l\u001b[?25hdone\n",
            "  Created wheel for libwapiti: filename=libwapiti-0.2.1-cp39-cp39-linux_x86_64.whl size=180371 sha256=7ca9595499c9f8d1ebb65a7a88c9186489f6f5a2bfb38d7d99740842b244f87a\n",
            "  Stored in directory: /root/.cache/pip/wheels/8e/ff/82/9326b96f96f47472e02c453697b225813e4650c0ed4df2cd49\n",
            "Successfully built nltk libwapiti\n",
            "Installing collected packages: nltk, libwapiti, hazm\n",
            "  Attempting uninstall: nltk\n",
            "    Found existing installation: nltk 3.8.1\n",
            "    Uninstalling nltk-3.8.1:\n",
            "      Successfully uninstalled nltk-3.8.1\n",
            "Successfully installed hazm-0.7.0 libwapiti-0.2.1 nltk-3.3\n"
          ]
        }
      ]
    },
    {
      "cell_type": "code",
      "source": [
        "from hazm import word_tokenize"
      ],
      "metadata": {
        "id": "eOxB6y2SWZbv"
      },
      "execution_count": 19,
      "outputs": []
    },
    {
      "cell_type": "code",
      "source": [
        "text = dataset['text'].values"
      ],
      "metadata": {
        "id": "ezZ3Tb4tWb8U"
      },
      "execution_count": 20,
      "outputs": []
    },
    {
      "cell_type": "code",
      "source": [
        "text[0]"
      ],
      "metadata": {
        "colab": {
          "base_uri": "https://localhost:8080/",
          "height": 36
        },
        "id": "rCQNhQ50Wk3M",
        "outputId": "822265cd-0cd2-4115-9f79-f028aaff0163"
      },
      "execution_count": 21,
      "outputs": [
        {
          "output_type": "execute_result",
          "data": {
            "text/plain": [
              "' از طریق 8989 امکان لغو اوای انتظار وجود ندارد از چه روشی می توانم پیگیری کنم'"
            ],
            "application/vnd.google.colaboratory.intrinsic+json": {
              "type": "string"
            }
          },
          "metadata": {},
          "execution_count": 21
        }
      ]
    },
    {
      "cell_type": "code",
      "source": [
        "text_preprocessing = [re.sub('/s', '', line) for line in text]"
      ],
      "metadata": {
        "id": "JRDwzJnnW9nL"
      },
      "execution_count": 22,
      "outputs": []
    },
    {
      "cell_type": "code",
      "source": [
        "word_tokenized = [word_tokenize(t) for t in text]\n",
        "word_tokenized_filtered = [[w for w in sentence if w not in stopwords] for sentence in word_tokenized]"
      ],
      "metadata": {
        "id": "0JqYAFQ-WmYG"
      },
      "execution_count": 33,
      "outputs": []
    },
    {
      "cell_type": "code",
      "source": [
        "print(word_tokenized[0])"
      ],
      "metadata": {
        "colab": {
          "base_uri": "https://localhost:8080/"
        },
        "id": "2AdNxLTxf83d",
        "outputId": "d355f04e-f69f-4125-f8fd-b3b11d4e126f"
      },
      "execution_count": 36,
      "outputs": [
        {
          "output_type": "stream",
          "name": "stdout",
          "text": [
            "['از', 'طریق', '8989', 'امکان', 'لغو', 'اوای', 'انتظار', 'وجود', 'ندارد', 'از', 'چه', 'روشی', 'می', 'توانم', 'پیگیری', 'کنم']\n"
          ]
        }
      ]
    },
    {
      "cell_type": "code",
      "source": [
        "print(word_tokenized_filtered[0])"
      ],
      "metadata": {
        "colab": {
          "base_uri": "https://localhost:8080/"
        },
        "id": "UqQqWxbSWxu4",
        "outputId": "4896b145-35b5-430b-bcea-2e61bff9a181"
      },
      "execution_count": 35,
      "outputs": [
        {
          "output_type": "stream",
          "name": "stdout",
          "text": [
            "['8989', 'امکان', 'لغو', 'اوای', 'انتظار', 'روشی', 'پیگیری']\n"
          ]
        }
      ]
    },
    {
      "cell_type": "code",
      "source": [
        "def concat_words_of_sentence(word_tokenized_filtered):\n",
        "  corpus = []\n",
        "  for sentence in word_tokenized_filtered:\n",
        "    s = ' '\n",
        "    for w in sentence:\n",
        "      s += w + ' '\n",
        "    corpus.append(s)  \n",
        "  return corpus"
      ],
      "metadata": {
        "id": "5Xg-vlaJhZil"
      },
      "execution_count": 95,
      "outputs": []
    },
    {
      "cell_type": "code",
      "source": [
        "corpus = concat_words_of_sentence(word_tokenized_filtered)"
      ],
      "metadata": {
        "id": "RkkSe2eEhhky"
      },
      "execution_count": 96,
      "outputs": []
    },
    {
      "cell_type": "code",
      "source": [
        "print(corpus[3])"
      ],
      "metadata": {
        "colab": {
          "base_uri": "https://localhost:8080/"
        },
        "id": "op72Dtysh8dc",
        "outputId": "e40a0423-51ce-4532-a9d0-48b1c059da3e"
      },
      "execution_count": 120,
      "outputs": [
        {
          "output_type": "stream",
          "name": "stdout",
          "text": [
            " سلام احوال خوبه نوحه انتخاب واسه پیشوازم پخش نمیشه خطم بوق ساده میخوره چیکار \n"
          ]
        }
      ]
    },
    {
      "cell_type": "markdown",
      "source": [
        "### **one hot Y**"
      ],
      "metadata": {
        "id": "gVnH-aKecWCb"
      }
    },
    {
      "cell_type": "code",
      "source": [
        "Y_one_hot = pd.get_dummies(dataset['category'])"
      ],
      "metadata": {
        "id": "bjMgfoBYb3Wg"
      },
      "execution_count": 99,
      "outputs": []
    },
    {
      "cell_type": "code",
      "source": [
        "category_types = Y_one_hot.columns.values"
      ],
      "metadata": {
        "id": "FVIQ0jR0cHXD"
      },
      "execution_count": 100,
      "outputs": []
    },
    {
      "cell_type": "code",
      "source": [
        "category_types"
      ],
      "metadata": {
        "colab": {
          "base_uri": "https://localhost:8080/"
        },
        "id": "p6Mqy6OOcKH3",
        "outputId": "1dd12d79-c626-44f3-f682-c41d19dd9d45"
      },
      "execution_count": 101,
      "outputs": [
        {
          "output_type": "execute_result",
          "data": {
            "text/plain": [
              "array(['خارج از دامنه', 'دریافت کد آوای انتظار خط خود',\n",
              "       'دریافت کد آوای انتظار خط دیگران', 'روش تغییرآوای انتظار',\n",
              "       'روش غیرفعالسازی آوای انتظار', 'روش فعالسازی آوای انتظار',\n",
              "       'لیست آواهای انتظار', 'مشکل تغییر آوای انتظار',\n",
              "       'مشکل غیرفعالسازی آوای انتظار', 'مشکل فعالسازی آوای انتظار',\n",
              "       'مشکل پخش آوای انتظار'], dtype=object)"
            ]
          },
          "metadata": {},
          "execution_count": 101
        }
      ]
    },
    {
      "cell_type": "code",
      "source": [
        "Y = pd.get_dummies(dataset['category']).values"
      ],
      "metadata": {
        "id": "4j2DoeS2cLax"
      },
      "execution_count": 102,
      "outputs": []
    },
    {
      "cell_type": "code",
      "source": [
        "Y[0]"
      ],
      "metadata": {
        "colab": {
          "base_uri": "https://localhost:8080/"
        },
        "id": "xJuUy39ccT73",
        "outputId": "62abe5df-2ee9-425a-cc70-16e57d8b695a"
      },
      "execution_count": 103,
      "outputs": [
        {
          "output_type": "execute_result",
          "data": {
            "text/plain": [
              "array([0, 0, 0, 0, 0, 0, 0, 0, 1, 0, 0], dtype=uint8)"
            ]
          },
          "metadata": {},
          "execution_count": 103
        }
      ]
    },
    {
      "cell_type": "markdown",
      "source": [
        "### **Text Tokenizer**"
      ],
      "metadata": {
        "id": "1pyE3qWscdIC"
      }
    },
    {
      "cell_type": "code",
      "source": [
        "def max_length(tensor):\n",
        "    return max(len(t) for t in tensor)"
      ],
      "metadata": {
        "id": "hF-r9idPcU_1"
      },
      "execution_count": 104,
      "outputs": []
    },
    {
      "cell_type": "code",
      "source": [
        "tokenizer = Tokenizer()\n",
        "tokenizer.fit_on_texts(corpus)"
      ],
      "metadata": {
        "id": "Y52KDmenchnJ"
      },
      "execution_count": 105,
      "outputs": []
    },
    {
      "cell_type": "code",
      "source": [
        "vocab_size = len(tokenizer.word_index)+1"
      ],
      "metadata": {
        "id": "l4warCJvc3VF"
      },
      "execution_count": 106,
      "outputs": []
    },
    {
      "cell_type": "code",
      "source": [
        "vocab_size"
      ],
      "metadata": {
        "colab": {
          "base_uri": "https://localhost:8080/"
        },
        "id": "M7e9bKzPc-nD",
        "outputId": "24fa0f1e-eb73-4c5f-d6ac-fb18f4fb8f50"
      },
      "execution_count": 107,
      "outputs": [
        {
          "output_type": "execute_result",
          "data": {
            "text/plain": [
              "1087"
            ]
          },
          "metadata": {},
          "execution_count": 107
        }
      ]
    },
    {
      "cell_type": "code",
      "source": [
        "data_to_sequences = tokenizer.texts_to_sequences(corpus)\n",
        "maxlen = max_length(data_to_sequences)"
      ],
      "metadata": {
        "id": "mP7NSv0JdABw"
      },
      "execution_count": 108,
      "outputs": []
    },
    {
      "cell_type": "code",
      "source": [
        "maxlen"
      ],
      "metadata": {
        "colab": {
          "base_uri": "https://localhost:8080/"
        },
        "id": "-dORHcbmdDsm",
        "outputId": "91b86ccc-f280-449f-ae04-d7e495bd6cab"
      },
      "execution_count": 109,
      "outputs": [
        {
          "output_type": "execute_result",
          "data": {
            "text/plain": [
              "29"
            ]
          },
          "metadata": {},
          "execution_count": 109
        }
      ]
    },
    {
      "cell_type": "code",
      "source": [
        "pad_data_to_sequences = pad_sequences(data_to_sequences, maxlen=maxlen)"
      ],
      "metadata": {
        "id": "1Kc6HNludF6r"
      },
      "execution_count": 110,
      "outputs": []
    },
    {
      "cell_type": "code",
      "source": [
        "X_train, X_test, y_train, y_test = train_test_split(pad_data_to_sequences, Y, shuffle=True, test_size=0.3, random_state=42)"
      ],
      "metadata": {
        "id": "ywKcPnwWdIMd"
      },
      "execution_count": 121,
      "outputs": []
    },
    {
      "cell_type": "code",
      "source": [
        "print(X_train.shape)\n",
        "print(X_test.shape)\n",
        "print(y_train.shape)\n",
        "print(y_test.shape)"
      ],
      "metadata": {
        "colab": {
          "base_uri": "https://localhost:8080/"
        },
        "id": "0w29RYhDdU36",
        "outputId": "a50b755f-5ad6-4808-958a-0b3ef599edd7"
      },
      "execution_count": 122,
      "outputs": [
        {
          "output_type": "stream",
          "name": "stdout",
          "text": [
            "(348, 29)\n",
            "(150, 29)\n",
            "(348, 11)\n",
            "(150, 11)\n"
          ]
        }
      ]
    },
    {
      "cell_type": "markdown",
      "source": [
        "### **Train The Model**"
      ],
      "metadata": {
        "id": "l4wNYflDdgsd"
      }
    },
    {
      "cell_type": "code",
      "source": [
        "embedding_dim = 50\n",
        "\n",
        "model = Sequential()\n",
        "model.add(Embedding(vocab_size, embedding_dim, input_length=maxlen))\n",
        "model.add(Bidirectional(LSTM(200, return_sequences=True)))\n",
        "model.add(GlobalMaxPooling1D())\n",
        "model.add(Dropout(0.3))\n",
        "model.add(Dense(200, activation='relu'))\n",
        "model.add(Dropout(0.5))\n",
        "model.add(Dense(len(category_types), activation='softmax'))"
      ],
      "metadata": {
        "id": "2GRDPJkkdaKH"
      },
      "execution_count": 128,
      "outputs": []
    },
    {
      "cell_type": "code",
      "source": [
        "model.compile(loss='categorical_crossentropy', optimizer='adam', metrics=['accuracy'])"
      ],
      "metadata": {
        "id": "dhl1lZKCd9OL"
      },
      "execution_count": 129,
      "outputs": []
    },
    {
      "cell_type": "code",
      "source": [
        "model.summary()"
      ],
      "metadata": {
        "colab": {
          "base_uri": "https://localhost:8080/"
        },
        "id": "3imJ6yqpeBxu",
        "outputId": "b0110733-c8fe-456c-b1c8-69c90e7028c8"
      },
      "execution_count": 125,
      "outputs": [
        {
          "output_type": "stream",
          "name": "stdout",
          "text": [
            "Model: \"sequential_4\"\n",
            "_________________________________________________________________\n",
            " Layer (type)                Output Shape              Param #   \n",
            "=================================================================\n",
            " embedding_4 (Embedding)     (None, 29, 50)            54350     \n",
            "                                                                 \n",
            " bidirectional_4 (Bidirectio  (None, 29, 400)          401600    \n",
            " nal)                                                            \n",
            "                                                                 \n",
            " global_max_pooling1d_4 (Glo  (None, 400)              0         \n",
            " balMaxPooling1D)                                                \n",
            "                                                                 \n",
            " dropout_8 (Dropout)         (None, 400)               0         \n",
            "                                                                 \n",
            " dense_8 (Dense)             (None, 200)               80200     \n",
            "                                                                 \n",
            " dropout_9 (Dropout)         (None, 200)               0         \n",
            "                                                                 \n",
            " dense_9 (Dense)             (None, 11)                2211      \n",
            "                                                                 \n",
            "=================================================================\n",
            "Total params: 538,361\n",
            "Trainable params: 538,361\n",
            "Non-trainable params: 0\n",
            "_________________________________________________________________\n"
          ]
        }
      ]
    },
    {
      "cell_type": "code",
      "source": [
        "history = model.fit(X_train, y_train, validation_data=(X_test, y_test), epochs=50, batch_size=256)"
      ],
      "metadata": {
        "colab": {
          "base_uri": "https://localhost:8080/"
        },
        "id": "mVpGL0m0eDrZ",
        "outputId": "7f556b15-aaa3-4d4c-9388-93a200354a2f"
      },
      "execution_count": 126,
      "outputs": [
        {
          "output_type": "stream",
          "name": "stdout",
          "text": [
            "Epoch 1/50\n",
            "2/2 [==============================] - 5s 879ms/step - loss: 2.3967 - accuracy: 0.1034 - val_loss: 2.3954 - val_accuracy: 0.1333\n",
            "Epoch 2/50\n",
            "2/2 [==============================] - 0s 322ms/step - loss: 2.3899 - accuracy: 0.1178 - val_loss: 2.3943 - val_accuracy: 0.0867\n",
            "Epoch 3/50\n",
            "2/2 [==============================] - 0s 216ms/step - loss: 2.3837 - accuracy: 0.1236 - val_loss: 2.3936 - val_accuracy: 0.0867\n",
            "Epoch 4/50\n",
            "2/2 [==============================] - 1s 327ms/step - loss: 2.3724 - accuracy: 0.1437 - val_loss: 2.3946 - val_accuracy: 0.0867\n",
            "Epoch 5/50\n",
            "2/2 [==============================] - 1s 304ms/step - loss: 2.3610 - accuracy: 0.1408 - val_loss: 2.4042 - val_accuracy: 0.0933\n",
            "Epoch 6/50\n",
            "2/2 [==============================] - 0s 322ms/step - loss: 2.3596 - accuracy: 0.1264 - val_loss: 2.4102 - val_accuracy: 0.1333\n",
            "Epoch 7/50\n",
            "2/2 [==============================] - 0s 253ms/step - loss: 2.3372 - accuracy: 0.1379 - val_loss: 2.3922 - val_accuracy: 0.1000\n",
            "Epoch 8/50\n",
            "2/2 [==============================] - 0s 213ms/step - loss: 2.3489 - accuracy: 0.1092 - val_loss: 2.3762 - val_accuracy: 0.1067\n",
            "Epoch 9/50\n",
            "2/2 [==============================] - 0s 50ms/step - loss: 2.3274 - accuracy: 0.1437 - val_loss: 2.3551 - val_accuracy: 0.1333\n",
            "Epoch 10/50\n",
            "2/2 [==============================] - 0s 211ms/step - loss: 2.2986 - accuracy: 0.1523 - val_loss: 2.3284 - val_accuracy: 0.1667\n",
            "Epoch 11/50\n",
            "2/2 [==============================] - 0s 196ms/step - loss: 2.2703 - accuracy: 0.1351 - val_loss: 2.3085 - val_accuracy: 0.1933\n",
            "Epoch 12/50\n",
            "2/2 [==============================] - 0s 155ms/step - loss: 2.2641 - accuracy: 0.1351 - val_loss: 2.2873 - val_accuracy: 0.1600\n",
            "Epoch 13/50\n",
            "2/2 [==============================] - 0s 149ms/step - loss: 2.2559 - accuracy: 0.1925 - val_loss: 2.2754 - val_accuracy: 0.1933\n",
            "Epoch 14/50\n",
            "2/2 [==============================] - 0s 208ms/step - loss: 2.2234 - accuracy: 0.2011 - val_loss: 2.2625 - val_accuracy: 0.1800\n",
            "Epoch 15/50\n",
            "2/2 [==============================] - 0s 146ms/step - loss: 2.1836 - accuracy: 0.1839 - val_loss: 2.2520 - val_accuracy: 0.1733\n",
            "Epoch 16/50\n",
            "2/2 [==============================] - 0s 155ms/step - loss: 2.1334 - accuracy: 0.2500 - val_loss: 2.2341 - val_accuracy: 0.1867\n",
            "Epoch 17/50\n",
            "2/2 [==============================] - 0s 209ms/step - loss: 2.0906 - accuracy: 0.2270 - val_loss: 2.2002 - val_accuracy: 0.2000\n",
            "Epoch 18/50\n",
            "2/2 [==============================] - 0s 207ms/step - loss: 2.0562 - accuracy: 0.2356 - val_loss: 2.1703 - val_accuracy: 0.1733\n",
            "Epoch 19/50\n",
            "2/2 [==============================] - 0s 205ms/step - loss: 1.9902 - accuracy: 0.2672 - val_loss: 2.1375 - val_accuracy: 0.1667\n",
            "Epoch 20/50\n",
            "2/2 [==============================] - 0s 202ms/step - loss: 1.9270 - accuracy: 0.2471 - val_loss: 2.1335 - val_accuracy: 0.2333\n",
            "Epoch 21/50\n",
            "2/2 [==============================] - 0s 47ms/step - loss: 1.9615 - accuracy: 0.2328 - val_loss: 2.1155 - val_accuracy: 0.2400\n",
            "Epoch 22/50\n",
            "2/2 [==============================] - 0s 45ms/step - loss: 1.8599 - accuracy: 0.2586 - val_loss: 2.1206 - val_accuracy: 0.2200\n",
            "Epoch 23/50\n",
            "2/2 [==============================] - 0s 201ms/step - loss: 1.8397 - accuracy: 0.2328 - val_loss: 2.0849 - val_accuracy: 0.2267\n",
            "Epoch 24/50\n",
            "2/2 [==============================] - 0s 203ms/step - loss: 1.7779 - accuracy: 0.3075 - val_loss: 2.0750 - val_accuracy: 0.2600\n",
            "Epoch 25/50\n",
            "2/2 [==============================] - 0s 205ms/step - loss: 1.7463 - accuracy: 0.2644 - val_loss: 2.0687 - val_accuracy: 0.2533\n",
            "Epoch 26/50\n",
            "2/2 [==============================] - 0s 48ms/step - loss: 1.6805 - accuracy: 0.3477 - val_loss: 2.0661 - val_accuracy: 0.2333\n",
            "Epoch 27/50\n",
            "2/2 [==============================] - 0s 49ms/step - loss: 1.6197 - accuracy: 0.3276 - val_loss: 2.1069 - val_accuracy: 0.2000\n",
            "Epoch 28/50\n",
            "2/2 [==============================] - 0s 160ms/step - loss: 1.6695 - accuracy: 0.3075 - val_loss: 2.1944 - val_accuracy: 0.2133\n",
            "Epoch 29/50\n",
            "2/2 [==============================] - 0s 151ms/step - loss: 1.6722 - accuracy: 0.2931 - val_loss: 2.1248 - val_accuracy: 0.1867\n",
            "Epoch 30/50\n",
            "2/2 [==============================] - 0s 60ms/step - loss: 1.6377 - accuracy: 0.2989 - val_loss: 2.1011 - val_accuracy: 0.2533\n",
            "Epoch 31/50\n",
            "2/2 [==============================] - 0s 210ms/step - loss: 1.4794 - accuracy: 0.3592 - val_loss: 2.0848 - val_accuracy: 0.2400\n",
            "Epoch 32/50\n",
            "2/2 [==============================] - 0s 146ms/step - loss: 1.4093 - accuracy: 0.3994 - val_loss: 2.1085 - val_accuracy: 0.2533\n",
            "Epoch 33/50\n",
            "2/2 [==============================] - 0s 154ms/step - loss: 1.4014 - accuracy: 0.4540 - val_loss: 2.1922 - val_accuracy: 0.2133\n",
            "Epoch 34/50\n",
            "2/2 [==============================] - 0s 151ms/step - loss: 1.3605 - accuracy: 0.4167 - val_loss: 2.1852 - val_accuracy: 0.2467\n",
            "Epoch 35/50\n",
            "2/2 [==============================] - 0s 149ms/step - loss: 1.3096 - accuracy: 0.4540 - val_loss: 2.1867 - val_accuracy: 0.2267\n",
            "Epoch 36/50\n",
            "2/2 [==============================] - 0s 158ms/step - loss: 1.2983 - accuracy: 0.4540 - val_loss: 2.2907 - val_accuracy: 0.2333\n",
            "Epoch 37/50\n",
            "2/2 [==============================] - 0s 150ms/step - loss: 1.2010 - accuracy: 0.4713 - val_loss: 2.2444 - val_accuracy: 0.2333\n",
            "Epoch 38/50\n",
            "2/2 [==============================] - 0s 195ms/step - loss: 1.2059 - accuracy: 0.4885 - val_loss: 2.3081 - val_accuracy: 0.2733\n",
            "Epoch 39/50\n",
            "2/2 [==============================] - 0s 197ms/step - loss: 1.1227 - accuracy: 0.5144 - val_loss: 2.3110 - val_accuracy: 0.2800\n",
            "Epoch 40/50\n",
            "2/2 [==============================] - 0s 46ms/step - loss: 1.1023 - accuracy: 0.5460 - val_loss: 2.3202 - val_accuracy: 0.2533\n",
            "Epoch 41/50\n",
            "2/2 [==============================] - 0s 68ms/step - loss: 1.0832 - accuracy: 0.5172 - val_loss: 2.4331 - val_accuracy: 0.3000\n",
            "Epoch 42/50\n",
            "2/2 [==============================] - 0s 150ms/step - loss: 1.0092 - accuracy: 0.5546 - val_loss: 2.5450 - val_accuracy: 0.2467\n",
            "Epoch 43/50\n",
            "2/2 [==============================] - 0s 154ms/step - loss: 1.0193 - accuracy: 0.5546 - val_loss: 2.5577 - val_accuracy: 0.2800\n",
            "Epoch 44/50\n",
            "2/2 [==============================] - 0s 44ms/step - loss: 0.9638 - accuracy: 0.6121 - val_loss: 2.5478 - val_accuracy: 0.3133\n",
            "Epoch 45/50\n",
            "2/2 [==============================] - 0s 197ms/step - loss: 0.9266 - accuracy: 0.6121 - val_loss: 2.6434 - val_accuracy: 0.2800\n",
            "Epoch 46/50\n",
            "2/2 [==============================] - 0s 46ms/step - loss: 0.9671 - accuracy: 0.5603 - val_loss: 2.5760 - val_accuracy: 0.3267\n",
            "Epoch 47/50\n",
            "2/2 [==============================] - 0s 306ms/step - loss: 0.8648 - accuracy: 0.6580 - val_loss: 2.6103 - val_accuracy: 0.2867\n",
            "Epoch 48/50\n",
            "2/2 [==============================] - 0s 234ms/step - loss: 0.8579 - accuracy: 0.6293 - val_loss: 2.7703 - val_accuracy: 0.2933\n",
            "Epoch 49/50\n",
            "2/2 [==============================] - 0s 80ms/step - loss: 0.9186 - accuracy: 0.6149 - val_loss: 2.6723 - val_accuracy: 0.3000\n",
            "Epoch 50/50\n",
            "2/2 [==============================] - 0s 222ms/step - loss: 0.7850 - accuracy: 0.7155 - val_loss: 2.6658 - val_accuracy: 0.2933\n"
          ]
        }
      ]
    },
    {
      "cell_type": "code",
      "source": [
        "model.save('model.h5')"
      ],
      "metadata": {
        "id": "Ei-Yx8bueF0J"
      },
      "execution_count": 117,
      "outputs": []
    },
    {
      "cell_type": "code",
      "source": [],
      "metadata": {
        "id": "EFR3QQvog90S"
      },
      "execution_count": null,
      "outputs": []
    }
  ]
}