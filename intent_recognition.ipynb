{
  "nbformat": 4,
  "nbformat_minor": 0,
  "metadata": {
    "colab": {
      "provenance": []
    },
    "kernelspec": {
      "name": "python3",
      "display_name": "Python 3"
    },
    "language_info": {
      "name": "python"
    }
  },
  "cells": [
    {
      "cell_type": "code",
      "execution_count": 2,
      "metadata": {
        "id": "vyTRZcvxpIG-"
      },
      "outputs": [],
      "source": [
        "import pandas as pd"
      ]
    },
    {
      "cell_type": "code",
      "source": [
        "df = pd.read_excel('data_train_intent_detection.xlsx')"
      ],
      "metadata": {
        "id": "pO3zXGJVpib5"
      },
      "execution_count": 43,
      "outputs": []
    },
    {
      "cell_type": "code",
      "source": [
        "df.head()"
      ],
      "metadata": {
        "colab": {
          "base_uri": "https://localhost:8080/",
          "height": 545
        },
        "id": "cMwiwi7xrRlA",
        "outputId": "1b317784-e466-4418-faa2-b3abf13798fa"
      },
      "execution_count": 44,
      "outputs": [
        {
          "output_type": "execute_result",
          "data": {
            "text/plain": [
              "                        مشکل غیرفعالسازی آوای انتظار  \\\n",
              "0   از طریق 8989 امکان لغو اوای انتظار وجود ندارد...   \n",
              "1   با پیام به 8989 اقدام به غیرفعالسازی اوای انت...   \n",
              "2   برای غیرفعالسازی اوای انتظار پیام به 8989 داد...   \n",
              "3   از طریق ارسال پیام به 8989 اقدام به غیرفعالسا...   \n",
              "4   با ارسال 5 به 8989 میخواستم اوای انتظار غیرفع...   \n",
              "\n",
              "                           مشکل فعالسازی آوای انتظار  \\\n",
              "0   خیلی تلاش کردم اوای انتظار رو فعال کنم اما فع...   \n",
              "1          از کجا پیگیری کنم اوای انتظارم فعال نمیشه   \n",
              "2   خیلی تلاش کردم اوای انتظار رو فعال کنم اما او...   \n",
              "3   برای رفع مشکل فعالسازی پیشواز از کجا باید پیگ...   \n",
              "4   از هر راهی اقدام می کنم اوای انتظار فعال نمیش...   \n",
              "\n",
              "                              مشکل تغییر آوای انتظار  \\\n",
              "0  سلام علیکم حاج خانوم خوبی من ببخشید مزاحمتون م...   \n",
              "1  سلام حال شما خوب هستین ببخشید من یه پیشوازی بر...   \n",
              "2  سلام میکنم خدمتتون خانم عرض ادب غرض از مزاحمت ...   \n",
              "3  سلام حال شما خوبه این دوست من خیلی به یه خوانن...   \n",
              "4  علو خوبین سلام عرض میکنم. عیدتون مبارک. طاعاتت...   \n",
              "\n",
              "                                مشکل پخش آوای انتظار  \\\n",
              "0  سلام احوال شما خوبه؟ من یه نوحه انتخاب کردم وا...   \n",
              "1  سلام وقتتون بخیر خانومم سه روز پیش یه آوای انت...   \n",
              "2  سلام من سه چهار روزه برای خط دخترم پیشواز فعال...   \n",
              "3  سلام خوبید؟من آوای انتظارم اولش میخونه بعدش بو...   \n",
              "4  سلام من آوای انتظار فعال کردم واسه خطم اما وقت...   \n",
              "\n",
              "                                  لیست آواهای انتظار  \\\n",
              "0   همه کدای اوای همراه اولو از کجا بگیرم و یکیشو...   \n",
              "1               همه کدای اوای همراه اولو چجوری بگیرم   \n",
              "2    همه کد اواهای انتظار همراه اولو چطور دریافت کنم   \n",
              "3                      کدای پیشواز همشو از کجا بگیرم   \n",
              "4   همه کدای اوای همراه اول رو از کجا بگیرم و یکی...   \n",
              "\n",
              "                        دریافت کد آوای انتظار خط خود  \\\n",
              "0   یه اهنگ گذاشتم رو خطم نمیدونم کدش چیه واسه دو...   \n",
              "1   یه اهنگ رو خطم گذاشتم میخوام کدشو بهم بدید وا...   \n",
              "2   دوستم یه اهنگ پیشواز رو خط همراه اولش گذاشته ...   \n",
              "3                       پیدا کردن اوام به چه ترتیبیه   \n",
              "4           رفیق کد انتظارمو ازم خواست یادم نبود چیه   \n",
              "\n",
              "                     دریافت کد آوای انتظار خط دیگران  \\\n",
              "0  سلام علیکم ما یه نوحه انتخاب کرده بودیم که با ...   \n",
              "1  سلام من این آهنگ ای دل اگر عاشقی در پی دلدار ب...   \n",
              "2   سلام من به رفیقم زنگ زدم بعد نوحه حسین حسین آ...   \n",
              "3  سلام من یه چند هفته پیش پیشواز گذاشتم روی خط م...   \n",
              "4  سلام خوبید؟من با همکارم تماس گرفتم بعد آوای ان...   \n",
              "\n",
              "                            روش فعالسازی آوای انتظار  \\\n",
              "0  الان باهاتون داشتم صحبت میکردم قطع شد من میخوا...   \n",
              "1  سلام من برای فعالسازی خطم وارد سایت همراه من ش...   \n",
              "2  سلام این کد دستوری همراه اول برای فعالسازی همش...   \n",
              "3  سلام من چطوری میتونم واسه دوتا از خطهام همزمان...   \n",
              "4  سلام میخواستم بپرسم که برای فعال کردن پیشواز ب...   \n",
              "\n",
              "                         روش غیرفعالسازی آوای انتظار  \\\n",
              "0  سلام من چطوری میتونم پیشواز خط بابامو بردارم ا...   \n",
              "1  سلام حال شما خوبه؟من یه چندماهی میشه آوای انتظ...   \n",
              "2  سلام ببخشید من میخوام آوای انتظار خط همسرمو غی...   \n",
              "3  سلام صبح بخیر،گوشی داداشم خراب شده الان میخواد...   \n",
              "4  سلام من تازه پیشواز گذاشتم اما خوشم نیومد میتو...   \n",
              "\n",
              "                                روش تغییرآوای انتظار  \\\n",
              "0  سلام سال نو مبارک میخواستم ببینم میشه با کدی ک...   \n",
              "1  سلام من خطم بخاطر بدهی قطع شده الان میخوام پیش...   \n",
              "2  سلام خوب هستید؟من میخواستم آوای انتظار گوشی ما...   \n",
              "3  سلام از صبح چند نفر بهم زنگ زدن گفتن چقدر آوای...   \n",
              "4  سلام من آوای انتظارمو از محرم تغییر ندادم همه ...   \n",
              "\n",
              "                                       خارج از دامنه  \n",
              "0  سلام من آوای انتظاری که انتخاب کردم تو سایت که...  \n",
              "1  سلام چرا انقدر این پیشواز میزاریم صداش بی‌کیفی...  \n",
              "2  وقتتون بخیر باشه این آوای انتظاری که من انتخاب...  \n",
              "3  سلام من پیشواز از آهنگ طلیسچی گذاشتم صداش خیلی...  \n",
              "4                                               سلام  "
            ],
            "text/html": [
              "\n",
              "  <div id=\"df-e144f817-46bc-4374-9a42-aa20c00c3e6a\">\n",
              "    <div class=\"colab-df-container\">\n",
              "      <div>\n",
              "<style scoped>\n",
              "    .dataframe tbody tr th:only-of-type {\n",
              "        vertical-align: middle;\n",
              "    }\n",
              "\n",
              "    .dataframe tbody tr th {\n",
              "        vertical-align: top;\n",
              "    }\n",
              "\n",
              "    .dataframe thead th {\n",
              "        text-align: right;\n",
              "    }\n",
              "</style>\n",
              "<table border=\"1\" class=\"dataframe\">\n",
              "  <thead>\n",
              "    <tr style=\"text-align: right;\">\n",
              "      <th></th>\n",
              "      <th>مشکل غیرفعالسازی آوای انتظار</th>\n",
              "      <th>مشکل فعالسازی آوای انتظار</th>\n",
              "      <th>مشکل تغییر آوای انتظار</th>\n",
              "      <th>مشکل پخش آوای انتظار</th>\n",
              "      <th>لیست آواهای انتظار</th>\n",
              "      <th>دریافت کد آوای انتظار خط خود</th>\n",
              "      <th>دریافت کد آوای انتظار خط دیگران</th>\n",
              "      <th>روش فعالسازی آوای انتظار</th>\n",
              "      <th>روش غیرفعالسازی آوای انتظار</th>\n",
              "      <th>روش تغییرآوای انتظار</th>\n",
              "      <th>خارج از دامنه</th>\n",
              "    </tr>\n",
              "  </thead>\n",
              "  <tbody>\n",
              "    <tr>\n",
              "      <th>0</th>\n",
              "      <td>از طریق 8989 امکان لغو اوای انتظار وجود ندارد...</td>\n",
              "      <td>خیلی تلاش کردم اوای انتظار رو فعال کنم اما فع...</td>\n",
              "      <td>سلام علیکم حاج خانوم خوبی من ببخشید مزاحمتون م...</td>\n",
              "      <td>سلام احوال شما خوبه؟ من یه نوحه انتخاب کردم وا...</td>\n",
              "      <td>همه کدای اوای همراه اولو از کجا بگیرم و یکیشو...</td>\n",
              "      <td>یه اهنگ گذاشتم رو خطم نمیدونم کدش چیه واسه دو...</td>\n",
              "      <td>سلام علیکم ما یه نوحه انتخاب کرده بودیم که با ...</td>\n",
              "      <td>الان باهاتون داشتم صحبت میکردم قطع شد من میخوا...</td>\n",
              "      <td>سلام من چطوری میتونم پیشواز خط بابامو بردارم ا...</td>\n",
              "      <td>سلام سال نو مبارک میخواستم ببینم میشه با کدی ک...</td>\n",
              "      <td>سلام من آوای انتظاری که انتخاب کردم تو سایت که...</td>\n",
              "    </tr>\n",
              "    <tr>\n",
              "      <th>1</th>\n",
              "      <td>با پیام به 8989 اقدام به غیرفعالسازی اوای انت...</td>\n",
              "      <td>از کجا پیگیری کنم اوای انتظارم فعال نمیشه</td>\n",
              "      <td>سلام حال شما خوب هستین ببخشید من یه پیشوازی بر...</td>\n",
              "      <td>سلام وقتتون بخیر خانومم سه روز پیش یه آوای انت...</td>\n",
              "      <td>همه کدای اوای همراه اولو چجوری بگیرم</td>\n",
              "      <td>یه اهنگ رو خطم گذاشتم میخوام کدشو بهم بدید وا...</td>\n",
              "      <td>سلام من این آهنگ ای دل اگر عاشقی در پی دلدار ب...</td>\n",
              "      <td>سلام من برای فعالسازی خطم وارد سایت همراه من ش...</td>\n",
              "      <td>سلام حال شما خوبه؟من یه چندماهی میشه آوای انتظ...</td>\n",
              "      <td>سلام من خطم بخاطر بدهی قطع شده الان میخوام پیش...</td>\n",
              "      <td>سلام چرا انقدر این پیشواز میزاریم صداش بی‌کیفی...</td>\n",
              "    </tr>\n",
              "    <tr>\n",
              "      <th>2</th>\n",
              "      <td>برای غیرفعالسازی اوای انتظار پیام به 8989 داد...</td>\n",
              "      <td>خیلی تلاش کردم اوای انتظار رو فعال کنم اما او...</td>\n",
              "      <td>سلام میکنم خدمتتون خانم عرض ادب غرض از مزاحمت ...</td>\n",
              "      <td>سلام من سه چهار روزه برای خط دخترم پیشواز فعال...</td>\n",
              "      <td>همه کد اواهای انتظار همراه اولو چطور دریافت کنم</td>\n",
              "      <td>دوستم یه اهنگ پیشواز رو خط همراه اولش گذاشته ...</td>\n",
              "      <td>سلام من به رفیقم زنگ زدم بعد نوحه حسین حسین آ...</td>\n",
              "      <td>سلام این کد دستوری همراه اول برای فعالسازی همش...</td>\n",
              "      <td>سلام ببخشید من میخوام آوای انتظار خط همسرمو غی...</td>\n",
              "      <td>سلام خوب هستید؟من میخواستم آوای انتظار گوشی ما...</td>\n",
              "      <td>وقتتون بخیر باشه این آوای انتظاری که من انتخاب...</td>\n",
              "    </tr>\n",
              "    <tr>\n",
              "      <th>3</th>\n",
              "      <td>از طریق ارسال پیام به 8989 اقدام به غیرفعالسا...</td>\n",
              "      <td>برای رفع مشکل فعالسازی پیشواز از کجا باید پیگ...</td>\n",
              "      <td>سلام حال شما خوبه این دوست من خیلی به یه خوانن...</td>\n",
              "      <td>سلام خوبید؟من آوای انتظارم اولش میخونه بعدش بو...</td>\n",
              "      <td>کدای پیشواز همشو از کجا بگیرم</td>\n",
              "      <td>پیدا کردن اوام به چه ترتیبیه</td>\n",
              "      <td>سلام من یه چند هفته پیش پیشواز گذاشتم روی خط م...</td>\n",
              "      <td>سلام من چطوری میتونم واسه دوتا از خطهام همزمان...</td>\n",
              "      <td>سلام صبح بخیر،گوشی داداشم خراب شده الان میخواد...</td>\n",
              "      <td>سلام از صبح چند نفر بهم زنگ زدن گفتن چقدر آوای...</td>\n",
              "      <td>سلام من پیشواز از آهنگ طلیسچی گذاشتم صداش خیلی...</td>\n",
              "    </tr>\n",
              "    <tr>\n",
              "      <th>4</th>\n",
              "      <td>با ارسال 5 به 8989 میخواستم اوای انتظار غیرفع...</td>\n",
              "      <td>از هر راهی اقدام می کنم اوای انتظار فعال نمیش...</td>\n",
              "      <td>علو خوبین سلام عرض میکنم. عیدتون مبارک. طاعاتت...</td>\n",
              "      <td>سلام من آوای انتظار فعال کردم واسه خطم اما وقت...</td>\n",
              "      <td>همه کدای اوای همراه اول رو از کجا بگیرم و یکی...</td>\n",
              "      <td>رفیق کد انتظارمو ازم خواست یادم نبود چیه</td>\n",
              "      <td>سلام خوبید؟من با همکارم تماس گرفتم بعد آوای ان...</td>\n",
              "      <td>سلام میخواستم بپرسم که برای فعال کردن پیشواز ب...</td>\n",
              "      <td>سلام من تازه پیشواز گذاشتم اما خوشم نیومد میتو...</td>\n",
              "      <td>سلام من آوای انتظارمو از محرم تغییر ندادم همه ...</td>\n",
              "      <td>سلام</td>\n",
              "    </tr>\n",
              "  </tbody>\n",
              "</table>\n",
              "</div>\n",
              "      <button class=\"colab-df-convert\" onclick=\"convertToInteractive('df-e144f817-46bc-4374-9a42-aa20c00c3e6a')\"\n",
              "              title=\"Convert this dataframe to an interactive table.\"\n",
              "              style=\"display:none;\">\n",
              "        \n",
              "  <svg xmlns=\"http://www.w3.org/2000/svg\" height=\"24px\"viewBox=\"0 0 24 24\"\n",
              "       width=\"24px\">\n",
              "    <path d=\"M0 0h24v24H0V0z\" fill=\"none\"/>\n",
              "    <path d=\"M18.56 5.44l.94 2.06.94-2.06 2.06-.94-2.06-.94-.94-2.06-.94 2.06-2.06.94zm-11 1L8.5 8.5l.94-2.06 2.06-.94-2.06-.94L8.5 2.5l-.94 2.06-2.06.94zm10 10l.94 2.06.94-2.06 2.06-.94-2.06-.94-.94-2.06-.94 2.06-2.06.94z\"/><path d=\"M17.41 7.96l-1.37-1.37c-.4-.4-.92-.59-1.43-.59-.52 0-1.04.2-1.43.59L10.3 9.45l-7.72 7.72c-.78.78-.78 2.05 0 2.83L4 21.41c.39.39.9.59 1.41.59.51 0 1.02-.2 1.41-.59l7.78-7.78 2.81-2.81c.8-.78.8-2.07 0-2.86zM5.41 20L4 18.59l7.72-7.72 1.47 1.35L5.41 20z\"/>\n",
              "  </svg>\n",
              "      </button>\n",
              "      \n",
              "  <style>\n",
              "    .colab-df-container {\n",
              "      display:flex;\n",
              "      flex-wrap:wrap;\n",
              "      gap: 12px;\n",
              "    }\n",
              "\n",
              "    .colab-df-convert {\n",
              "      background-color: #E8F0FE;\n",
              "      border: none;\n",
              "      border-radius: 50%;\n",
              "      cursor: pointer;\n",
              "      display: none;\n",
              "      fill: #1967D2;\n",
              "      height: 32px;\n",
              "      padding: 0 0 0 0;\n",
              "      width: 32px;\n",
              "    }\n",
              "\n",
              "    .colab-df-convert:hover {\n",
              "      background-color: #E2EBFA;\n",
              "      box-shadow: 0px 1px 2px rgba(60, 64, 67, 0.3), 0px 1px 3px 1px rgba(60, 64, 67, 0.15);\n",
              "      fill: #174EA6;\n",
              "    }\n",
              "\n",
              "    [theme=dark] .colab-df-convert {\n",
              "      background-color: #3B4455;\n",
              "      fill: #D2E3FC;\n",
              "    }\n",
              "\n",
              "    [theme=dark] .colab-df-convert:hover {\n",
              "      background-color: #434B5C;\n",
              "      box-shadow: 0px 1px 3px 1px rgba(0, 0, 0, 0.15);\n",
              "      filter: drop-shadow(0px 1px 2px rgba(0, 0, 0, 0.3));\n",
              "      fill: #FFFFFF;\n",
              "    }\n",
              "  </style>\n",
              "\n",
              "      <script>\n",
              "        const buttonEl =\n",
              "          document.querySelector('#df-e144f817-46bc-4374-9a42-aa20c00c3e6a button.colab-df-convert');\n",
              "        buttonEl.style.display =\n",
              "          google.colab.kernel.accessAllowed ? 'block' : 'none';\n",
              "\n",
              "        async function convertToInteractive(key) {\n",
              "          const element = document.querySelector('#df-e144f817-46bc-4374-9a42-aa20c00c3e6a');\n",
              "          const dataTable =\n",
              "            await google.colab.kernel.invokeFunction('convertToInteractive',\n",
              "                                                     [key], {});\n",
              "          if (!dataTable) return;\n",
              "\n",
              "          const docLinkHtml = 'Like what you see? Visit the ' +\n",
              "            '<a target=\"_blank\" href=https://colab.research.google.com/notebooks/data_table.ipynb>data table notebook</a>'\n",
              "            + ' to learn more about interactive tables.';\n",
              "          element.innerHTML = '';\n",
              "          dataTable['output_type'] = 'display_data';\n",
              "          await google.colab.output.renderOutput(dataTable, element);\n",
              "          const docLink = document.createElement('div');\n",
              "          docLink.innerHTML = docLinkHtml;\n",
              "          element.appendChild(docLink);\n",
              "        }\n",
              "      </script>\n",
              "    </div>\n",
              "  </div>\n",
              "  "
            ]
          },
          "metadata": {},
          "execution_count": 44
        }
      ]
    },
    {
      "cell_type": "code",
      "source": [
        "df.shape"
      ],
      "metadata": {
        "colab": {
          "base_uri": "https://localhost:8080/"
        },
        "id": "w0_R95Jjrbv7",
        "outputId": "bd39f7b4-d8f5-4c8b-c57d-797725e1c269"
      },
      "execution_count": 45,
      "outputs": [
        {
          "output_type": "execute_result",
          "data": {
            "text/plain": [
              "(55, 11)"
            ]
          },
          "metadata": {},
          "execution_count": 45
        }
      ]
    },
    {
      "cell_type": "code",
      "source": [
        "df.iloc[0]"
      ],
      "metadata": {
        "colab": {
          "base_uri": "https://localhost:8080/"
        },
        "id": "BYHa8jiPaeXp",
        "outputId": "9cdd05d8-d5ad-4c29-9bba-5ab47dfdf4ff"
      },
      "execution_count": 74,
      "outputs": [
        {
          "output_type": "execute_result",
          "data": {
            "text/plain": [
              "مشکل غیرفعالسازی آوای انتظار        از طریق 8989 امکان لغو اوای انتظار وجود ندارد...\n",
              "مشکل فعالسازی آوای انتظار           خیلی تلاش کردم اوای انتظار رو فعال کنم اما فع...\n",
              "مشکل تغییر آوای انتظار             سلام علیکم حاج خانوم خوبی من ببخشید مزاحمتون م...\n",
              "مشکل پخش آوای انتظار               سلام احوال شما خوبه؟ من یه نوحه انتخاب کردم وا...\n",
              "لیست آواهای انتظار                  همه کدای اوای همراه اولو از کجا بگیرم و یکیشو...\n",
              "دریافت کد آوای انتظار خط خود        یه اهنگ گذاشتم رو خطم نمیدونم کدش چیه واسه دو...\n",
              "دریافت کد آوای انتظار خط دیگران    سلام علیکم ما یه نوحه انتخاب کرده بودیم که با ...\n",
              "روش فعالسازی آوای انتظار           الان باهاتون داشتم صحبت میکردم قطع شد من میخوا...\n",
              "روش غیرفعالسازی آوای انتظار        سلام من چطوری میتونم پیشواز خط بابامو بردارم ا...\n",
              "روش تغییرآوای انتظار               سلام سال نو مبارک میخواستم ببینم میشه با کدی ک...\n",
              "خارج از دامنه                      سلام من آوای انتظاری که انتخاب کردم تو سایت که...\n",
              "Name: 0, dtype: object"
            ]
          },
          "metadata": {},
          "execution_count": 74
        }
      ]
    },
    {
      "cell_type": "code",
      "source": [
        "list(df.iloc[0].keys())"
      ],
      "metadata": {
        "colab": {
          "base_uri": "https://localhost:8080/"
        },
        "id": "vupTz0_eaONh",
        "outputId": "b22ec0d4-823a-48ba-a9d1-9e895c4862c8"
      },
      "execution_count": 75,
      "outputs": [
        {
          "output_type": "execute_result",
          "data": {
            "text/plain": [
              "['مشکل غیرفعالسازی آوای انتظار',\n",
              " 'مشکل فعالسازی آوای انتظار',\n",
              " 'مشکل تغییر آوای انتظار',\n",
              " 'مشکل پخش آوای انتظار',\n",
              " 'لیست آواهای انتظار',\n",
              " 'دریافت کد آوای انتظار خط خود',\n",
              " 'دریافت کد آوای انتظار خط دیگران',\n",
              " 'روش فعالسازی آوای انتظار',\n",
              " 'روش غیرفعالسازی آوای انتظار',\n",
              " 'روش تغییرآوای انتظار',\n",
              " 'خارج از دامنه']"
            ]
          },
          "metadata": {},
          "execution_count": 75
        }
      ]
    },
    {
      "cell_type": "code",
      "source": [
        "def create_dataset(df):\n",
        "  output = {\n",
        "        \"text\": [],\n",
        "        \"category\": []\n",
        "    }\n",
        "\n",
        "  for data in df.iloc:\n",
        "    for i,d in enumerate(data):\n",
        "      output[\"text\"].append(d)\n",
        "      output[\"category\"].append(list(df.iloc[0].keys())[i])\n",
        "   \n",
        "  return output"
      ],
      "metadata": {
        "id": "FLk1cR2-anPx"
      },
      "execution_count": 76,
      "outputs": []
    },
    {
      "cell_type": "code",
      "source": [
        "data = create_dataset(df)"
      ],
      "metadata": {
        "id": "X4a8iLecRGIQ"
      },
      "execution_count": 77,
      "outputs": []
    },
    {
      "cell_type": "code",
      "source": [
        "print(len(data[\"text\"]))\n",
        "print(len(data[\"category\"]))"
      ],
      "metadata": {
        "colab": {
          "base_uri": "https://localhost:8080/"
        },
        "id": "CazQ9QxPc1za",
        "outputId": "e5e01681-01c3-4881-af0c-f0126a0b7899"
      },
      "execution_count": 86,
      "outputs": [
        {
          "output_type": "stream",
          "name": "stdout",
          "text": [
            "605\n",
            "605\n"
          ]
        }
      ]
    },
    {
      "cell_type": "code",
      "source": [
        "print(data[\"text\"][0])\n",
        "print(data[\"category\"][0])"
      ],
      "metadata": {
        "colab": {
          "base_uri": "https://localhost:8080/"
        },
        "id": "xjUJ5qzLclUr",
        "outputId": "59254974-7a78-4651-c703-ec57e3e5840c"
      },
      "execution_count": 87,
      "outputs": [
        {
          "output_type": "stream",
          "name": "stdout",
          "text": [
            " از طریق 8989 امکان لغو اوای انتظار وجود ندارد از چه روشی می توانم پیگیری کنم\n",
            "مشکل غیرفعالسازی آوای انتظار\n"
          ]
        }
      ]
    },
    {
      "cell_type": "code",
      "source": [
        "dataset = pd.DataFrame(data)"
      ],
      "metadata": {
        "id": "048VwDMRVNVa"
      },
      "execution_count": 89,
      "outputs": []
    },
    {
      "cell_type": "code",
      "source": [
        "dataset.head()"
      ],
      "metadata": {
        "colab": {
          "base_uri": "https://localhost:8080/",
          "height": 206
        },
        "id": "4L4rDBnMZYge",
        "outputId": "0b28beac-3af5-4b7e-fd2d-1c36580743b1"
      },
      "execution_count": 90,
      "outputs": [
        {
          "output_type": "execute_result",
          "data": {
            "text/plain": [
              "                                                text  \\\n",
              "0   از طریق 8989 امکان لغو اوای انتظار وجود ندارد...   \n",
              "1   خیلی تلاش کردم اوای انتظار رو فعال کنم اما فع...   \n",
              "2  سلام علیکم حاج خانوم خوبی من ببخشید مزاحمتون م...   \n",
              "3  سلام احوال شما خوبه؟ من یه نوحه انتخاب کردم وا...   \n",
              "4   همه کدای اوای همراه اولو از کجا بگیرم و یکیشو...   \n",
              "\n",
              "                       category  \n",
              "0  مشکل غیرفعالسازی آوای انتظار  \n",
              "1     مشکل فعالسازی آوای انتظار  \n",
              "2        مشکل تغییر آوای انتظار  \n",
              "3          مشکل پخش آوای انتظار  \n",
              "4            لیست آواهای انتظار  "
            ],
            "text/html": [
              "\n",
              "  <div id=\"df-41787b62-12b3-43a8-bc7a-f7d62af86edc\">\n",
              "    <div class=\"colab-df-container\">\n",
              "      <div>\n",
              "<style scoped>\n",
              "    .dataframe tbody tr th:only-of-type {\n",
              "        vertical-align: middle;\n",
              "    }\n",
              "\n",
              "    .dataframe tbody tr th {\n",
              "        vertical-align: top;\n",
              "    }\n",
              "\n",
              "    .dataframe thead th {\n",
              "        text-align: right;\n",
              "    }\n",
              "</style>\n",
              "<table border=\"1\" class=\"dataframe\">\n",
              "  <thead>\n",
              "    <tr style=\"text-align: right;\">\n",
              "      <th></th>\n",
              "      <th>text</th>\n",
              "      <th>category</th>\n",
              "    </tr>\n",
              "  </thead>\n",
              "  <tbody>\n",
              "    <tr>\n",
              "      <th>0</th>\n",
              "      <td>از طریق 8989 امکان لغو اوای انتظار وجود ندارد...</td>\n",
              "      <td>مشکل غیرفعالسازی آوای انتظار</td>\n",
              "    </tr>\n",
              "    <tr>\n",
              "      <th>1</th>\n",
              "      <td>خیلی تلاش کردم اوای انتظار رو فعال کنم اما فع...</td>\n",
              "      <td>مشکل فعالسازی آوای انتظار</td>\n",
              "    </tr>\n",
              "    <tr>\n",
              "      <th>2</th>\n",
              "      <td>سلام علیکم حاج خانوم خوبی من ببخشید مزاحمتون م...</td>\n",
              "      <td>مشکل تغییر آوای انتظار</td>\n",
              "    </tr>\n",
              "    <tr>\n",
              "      <th>3</th>\n",
              "      <td>سلام احوال شما خوبه؟ من یه نوحه انتخاب کردم وا...</td>\n",
              "      <td>مشکل پخش آوای انتظار</td>\n",
              "    </tr>\n",
              "    <tr>\n",
              "      <th>4</th>\n",
              "      <td>همه کدای اوای همراه اولو از کجا بگیرم و یکیشو...</td>\n",
              "      <td>لیست آواهای انتظار</td>\n",
              "    </tr>\n",
              "  </tbody>\n",
              "</table>\n",
              "</div>\n",
              "      <button class=\"colab-df-convert\" onclick=\"convertToInteractive('df-41787b62-12b3-43a8-bc7a-f7d62af86edc')\"\n",
              "              title=\"Convert this dataframe to an interactive table.\"\n",
              "              style=\"display:none;\">\n",
              "        \n",
              "  <svg xmlns=\"http://www.w3.org/2000/svg\" height=\"24px\"viewBox=\"0 0 24 24\"\n",
              "       width=\"24px\">\n",
              "    <path d=\"M0 0h24v24H0V0z\" fill=\"none\"/>\n",
              "    <path d=\"M18.56 5.44l.94 2.06.94-2.06 2.06-.94-2.06-.94-.94-2.06-.94 2.06-2.06.94zm-11 1L8.5 8.5l.94-2.06 2.06-.94-2.06-.94L8.5 2.5l-.94 2.06-2.06.94zm10 10l.94 2.06.94-2.06 2.06-.94-2.06-.94-.94-2.06-.94 2.06-2.06.94z\"/><path d=\"M17.41 7.96l-1.37-1.37c-.4-.4-.92-.59-1.43-.59-.52 0-1.04.2-1.43.59L10.3 9.45l-7.72 7.72c-.78.78-.78 2.05 0 2.83L4 21.41c.39.39.9.59 1.41.59.51 0 1.02-.2 1.41-.59l7.78-7.78 2.81-2.81c.8-.78.8-2.07 0-2.86zM5.41 20L4 18.59l7.72-7.72 1.47 1.35L5.41 20z\"/>\n",
              "  </svg>\n",
              "      </button>\n",
              "      \n",
              "  <style>\n",
              "    .colab-df-container {\n",
              "      display:flex;\n",
              "      flex-wrap:wrap;\n",
              "      gap: 12px;\n",
              "    }\n",
              "\n",
              "    .colab-df-convert {\n",
              "      background-color: #E8F0FE;\n",
              "      border: none;\n",
              "      border-radius: 50%;\n",
              "      cursor: pointer;\n",
              "      display: none;\n",
              "      fill: #1967D2;\n",
              "      height: 32px;\n",
              "      padding: 0 0 0 0;\n",
              "      width: 32px;\n",
              "    }\n",
              "\n",
              "    .colab-df-convert:hover {\n",
              "      background-color: #E2EBFA;\n",
              "      box-shadow: 0px 1px 2px rgba(60, 64, 67, 0.3), 0px 1px 3px 1px rgba(60, 64, 67, 0.15);\n",
              "      fill: #174EA6;\n",
              "    }\n",
              "\n",
              "    [theme=dark] .colab-df-convert {\n",
              "      background-color: #3B4455;\n",
              "      fill: #D2E3FC;\n",
              "    }\n",
              "\n",
              "    [theme=dark] .colab-df-convert:hover {\n",
              "      background-color: #434B5C;\n",
              "      box-shadow: 0px 1px 3px 1px rgba(0, 0, 0, 0.15);\n",
              "      filter: drop-shadow(0px 1px 2px rgba(0, 0, 0, 0.3));\n",
              "      fill: #FFFFFF;\n",
              "    }\n",
              "  </style>\n",
              "\n",
              "      <script>\n",
              "        const buttonEl =\n",
              "          document.querySelector('#df-41787b62-12b3-43a8-bc7a-f7d62af86edc button.colab-df-convert');\n",
              "        buttonEl.style.display =\n",
              "          google.colab.kernel.accessAllowed ? 'block' : 'none';\n",
              "\n",
              "        async function convertToInteractive(key) {\n",
              "          const element = document.querySelector('#df-41787b62-12b3-43a8-bc7a-f7d62af86edc');\n",
              "          const dataTable =\n",
              "            await google.colab.kernel.invokeFunction('convertToInteractive',\n",
              "                                                     [key], {});\n",
              "          if (!dataTable) return;\n",
              "\n",
              "          const docLinkHtml = 'Like what you see? Visit the ' +\n",
              "            '<a target=\"_blank\" href=https://colab.research.google.com/notebooks/data_table.ipynb>data table notebook</a>'\n",
              "            + ' to learn more about interactive tables.';\n",
              "          element.innerHTML = '';\n",
              "          dataTable['output_type'] = 'display_data';\n",
              "          await google.colab.output.renderOutput(dataTable, element);\n",
              "          const docLink = document.createElement('div');\n",
              "          docLink.innerHTML = docLinkHtml;\n",
              "          element.appendChild(docLink);\n",
              "        }\n",
              "      </script>\n",
              "    </div>\n",
              "  </div>\n",
              "  "
            ]
          },
          "metadata": {},
          "execution_count": 90
        }
      ]
    },
    {
      "cell_type": "code",
      "source": [
        "dataset.shape"
      ],
      "metadata": {
        "colab": {
          "base_uri": "https://localhost:8080/"
        },
        "id": "9Vuv3hYfc_vv",
        "outputId": "6031ca95-197a-427a-e8dd-150ba68975ba"
      },
      "execution_count": 91,
      "outputs": [
        {
          "output_type": "execute_result",
          "data": {
            "text/plain": [
              "(605, 2)"
            ]
          },
          "metadata": {},
          "execution_count": 91
        }
      ]
    },
    {
      "cell_type": "code",
      "source": [
        "dataset['category'].value_counts()"
      ],
      "metadata": {
        "colab": {
          "base_uri": "https://localhost:8080/"
        },
        "id": "pbo_iTMYdEYq",
        "outputId": "05ec3b78-dbe1-42b4-c33d-8a5fcd2ebc96"
      },
      "execution_count": 92,
      "outputs": [
        {
          "output_type": "execute_result",
          "data": {
            "text/plain": [
              "مشکل غیرفعالسازی آوای انتظار       55\n",
              "مشکل فعالسازی آوای انتظار          55\n",
              "مشکل تغییر آوای انتظار             55\n",
              "مشکل پخش آوای انتظار               55\n",
              "لیست آواهای انتظار                 55\n",
              "دریافت کد آوای انتظار خط خود       55\n",
              "دریافت کد آوای انتظار خط دیگران    55\n",
              "روش فعالسازی آوای انتظار           55\n",
              "روش غیرفعالسازی آوای انتظار        55\n",
              "روش تغییرآوای انتظار               55\n",
              "خارج از دامنه                      55\n",
              "Name: category, dtype: int64"
            ]
          },
          "metadata": {},
          "execution_count": 92
        }
      ]
    },
    {
      "cell_type": "code",
      "source": [],
      "metadata": {
        "id": "bfmDnoWrdL3p"
      },
      "execution_count": null,
      "outputs": []
    }
  ]
}